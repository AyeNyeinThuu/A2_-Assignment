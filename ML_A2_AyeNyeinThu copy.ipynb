{
 "cells": [
  {
   "cell_type": "code",
   "execution_count": 1,
   "metadata": {},
   "outputs": [],
   "source": [
    "import numpy as np\n",
    "import pandas as pd\n",
    "import seaborn as sns\n",
    "import matplotlib.pyplot as plt\n",
    "import warnings\n",
    "warnings.filterwarnings('ignore')"
   ]
  },
  {
   "cell_type": "code",
   "execution_count": 2,
   "metadata": {},
   "outputs": [
    {
     "data": {
      "text/plain": [
       "('2.2.3', '2.2.3', '0.13.2', '3.10.0')"
      ]
     },
     "execution_count": 2,
     "metadata": {},
     "output_type": "execute_result"
    }
   ],
   "source": [
    "import matplotlib\n",
    "np.__version__, pd.__version__, sns.__version__, matplotlib.__version__"
   ]
  },
  {
   "cell_type": "markdown",
   "metadata": {},
   "source": [
    "# Load the data"
   ]
  },
  {
   "cell_type": "code",
   "execution_count": 3,
   "metadata": {},
   "outputs": [],
   "source": [
    "df =pd.read_csv('data/Cars.csv')"
   ]
  },
  {
   "cell_type": "code",
   "execution_count": 4,
   "metadata": {},
   "outputs": [
    {
     "data": {
      "text/html": [
       "<div>\n",
       "<style scoped>\n",
       "    .dataframe tbody tr th:only-of-type {\n",
       "        vertical-align: middle;\n",
       "    }\n",
       "\n",
       "    .dataframe tbody tr th {\n",
       "        vertical-align: top;\n",
       "    }\n",
       "\n",
       "    .dataframe thead th {\n",
       "        text-align: right;\n",
       "    }\n",
       "</style>\n",
       "<table border=\"1\" class=\"dataframe\">\n",
       "  <thead>\n",
       "    <tr style=\"text-align: right;\">\n",
       "      <th></th>\n",
       "      <th>name</th>\n",
       "      <th>year</th>\n",
       "      <th>selling_price</th>\n",
       "      <th>km_driven</th>\n",
       "      <th>fuel</th>\n",
       "      <th>seller_type</th>\n",
       "      <th>transmission</th>\n",
       "      <th>owner</th>\n",
       "      <th>mileage</th>\n",
       "      <th>engine</th>\n",
       "      <th>max_power</th>\n",
       "      <th>torque</th>\n",
       "      <th>seats</th>\n",
       "    </tr>\n",
       "  </thead>\n",
       "  <tbody>\n",
       "    <tr>\n",
       "      <th>0</th>\n",
       "      <td>Maruti Swift Dzire VDI</td>\n",
       "      <td>2014</td>\n",
       "      <td>450000</td>\n",
       "      <td>145500</td>\n",
       "      <td>Diesel</td>\n",
       "      <td>Individual</td>\n",
       "      <td>Manual</td>\n",
       "      <td>First Owner</td>\n",
       "      <td>23.4 kmpl</td>\n",
       "      <td>1248 CC</td>\n",
       "      <td>74 bhp</td>\n",
       "      <td>190Nm@ 2000rpm</td>\n",
       "      <td>5.0</td>\n",
       "    </tr>\n",
       "    <tr>\n",
       "      <th>1</th>\n",
       "      <td>Skoda Rapid 1.5 TDI Ambition</td>\n",
       "      <td>2014</td>\n",
       "      <td>370000</td>\n",
       "      <td>120000</td>\n",
       "      <td>Diesel</td>\n",
       "      <td>Individual</td>\n",
       "      <td>Manual</td>\n",
       "      <td>Second Owner</td>\n",
       "      <td>21.14 kmpl</td>\n",
       "      <td>1498 CC</td>\n",
       "      <td>103.52 bhp</td>\n",
       "      <td>250Nm@ 1500-2500rpm</td>\n",
       "      <td>5.0</td>\n",
       "    </tr>\n",
       "    <tr>\n",
       "      <th>2</th>\n",
       "      <td>Honda City 2017-2020 EXi</td>\n",
       "      <td>2006</td>\n",
       "      <td>158000</td>\n",
       "      <td>140000</td>\n",
       "      <td>Petrol</td>\n",
       "      <td>Individual</td>\n",
       "      <td>Manual</td>\n",
       "      <td>Third Owner</td>\n",
       "      <td>17.7 kmpl</td>\n",
       "      <td>1497 CC</td>\n",
       "      <td>78 bhp</td>\n",
       "      <td>12.7@ 2,700(kgm@ rpm)</td>\n",
       "      <td>5.0</td>\n",
       "    </tr>\n",
       "    <tr>\n",
       "      <th>3</th>\n",
       "      <td>Hyundai i20 Sportz Diesel</td>\n",
       "      <td>2010</td>\n",
       "      <td>225000</td>\n",
       "      <td>127000</td>\n",
       "      <td>Diesel</td>\n",
       "      <td>Individual</td>\n",
       "      <td>Manual</td>\n",
       "      <td>First Owner</td>\n",
       "      <td>23.0 kmpl</td>\n",
       "      <td>1396 CC</td>\n",
       "      <td>90 bhp</td>\n",
       "      <td>22.4 kgm at 1750-2750rpm</td>\n",
       "      <td>5.0</td>\n",
       "    </tr>\n",
       "    <tr>\n",
       "      <th>4</th>\n",
       "      <td>Maruti Swift VXI BSIII</td>\n",
       "      <td>2007</td>\n",
       "      <td>130000</td>\n",
       "      <td>120000</td>\n",
       "      <td>Petrol</td>\n",
       "      <td>Individual</td>\n",
       "      <td>Manual</td>\n",
       "      <td>First Owner</td>\n",
       "      <td>16.1 kmpl</td>\n",
       "      <td>1298 CC</td>\n",
       "      <td>88.2 bhp</td>\n",
       "      <td>11.5@ 4,500(kgm@ rpm)</td>\n",
       "      <td>5.0</td>\n",
       "    </tr>\n",
       "  </tbody>\n",
       "</table>\n",
       "</div>"
      ],
      "text/plain": [
       "                           name  year  selling_price  km_driven    fuel  \\\n",
       "0        Maruti Swift Dzire VDI  2014         450000     145500  Diesel   \n",
       "1  Skoda Rapid 1.5 TDI Ambition  2014         370000     120000  Diesel   \n",
       "2      Honda City 2017-2020 EXi  2006         158000     140000  Petrol   \n",
       "3     Hyundai i20 Sportz Diesel  2010         225000     127000  Diesel   \n",
       "4        Maruti Swift VXI BSIII  2007         130000     120000  Petrol   \n",
       "\n",
       "  seller_type transmission         owner     mileage   engine   max_power  \\\n",
       "0  Individual       Manual   First Owner   23.4 kmpl  1248 CC      74 bhp   \n",
       "1  Individual       Manual  Second Owner  21.14 kmpl  1498 CC  103.52 bhp   \n",
       "2  Individual       Manual   Third Owner   17.7 kmpl  1497 CC      78 bhp   \n",
       "3  Individual       Manual   First Owner   23.0 kmpl  1396 CC      90 bhp   \n",
       "4  Individual       Manual   First Owner   16.1 kmpl  1298 CC    88.2 bhp   \n",
       "\n",
       "                     torque  seats  \n",
       "0            190Nm@ 2000rpm    5.0  \n",
       "1       250Nm@ 1500-2500rpm    5.0  \n",
       "2     12.7@ 2,700(kgm@ rpm)    5.0  \n",
       "3  22.4 kgm at 1750-2750rpm    5.0  \n",
       "4     11.5@ 4,500(kgm@ rpm)    5.0  "
      ]
     },
     "execution_count": 4,
     "metadata": {},
     "output_type": "execute_result"
    }
   ],
   "source": [
    "df.head()"
   ]
  },
  {
   "cell_type": "code",
   "execution_count": 5,
   "metadata": {},
   "outputs": [
    {
     "data": {
      "text/plain": [
       "(8128, 13)"
      ]
     },
     "execution_count": 5,
     "metadata": {},
     "output_type": "execute_result"
    }
   ],
   "source": [
    "# Check the shape of your data\n",
    "df.shape"
   ]
  },
  {
   "cell_type": "code",
   "execution_count": 6,
   "metadata": {},
   "outputs": [
    {
     "data": {
      "text/html": [
       "<div>\n",
       "<style scoped>\n",
       "    .dataframe tbody tr th:only-of-type {\n",
       "        vertical-align: middle;\n",
       "    }\n",
       "\n",
       "    .dataframe tbody tr th {\n",
       "        vertical-align: top;\n",
       "    }\n",
       "\n",
       "    .dataframe thead th {\n",
       "        text-align: right;\n",
       "    }\n",
       "</style>\n",
       "<table border=\"1\" class=\"dataframe\">\n",
       "  <thead>\n",
       "    <tr style=\"text-align: right;\">\n",
       "      <th></th>\n",
       "      <th>year</th>\n",
       "      <th>selling_price</th>\n",
       "      <th>km_driven</th>\n",
       "      <th>seats</th>\n",
       "    </tr>\n",
       "  </thead>\n",
       "  <tbody>\n",
       "    <tr>\n",
       "      <th>count</th>\n",
       "      <td>8128.000000</td>\n",
       "      <td>8.128000e+03</td>\n",
       "      <td>8.128000e+03</td>\n",
       "      <td>7907.000000</td>\n",
       "    </tr>\n",
       "    <tr>\n",
       "      <th>mean</th>\n",
       "      <td>2013.804011</td>\n",
       "      <td>6.382718e+05</td>\n",
       "      <td>6.981951e+04</td>\n",
       "      <td>5.416719</td>\n",
       "    </tr>\n",
       "    <tr>\n",
       "      <th>std</th>\n",
       "      <td>4.044249</td>\n",
       "      <td>8.062534e+05</td>\n",
       "      <td>5.655055e+04</td>\n",
       "      <td>0.959588</td>\n",
       "    </tr>\n",
       "    <tr>\n",
       "      <th>min</th>\n",
       "      <td>1983.000000</td>\n",
       "      <td>2.999900e+04</td>\n",
       "      <td>1.000000e+00</td>\n",
       "      <td>2.000000</td>\n",
       "    </tr>\n",
       "    <tr>\n",
       "      <th>25%</th>\n",
       "      <td>2011.000000</td>\n",
       "      <td>2.549990e+05</td>\n",
       "      <td>3.500000e+04</td>\n",
       "      <td>5.000000</td>\n",
       "    </tr>\n",
       "    <tr>\n",
       "      <th>50%</th>\n",
       "      <td>2015.000000</td>\n",
       "      <td>4.500000e+05</td>\n",
       "      <td>6.000000e+04</td>\n",
       "      <td>5.000000</td>\n",
       "    </tr>\n",
       "    <tr>\n",
       "      <th>75%</th>\n",
       "      <td>2017.000000</td>\n",
       "      <td>6.750000e+05</td>\n",
       "      <td>9.800000e+04</td>\n",
       "      <td>5.000000</td>\n",
       "    </tr>\n",
       "    <tr>\n",
       "      <th>max</th>\n",
       "      <td>2020.000000</td>\n",
       "      <td>1.000000e+07</td>\n",
       "      <td>2.360457e+06</td>\n",
       "      <td>14.000000</td>\n",
       "    </tr>\n",
       "  </tbody>\n",
       "</table>\n",
       "</div>"
      ],
      "text/plain": [
       "              year  selling_price     km_driven        seats\n",
       "count  8128.000000   8.128000e+03  8.128000e+03  7907.000000\n",
       "mean   2013.804011   6.382718e+05  6.981951e+04     5.416719\n",
       "std       4.044249   8.062534e+05  5.655055e+04     0.959588\n",
       "min    1983.000000   2.999900e+04  1.000000e+00     2.000000\n",
       "25%    2011.000000   2.549990e+05  3.500000e+04     5.000000\n",
       "50%    2015.000000   4.500000e+05  6.000000e+04     5.000000\n",
       "75%    2017.000000   6.750000e+05  9.800000e+04     5.000000\n",
       "max    2020.000000   1.000000e+07  2.360457e+06    14.000000"
      ]
     },
     "execution_count": 6,
     "metadata": {},
     "output_type": "execute_result"
    }
   ],
   "source": [
    "#Check the statistical data \n",
    "df.describe()"
   ]
  },
  {
   "cell_type": "code",
   "execution_count": 7,
   "metadata": {},
   "outputs": [
    {
     "name": "stdout",
     "output_type": "stream",
     "text": [
      "<class 'pandas.core.frame.DataFrame'>\n",
      "RangeIndex: 8128 entries, 0 to 8127\n",
      "Data columns (total 13 columns):\n",
      " #   Column         Non-Null Count  Dtype  \n",
      "---  ------         --------------  -----  \n",
      " 0   name           8128 non-null   object \n",
      " 1   year           8128 non-null   int64  \n",
      " 2   selling_price  8128 non-null   int64  \n",
      " 3   km_driven      8128 non-null   int64  \n",
      " 4   fuel           8128 non-null   object \n",
      " 5   seller_type    8128 non-null   object \n",
      " 6   transmission   8128 non-null   object \n",
      " 7   owner          8128 non-null   object \n",
      " 8   mileage        7907 non-null   object \n",
      " 9   engine         7907 non-null   object \n",
      " 10  max_power      7913 non-null   object \n",
      " 11  torque         7906 non-null   object \n",
      " 12  seats          7907 non-null   float64\n",
      "dtypes: float64(1), int64(3), object(9)\n",
      "memory usage: 825.6+ KB\n"
     ]
    }
   ],
   "source": [
    "# Check data type of our input data\n",
    "df.info()"
   ]
  },
  {
   "cell_type": "code",
   "execution_count": 8,
   "metadata": {},
   "outputs": [
    {
     "data": {
      "text/plain": [
       "Index(['name', 'year', 'selling_price', 'km_driven', 'fuel', 'seller_type',\n",
       "       'transmission', 'owner', 'mileage', 'engine', 'max_power', 'torque',\n",
       "       'seats'],\n",
       "      dtype='object')"
      ]
     },
     "execution_count": 8,
     "metadata": {},
     "output_type": "execute_result"
    }
   ],
   "source": [
    "# check column names \n",
    "df.columns"
   ]
  },
  {
   "cell_type": "markdown",
   "metadata": {},
   "source": [
    "# Exploratory Data Analysis and Preprocessing"
   ]
  },
  {
   "cell_type": "code",
   "execution_count": 9,
   "metadata": {},
   "outputs": [],
   "source": [
    "# Drop the 'torque' column\n",
    "df = df.drop(columns=['torque'])"
   ]
  },
  {
   "cell_type": "code",
   "execution_count": 10,
   "metadata": {},
   "outputs": [
    {
     "name": "stdout",
     "output_type": "stream",
     "text": [
      "fuel\n",
      "Diesel    4402\n",
      "Petrol    3631\n",
      "CNG         57\n",
      "LPG         38\n",
      "Name: count, dtype: int64\n"
     ]
    }
   ],
   "source": [
    "# Check the distribution of 'fuel' type\n",
    "print(df['fuel'].value_counts())"
   ]
  },
  {
   "cell_type": "markdown",
   "metadata": {},
   "source": [
    "## 2.1 Univariate Analysis\n",
    "### Single Variable Exploratory Data Analysis"
   ]
  },
  {
   "cell_type": "markdown",
   "metadata": {},
   "source": [
    "## Count Plot"
   ]
  },
  {
   "cell_type": "code",
   "execution_count": 11,
   "metadata": {},
   "outputs": [
    {
     "data": {
      "text/plain": [
       "<Axes: xlabel='fuel', ylabel='count'>"
      ]
     },
     "execution_count": 11,
     "metadata": {},
     "output_type": "execute_result"
    },
    {
     "data": {
      "image/png": "[encoded data removed]",
      "text/plain": [
       "<Figure size 640x480 with 1 Axes>"
      ]
     },
     "metadata": {},
     "output_type": "display_data"
    }
   ],
   "source": [
    "# Let's see how many types of fuel there are \n",
    "sns.countplot(data=df, x='fuel')"
   ]
  },
  {
   "cell_type": "markdown",
   "metadata": {},
   "source": [
    "## Distribution plot"
   ]
  },
  {
   "cell_type": "code",
   "execution_count": 12,
   "metadata": {},
   "outputs": [
    {
     "data": {
      "text/plain": [
       "<seaborn.axisgrid.FacetGrid at 0x20f31f3fbc0>"
      ]
     },
     "execution_count": 12,
     "metadata": {},
     "output_type": "execute_result"
    },
    {
     "data": {
      "image/png": "[encoded data removed]",
      "text/plain": [
       "<Figure size 500x500 with 1 Axes>"
      ]
     },
     "metadata": {},
     "output_type": "display_data"
    }
   ],
   "source": [
    "# distribution plot for 'selling price'A2__Predicting_Car_Price.pdf\n",
    "\n",
    "sns.displot(data = df, x = 'selling_price')"
   ]
  },
  {
   "cell_type": "code",
   "execution_count": 13,
   "metadata": {},
   "outputs": [
    {
     "data": {
      "image/png": "[encoded data removed]",
      "text/plain": [
       "<Figure size 900x600 with 1 Axes>"
      ]
     },
     "metadata": {},
     "output_type": "display_data"
    }
   ],
   "source": [
    "# distribution of types of owner\n",
    "# making a distribution plot with horizontal bars\n",
    "sns_plot = sns.displot(data =df, y= 'owner',height =6, aspect= 1.5)\n",
    "\n",
    "# add count annotations to each bar\n",
    "for container in sns_plot.ax.containers:\n",
    "    sns_plot.ax.bar_label(container, fmt = ' %d ', label_type='edge') # format as an integer"
   ]
  },
  {
   "cell_type": "code",
   "execution_count": 14,
   "metadata": {},
   "outputs": [
    {
     "data": {
      "text/plain": [
       "fuel\n",
       "Diesel    4402\n",
       "Petrol    3631\n",
       "Name: count, dtype: int64"
      ]
     },
     "execution_count": 14,
     "metadata": {},
     "output_type": "execute_result"
    }
   ],
   "source": [
    "# removing all rows with CNG and LPG \n",
    "df = df.drop(df[df['fuel'].isin(['LPG','CNG'])].index)\n",
    "df['fuel'].value_counts()"
   ]
  },
  {
   "cell_type": "code",
   "execution_count": 15,
   "metadata": {},
   "outputs": [],
   "source": [
    "# Remove 'kmpl' and convert to float in mileage column\n",
    "df['mileage'] = df['mileage'].str.split(' ').str[0]  # extract numeric part\n",
    "df ['mileage'] = df['mileage'].astype (float)   # convert to float"
   ]
  },
  {
   "cell_type": "code",
   "execution_count": 16,
   "metadata": {},
   "outputs": [],
   "source": [
    "# Remove 'CC' and convert to float in enging column\n",
    "df['engine']=df['engine'].str.split(' ').str[0] #extract numeric part\n",
    "df['engine'] = df['engine'].astype(float)     # convert to float\n"
   ]
  },
  {
   "cell_type": "code",
   "execution_count": 17,
   "metadata": {},
   "outputs": [],
   "source": [
    "# Remove 'bhp' and convert to float in max_power column\n",
    "df['max_power']=df['max_power'].str.split(' ').str[0] #extract numeric part\n",
    "df['max_power'] = df['max_power'].astype(float)     # convert to float"
   ]
  },
  {
   "cell_type": "code",
   "execution_count": 18,
   "metadata": {},
   "outputs": [
    {
     "data": {
      "text/html": [
       "<div>\n",
       "<style scoped>\n",
       "    .dataframe tbody tr th:only-of-type {\n",
       "        vertical-align: middle;\n",
       "    }\n",
       "\n",
       "    .dataframe tbody tr th {\n",
       "        vertical-align: top;\n",
       "    }\n",
       "\n",
       "    .dataframe thead th {\n",
       "        text-align: right;\n",
       "    }\n",
       "</style>\n",
       "<table border=\"1\" class=\"dataframe\">\n",
       "  <thead>\n",
       "    <tr style=\"text-align: right;\">\n",
       "      <th></th>\n",
       "      <th>name</th>\n",
       "      <th>year</th>\n",
       "      <th>selling_price</th>\n",
       "      <th>km_driven</th>\n",
       "      <th>fuel</th>\n",
       "      <th>seller_type</th>\n",
       "      <th>transmission</th>\n",
       "      <th>owner</th>\n",
       "      <th>mileage</th>\n",
       "      <th>engine</th>\n",
       "      <th>max_power</th>\n",
       "      <th>seats</th>\n",
       "    </tr>\n",
       "  </thead>\n",
       "  <tbody>\n",
       "    <tr>\n",
       "      <th>0</th>\n",
       "      <td>Maruti Swift Dzire VDI</td>\n",
       "      <td>2014</td>\n",
       "      <td>450000</td>\n",
       "      <td>145500</td>\n",
       "      <td>Diesel</td>\n",
       "      <td>Individual</td>\n",
       "      <td>Manual</td>\n",
       "      <td>First Owner</td>\n",
       "      <td>23.40</td>\n",
       "      <td>1248.0</td>\n",
       "      <td>74.00</td>\n",
       "      <td>5.0</td>\n",
       "    </tr>\n",
       "    <tr>\n",
       "      <th>1</th>\n",
       "      <td>Skoda Rapid 1.5 TDI Ambition</td>\n",
       "      <td>2014</td>\n",
       "      <td>370000</td>\n",
       "      <td>120000</td>\n",
       "      <td>Diesel</td>\n",
       "      <td>Individual</td>\n",
       "      <td>Manual</td>\n",
       "      <td>Second Owner</td>\n",
       "      <td>21.14</td>\n",
       "      <td>1498.0</td>\n",
       "      <td>103.52</td>\n",
       "      <td>5.0</td>\n",
       "    </tr>\n",
       "    <tr>\n",
       "      <th>2</th>\n",
       "      <td>Honda City 2017-2020 EXi</td>\n",
       "      <td>2006</td>\n",
       "      <td>158000</td>\n",
       "      <td>140000</td>\n",
       "      <td>Petrol</td>\n",
       "      <td>Individual</td>\n",
       "      <td>Manual</td>\n",
       "      <td>Third Owner</td>\n",
       "      <td>17.70</td>\n",
       "      <td>1497.0</td>\n",
       "      <td>78.00</td>\n",
       "      <td>5.0</td>\n",
       "    </tr>\n",
       "    <tr>\n",
       "      <th>3</th>\n",
       "      <td>Hyundai i20 Sportz Diesel</td>\n",
       "      <td>2010</td>\n",
       "      <td>225000</td>\n",
       "      <td>127000</td>\n",
       "      <td>Diesel</td>\n",
       "      <td>Individual</td>\n",
       "      <td>Manual</td>\n",
       "      <td>First Owner</td>\n",
       "      <td>23.00</td>\n",
       "      <td>1396.0</td>\n",
       "      <td>90.00</td>\n",
       "      <td>5.0</td>\n",
       "    </tr>\n",
       "    <tr>\n",
       "      <th>4</th>\n",
       "      <td>Maruti Swift VXI BSIII</td>\n",
       "      <td>2007</td>\n",
       "      <td>130000</td>\n",
       "      <td>120000</td>\n",
       "      <td>Petrol</td>\n",
       "      <td>Individual</td>\n",
       "      <td>Manual</td>\n",
       "      <td>First Owner</td>\n",
       "      <td>16.10</td>\n",
       "      <td>1298.0</td>\n",
       "      <td>88.20</td>\n",
       "      <td>5.0</td>\n",
       "    </tr>\n",
       "  </tbody>\n",
       "</table>\n",
       "</div>"
      ],
      "text/plain": [
       "                           name  year  selling_price  km_driven    fuel  \\\n",
       "0        Maruti Swift Dzire VDI  2014         450000     145500  Diesel   \n",
       "1  Skoda Rapid 1.5 TDI Ambition  2014         370000     120000  Diesel   \n",
       "2      Honda City 2017-2020 EXi  2006         158000     140000  Petrol   \n",
       "3     Hyundai i20 Sportz Diesel  2010         225000     127000  Diesel   \n",
       "4        Maruti Swift VXI BSIII  2007         130000     120000  Petrol   \n",
       "\n",
       "  seller_type transmission         owner  mileage  engine  max_power  seats  \n",
       "0  Individual       Manual   First Owner    23.40  1248.0      74.00    5.0  \n",
       "1  Individual       Manual  Second Owner    21.14  1498.0     103.52    5.0  \n",
       "2  Individual       Manual   Third Owner    17.70  1497.0      78.00    5.0  \n",
       "3  Individual       Manual   First Owner    23.00  1396.0      90.00    5.0  \n",
       "4  Individual       Manual   First Owner    16.10  1298.0      88.20    5.0  "
      ]
     },
     "execution_count": 18,
     "metadata": {},
     "output_type": "execute_result"
    }
   ],
   "source": [
    "df.head()"
   ]
  },
  {
   "cell_type": "code",
   "execution_count": 19,
   "metadata": {},
   "outputs": [],
   "source": [
    "# extract only the first word in the 'name' column\n",
    "df['name'] = df ['name'].str.split(' ').str[0]"
   ]
  },
  {
   "cell_type": "code",
   "execution_count": 20,
   "metadata": {},
   "outputs": [],
   "source": [
    "# rename 'name' column to 'brand'\n",
    "df.rename(columns={'name':'brand'},inplace = True)"
   ]
  },
  {
   "cell_type": "markdown",
   "metadata": {},
   "source": [
    "## Mapping (for the feature owner, map first owner to 1, ..... Test Drive Car to 5)"
   ]
  },
  {
   "cell_type": "code",
   "execution_count": 21,
   "metadata": {},
   "outputs": [
    {
     "data": {
      "text/html": [
       "<div>\n",
       "<style scoped>\n",
       "    .dataframe tbody tr th:only-of-type {\n",
       "        vertical-align: middle;\n",
       "    }\n",
       "\n",
       "    .dataframe tbody tr th {\n",
       "        vertical-align: top;\n",
       "    }\n",
       "\n",
       "    .dataframe thead th {\n",
       "        text-align: right;\n",
       "    }\n",
       "</style>\n",
       "<table border=\"1\" class=\"dataframe\">\n",
       "  <thead>\n",
       "    <tr style=\"text-align: right;\">\n",
       "      <th></th>\n",
       "      <th>brand</th>\n",
       "      <th>year</th>\n",
       "      <th>selling_price</th>\n",
       "      <th>km_driven</th>\n",
       "      <th>fuel</th>\n",
       "      <th>seller_type</th>\n",
       "      <th>transmission</th>\n",
       "      <th>owner</th>\n",
       "      <th>mileage</th>\n",
       "      <th>engine</th>\n",
       "      <th>max_power</th>\n",
       "      <th>seats</th>\n",
       "    </tr>\n",
       "  </thead>\n",
       "  <tbody>\n",
       "    <tr>\n",
       "      <th>0</th>\n",
       "      <td>Maruti</td>\n",
       "      <td>2014</td>\n",
       "      <td>450000</td>\n",
       "      <td>145500</td>\n",
       "      <td>Diesel</td>\n",
       "      <td>Individual</td>\n",
       "      <td>Manual</td>\n",
       "      <td>1</td>\n",
       "      <td>23.40</td>\n",
       "      <td>1248.0</td>\n",
       "      <td>74.00</td>\n",
       "      <td>5.0</td>\n",
       "    </tr>\n",
       "    <tr>\n",
       "      <th>1</th>\n",
       "      <td>Skoda</td>\n",
       "      <td>2014</td>\n",
       "      <td>370000</td>\n",
       "      <td>120000</td>\n",
       "      <td>Diesel</td>\n",
       "      <td>Individual</td>\n",
       "      <td>Manual</td>\n",
       "      <td>2</td>\n",
       "      <td>21.14</td>\n",
       "      <td>1498.0</td>\n",
       "      <td>103.52</td>\n",
       "      <td>5.0</td>\n",
       "    </tr>\n",
       "    <tr>\n",
       "      <th>2</th>\n",
       "      <td>Honda</td>\n",
       "      <td>2006</td>\n",
       "      <td>158000</td>\n",
       "      <td>140000</td>\n",
       "      <td>Petrol</td>\n",
       "      <td>Individual</td>\n",
       "      <td>Manual</td>\n",
       "      <td>3</td>\n",
       "      <td>17.70</td>\n",
       "      <td>1497.0</td>\n",
       "      <td>78.00</td>\n",
       "      <td>5.0</td>\n",
       "    </tr>\n",
       "    <tr>\n",
       "      <th>3</th>\n",
       "      <td>Hyundai</td>\n",
       "      <td>2010</td>\n",
       "      <td>225000</td>\n",
       "      <td>127000</td>\n",
       "      <td>Diesel</td>\n",
       "      <td>Individual</td>\n",
       "      <td>Manual</td>\n",
       "      <td>1</td>\n",
       "      <td>23.00</td>\n",
       "      <td>1396.0</td>\n",
       "      <td>90.00</td>\n",
       "      <td>5.0</td>\n",
       "    </tr>\n",
       "    <tr>\n",
       "      <th>4</th>\n",
       "      <td>Maruti</td>\n",
       "      <td>2007</td>\n",
       "      <td>130000</td>\n",
       "      <td>120000</td>\n",
       "      <td>Petrol</td>\n",
       "      <td>Individual</td>\n",
       "      <td>Manual</td>\n",
       "      <td>1</td>\n",
       "      <td>16.10</td>\n",
       "      <td>1298.0</td>\n",
       "      <td>88.20</td>\n",
       "      <td>5.0</td>\n",
       "    </tr>\n",
       "  </tbody>\n",
       "</table>\n",
       "</div>"
      ],
      "text/plain": [
       "     brand  year  selling_price  km_driven    fuel seller_type transmission  \\\n",
       "0   Maruti  2014         450000     145500  Diesel  Individual       Manual   \n",
       "1    Skoda  2014         370000     120000  Diesel  Individual       Manual   \n",
       "2    Honda  2006         158000     140000  Petrol  Individual       Manual   \n",
       "3  Hyundai  2010         225000     127000  Diesel  Individual       Manual   \n",
       "4   Maruti  2007         130000     120000  Petrol  Individual       Manual   \n",
       "\n",
       "   owner  mileage  engine  max_power  seats  \n",
       "0      1    23.40  1248.0      74.00    5.0  \n",
       "1      2    21.14  1498.0     103.52    5.0  \n",
       "2      3    17.70  1497.0      78.00    5.0  \n",
       "3      1    23.00  1396.0      90.00    5.0  \n",
       "4      1    16.10  1298.0      88.20    5.0  "
      ]
     },
     "execution_count": 21,
     "metadata": {},
     "output_type": "execute_result"
    }
   ],
   "source": [
    "owner_mapping = {\n",
    "    'First Owner': 1,\n",
    "    'Second Owner': 2,\n",
    "    'Third Owner': 3,\n",
    "    'Fourth & Above Owner': 4,\n",
    "    'Test Drive Car': 5\n",
    "}\n",
    "df['owner'] = df['owner'].map(owner_mapping)\n",
    "\n",
    "df.head()"
   ]
  },
  {
   "cell_type": "markdown",
   "metadata": {},
   "source": [
    "#### 2.2 Multivariate Analysis\n",
    "\n",
    "#### Multiple variable explortary data analysis"
   ]
  },
  {
   "cell_type": "markdown",
   "metadata": {},
   "source": [
    "#### Bar Plot (Mean Selling Price per Owner)"
   ]
  },
  {
   "cell_type": "code",
   "execution_count": 22,
   "metadata": {},
   "outputs": [
    {
     "data": {
      "image/png": "[encoded data removed]",
      "text/plain": [
       "<Figure size 640x480 with 1 Axes>"
      ]
     },
     "metadata": {},
     "output_type": "display_data"
    }
   ],
   "source": [
    "sns.barplot(x='owner', y='selling_price', hue='fuel', data=df, estimator='mean')\n",
    "plt.xlabel(\"Owner Category\")\n",
    "plt.ylabel(\"Mean Selling Price\")\n",
    "plt.title(\"Mean Selling Price by Owner Category and Fuel Type\")\n",
    "plt.show()"
   ]
  },
  {
   "cell_type": "markdown",
   "metadata": {},
   "source": [
    "### Key Insights\n",
    "1.\tMost Expensive Category:\n",
    "*\tTest drive cars (Owner Category 5) have the highest mean selling prices, especially for petrol cars.\n",
    "2.\tDepreciation with Ownership:\n",
    "*\tSelling price decreases with the number of previous owners, regardless of fuel type.\n",
    "3.\tDiesel Cars Are Generally More Expensive:\n",
    "*\tExcept for test drive cars, Diesel vehicles consistently have higher mean selling prices across ownership categories."
   ]
  },
  {
   "cell_type": "code",
   "execution_count": 23,
   "metadata": {},
   "outputs": [
    {
     "data": {
      "text/html": [
       "<div>\n",
       "<style scoped>\n",
       "    .dataframe tbody tr th:only-of-type {\n",
       "        vertical-align: middle;\n",
       "    }\n",
       "\n",
       "    .dataframe tbody tr th {\n",
       "        vertical-align: top;\n",
       "    }\n",
       "\n",
       "    .dataframe thead th {\n",
       "        text-align: right;\n",
       "    }\n",
       "</style>\n",
       "<table border=\"1\" class=\"dataframe\">\n",
       "  <thead>\n",
       "    <tr style=\"text-align: right;\">\n",
       "      <th></th>\n",
       "      <th>brand</th>\n",
       "      <th>year</th>\n",
       "      <th>selling_price</th>\n",
       "      <th>km_driven</th>\n",
       "      <th>fuel</th>\n",
       "      <th>seller_type</th>\n",
       "      <th>transmission</th>\n",
       "      <th>owner</th>\n",
       "      <th>mileage</th>\n",
       "      <th>engine</th>\n",
       "      <th>max_power</th>\n",
       "      <th>seats</th>\n",
       "    </tr>\n",
       "  </thead>\n",
       "  <tbody>\n",
       "    <tr>\n",
       "      <th>0</th>\n",
       "      <td>Maruti</td>\n",
       "      <td>2014</td>\n",
       "      <td>450000</td>\n",
       "      <td>145500</td>\n",
       "      <td>Diesel</td>\n",
       "      <td>Individual</td>\n",
       "      <td>Manual</td>\n",
       "      <td>1</td>\n",
       "      <td>23.40</td>\n",
       "      <td>1248.0</td>\n",
       "      <td>74.00</td>\n",
       "      <td>5.0</td>\n",
       "    </tr>\n",
       "    <tr>\n",
       "      <th>1</th>\n",
       "      <td>Skoda</td>\n",
       "      <td>2014</td>\n",
       "      <td>370000</td>\n",
       "      <td>120000</td>\n",
       "      <td>Diesel</td>\n",
       "      <td>Individual</td>\n",
       "      <td>Manual</td>\n",
       "      <td>2</td>\n",
       "      <td>21.14</td>\n",
       "      <td>1498.0</td>\n",
       "      <td>103.52</td>\n",
       "      <td>5.0</td>\n",
       "    </tr>\n",
       "    <tr>\n",
       "      <th>2</th>\n",
       "      <td>Honda</td>\n",
       "      <td>2006</td>\n",
       "      <td>158000</td>\n",
       "      <td>140000</td>\n",
       "      <td>Petrol</td>\n",
       "      <td>Individual</td>\n",
       "      <td>Manual</td>\n",
       "      <td>3</td>\n",
       "      <td>17.70</td>\n",
       "      <td>1497.0</td>\n",
       "      <td>78.00</td>\n",
       "      <td>5.0</td>\n",
       "    </tr>\n",
       "    <tr>\n",
       "      <th>3</th>\n",
       "      <td>Hyundai</td>\n",
       "      <td>2010</td>\n",
       "      <td>225000</td>\n",
       "      <td>127000</td>\n",
       "      <td>Diesel</td>\n",
       "      <td>Individual</td>\n",
       "      <td>Manual</td>\n",
       "      <td>1</td>\n",
       "      <td>23.00</td>\n",
       "      <td>1396.0</td>\n",
       "      <td>90.00</td>\n",
       "      <td>5.0</td>\n",
       "    </tr>\n",
       "    <tr>\n",
       "      <th>4</th>\n",
       "      <td>Maruti</td>\n",
       "      <td>2007</td>\n",
       "      <td>130000</td>\n",
       "      <td>120000</td>\n",
       "      <td>Petrol</td>\n",
       "      <td>Individual</td>\n",
       "      <td>Manual</td>\n",
       "      <td>1</td>\n",
       "      <td>16.10</td>\n",
       "      <td>1298.0</td>\n",
       "      <td>88.20</td>\n",
       "      <td>5.0</td>\n",
       "    </tr>\n",
       "  </tbody>\n",
       "</table>\n",
       "</div>"
      ],
      "text/plain": [
       "     brand  year  selling_price  km_driven    fuel seller_type transmission  \\\n",
       "0   Maruti  2014         450000     145500  Diesel  Individual       Manual   \n",
       "1    Skoda  2014         370000     120000  Diesel  Individual       Manual   \n",
       "2    Honda  2006         158000     140000  Petrol  Individual       Manual   \n",
       "3  Hyundai  2010         225000     127000  Diesel  Individual       Manual   \n",
       "4   Maruti  2007         130000     120000  Petrol  Individual       Manual   \n",
       "\n",
       "   owner  mileage  engine  max_power  seats  \n",
       "0      1    23.40  1248.0      74.00    5.0  \n",
       "1      2    21.14  1498.0     103.52    5.0  \n",
       "2      3    17.70  1497.0      78.00    5.0  \n",
       "3      1    23.00  1396.0      90.00    5.0  \n",
       "4      1    16.10  1298.0      88.20    5.0  "
      ]
     },
     "execution_count": 23,
     "metadata": {},
     "output_type": "execute_result"
    }
   ],
   "source": [
    "# Based on our barplot analysis, Test Drive Cars are ridiculously expensive. \n",
    "# therefore we will delete all samples related to it \n",
    "\n",
    "# Filter out rows where the owner column is 5 (Test Drive Car)\n",
    "df = df.drop(df[df['owner'] == 5].index)       # drop is a method therefore start with ( )\n",
    "df.head()\n"
   ]
  },
  {
   "cell_type": "code",
   "execution_count": 24,
   "metadata": {},
   "outputs": [
    {
     "data": {
      "text/plain": [
       "owner\n",
       "1    5238\n",
       "2    2073\n",
       "3     547\n",
       "4     170\n",
       "Name: count, dtype: int64"
      ]
     },
     "execution_count": 24,
     "metadata": {},
     "output_type": "execute_result"
    }
   ],
   "source": [
    "df['owner'].value_counts()"
   ]
  },
  {
   "cell_type": "markdown",
   "metadata": {},
   "source": [
    "#### Correlation Matrix\n",
    "\n",
    "Let's use correlation matrix to find strong factors predicting the selling price of cars.  It's also for checking whether certain features are too correlated."
   ]
  },
  {
   "cell_type": "markdown",
   "metadata": {},
   "source": [
    "#### Tips: Label encoding\n",
    "\n",
    "Now we would like to change \"Developing\" and \"Developed\" to \"0\" and \"1\", since machine learning algorithms do not understand text.   Also, correlation matrix and other similar computational tools require label encoding."
   ]
  },
  {
   "cell_type": "code",
   "execution_count": 25,
   "metadata": {},
   "outputs": [
    {
     "data": {
      "text/plain": [
       "array([0, 1])"
      ]
     },
     "execution_count": 25,
     "metadata": {},
     "output_type": "execute_result"
    }
   ],
   "source": [
    "from sklearn.preprocessing import LabelEncoder       # pip install scikit-learn\n",
    "\n",
    "le = LabelEncoder()\n",
    "df[\"fuel\"] = le.fit_transform(df[\"fuel\"])\n",
    "\n",
    "df[\"fuel\"].unique()"
   ]
  },
  {
   "cell_type": "code",
   "execution_count": 26,
   "metadata": {},
   "outputs": [
    {
     "data": {
      "text/plain": [
       "array(['Diesel', 'Petrol'], dtype=object)"
      ]
     },
     "execution_count": 26,
     "metadata": {},
     "output_type": "execute_result"
    }
   ],
   "source": [
    "# we can call le.classes_ to know what it maps to\n",
    "le.classes_"
   ]
  },
  {
   "cell_type": "code",
   "execution_count": 27,
   "metadata": {},
   "outputs": [
    {
     "data": {
      "text/plain": [
       "array([1, 0])"
      ]
     },
     "execution_count": 27,
     "metadata": {},
     "output_type": "execute_result"
    }
   ],
   "source": [
    "from sklearn.preprocessing import LabelEncoder\n",
    "\n",
    "le = LabelEncoder()\n",
    "df[\"transmission\"] = le.fit_transform(df[\"transmission\"])\n",
    "\n",
    "df[\"transmission\"].unique()"
   ]
  },
  {
   "cell_type": "code",
   "execution_count": 28,
   "metadata": {},
   "outputs": [
    {
     "name": "stdout",
     "output_type": "stream",
     "text": [
      "Label Encoding Mapping: {'Automatic': 0, 'Manual': 1}\n"
     ]
    }
   ],
   "source": [
    "#Retrieve the mapping of classes to numbers\n",
    "mapping = {label: index for index, label in enumerate(le.classes_)}\n",
    "print(\"Label Encoding Mapping:\", mapping)"
   ]
  },
  {
   "cell_type": "code",
   "execution_count": 29,
   "metadata": {},
   "outputs": [
    {
     "data": {
      "text/plain": [
       "array([1, 0, 2])"
      ]
     },
     "execution_count": 29,
     "metadata": {},
     "output_type": "execute_result"
    }
   ],
   "source": [
    "from sklearn.preprocessing import LabelEncoder\n",
    "\n",
    "le = LabelEncoder()\n",
    "df[\"seller_type\"] = le.fit_transform(df[\"seller_type\"])\n",
    "\n",
    "df[\"seller_type\"].unique()"
   ]
  },
  {
   "cell_type": "code",
   "execution_count": 30,
   "metadata": {},
   "outputs": [
    {
     "name": "stdout",
     "output_type": "stream",
     "text": [
      "Label Encoding Mapping: {'Dealer': 0, 'Individual': 1, 'Trustmark Dealer': 2}\n"
     ]
    }
   ],
   "source": [
    "#Retrieve the mapping of classes to numbers\n",
    "mapping = {label: index for index, label in enumerate(le.classes_)}\n",
    "print(\"Label Encoding Mapping:\", mapping)"
   ]
  },
  {
   "cell_type": "code",
   "execution_count": 31,
   "metadata": {},
   "outputs": [
    {
     "name": "stdout",
     "output_type": "stream",
     "text": [
      "[20 27 10 11 29  9 26 19 28  4  7  6 14 21 22  2 30  3 23 17 13 16 18 31\n",
      "  5 15  8  0  1 12 24 25]\n",
      "['Ambassador' 'Ashok' 'Audi' 'BMW' 'Chevrolet' 'Daewoo' 'Datsun' 'Fiat'\n",
      " 'Force' 'Ford' 'Honda' 'Hyundai' 'Isuzu' 'Jaguar' 'Jeep' 'Kia' 'Land'\n",
      " 'Lexus' 'MG' 'Mahindra' 'Maruti' 'Mercedes-Benz' 'Mitsubishi' 'Nissan'\n",
      " 'Opel' 'Peugeot' 'Renault' 'Skoda' 'Tata' 'Toyota' 'Volkswagen' 'Volvo']\n"
     ]
    }
   ],
   "source": [
    "from sklearn.preprocessing import LabelEncoder\n",
    "\n",
    "# Initialize the LabelEncoder\n",
    "le = LabelEncoder()\n",
    "\n",
    "# Create a new column for the encoded values\n",
    "df['brand_encoded'] = le.fit_transform(df['brand'])\n",
    "\n",
    "# Check the unique encoded values\n",
    "print(df['brand_encoded'].unique())\n",
    "\n",
    "# If you want to check the mapping between original and encoded values\n",
    "print(le.classes_)  # Displays the original class order\n"
   ]
  },
  {
   "cell_type": "code",
   "execution_count": 32,
   "metadata": {},
   "outputs": [
    {
     "data": {
      "text/plain": [
       "{'Ambassador': np.int64(20),\n",
       " 'Ashok': np.int64(27),\n",
       " 'Audi': np.int64(10),\n",
       " 'BMW': np.int64(11),\n",
       " 'Chevrolet': np.int64(29),\n",
       " 'Daewoo': np.int64(9),\n",
       " 'Datsun': np.int64(26),\n",
       " 'Fiat': np.int64(19),\n",
       " 'Force': np.int64(28),\n",
       " 'Ford': np.int64(4),\n",
       " 'Honda': np.int64(7),\n",
       " 'Hyundai': np.int64(6),\n",
       " 'Isuzu': np.int64(14),\n",
       " 'Jaguar': np.int64(21),\n",
       " 'Jeep': np.int64(22),\n",
       " 'Kia': np.int64(2),\n",
       " 'Land': np.int64(30),\n",
       " 'Lexus': np.int64(3),\n",
       " 'MG': np.int64(23),\n",
       " 'Mahindra': np.int64(17),\n",
       " 'Maruti': np.int64(13),\n",
       " 'Mercedes-Benz': np.int64(16),\n",
       " 'Mitsubishi': np.int64(18),\n",
       " 'Nissan': np.int64(31),\n",
       " 'Opel': np.int64(5),\n",
       " 'Peugeot': np.int64(15),\n",
       " 'Renault': np.int64(8),\n",
       " 'Skoda': np.int64(0),\n",
       " 'Tata': np.int64(1),\n",
       " 'Toyota': np.int64(12),\n",
       " 'Volkswagen': np.int64(24),\n",
       " 'Volvo': np.int64(25)}"
      ]
     },
     "execution_count": 32,
     "metadata": {},
     "output_type": "execute_result"
    }
   ],
   "source": [
    "# Saving the names and what they map to in a dictionary to put into model file\n",
    "brand_encoded_map = {}\n",
    "keys = le.classes_\n",
    "values = df.brand_encoded.unique()\n",
    "for key in keys:\n",
    "    for value in values:\n",
    "        brand_encoded_map[key] = value\n",
    "        values = np.delete(values, np.where(values == value))\n",
    "        break\n",
    "\n",
    "brand_encoded_map"
   ]
  },
  {
   "cell_type": "code",
   "execution_count": 33,
   "metadata": {},
   "outputs": [
    {
     "data": {
      "text/html": [
       "<div>\n",
       "<style scoped>\n",
       "    .dataframe tbody tr th:only-of-type {\n",
       "        vertical-align: middle;\n",
       "    }\n",
       "\n",
       "    .dataframe tbody tr th {\n",
       "        vertical-align: top;\n",
       "    }\n",
       "\n",
       "    .dataframe thead th {\n",
       "        text-align: right;\n",
       "    }\n",
       "</style>\n",
       "<table border=\"1\" class=\"dataframe\">\n",
       "  <thead>\n",
       "    <tr style=\"text-align: right;\">\n",
       "      <th></th>\n",
       "      <th>brand</th>\n",
       "      <th>year</th>\n",
       "      <th>selling_price</th>\n",
       "      <th>km_driven</th>\n",
       "      <th>fuel</th>\n",
       "      <th>seller_type</th>\n",
       "      <th>transmission</th>\n",
       "      <th>owner</th>\n",
       "      <th>mileage</th>\n",
       "      <th>engine</th>\n",
       "      <th>max_power</th>\n",
       "      <th>seats</th>\n",
       "      <th>brand_encoded</th>\n",
       "    </tr>\n",
       "  </thead>\n",
       "  <tbody>\n",
       "    <tr>\n",
       "      <th>0</th>\n",
       "      <td>Maruti</td>\n",
       "      <td>2014</td>\n",
       "      <td>450000</td>\n",
       "      <td>145500</td>\n",
       "      <td>0</td>\n",
       "      <td>1</td>\n",
       "      <td>1</td>\n",
       "      <td>1</td>\n",
       "      <td>23.40</td>\n",
       "      <td>1248.0</td>\n",
       "      <td>74.00</td>\n",
       "      <td>5.0</td>\n",
       "      <td>20</td>\n",
       "    </tr>\n",
       "    <tr>\n",
       "      <th>1</th>\n",
       "      <td>Skoda</td>\n",
       "      <td>2014</td>\n",
       "      <td>370000</td>\n",
       "      <td>120000</td>\n",
       "      <td>0</td>\n",
       "      <td>1</td>\n",
       "      <td>1</td>\n",
       "      <td>2</td>\n",
       "      <td>21.14</td>\n",
       "      <td>1498.0</td>\n",
       "      <td>103.52</td>\n",
       "      <td>5.0</td>\n",
       "      <td>27</td>\n",
       "    </tr>\n",
       "    <tr>\n",
       "      <th>2</th>\n",
       "      <td>Honda</td>\n",
       "      <td>2006</td>\n",
       "      <td>158000</td>\n",
       "      <td>140000</td>\n",
       "      <td>1</td>\n",
       "      <td>1</td>\n",
       "      <td>1</td>\n",
       "      <td>3</td>\n",
       "      <td>17.70</td>\n",
       "      <td>1497.0</td>\n",
       "      <td>78.00</td>\n",
       "      <td>5.0</td>\n",
       "      <td>10</td>\n",
       "    </tr>\n",
       "    <tr>\n",
       "      <th>3</th>\n",
       "      <td>Hyundai</td>\n",
       "      <td>2010</td>\n",
       "      <td>225000</td>\n",
       "      <td>127000</td>\n",
       "      <td>0</td>\n",
       "      <td>1</td>\n",
       "      <td>1</td>\n",
       "      <td>1</td>\n",
       "      <td>23.00</td>\n",
       "      <td>1396.0</td>\n",
       "      <td>90.00</td>\n",
       "      <td>5.0</td>\n",
       "      <td>11</td>\n",
       "    </tr>\n",
       "    <tr>\n",
       "      <th>4</th>\n",
       "      <td>Maruti</td>\n",
       "      <td>2007</td>\n",
       "      <td>130000</td>\n",
       "      <td>120000</td>\n",
       "      <td>1</td>\n",
       "      <td>1</td>\n",
       "      <td>1</td>\n",
       "      <td>1</td>\n",
       "      <td>16.10</td>\n",
       "      <td>1298.0</td>\n",
       "      <td>88.20</td>\n",
       "      <td>5.0</td>\n",
       "      <td>20</td>\n",
       "    </tr>\n",
       "  </tbody>\n",
       "</table>\n",
       "</div>"
      ],
      "text/plain": [
       "     brand  year  selling_price  km_driven  fuel  seller_type  transmission  \\\n",
       "0   Maruti  2014         450000     145500     0            1             1   \n",
       "1    Skoda  2014         370000     120000     0            1             1   \n",
       "2    Honda  2006         158000     140000     1            1             1   \n",
       "3  Hyundai  2010         225000     127000     0            1             1   \n",
       "4   Maruti  2007         130000     120000     1            1             1   \n",
       "\n",
       "   owner  mileage  engine  max_power  seats  brand_encoded  \n",
       "0      1    23.40  1248.0      74.00    5.0             20  \n",
       "1      2    21.14  1498.0     103.52    5.0             27  \n",
       "2      3    17.70  1497.0      78.00    5.0             10  \n",
       "3      1    23.00  1396.0      90.00    5.0             11  \n",
       "4      1    16.10  1298.0      88.20    5.0             20  "
      ]
     },
     "execution_count": 33,
     "metadata": {},
     "output_type": "execute_result"
    }
   ],
   "source": [
    "df.head()"
   ]
  },
  {
   "cell_type": "code",
   "execution_count": 34,
   "metadata": {},
   "outputs": [
    {
     "data": {
      "image/png": "[encoded data removed]",
      "text/plain": [
       "<Figure size 1500x800 with 2 Axes>"
      ]
     },
     "metadata": {},
     "output_type": "display_data"
    }
   ],
   "source": [
    "# Create a copy of the DataFrame and drop non-numeric columns\n",
    "cars_price_temp = df.copy()  # Ensure you're copying the correct DataFrame name\n",
    "cars_price_temp.drop(['brand'], axis='columns', inplace=True)  # Drop non-numeric columns like 'brand'\n",
    "\n",
    "# Plot the heatmap for correlations\n",
    "plt.figure(figsize=(15, 8))  # Set figure size\n",
    "sns.heatmap(cars_price_temp.corr(), annot=True, cmap=\"coolwarm\")  # Plot the correlation heatmap\n",
    "plt.title(\"Feature Correlations Heatmap\")  # Add a title\n",
    "plt.show()  # Display the plot"
   ]
  },
  {
   "cell_type": "markdown",
   "metadata": {},
   "source": [
    "## 4. Feature Selection"
   ]
  },
  {
   "cell_type": "code",
   "execution_count": 35,
   "metadata": {},
   "outputs": [],
   "source": [
    "#x is our strong features\n",
    "X = df[['brand_encoded','engine', 'max_power','transmission','year']]\n",
    "\n",
    "#y is simply the selling_price col\n",
    "y = df[\"selling_price\"]"
   ]
  },
  {
   "cell_type": "code",
   "execution_count": 36,
   "metadata": {},
   "outputs": [
    {
     "name": "stdout",
     "output_type": "stream",
     "text": [
      "     brand  year  selling_price  km_driven  fuel  seller_type  transmission  \\\n",
      "0   Maruti  2014      13.017003     145500     0            1             1   \n",
      "1    Skoda  2014      12.821258     120000     0            1             1   \n",
      "2    Honda  2006      11.970350     140000     1            1             1   \n",
      "3  Hyundai  2010      12.323856     127000     0            1             1   \n",
      "4   Maruti  2007      11.775290     120000     1            1             1   \n",
      "\n",
      "   owner  mileage  engine  max_power  seats  brand_encoded  \n",
      "0      1    23.40  1248.0      74.00    5.0             20  \n",
      "1      2    21.14  1498.0     103.52    5.0             27  \n",
      "2      3    17.70  1497.0      78.00    5.0             10  \n",
      "3      1    23.00  1396.0      90.00    5.0             11  \n",
      "4      1    16.10  1298.0      88.20    5.0             20  \n",
      "0    13.017003\n",
      "1    12.821258\n",
      "2    11.970350\n",
      "3    12.323856\n",
      "4    11.775290\n",
      "Name: selling_price, dtype: float64\n"
     ]
    }
   ],
   "source": [
    "# Apply log transformation to the 'selling_price' column and assign it to y\n",
    "df['selling_price'] = np.log(df['selling_price'])  # Update the DataFrame column\n",
    "y = df['selling_price']  # Assign the updated column to y for your model\n",
    "\n",
    "# Verify the values\n",
    "print(df.head())  # Check the DataFrame\n",
    "print(y.head())   # Check the y variable\n"
   ]
  },
  {
   "cell_type": "markdown",
   "metadata": {},
   "source": [
    "#### Train/ Test split"
   ]
  },
  {
   "cell_type": "code",
   "execution_count": 37,
   "metadata": {},
   "outputs": [],
   "source": [
    "from sklearn.model_selection import train_test_split\n",
    "\n",
    "X_train, X_test, y_train, y_test = train_test_split(X, y, test_size = 0.3, random_state = 42)"
   ]
  },
  {
   "cell_type": "markdown",
   "metadata": {},
   "source": [
    "# 5. Preprocessing"
   ]
  },
  {
   "cell_type": "code",
   "execution_count": 38,
   "metadata": {},
   "outputs": [
    {
     "data": {
      "text/plain": [
       "brand_encoded      0\n",
       "engine           154\n",
       "max_power        149\n",
       "transmission       0\n",
       "year               0\n",
       "dtype: int64"
      ]
     },
     "execution_count": 38,
     "metadata": {},
     "output_type": "execute_result"
    }
   ],
   "source": [
    "#check for null values\n",
    "X_train[['brand_encoded','engine', 'max_power','transmission','year']].isna().sum()"
   ]
  },
  {
   "cell_type": "code",
   "execution_count": 39,
   "metadata": {},
   "outputs": [
    {
     "data": {
      "text/plain": [
       "brand_encoded     0\n",
       "engine           60\n",
       "max_power        59\n",
       "transmission      0\n",
       "year              0\n",
       "dtype: int64"
      ]
     },
     "execution_count": 39,
     "metadata": {},
     "output_type": "execute_result"
    }
   ],
   "source": [
    "#check for null values\n",
    "X_test[['brand_encoded','engine', 'max_power','transmission','year']].isna().sum()"
   ]
  },
  {
   "cell_type": "code",
   "execution_count": 40,
   "metadata": {},
   "outputs": [
    {
     "data": {
      "text/plain": [
       "np.int64(0)"
      ]
     },
     "execution_count": 40,
     "metadata": {},
     "output_type": "execute_result"
    }
   ],
   "source": [
    "y_train.isna().sum()"
   ]
  },
  {
   "cell_type": "code",
   "execution_count": 41,
   "metadata": {},
   "outputs": [
    {
     "data": {
      "text/plain": [
       "np.int64(0)"
      ]
     },
     "execution_count": 41,
     "metadata": {},
     "output_type": "execute_result"
    }
   ],
   "source": [
    "y_test.isna().sum()"
   ]
  },
  {
   "cell_type": "code",
   "execution_count": 42,
   "metadata": {},
   "outputs": [
    {
     "data": {
      "text/plain": [
       "<seaborn.axisgrid.FacetGrid at 0x20f3580e0c0>"
      ]
     },
     "execution_count": 42,
     "metadata": {},
     "output_type": "execute_result"
    },
    {
     "data": {
      "image/png": "[encoded data removed]",
      "text/plain": [
       "<Figure size 500x500 with 1 Axes>"
      ]
     },
     "metadata": {},
     "output_type": "display_data"
    }
   ],
   "source": [
    "sns.displot(data=df, x='max_power')"
   ]
  },
  {
   "cell_type": "code",
   "execution_count": 43,
   "metadata": {},
   "outputs": [
    {
     "data": {
      "text/plain": [
       "<seaborn.axisgrid.FacetGrid at 0x20f35838e30>"
      ]
     },
     "execution_count": 43,
     "metadata": {},
     "output_type": "execute_result"
    },
    {
     "data": {
      "image/png": "[encoded data removed]",
      "text/plain": [
       "<Figure size 500x500 with 1 Axes>"
      ]
     },
     "metadata": {},
     "output_type": "display_data"
    }
   ],
   "source": [
    "sns.displot(data=df, x='engine')"
   ]
  },
  {
   "cell_type": "code",
   "execution_count": 44,
   "metadata": {},
   "outputs": [
    {
     "data": {
      "text/plain": [
       "<seaborn.axisgrid.FacetGrid at 0x20f35796ab0>"
      ]
     },
     "execution_count": 44,
     "metadata": {},
     "output_type": "execute_result"
    },
    {
     "data": {
      "image/png": "[encoded data removed]",
      "text/plain": [
       "<Figure size 500x500 with 1 Axes>"
      ]
     },
     "metadata": {},
     "output_type": "display_data"
    }
   ],
   "source": [
    "sns.displot(data=df, x='year')"
   ]
  },
  {
   "cell_type": "code",
   "execution_count": 45,
   "metadata": {},
   "outputs": [
    {
     "data": {
      "text/plain": [
       "<seaborn.axisgrid.FacetGrid at 0x20f31ecfef0>"
      ]
     },
     "execution_count": 45,
     "metadata": {},
     "output_type": "execute_result"
    },
    {
     "data": {
      "image/png": "[encoded data removed]",
      "text/plain": [
       "<Figure size 500x500 with 1 Axes>"
      ]
     },
     "metadata": {},
     "output_type": "display_data"
    }
   ],
   "source": [
    "sns.displot(data=df, x='transmission')"
   ]
  },
  {
   "cell_type": "code",
   "execution_count": 46,
   "metadata": {},
   "outputs": [
    {
     "data": {
      "text/plain": [
       "<seaborn.axisgrid.FacetGrid at 0x20f3597ab40>"
      ]
     },
     "execution_count": 46,
     "metadata": {},
     "output_type": "execute_result"
    },
    {
     "data": {
      "image/png": "[encoded data removed]",
      "text/plain": [
       "<Figure size 500x500 with 1 Axes>"
      ]
     },
     "metadata": {},
     "output_type": "display_data"
    }
   ],
   "source": [
    "sns.displot(y_train)"
   ]
  },
  {
   "cell_type": "code",
   "execution_count": 47,
   "metadata": {},
   "outputs": [],
   "source": [
    "#let's fill the training set first!\n",
    "\n",
    "X_train['engine'].fillna(X_train['engine'].median(), inplace=True)\n",
    "X_train['max_power'].fillna(X_train['max_power'].median(), inplace=True)"
   ]
  },
  {
   "cell_type": "code",
   "execution_count": 48,
   "metadata": {},
   "outputs": [],
   "source": [
    "#let's fill the testing set with the training distribution first!\n",
    "\n",
    "X_test['engine'].fillna(X_train['engine'].median(), inplace=True)\n",
    "X_test['max_power'].fillna(X_train['max_power'].median(), inplace=True)"
   ]
  },
  {
   "cell_type": "code",
   "execution_count": 49,
   "metadata": {},
   "outputs": [
    {
     "data": {
      "text/plain": [
       "brand_encoded    0\n",
       "engine           0\n",
       "max_power        0\n",
       "transmission     0\n",
       "year             0\n",
       "dtype: int64"
      ]
     },
     "execution_count": 49,
     "metadata": {},
     "output_type": "execute_result"
    }
   ],
   "source": [
    "#check again\n",
    "X_train[['brand_encoded','engine', 'max_power','transmission','year']].isna().sum()"
   ]
  },
  {
   "cell_type": "code",
   "execution_count": 50,
   "metadata": {},
   "outputs": [
    {
     "data": {
      "text/plain": [
       "brand_encoded    0\n",
       "engine           0\n",
       "max_power        0\n",
       "transmission     0\n",
       "year             0\n",
       "dtype: int64"
      ]
     },
     "execution_count": 50,
     "metadata": {},
     "output_type": "execute_result"
    }
   ],
   "source": [
    "X_test[['brand_encoded','engine', 'max_power','transmission','year']].isna().sum()"
   ]
  },
  {
   "cell_type": "code",
   "execution_count": 51,
   "metadata": {},
   "outputs": [
    {
     "data": {
      "text/plain": [
       "(np.int64(0), np.int64(0))"
      ]
     },
     "execution_count": 51,
     "metadata": {},
     "output_type": "execute_result"
    }
   ],
   "source": [
    "y_train.isna().sum(), y_test.isna().sum()"
   ]
  },
  {
   "cell_type": "markdown",
   "metadata": {},
   "source": [
    "# Checking outliers"
   ]
  },
  {
   "cell_type": "code",
   "execution_count": 52,
   "metadata": {},
   "outputs": [
    {
     "data": {
      "image/png": "[encoded data removed]",
      "text/plain": [
       "<Figure size 2000x3000 with 4 Axes>"
      ]
     },
     "metadata": {},
     "output_type": "display_data"
    }
   ],
   "source": [
    "# Create a dictionary of columns.\n",
    "col_dict = {'engine':1,'max_power':2,'transmission':3,'year':4}\n",
    "\n",
    "# Detect outliers in each variable using box plots.\n",
    "plt.figure(figsize=(20,30))\n",
    "\n",
    "for variable,i in col_dict.items():\n",
    "                     plt.subplot(5,4,i)\n",
    "                     plt.boxplot(X_train[variable])\n",
    "                     plt.title(variable)\n",
    "\n",
    "plt.show()"
   ]
  },
  {
   "cell_type": "code",
   "execution_count": 53,
   "metadata": {},
   "outputs": [],
   "source": [
    "def outlier_count(col, data = X_train):\n",
    "    \n",
    "    # calculate your 25% quatile and 75% quatile\n",
    "    q75, q25 = np.percentile(data[col], [75, 25])\n",
    "    \n",
    "    # calculate your inter quatile\n",
    "    iqr = q75 - q25\n",
    "    \n",
    "    # min_val and max_val\n",
    "    min_val = q25 - (iqr*1.5)\n",
    "    max_val = q75 + (iqr*1.5)\n",
    "    \n",
    "    # count number of outliers, which are the data that are less than min_val or more than max_val calculated above\n",
    "    outlier_count = len(np.where((data[col] > max_val) | (data[col] < min_val))[0])\n",
    "    \n",
    "    # calculate the percentage of the outliers\n",
    "    outlier_percent = round(outlier_count/len(data[col])*100, 2)\n",
    "    \n",
    "    if(outlier_count > 0):\n",
    "        print(\"\\n\"+15*'-' + col + 15*'-'+\"\\n\")\n",
    "        print('Number of outliers: {}'.format(outlier_count))\n",
    "        print('Percent of data that is outlier: {}%'.format(outlier_percent))"
   ]
  },
  {
   "cell_type": "code",
   "execution_count": 54,
   "metadata": {},
   "outputs": [
    {
     "name": "stdout",
     "output_type": "stream",
     "text": [
      "\n",
      "---------------engine---------------\n",
      "\n",
      "Number of outliers: 836\n",
      "Percent of data that is outlier: 14.88%\n",
      "\n",
      "---------------max_power---------------\n",
      "\n",
      "Number of outliers: 409\n",
      "Percent of data that is outlier: 7.28%\n",
      "\n",
      "---------------transmission---------------\n",
      "\n",
      "Number of outliers: 758\n",
      "Percent of data that is outlier: 13.49%\n",
      "\n",
      "---------------year---------------\n",
      "\n",
      "Number of outliers: 145\n",
      "Percent of data that is outlier: 2.58%\n"
     ]
    }
   ],
   "source": [
    "for col in X_train.columns:\n",
    "    outlier_count(col)"
   ]
  },
  {
   "cell_type": "markdown",
   "metadata": {},
   "source": [
    "# Scaling"
   ]
  },
  {
   "cell_type": "code",
   "execution_count": 55,
   "metadata": {},
   "outputs": [],
   "source": [
    "from sklearn.preprocessing import StandardScaler\n",
    "import pickle\n",
    "# feature scaling helps improve reach convergence faster\n",
    "scaler = StandardScaler()\n",
    "X_train = scaler.fit_transform(X_train)\n",
    "X_test  = scaler.transform(X_test)\n",
    "with open  ('scaler.pkl','wb') as file:\n",
    "    pickle.dump(scaler,file)"
   ]
  },
  {
   "cell_type": "code",
   "execution_count": 56,
   "metadata": {},
   "outputs": [],
   "source": [
    "# Adding intercepts to include a bias in our theta\n",
    "intercept = np.ones((X_train.shape[0], 1))\n",
    "X_train   = np.concatenate((intercept, X_train), axis=1)\n",
    "intercept = np.ones((X_test.shape[0], 1))\n",
    "X_test    = np.concatenate((intercept, X_test), axis=1)"
   ]
  },
  {
   "cell_type": "code",
   "execution_count": 57,
   "metadata": {},
   "outputs": [
    {
     "name": "stdout",
     "output_type": "stream",
     "text": [
      "Shape of X_train:  (5619, 6)\n",
      "Shape of X_test:  (2409, 6)\n",
      "Shape of y_train:  (5619,)\n",
      "Shape of y_test:  (2409,)\n"
     ]
    }
   ],
   "source": [
    "# Shapes of all X_train, X_test, y_train, y_test\n",
    "print(\"Shape of X_train: \", X_train.shape)\n",
    "print(\"Shape of X_test: \", X_test.shape)\n",
    "print(\"Shape of y_train: \", y_train.shape)\n",
    "print(\"Shape of y_test: \", y_test.shape)"
   ]
  },
  {
   "cell_type": "markdown",
   "metadata": {},
   "source": [
    "# Modeling"
   ]
  },
  {
   "cell_type": "code",
   "execution_count": 58,
   "metadata": {},
   "outputs": [
    {
     "name": "stdout",
     "output_type": "stream",
     "text": [
      "MLflow experiment set successfully!\n"
     ]
    }
   ],
   "source": [
    "import mlflow\n",
    "import os\n",
    "import mlflow.sklearn\n",
    "\n",
    "# Set MLflow Tracking Server\n",
    "mlflow.set_tracking_uri(\"http://localhost:5000\")\n",
    "\n",
    "# Set User/Author Info\n",
    "os.environ[\"LOGNAME\"] = \"ant2\"   # Fixed the assignment\n",
    "\n",
    "# Set Experiment Name\n",
    "mlflow.set_experiment(\"ant-A2car-price-prediction\")\n",
    "\n",
    "print(\"MLflow experiment set successfully!\")"
   ]
  },
  {
   "cell_type": "code",
   "execution_count": 59,
   "metadata": {},
   "outputs": [],
   "source": [
    "import math"
   ]
  },
  {
   "cell_type": "code",
   "execution_count": 73,
   "metadata": {},
   "outputs": [],
   "source": [
    "\n",
    "from math import sqrt\n",
    "\n",
    "from sklearn.model_selection import KFold\n",
    "\n",
    "class LinearRegression(object):\n",
    "    \n",
    "    # KFold cross-validation with 3 splits\n",
    "    kfold = KFold(n_splits=3)\n",
    "\n",
    "    def __init__(self, regularization, lr, method, momentum, xavier_method, mlflow_params, \n",
    "                 num_epochs=100, batch_size=50, cv=kfold):\n",
    "        self.regularization = regularization\n",
    "        self.lr = lr\n",
    "        self.method = method\n",
    "        self.momentum = momentum\n",
    "        self.xavier_method = xavier_method\n",
    "        self.mlflow_params = mlflow_params\n",
    "        self.num_epochs = num_epochs\n",
    "        self.batch_size = batch_size\n",
    "        self.cv = cv\n",
    "\n",
    "    def mse(self, ytrue, ypred):\n",
    "        #\"\"\"Mean Squared Error Calculation\"\"\"\n",
    "        return ((ypred - ytrue) ** 2).sum() / ytrue.shape[0]\n",
    "    \n",
    "    def r2(self, ytrue, ypred):\n",
    "        #\"\"\"R-Squared Calculation\"\"\"\n",
    "        y_mean = np.mean(ytrue)\n",
    "        ss_total = np.sum((ytrue - y_mean) ** 2)\n",
    "        ss_residual = np.sum((ytrue - ypred) ** 2)\n",
    "        return 1 - (ss_residual / ss_total)\n",
    "\n",
    "    def avgMse(self):\n",
    "        #\"\"\"Average MSE of Every Fold\"\"\"\n",
    "        return np.sum(np.array(self.kfold_mse)) / len(self.kfold_mse)\n",
    "\n",
    "    def avgR2(self):\n",
    "        #\"\"\"Average R2 of Every Fold\"\"\"\n",
    "        return np.sum(np.array(self.kfold_r2)) / len(self.kfold_r2)\n",
    "\n",
    "    def fit(self, X_train, y_train):\n",
    "        #\"\"\"Fit the Model with Cross-Validation\"\"\"\n",
    "        self.kfold_mse = []\n",
    "        self.kfold_r2 = []\n",
    "        self.val_loss_old = np.inf  # Start with infinity for early stopping\n",
    "\n",
    "        for fold, (train_idx, val_idx) in enumerate(self.cv.split(X_train)):\n",
    "            X_cross_train = X_train[train_idx]\n",
    "            y_cross_train = y_train[train_idx]\n",
    "            X_cross_val   = X_train[val_idx]\n",
    "            y_cross_val   = y_train[val_idx]\n",
    "\n",
    "            # Xavier Initialization\n",
    "            if self.xavier_method == 'zero':\n",
    "                self.theta = np.zeros(X_cross_train.shape[1])\n",
    "            else:\n",
    "                threshold = sqrt(X_cross_train.shape[1])\n",
    "                lower, upper = -(1 / threshold), (1 / threshold)\n",
    "                self.theta = np.random.uniform(lower, upper, X_cross_train.shape[1])\n",
    "\n",
    "            with mlflow.start_run(run_name=f\"Fold-{fold}\", nested=True):\n",
    "                for epoch in range(self.num_epochs):\n",
    "                    perm = np.random.permutation(X_cross_train.shape[0])\n",
    "                    X_cross_train = X_cross_train[perm]\n",
    "                    y_cross_train = y_cross_train[perm]\n",
    "\n",
    "                    if self.method == 'sto':\n",
    "                        for batch_idx in range(X_cross_train.shape[0]):\n",
    "                            X_batch = X_cross_train[batch_idx].reshape(1, -1)\n",
    "                            y_batch = y_cross_train[batch_idx].reshape(1, )\n",
    "                            train_loss = self._train(X_batch, y_batch)\n",
    "                    elif self.method == 'mini':\n",
    "                        for batch_idx in range(0, X_cross_train.shape[0], self.batch_size):\n",
    "                            X_batch = X_cross_train[batch_idx:batch_idx+self.batch_size, :]\n",
    "                            y_batch = y_cross_train[batch_idx:batch_idx+self.batch_size]\n",
    "                            train_loss = self._train(X_batch, y_batch)\n",
    "                    else:\n",
    "                        train_loss = self._train(X_cross_train, y_cross_train)\n",
    "\n",
    "                    mlflow.log_metric(key=\"train_loss\", value=train_loss, step=epoch)\n",
    "\n",
    "                    # Validation Predictions\n",
    "                    yhat_val = self.predict(X_cross_val)\n",
    "                    val_loss_new = self.mse(y_cross_val, yhat_val)\n",
    "                    val_r2 = self.r2(y_cross_val, yhat_val)\n",
    "                    mlflow.log_metric(key=\"val_loss\", value=val_loss_new, step=epoch)\n",
    "                    mlflow.log_metric(key=\"val_r2\", value=val_r2, step=epoch)\n",
    "\n",
    "                    # Early Stopping Condition with Tolerance\n",
    "                    #if np.abs(val_loss_new - self.val_loss_old) < 1e-6:\n",
    "                        #break\n",
    "                    #self.val_loss_old = val_loss_new\n",
    "                    # Add patience and tolerance for early stopping\n",
    "                    patience = 10  # Number of epochs to wait before stopping\n",
    "                    tolerance = 1e-6  # Minimum improvement threshold\n",
    "                    no_improvement_count = 0\n",
    "\n",
    "                    # Early Stopping Condition\n",
    "                    if val_loss_new >= self.val_loss_old - tolerance:\n",
    "                        no_improvement_count += 1\n",
    "                    else:\n",
    "                        no_improvement_count = 0\n",
    "\n",
    "                    if no_improvement_count >= patience:\n",
    "                        print(f\"Early stopping triggered after {patience} epochs.\")\n",
    "                        break\n",
    "\n",
    "                    self.val_loss_old = val_loss_new\n",
    "\n",
    "                self.kfold_mse.append(val_loss_new)\n",
    "                self.kfold_r2.append(val_r2)\n",
    "                print(f\"Fold {fold} - MSE : {val_loss_new}\")\n",
    "                print(f\"Fold {fold} - R2 : {val_r2}\")\n",
    "\n",
    "    def _train(self, X, y):\n",
    "        #\"\"\"Perform One Training Step\"\"\"\n",
    "        yhat = self.predict(X)\n",
    "        m = X.shape[0]\n",
    "        grad = (1/m) * X.T @ (yhat - y) + self.regularization.derivation(self.theta)\n",
    "        self.theta -= self.lr * grad\n",
    "        return self.mse(y, yhat)\n",
    "    \n",
    "    def predict(self, X):\n",
    "        #\"\"\"Predict Target Values\"\"\"\n",
    "        return X @ self.theta  \n",
    "    \n",
    "    def _coef(self):\n",
    "        #\"\"\"Return Coefficients (Excluding Bias)\"\"\"\n",
    "        return self.theta[1:]  \n",
    "\n",
    "    def _bias(self):\n",
    "        #\"\"\"Return Bias Term\"\"\"\n",
    "        return self.theta[0]\n",
    "    \n",
    "    def feature_importance_plot(self, feature_names=None):\n",
    "        #\"\"\"Plot Feature Importance Based on Coefficients\"\"\"\n",
    "        if self.theta is None:\n",
    "            raise ValueError(\"Model is not trained yet. Call fit() before plotting feature importance.\")\n",
    "        \n",
    "        coefficients = self._coef()\n",
    "        feature_importance = np.abs(coefficients)\n",
    "        sorted_idx = np.argsort(feature_importance)\n",
    "\n",
    "        if feature_names is None:\n",
    "            feature_names = [f'Feature {i}' for i in range(len(coefficients))]\n",
    "\n",
    "        plt.figure(figsize=(10, 6))\n",
    "        plt.barh([feature_names[i] for i in sorted_idx], feature_importance[sorted_idx])\n",
    "        plt.xlabel('Coefficient Value (Absolute)')\n",
    "        plt.title('Feature Importance based on Coefficients')\n",
    "        plt.show()\n",
    "\n",
    "\n",
    "# Polynomial Feature Transformer Class\n",
    "class PolynomialFeatures:\n",
    "    def __init__(self, degree):\n",
    "        self.degree = degree\n",
    "\n",
    "    def fit_transform(self, X):\n",
    "        #\"\"\"Create Polynomial Features\"\"\"\n",
    "        return np.column_stack([X ** self.degree])\n"
   ]
  },
  {
   "cell_type": "code",
   "execution_count": 75,
   "metadata": {},
   "outputs": [],
   "source": [
    "# Regularization Classes\n",
    "class LassoPenalty:\n",
    "    def __init__(self, l):\n",
    "        self.l = l\n",
    "        \n",
    "    def __call__(self, theta): \n",
    "        return self.l * np.sum(np.abs(theta))\n",
    "        \n",
    "    def derivation(self, theta):\n",
    "        return self.l * np.sign(theta)\n",
    "    \n",
    "class RidgePenalty:\n",
    "    def __init__(self, l):\n",
    "        self.l = l\n",
    "        \n",
    "    def __call__(self, theta): \n",
    "        return self.l * np.sum(np.square(theta))\n",
    "        \n",
    "    def derivation(self, theta):\n",
    "        return self.l * 2 * theta\n",
    "    \n",
    "class NoRegularization:\n",
    "    def __init__(self, l =None): #Accept 'L' but ignore it\n",
    "        pass\n",
    "\n",
    "    def __call__(self, theta): \n",
    "        return 0\n",
    "        \n",
    "    def derivation(self, theta):\n",
    "        return 0\n",
    "\n",
    "\n",
    "# Linear Regression Variants\n",
    "class Lasso(LinearRegression):\n",
    "    def __init__(self, method, lr, xavier_method, momentum, l, mlflow_params, num_epochs=100, batch_size=50):\n",
    "        regularization = LassoPenalty(l)\n",
    "        super().__init__(regularization=regularization, lr=lr, method=method, \n",
    "                         momentum=momentum, xavier_method=xavier_method, \n",
    "                         mlflow_params=mlflow_params, num_epochs=num_epochs, batch_size=batch_size)\n",
    "        \n",
    "class Ridge(LinearRegression):\n",
    "    def __init__(self, method, lr, xavier_method, momentum, l, mlflow_params, num_epochs=100, batch_size=50):\n",
    "        regularization = RidgePenalty(l)\n",
    "        super().__init__(regularization=regularization, lr=lr, method=method, \n",
    "                         momentum=momentum, xavier_method=xavier_method, \n",
    "                         mlflow_params=mlflow_params, num_epochs=num_epochs, batch_size=batch_size)\n",
    "\n",
    "class Normal(LinearRegression):\n",
    "    def __init__(self, method, lr, xavier_method, momentum, l=None, mlflow_params =None, num_epochs=100, batch_size=50):\n",
    "        regularization = NoRegularization(l)\n",
    "        super().__init__(regularization=regularization, lr=lr, method=method, \n",
    "                         momentum=momentum, xavier_method=xavier_method, \n",
    "                         mlflow_params=mlflow_params, num_epochs=num_epochs, batch_size=batch_size)\n"
   ]
  },
  {
   "cell_type": "code",
   "execution_count": 76,
   "metadata": {},
   "outputs": [
    {
     "name": "stdout",
     "output_type": "stream",
     "text": [
      "===== polynomial-False-reg-Normal-momentum-0-method-sto-xavier-zero-lr-0.01 =====\n",
      "Fold 0 - MSE : 0.11481570284974868\n",
      "Fold 0 - R2 : 0.8327718125272705\n",
      "🏃 View run Fold-0 at: http://localhost:5000/#/experiments/1/runs/2cb3f4783f0641beb8804092f56267d1\n",
      "🧪 View experiment at: http://localhost:5000/#/experiments/1\n",
      "Fold 1 - MSE : 0.10657937409981981\n",
      "Fold 1 - R2 : 0.8526431339438961\n",
      "🏃 View run Fold-1 at: http://localhost:5000/#/experiments/1/runs/1262c42754304930933412526da88f6d\n",
      "🧪 View experiment at: http://localhost:5000/#/experiments/1\n",
      "Fold 2 - MSE : 0.1038098251952686\n",
      "Fold 2 - R2 : 0.8505090174730343\n",
      "🏃 View run Fold-2 at: http://localhost:5000/#/experiments/1/runs/7d4260a9d89d4640b377533448d0974f\n",
      "🧪 View experiment at: http://localhost:5000/#/experiments/1\n",
      "Average MSE: 0.10840163404827903\n",
      "Average R2: 0.8453079879814003\n"
     ]
    },
    {
     "name": "stderr",
     "output_type": "stream",
     "text": [
      "d:\\ML_Assignment\\A2_ Assignment\\ml_env2\\Lib\\site-packages\\mlflow\\pyfunc\\utils\\data_validation.py:166: UserWarning: \u001b[33mAdd type hints to the `predict` method to enable data validation and automatic signature inference during model logging. Check https://mlflow.org/docs/latest/model/python_model.html#type-hint-usage-in-pythonmodel for more details.\u001b[0m\n",
      "  color_warning(\n"
     ]
    },
    {
     "name": "stdout",
     "output_type": "stream",
     "text": [
      "🏃 View run polynomial-False-reg-Normal-momentum-0-method-sto-xavier-zero-lr-0.01 at: http://localhost:5000/#/experiments/1/runs/099d2fbc534f4bdd806b50c3b5afc20c\n",
      "🧪 View experiment at: http://localhost:5000/#/experiments/1\n",
      "===== polynomial-False-reg-Normal-momentum-0-method-sto-xavier-zero-lr-0.001 =====\n",
      "Fold 0 - MSE : 0.11485422221176662\n",
      "Fold 0 - R2 : 0.832715709372972\n",
      "🏃 View run Fold-0 at: http://localhost:5000/#/experiments/1/runs/38b9811b6c804474a0811ba53ac16958\n",
      "🧪 View experiment at: http://localhost:5000/#/experiments/1\n",
      "Fold 1 - MSE : 0.1041647186843858\n",
      "Fold 1 - R2 : 0.8559816415831932\n",
      "🏃 View run Fold-1 at: http://localhost:5000/#/experiments/1/runs/fe535f42ad4348c6b35d44c8b50e4ac9\n",
      "🧪 View experiment at: http://localhost:5000/#/experiments/1\n",
      "Fold 2 - MSE : 0.09805142205425459\n",
      "Fold 2 - R2 : 0.8588013861550672\n",
      "🏃 View run Fold-2 at: http://localhost:5000/#/experiments/1/runs/22a7e486830d4e719bb374339f86185d\n",
      "🧪 View experiment at: http://localhost:5000/#/experiments/1\n",
      "Average MSE: 0.10569012098346901\n",
      "Average R2: 0.8491662457037442\n"
     ]
    },
    {
     "name": "stderr",
     "output_type": "stream",
     "text": [
      "d:\\ML_Assignment\\A2_ Assignment\\ml_env2\\Lib\\site-packages\\mlflow\\pyfunc\\utils\\data_validation.py:166: UserWarning: \u001b[33mAdd type hints to the `predict` method to enable data validation and automatic signature inference during model logging. Check https://mlflow.org/docs/latest/model/python_model.html#type-hint-usage-in-pythonmodel for more details.\u001b[0m\n",
      "  color_warning(\n"
     ]
    },
    {
     "name": "stdout",
     "output_type": "stream",
     "text": [
      "🏃 View run polynomial-False-reg-Normal-momentum-0-method-sto-xavier-zero-lr-0.001 at: http://localhost:5000/#/experiments/1/runs/8e88f515334d4249981402dcb9660c2a\n",
      "🧪 View experiment at: http://localhost:5000/#/experiments/1\n",
      "===== polynomial-False-reg-Normal-momentum-0-method-sto-xavier-zero-lr-0.0001 =====\n",
      "Fold 0 - MSE : 0.11468809206563732\n",
      "Fold 0 - R2 : 0.8329576766521181\n",
      "🏃 View run Fold-0 at: http://localhost:5000/#/experiments/1/runs/72ecb5d93612466c8123910791e17a1d\n",
      "🧪 View experiment at: http://localhost:5000/#/experiments/1\n",
      "Fold 1 - MSE : 0.10436479006184751\n",
      "Fold 1 - R2 : 0.8557050224772987\n",
      "🏃 View run Fold-1 at: http://localhost:5000/#/experiments/1/runs/818da64764fb4586ad06db726307b1de\n",
      "🧪 View experiment at: http://localhost:5000/#/experiments/1\n",
      "Fold 2 - MSE : 0.0972945109757342\n",
      "Fold 2 - R2 : 0.8598913733561893\n",
      "🏃 View run Fold-2 at: http://localhost:5000/#/experiments/1/runs/edda46c742514f6e874183ee02123950\n",
      "🧪 View experiment at: http://localhost:5000/#/experiments/1\n",
      "Average MSE: 0.10544913103440634\n",
      "Average R2: 0.8495180241618687\n"
     ]
    },
    {
     "name": "stderr",
     "output_type": "stream",
     "text": [
      "d:\\ML_Assignment\\A2_ Assignment\\ml_env2\\Lib\\site-packages\\mlflow\\pyfunc\\utils\\data_validation.py:166: UserWarning: \u001b[33mAdd type hints to the `predict` method to enable data validation and automatic signature inference during model logging. Check https://mlflow.org/docs/latest/model/python_model.html#type-hint-usage-in-pythonmodel for more details.\u001b[0m\n",
      "  color_warning(\n"
     ]
    },
    {
     "name": "stdout",
     "output_type": "stream",
     "text": [
      "🏃 View run polynomial-False-reg-Normal-momentum-0-method-sto-xavier-zero-lr-0.0001 at: http://localhost:5000/#/experiments/1/runs/6af694f478a741a19f3c5dfc9d282dfe\n",
      "🧪 View experiment at: http://localhost:5000/#/experiments/1\n",
      "===== polynomial-False-reg-Normal-momentum-0-method-sto-xavier-xavier-lr-0.01 =====\n",
      "Fold 0 - MSE : 0.11828934127207678\n",
      "Fold 0 - R2 : 0.8277124849014863\n",
      "🏃 View run Fold-0 at: http://localhost:5000/#/experiments/1/runs/4ab6ab9995664629945fd0b30535ec7f\n",
      "🧪 View experiment at: http://localhost:5000/#/experiments/1\n",
      "Fold 1 - MSE : 0.10770033503968328\n",
      "Fold 1 - R2 : 0.8510932909985351\n",
      "🏃 View run Fold-1 at: http://localhost:5000/#/experiments/1/runs/dc9e71a9e9574c468964c4564fdbab65\n",
      "🧪 View experiment at: http://localhost:5000/#/experiments/1\n",
      "Fold 2 - MSE : 0.10196367372618845\n",
      "Fold 2 - R2 : 0.853167561560622\n",
      "🏃 View run Fold-2 at: http://localhost:5000/#/experiments/1/runs/a8242e40c7d04558b81f1f9dff1d5911\n",
      "🧪 View experiment at: http://localhost:5000/#/experiments/1\n",
      "Average MSE: 0.10931778334598284\n",
      "Average R2: 0.8439911124868811\n"
     ]
    },
    {
     "name": "stderr",
     "output_type": "stream",
     "text": [
      "d:\\ML_Assignment\\A2_ Assignment\\ml_env2\\Lib\\site-packages\\mlflow\\pyfunc\\utils\\data_validation.py:166: UserWarning: \u001b[33mAdd type hints to the `predict` method to enable data validation and automatic signature inference during model logging. Check https://mlflow.org/docs/latest/model/python_model.html#type-hint-usage-in-pythonmodel for more details.\u001b[0m\n",
      "  color_warning(\n"
     ]
    },
    {
     "name": "stdout",
     "output_type": "stream",
     "text": [
      "🏃 View run polynomial-False-reg-Normal-momentum-0-method-sto-xavier-xavier-lr-0.01 at: http://localhost:5000/#/experiments/1/runs/cba51713e5114113b3be41a43af9bb79\n",
      "🧪 View experiment at: http://localhost:5000/#/experiments/1\n",
      "===== polynomial-False-reg-Normal-momentum-0-method-sto-xavier-xavier-lr-0.001 =====\n",
      "Fold 0 - MSE : 0.11427831633166669\n",
      "Fold 0 - R2 : 0.8335545118546328\n",
      "🏃 View run Fold-0 at: http://localhost:5000/#/experiments/1/runs/fb8a879f5dff40f5ad3250eafedad289\n",
      "🧪 View experiment at: http://localhost:5000/#/experiments/1\n",
      "Fold 1 - MSE : 0.10434678945680426\n",
      "Fold 1 - R2 : 0.8557299101515667\n",
      "🏃 View run Fold-1 at: http://localhost:5000/#/experiments/1/runs/45876c9db3554527b642c9c0577e290d\n",
      "🧪 View experiment at: http://localhost:5000/#/experiments/1\n",
      "Fold 2 - MSE : 0.09878662084569806\n",
      "Fold 2 - R2 : 0.8577426656584399\n",
      "🏃 View run Fold-2 at: http://localhost:5000/#/experiments/1/runs/fb96aef51c864b5697d58a4389f78e34\n",
      "🧪 View experiment at: http://localhost:5000/#/experiments/1\n",
      "Average MSE: 0.10580390887805634\n",
      "Average R2: 0.8490090292215465\n"
     ]
    },
    {
     "name": "stderr",
     "output_type": "stream",
     "text": [
      "d:\\ML_Assignment\\A2_ Assignment\\ml_env2\\Lib\\site-packages\\mlflow\\pyfunc\\utils\\data_validation.py:166: UserWarning: \u001b[33mAdd type hints to the `predict` method to enable data validation and automatic signature inference during model logging. Check https://mlflow.org/docs/latest/model/python_model.html#type-hint-usage-in-pythonmodel for more details.\u001b[0m\n",
      "  color_warning(\n"
     ]
    },
    {
     "name": "stdout",
     "output_type": "stream",
     "text": [
      "🏃 View run polynomial-False-reg-Normal-momentum-0-method-sto-xavier-xavier-lr-0.001 at: http://localhost:5000/#/experiments/1/runs/e6736601d8eb429e887ea4c3836d4b54\n",
      "🧪 View experiment at: http://localhost:5000/#/experiments/1\n",
      "===== polynomial-False-reg-Normal-momentum-0-method-sto-xavier-xavier-lr-0.0001 =====\n",
      "Fold 0 - MSE : 0.11466372551874629\n",
      "Fold 0 - R2 : 0.8329931663401173\n",
      "🏃 View run Fold-0 at: http://localhost:5000/#/experiments/1/runs/3fbbf26e25ca43bdbe52fe7b4b82b71c\n",
      "🧪 View experiment at: http://localhost:5000/#/experiments/1\n",
      "Fold 1 - MSE : 0.10438232862367669\n",
      "Fold 1 - R2 : 0.8556807736249471\n",
      "🏃 View run Fold-1 at: http://localhost:5000/#/experiments/1/runs/4dc8c386a60c4fe1917895506442c6f6\n",
      "🧪 View experiment at: http://localhost:5000/#/experiments/1\n",
      "Fold 2 - MSE : 0.0972749119300403\n",
      "Fold 2 - R2 : 0.8599195968946824\n",
      "🏃 View run Fold-2 at: http://localhost:5000/#/experiments/1/runs/599f7124dab3450e9857975eecc2ddec\n",
      "🧪 View experiment at: http://localhost:5000/#/experiments/1\n",
      "Average MSE: 0.10544032202415443\n",
      "Average R2: 0.849531178953249\n"
     ]
    },
    {
     "name": "stderr",
     "output_type": "stream",
     "text": [
      "d:\\ML_Assignment\\A2_ Assignment\\ml_env2\\Lib\\site-packages\\mlflow\\pyfunc\\utils\\data_validation.py:166: UserWarning: \u001b[33mAdd type hints to the `predict` method to enable data validation and automatic signature inference during model logging. Check https://mlflow.org/docs/latest/model/python_model.html#type-hint-usage-in-pythonmodel for more details.\u001b[0m\n",
      "  color_warning(\n"
     ]
    },
    {
     "name": "stdout",
     "output_type": "stream",
     "text": [
      "🏃 View run polynomial-False-reg-Normal-momentum-0-method-sto-xavier-xavier-lr-0.0001 at: http://localhost:5000/#/experiments/1/runs/b455cba64e294b969e28b312e917760c\n",
      "🧪 View experiment at: http://localhost:5000/#/experiments/1\n",
      "===== polynomial-False-reg-Normal-momentum-0-method-mini-xavier-zero-lr-0.01 =====\n",
      "Fold 0 - MSE : 0.11460113022826265\n",
      "Fold 0 - R2 : 0.8330843358989154\n",
      "🏃 View run Fold-0 at: http://localhost:5000/#/experiments/1/runs/161bcb3d949b4b1383a62ac5d203593a\n",
      "🧪 View experiment at: http://localhost:5000/#/experiments/1\n",
      "Fold 1 - MSE : 0.10437026733020385\n",
      "Fold 1 - R2 : 0.855697449594587\n",
      "🏃 View run Fold-1 at: http://localhost:5000/#/experiments/1/runs/edcccd9232e947eba1a4ad03a36f9c19\n",
      "🧪 View experiment at: http://localhost:5000/#/experiments/1\n",
      "Fold 2 - MSE : 0.09735310301168658\n",
      "Fold 2 - R2 : 0.859806998095887\n",
      "🏃 View run Fold-2 at: http://localhost:5000/#/experiments/1/runs/ed9b6cd58abc48ff9ba1632bcb9c4391\n",
      "🧪 View experiment at: http://localhost:5000/#/experiments/1\n",
      "Average MSE: 0.10544150019005104\n",
      "Average R2: 0.8495295945297965\n"
     ]
    },
    {
     "name": "stderr",
     "output_type": "stream",
     "text": [
      "d:\\ML_Assignment\\A2_ Assignment\\ml_env2\\Lib\\site-packages\\mlflow\\pyfunc\\utils\\data_validation.py:166: UserWarning: \u001b[33mAdd type hints to the `predict` method to enable data validation and automatic signature inference during model logging. Check https://mlflow.org/docs/latest/model/python_model.html#type-hint-usage-in-pythonmodel for more details.\u001b[0m\n",
      "  color_warning(\n"
     ]
    },
    {
     "name": "stdout",
     "output_type": "stream",
     "text": [
      "🏃 View run polynomial-False-reg-Normal-momentum-0-method-mini-xavier-zero-lr-0.01 at: http://localhost:5000/#/experiments/1/runs/a5b221d5a92c4ae9bec47d4b5c600179\n",
      "🧪 View experiment at: http://localhost:5000/#/experiments/1\n",
      "===== polynomial-False-reg-Normal-momentum-0-method-mini-xavier-zero-lr-0.001 =====\n",
      "Fold 0 - MSE : 0.1147990252827221\n",
      "Fold 0 - R2 : 0.8327961032752788\n",
      "🏃 View run Fold-0 at: http://localhost:5000/#/experiments/1/runs/be3165995db54cfb976a5b9bf47b0e6e\n",
      "🧪 View experiment at: http://localhost:5000/#/experiments/1\n",
      "Fold 1 - MSE : 0.10456041711228667\n",
      "Fold 1 - R2 : 0.8554345481072625\n",
      "🏃 View run Fold-1 at: http://localhost:5000/#/experiments/1/runs/90476a9f2fcd404d99c9ee6028d93a16\n",
      "🧪 View experiment at: http://localhost:5000/#/experiments/1\n",
      "Fold 2 - MSE : 0.09733239358547545\n",
      "Fold 2 - R2 : 0.8598368206340335\n",
      "🏃 View run Fold-2 at: http://localhost:5000/#/experiments/1/runs/f58239afc2a5492099ff25bd7d9b1f07\n",
      "🧪 View experiment at: http://localhost:5000/#/experiments/1\n",
      "Average MSE: 0.10556394532682807\n",
      "Average R2: 0.8493558240055249\n"
     ]
    },
    {
     "name": "stderr",
     "output_type": "stream",
     "text": [
      "d:\\ML_Assignment\\A2_ Assignment\\ml_env2\\Lib\\site-packages\\mlflow\\pyfunc\\utils\\data_validation.py:166: UserWarning: \u001b[33mAdd type hints to the `predict` method to enable data validation and automatic signature inference during model logging. Check https://mlflow.org/docs/latest/model/python_model.html#type-hint-usage-in-pythonmodel for more details.\u001b[0m\n",
      "  color_warning(\n"
     ]
    },
    {
     "name": "stdout",
     "output_type": "stream",
     "text": [
      "🏃 View run polynomial-False-reg-Normal-momentum-0-method-mini-xavier-zero-lr-0.001 at: http://localhost:5000/#/experiments/1/runs/67f4ff1e4bc44d9898e0a69c8a192ce8\n",
      "🧪 View experiment at: http://localhost:5000/#/experiments/1\n",
      "===== polynomial-False-reg-Normal-momentum-0-method-mini-xavier-zero-lr-0.0001 =====\n",
      "Fold 0 - MSE : 37.94161940492933\n",
      "Fold 0 - R2 : -54.26167662945557\n",
      "🏃 View run Fold-0 at: http://localhost:5000/#/experiments/1/runs/cb4629c63ff5459881b8b554dd297e9a\n",
      "🧪 View experiment at: http://localhost:5000/#/experiments/1\n",
      "Fold 1 - MSE : 37.70548339508571\n",
      "Fold 1 - R2 : -51.13168038523589\n",
      "🏃 View run Fold-1 at: http://localhost:5000/#/experiments/1/runs/38cff570e48a4df1ba7d54a9692513d4\n",
      "🧪 View experiment at: http://localhost:5000/#/experiments/1\n",
      "Fold 2 - MSE : 37.745567995435984\n",
      "Fold 2 - R2 : -53.35537565988785\n",
      "🏃 View run Fold-2 at: http://localhost:5000/#/experiments/1/runs/dc9f6218497945ff81da185e528a6d03\n",
      "🧪 View experiment at: http://localhost:5000/#/experiments/1\n",
      "Average MSE: 37.797556931817006\n",
      "Average R2: -52.916244224859774\n"
     ]
    },
    {
     "name": "stderr",
     "output_type": "stream",
     "text": [
      "d:\\ML_Assignment\\A2_ Assignment\\ml_env2\\Lib\\site-packages\\mlflow\\pyfunc\\utils\\data_validation.py:166: UserWarning: \u001b[33mAdd type hints to the `predict` method to enable data validation and automatic signature inference during model logging. Check https://mlflow.org/docs/latest/model/python_model.html#type-hint-usage-in-pythonmodel for more details.\u001b[0m\n",
      "  color_warning(\n"
     ]
    },
    {
     "name": "stdout",
     "output_type": "stream",
     "text": [
      "🏃 View run polynomial-False-reg-Normal-momentum-0-method-mini-xavier-zero-lr-0.0001 at: http://localhost:5000/#/experiments/1/runs/c84d4f505e454d4f9345d34dd46007e6\n",
      "🧪 View experiment at: http://localhost:5000/#/experiments/1\n",
      "===== polynomial-False-reg-Normal-momentum-0-method-mini-xavier-xavier-lr-0.01 =====\n",
      "Fold 0 - MSE : 0.11462160674761075\n",
      "Fold 0 - R2 : 0.8330545120060912\n",
      "🏃 View run Fold-0 at: http://localhost:5000/#/experiments/1/runs/20068a71affb4121a9065d2aa81ecfea\n",
      "🧪 View experiment at: http://localhost:5000/#/experiments/1\n",
      "Fold 1 - MSE : 0.10439356583888158\n",
      "Fold 1 - R2 : 0.8556652370276479\n",
      "🏃 View run Fold-1 at: http://localhost:5000/#/experiments/1/runs/f6d16fad60574ffd932872f591a8cd80\n",
      "🧪 View experiment at: http://localhost:5000/#/experiments/1\n",
      "Fold 2 - MSE : 0.09722248362003022\n",
      "Fold 2 - R2 : 0.8599950961025935\n",
      "🏃 View run Fold-2 at: http://localhost:5000/#/experiments/1/runs/2e0bf013db3c461ab22039684d9f4052\n",
      "🧪 View experiment at: http://localhost:5000/#/experiments/1\n",
      "Average MSE: 0.10541255206884086\n",
      "Average R2: 0.8495716150454441\n"
     ]
    },
    {
     "name": "stderr",
     "output_type": "stream",
     "text": [
      "d:\\ML_Assignment\\A2_ Assignment\\ml_env2\\Lib\\site-packages\\mlflow\\pyfunc\\utils\\data_validation.py:166: UserWarning: \u001b[33mAdd type hints to the `predict` method to enable data validation and automatic signature inference during model logging. Check https://mlflow.org/docs/latest/model/python_model.html#type-hint-usage-in-pythonmodel for more details.\u001b[0m\n",
      "  color_warning(\n"
     ]
    },
    {
     "name": "stdout",
     "output_type": "stream",
     "text": [
      "🏃 View run polynomial-False-reg-Normal-momentum-0-method-mini-xavier-xavier-lr-0.01 at: http://localhost:5000/#/experiments/1/runs/bca4c22b01b9409fae599452ebeda98e\n",
      "🧪 View experiment at: http://localhost:5000/#/experiments/1\n",
      "===== polynomial-False-reg-Normal-momentum-0-method-mini-xavier-xavier-lr-0.001 =====\n",
      "Fold 0 - MSE : 0.11594843522219161\n",
      "Fold 0 - R2 : 0.8311219965453642\n",
      "🏃 View run Fold-0 at: http://localhost:5000/#/experiments/1/runs/a0a9c2c67fa348e88da889b631d0d2ed\n",
      "🧪 View experiment at: http://localhost:5000/#/experiments/1\n",
      "Fold 1 - MSE : 0.10454034771964052\n",
      "Fold 1 - R2 : 0.8554622960916071\n",
      "🏃 View run Fold-1 at: http://localhost:5000/#/experiments/1/runs/9a3c9b11fa01448c922f130152b9f3f3\n",
      "🧪 View experiment at: http://localhost:5000/#/experiments/1\n",
      "Fold 2 - MSE : 0.09745942777086875\n",
      "Fold 2 - R2 : 0.8596538854913027\n",
      "🏃 View run Fold-2 at: http://localhost:5000/#/experiments/1/runs/63713c656c134f3592cce96f970a6be3\n",
      "🧪 View experiment at: http://localhost:5000/#/experiments/1\n",
      "Average MSE: 0.10598273690423361\n",
      "Average R2: 0.8487460593760914\n"
     ]
    },
    {
     "name": "stderr",
     "output_type": "stream",
     "text": [
      "d:\\ML_Assignment\\A2_ Assignment\\ml_env2\\Lib\\site-packages\\mlflow\\pyfunc\\utils\\data_validation.py:166: UserWarning: \u001b[33mAdd type hints to the `predict` method to enable data validation and automatic signature inference during model logging. Check https://mlflow.org/docs/latest/model/python_model.html#type-hint-usage-in-pythonmodel for more details.\u001b[0m\n",
      "  color_warning(\n"
     ]
    },
    {
     "name": "stdout",
     "output_type": "stream",
     "text": [
      "🏃 View run polynomial-False-reg-Normal-momentum-0-method-mini-xavier-xavier-lr-0.001 at: http://localhost:5000/#/experiments/1/runs/0580bdc38cb141a9b286e0ffcd7b59df\n",
      "🧪 View experiment at: http://localhost:5000/#/experiments/1\n",
      "===== polynomial-False-reg-Normal-momentum-0-method-mini-xavier-xavier-lr-0.0001 =====\n",
      "Fold 0 - MSE : 36.57268227441516\n",
      "Fold 0 - R2 : -52.267830235469006\n",
      "🏃 View run Fold-0 at: http://localhost:5000/#/experiments/1/runs/a7b9ff53f03947e2a912b51eeecc76b9\n",
      "🧪 View experiment at: http://localhost:5000/#/experiments/1\n",
      "Fold 1 - MSE : 40.11066444574068\n",
      "Fold 1 - R2 : -54.457088747928125\n",
      "🏃 View run Fold-1 at: http://localhost:5000/#/experiments/1/runs/ffa96d0c762648c48836ebc022e4f016\n",
      "🧪 View experiment at: http://localhost:5000/#/experiments/1\n",
      "Fold 2 - MSE : 40.07257494908674\n",
      "Fold 2 - R2 : -56.70637403787363\n",
      "🏃 View run Fold-2 at: http://localhost:5000/#/experiments/1/runs/c60c54afcc2643edb9e728d6d6fa4ac9\n",
      "🧪 View experiment at: http://localhost:5000/#/experiments/1\n",
      "Average MSE: 38.918640556414196\n",
      "Average R2: -54.47709767375692\n"
     ]
    },
    {
     "name": "stderr",
     "output_type": "stream",
     "text": [
      "d:\\ML_Assignment\\A2_ Assignment\\ml_env2\\Lib\\site-packages\\mlflow\\pyfunc\\utils\\data_validation.py:166: UserWarning: \u001b[33mAdd type hints to the `predict` method to enable data validation and automatic signature inference during model logging. Check https://mlflow.org/docs/latest/model/python_model.html#type-hint-usage-in-pythonmodel for more details.\u001b[0m\n",
      "  color_warning(\n"
     ]
    },
    {
     "name": "stdout",
     "output_type": "stream",
     "text": [
      "🏃 View run polynomial-False-reg-Normal-momentum-0-method-mini-xavier-xavier-lr-0.0001 at: http://localhost:5000/#/experiments/1/runs/41e1c5f1ff6042a8b1b953ab900fe0c6\n",
      "🧪 View experiment at: http://localhost:5000/#/experiments/1\n",
      "===== polynomial-False-reg-Normal-momentum-0-method-batch-xavier-zero-lr-0.01 =====\n",
      "Fold 0 - MSE : 22.844879088721413\n",
      "Fold 0 - R2 : -32.273390557386676\n",
      "🏃 View run Fold-0 at: http://localhost:5000/#/experiments/1/runs/8eb65ab41d1644d2937b32d4660b48b1\n",
      "🧪 View experiment at: http://localhost:5000/#/experiments/1\n",
      "Fold 1 - MSE : 22.68054218964818\n",
      "Fold 1 - R2 : -30.358165177341295\n",
      "🏃 View run Fold-1 at: http://localhost:5000/#/experiments/1/runs/6f2ccc8e9eff4a179563e9f0a774eed2\n",
      "🧪 View experiment at: http://localhost:5000/#/experiments/1\n",
      "Fold 2 - MSE : 22.699625829689722\n",
      "Fold 2 - R2 : -31.688518277453632\n",
      "🏃 View run Fold-2 at: http://localhost:5000/#/experiments/1/runs/7d6f0b23da124669ab5bcf96bafb0264\n",
      "🧪 View experiment at: http://localhost:5000/#/experiments/1\n",
      "Average MSE: 22.741682369353104\n",
      "Average R2: -31.4400246707272\n"
     ]
    },
    {
     "name": "stderr",
     "output_type": "stream",
     "text": [
      "d:\\ML_Assignment\\A2_ Assignment\\ml_env2\\Lib\\site-packages\\mlflow\\pyfunc\\utils\\data_validation.py:166: UserWarning: \u001b[33mAdd type hints to the `predict` method to enable data validation and automatic signature inference during model logging. Check https://mlflow.org/docs/latest/model/python_model.html#type-hint-usage-in-pythonmodel for more details.\u001b[0m\n",
      "  color_warning(\n"
     ]
    },
    {
     "name": "stdout",
     "output_type": "stream",
     "text": [
      "🏃 View run polynomial-False-reg-Normal-momentum-0-method-batch-xavier-zero-lr-0.01 at: http://localhost:5000/#/experiments/1/runs/6b267c47379f4db3b366b9bb59f580bf\n",
      "🧪 View experiment at: http://localhost:5000/#/experiments/1\n",
      "===== polynomial-False-reg-Normal-momentum-0-method-batch-xavier-zero-lr-0.001 =====\n",
      "Fold 0 - MSE : 138.8992810404105\n",
      "Fold 0 - R2 : -201.30573373791745\n",
      "🏃 View run Fold-0 at: http://localhost:5000/#/experiments/1/runs/06fbffae39d04392ac7615656e7cb0e0\n",
      "🧪 View experiment at: http://localhost:5000/#/experiments/1\n",
      "Fold 1 - MSE : 138.29950560238976\n",
      "Fold 1 - R2 : -190.21318636746616\n",
      "🏃 View run Fold-1 at: http://localhost:5000/#/experiments/1/runs/d0ac6a9a4b964e0e96e35cfa4f17ce78\n",
      "🧪 View experiment at: http://localhost:5000/#/experiments/1\n",
      "Fold 2 - MSE : 138.43722212465755\n",
      "Fold 2 - R2 : -198.3560466438593\n",
      "🏃 View run Fold-2 at: http://localhost:5000/#/experiments/1/runs/ab0a3cc936cb47e48a76e3f76c0c3675\n",
      "🧪 View experiment at: http://localhost:5000/#/experiments/1\n",
      "Average MSE: 138.54533625581928\n",
      "Average R2: -196.62498891641428\n"
     ]
    },
    {
     "name": "stderr",
     "output_type": "stream",
     "text": [
      "d:\\ML_Assignment\\A2_ Assignment\\ml_env2\\Lib\\site-packages\\mlflow\\pyfunc\\utils\\data_validation.py:166: UserWarning: \u001b[33mAdd type hints to the `predict` method to enable data validation and automatic signature inference during model logging. Check https://mlflow.org/docs/latest/model/python_model.html#type-hint-usage-in-pythonmodel for more details.\u001b[0m\n",
      "  color_warning(\n"
     ]
    },
    {
     "name": "stdout",
     "output_type": "stream",
     "text": [
      "🏃 View run polynomial-False-reg-Normal-momentum-0-method-batch-xavier-zero-lr-0.001 at: http://localhost:5000/#/experiments/1/runs/1957ae771c3e410a851ea43b6f1f91e4\n",
      "🧪 View experiment at: http://localhost:5000/#/experiments/1\n",
      "===== polynomial-False-reg-Normal-momentum-0-method-batch-xavier-zero-lr-0.0001 =====\n",
      "Fold 0 - MSE : 166.32505113510373\n",
      "Fold 0 - R2 : -241.25115678672455\n",
      "🏃 View run Fold-0 at: http://localhost:5000/#/experiments/1/runs/11625129143d475d86799e7b6210056c\n",
      "🧪 View experiment at: http://localhost:5000/#/experiments/1\n",
      "Fold 1 - MSE : 165.65472496194295\n",
      "Fold 1 - R2 : -228.03456999959084\n",
      "🏃 View run Fold-1 at: http://localhost:5000/#/experiments/1/runs/f2e8b00a1f354930b4ede8ca991c47bb\n",
      "🧪 View experiment at: http://localhost:5000/#/experiments/1\n",
      "Fold 2 - MSE : 165.81080899944354\n",
      "Fold 2 - R2 : -237.77528648461296\n",
      "🏃 View run Fold-2 at: http://localhost:5000/#/experiments/1/runs/7e6c76e5fec94ae6be87902947f7b837\n",
      "🧪 View experiment at: http://localhost:5000/#/experiments/1\n",
      "Average MSE: 165.9301950321634\n",
      "Average R2: -235.68700442364278\n"
     ]
    },
    {
     "name": "stderr",
     "output_type": "stream",
     "text": [
      "d:\\ML_Assignment\\A2_ Assignment\\ml_env2\\Lib\\site-packages\\mlflow\\pyfunc\\utils\\data_validation.py:166: UserWarning: \u001b[33mAdd type hints to the `predict` method to enable data validation and automatic signature inference during model logging. Check https://mlflow.org/docs/latest/model/python_model.html#type-hint-usage-in-pythonmodel for more details.\u001b[0m\n",
      "  color_warning(\n"
     ]
    },
    {
     "name": "stdout",
     "output_type": "stream",
     "text": [
      "🏃 View run polynomial-False-reg-Normal-momentum-0-method-batch-xavier-zero-lr-0.0001 at: http://localhost:5000/#/experiments/1/runs/64c3706d477d487db83ffd4321fad11c\n",
      "🧪 View experiment at: http://localhost:5000/#/experiments/1\n",
      "===== polynomial-False-reg-Normal-momentum-0-method-batch-xavier-xavier-lr-0.01 =====\n",
      "Fold 0 - MSE : 22.200983715841797\n",
      "Fold 0 - R2 : -31.335561902802333\n",
      "🏃 View run Fold-0 at: http://localhost:5000/#/experiments/1/runs/d56194982d1c4b06a996cdd3e7fa8e5a\n",
      "🧪 View experiment at: http://localhost:5000/#/experiments/1\n",
      "Fold 1 - MSE : 23.93099678294476\n",
      "Fold 1 - R2 : -32.08704631940043\n",
      "🏃 View run Fold-1 at: http://localhost:5000/#/experiments/1/runs/35e0a9de37c44388bdbb694da033a4f9\n",
      "🧪 View experiment at: http://localhost:5000/#/experiments/1\n",
      "Fold 2 - MSE : 23.04352363836953\n",
      "Fold 2 - R2 : -32.183747136684566\n",
      "🏃 View run Fold-2 at: http://localhost:5000/#/experiments/1/runs/64b406f6010d43d29fa38f564ef9b92f\n",
      "🧪 View experiment at: http://localhost:5000/#/experiments/1\n",
      "Average MSE: 23.05850137905203\n",
      "Average R2: -31.86878511962911\n"
     ]
    },
    {
     "name": "stderr",
     "output_type": "stream",
     "text": [
      "d:\\ML_Assignment\\A2_ Assignment\\ml_env2\\Lib\\site-packages\\mlflow\\pyfunc\\utils\\data_validation.py:166: UserWarning: \u001b[33mAdd type hints to the `predict` method to enable data validation and automatic signature inference during model logging. Check https://mlflow.org/docs/latest/model/python_model.html#type-hint-usage-in-pythonmodel for more details.\u001b[0m\n",
      "  color_warning(\n"
     ]
    },
    {
     "name": "stdout",
     "output_type": "stream",
     "text": [
      "🏃 View run polynomial-False-reg-Normal-momentum-0-method-batch-xavier-xavier-lr-0.01 at: http://localhost:5000/#/experiments/1/runs/b3cfc73af0554e9896c13fc6b7d195c1\n",
      "🧪 View experiment at: http://localhost:5000/#/experiments/1\n",
      "===== polynomial-False-reg-Normal-momentum-0-method-batch-xavier-xavier-lr-0.001 =====\n",
      "Fold 0 - MSE : 134.00039431906288\n",
      "Fold 0 - R2 : -194.17054293464156\n",
      "🏃 View run Fold-0 at: http://localhost:5000/#/experiments/1/runs/aa696dd79af94d73a5244252dadc3b8e\n",
      "🧪 View experiment at: http://localhost:5000/#/experiments/1\n",
      "Fold 1 - MSE : 137.51991834552467\n",
      "Fold 1 - R2 : -189.13532739185118\n",
      "🏃 View run Fold-1 at: http://localhost:5000/#/experiments/1/runs/d33702934a504c85afd9a52ab1dcbd64\n",
      "🧪 View experiment at: http://localhost:5000/#/experiments/1\n",
      "Fold 2 - MSE : 133.531168581271\n",
      "Fold 2 - R2 : -191.29110107487105\n",
      "🏃 View run Fold-2 at: http://localhost:5000/#/experiments/1/runs/7a058c73ea5c43619aee53a7ab5c35c3\n",
      "🧪 View experiment at: http://localhost:5000/#/experiments/1\n",
      "Average MSE: 135.01716041528618\n",
      "Average R2: -191.5323238004546\n"
     ]
    },
    {
     "name": "stderr",
     "output_type": "stream",
     "text": [
      "d:\\ML_Assignment\\A2_ Assignment\\ml_env2\\Lib\\site-packages\\mlflow\\pyfunc\\utils\\data_validation.py:166: UserWarning: \u001b[33mAdd type hints to the `predict` method to enable data validation and automatic signature inference during model logging. Check https://mlflow.org/docs/latest/model/python_model.html#type-hint-usage-in-pythonmodel for more details.\u001b[0m\n",
      "  color_warning(\n"
     ]
    },
    {
     "name": "stdout",
     "output_type": "stream",
     "text": [
      "🏃 View run polynomial-False-reg-Normal-momentum-0-method-batch-xavier-xavier-lr-0.001 at: http://localhost:5000/#/experiments/1/runs/dbc2c5f2c1c84e63a7e2776d6a6597e8\n",
      "🧪 View experiment at: http://localhost:5000/#/experiments/1\n",
      "===== polynomial-False-reg-Normal-momentum-0-method-batch-xavier-xavier-lr-0.0001 =====\n",
      "Fold 0 - MSE : 168.431269816667\n",
      "Fold 0 - R2 : -244.3188480850128\n",
      "🏃 View run Fold-0 at: http://localhost:5000/#/experiments/1/runs/30dab400b9cc4f0293cb4c7a63f9b564\n",
      "🧪 View experiment at: http://localhost:5000/#/experiments/1\n",
      "Fold 1 - MSE : 174.67162601936644\n",
      "Fold 1 - R2 : -240.50135630399777\n",
      "🏃 View run Fold-1 at: http://localhost:5000/#/experiments/1/runs/94f89f81078f4be09f88660090fc74a2\n",
      "🧪 View experiment at: http://localhost:5000/#/experiments/1\n",
      "Fold 2 - MSE : 156.4690300676924\n",
      "Fold 2 - R2 : -224.3226897922448\n",
      "🏃 View run Fold-2 at: http://localhost:5000/#/experiments/1/runs/598698813594417e9308604efef915c9\n",
      "🧪 View experiment at: http://localhost:5000/#/experiments/1\n",
      "Average MSE: 166.52397530124196\n",
      "Average R2: -236.38096472708511\n"
     ]
    },
    {
     "name": "stderr",
     "output_type": "stream",
     "text": [
      "d:\\ML_Assignment\\A2_ Assignment\\ml_env2\\Lib\\site-packages\\mlflow\\pyfunc\\utils\\data_validation.py:166: UserWarning: \u001b[33mAdd type hints to the `predict` method to enable data validation and automatic signature inference during model logging. Check https://mlflow.org/docs/latest/model/python_model.html#type-hint-usage-in-pythonmodel for more details.\u001b[0m\n",
      "  color_warning(\n"
     ]
    },
    {
     "name": "stdout",
     "output_type": "stream",
     "text": [
      "🏃 View run polynomial-False-reg-Normal-momentum-0-method-batch-xavier-xavier-lr-0.0001 at: http://localhost:5000/#/experiments/1/runs/0fefe15047b94332936279f2c7cc8926\n",
      "🧪 View experiment at: http://localhost:5000/#/experiments/1\n",
      "===== polynomial-False-reg-Normal-momentum-0.6-method-sto-xavier-zero-lr-0.01 =====\n",
      "Fold 0 - MSE : 0.12223703267606396\n",
      "Fold 0 - R2 : 0.8219627027566663\n",
      "🏃 View run Fold-0 at: http://localhost:5000/#/experiments/1/runs/85b56b7fd27748e19503009834d511ec\n",
      "🧪 View experiment at: http://localhost:5000/#/experiments/1\n",
      "Fold 1 - MSE : 0.11219659741542246\n",
      "Fold 1 - R2 : 0.844876749212182\n",
      "🏃 View run Fold-1 at: http://localhost:5000/#/experiments/1/runs/65415c95bee84ca691c7e982b2e919cf\n",
      "🧪 View experiment at: http://localhost:5000/#/experiments/1\n",
      "Fold 2 - MSE : 0.10230785452841645\n",
      "Fold 2 - R2 : 0.8526719251775032\n",
      "🏃 View run Fold-2 at: http://localhost:5000/#/experiments/1/runs/5e9596568166409898f2556995cd167a\n",
      "🧪 View experiment at: http://localhost:5000/#/experiments/1\n",
      "Average MSE: 0.11224716153996762\n",
      "Average R2: 0.8398371257154505\n"
     ]
    },
    {
     "name": "stderr",
     "output_type": "stream",
     "text": [
      "d:\\ML_Assignment\\A2_ Assignment\\ml_env2\\Lib\\site-packages\\mlflow\\pyfunc\\utils\\data_validation.py:166: UserWarning: \u001b[33mAdd type hints to the `predict` method to enable data validation and automatic signature inference during model logging. Check https://mlflow.org/docs/latest/model/python_model.html#type-hint-usage-in-pythonmodel for more details.\u001b[0m\n",
      "  color_warning(\n"
     ]
    },
    {
     "name": "stdout",
     "output_type": "stream",
     "text": [
      "🏃 View run polynomial-False-reg-Normal-momentum-0.6-method-sto-xavier-zero-lr-0.01 at: http://localhost:5000/#/experiments/1/runs/040dcffe494e40f681f06632f2156e0e\n",
      "🧪 View experiment at: http://localhost:5000/#/experiments/1\n",
      "===== polynomial-False-reg-Normal-momentum-0.6-method-sto-xavier-zero-lr-0.001 =====\n",
      "Fold 0 - MSE : 0.11548951858191428\n",
      "Fold 0 - R2 : 0.8317904050996809\n",
      "🏃 View run Fold-0 at: http://localhost:5000/#/experiments/1/runs/8e4f7b245b7a4ccdbc985277c3c143ab\n",
      "🧪 View experiment at: http://localhost:5000/#/experiments/1\n",
      "Fold 1 - MSE : 0.10512718177786752\n",
      "Fold 1 - R2 : 0.8546509380925038\n",
      "🏃 View run Fold-1 at: http://localhost:5000/#/experiments/1/runs/cdeb462984834011935fdd1e3ba23ba1\n",
      "🧪 View experiment at: http://localhost:5000/#/experiments/1\n",
      "Fold 2 - MSE : 0.09715563527107286\n",
      "Fold 2 - R2 : 0.8600913608381053\n",
      "🏃 View run Fold-2 at: http://localhost:5000/#/experiments/1/runs/4e1e84bbc52c4036a6361bc3518b0b46\n",
      "🧪 View experiment at: http://localhost:5000/#/experiments/1\n",
      "Average MSE: 0.10592411187695155\n",
      "Average R2: 0.8488442346767634\n"
     ]
    },
    {
     "name": "stderr",
     "output_type": "stream",
     "text": [
      "d:\\ML_Assignment\\A2_ Assignment\\ml_env2\\Lib\\site-packages\\mlflow\\pyfunc\\utils\\data_validation.py:166: UserWarning: \u001b[33mAdd type hints to the `predict` method to enable data validation and automatic signature inference during model logging. Check https://mlflow.org/docs/latest/model/python_model.html#type-hint-usage-in-pythonmodel for more details.\u001b[0m\n",
      "  color_warning(\n"
     ]
    },
    {
     "name": "stdout",
     "output_type": "stream",
     "text": [
      "🏃 View run polynomial-False-reg-Normal-momentum-0.6-method-sto-xavier-zero-lr-0.001 at: http://localhost:5000/#/experiments/1/runs/cf6cd3b933b148448d8e402a53279f57\n",
      "🧪 View experiment at: http://localhost:5000/#/experiments/1\n",
      "===== polynomial-False-reg-Normal-momentum-0.6-method-sto-xavier-zero-lr-0.0001 =====\n",
      "Fold 0 - MSE : 0.11463263216855171\n",
      "Fold 0 - R2 : 0.8330384535653526\n",
      "🏃 View run Fold-0 at: http://localhost:5000/#/experiments/1/runs/09413d80eaee4860b71cb4a51db72e19\n",
      "🧪 View experiment at: http://localhost:5000/#/experiments/1\n",
      "Fold 1 - MSE : 0.1043816622965375\n",
      "Fold 1 - R2 : 0.8556816948902466\n",
      "🏃 View run Fold-1 at: http://localhost:5000/#/experiments/1/runs/3fc2ec3ac16c4f258c9dc197f27c2e30\n",
      "🧪 View experiment at: http://localhost:5000/#/experiments/1\n",
      "Fold 2 - MSE : 0.09730077158084137\n",
      "Fold 2 - R2 : 0.8598823577932893\n",
      "🏃 View run Fold-2 at: http://localhost:5000/#/experiments/1/runs/b82dd37d2b6c4b529db46582d183a955\n",
      "🧪 View experiment at: http://localhost:5000/#/experiments/1\n",
      "Average MSE: 0.10543835534864353\n",
      "Average R2: 0.8495341687496295\n"
     ]
    },
    {
     "name": "stderr",
     "output_type": "stream",
     "text": [
      "d:\\ML_Assignment\\A2_ Assignment\\ml_env2\\Lib\\site-packages\\mlflow\\pyfunc\\utils\\data_validation.py:166: UserWarning: \u001b[33mAdd type hints to the `predict` method to enable data validation and automatic signature inference during model logging. Check https://mlflow.org/docs/latest/model/python_model.html#type-hint-usage-in-pythonmodel for more details.\u001b[0m\n",
      "  color_warning(\n"
     ]
    },
    {
     "name": "stdout",
     "output_type": "stream",
     "text": [
      "🏃 View run polynomial-False-reg-Normal-momentum-0.6-method-sto-xavier-zero-lr-0.0001 at: http://localhost:5000/#/experiments/1/runs/275d8ab4fbfe4ba9bcf4de6d74d341fb\n",
      "🧪 View experiment at: http://localhost:5000/#/experiments/1\n",
      "===== polynomial-False-reg-Normal-momentum-0.6-method-sto-xavier-xavier-lr-0.01 =====\n",
      "Fold 0 - MSE : 0.11444808791185192\n",
      "Fold 0 - R2 : 0.8333072408548123\n",
      "🏃 View run Fold-0 at: http://localhost:5000/#/experiments/1/runs/971448f7234a4bf18317e90e2b867bbe\n",
      "🧪 View experiment at: http://localhost:5000/#/experiments/1\n",
      "Fold 1 - MSE : 0.10572730937800967\n",
      "Fold 1 - R2 : 0.8538212004144808\n",
      "🏃 View run Fold-1 at: http://localhost:5000/#/experiments/1/runs/01fa07037d8c43e8be60ee93f3c8daca\n",
      "🧪 View experiment at: http://localhost:5000/#/experiments/1\n",
      "Fold 2 - MSE : 0.09911986543684699\n",
      "Fold 2 - R2 : 0.8572627779285555\n",
      "🏃 View run Fold-2 at: http://localhost:5000/#/experiments/1/runs/254367223e08463585e551698acbfe7b\n",
      "🧪 View experiment at: http://localhost:5000/#/experiments/1\n",
      "Average MSE: 0.10643175424223618\n",
      "Average R2: 0.8481304063992828\n"
     ]
    },
    {
     "name": "stderr",
     "output_type": "stream",
     "text": [
      "d:\\ML_Assignment\\A2_ Assignment\\ml_env2\\Lib\\site-packages\\mlflow\\pyfunc\\utils\\data_validation.py:166: UserWarning: \u001b[33mAdd type hints to the `predict` method to enable data validation and automatic signature inference during model logging. Check https://mlflow.org/docs/latest/model/python_model.html#type-hint-usage-in-pythonmodel for more details.\u001b[0m\n",
      "  color_warning(\n"
     ]
    },
    {
     "name": "stdout",
     "output_type": "stream",
     "text": [
      "🏃 View run polynomial-False-reg-Normal-momentum-0.6-method-sto-xavier-xavier-lr-0.01 at: http://localhost:5000/#/experiments/1/runs/480b6290cd4f47b79ba4122958692ad4\n",
      "🧪 View experiment at: http://localhost:5000/#/experiments/1\n",
      "===== polynomial-False-reg-Normal-momentum-0.6-method-sto-xavier-xavier-lr-0.001 =====\n",
      "Fold 0 - MSE : 0.1151940935080496\n",
      "Fold 0 - R2 : 0.8322206894459\n",
      "🏃 View run Fold-0 at: http://localhost:5000/#/experiments/1/runs/43c8595d6f48436593642368bfc93351\n",
      "🧪 View experiment at: http://localhost:5000/#/experiments/1\n",
      "Fold 1 - MSE : 0.10469576413721447\n",
      "Fold 1 - R2 : 0.855247417026865\n",
      "🏃 View run Fold-1 at: http://localhost:5000/#/experiments/1/runs/b4405cb140c5428a99d5bcc19ba21877\n",
      "🧪 View experiment at: http://localhost:5000/#/experiments/1\n",
      "Fold 2 - MSE : 0.09700164131456263\n",
      "Fold 2 - R2 : 0.8603131193067148\n",
      "🏃 View run Fold-2 at: http://localhost:5000/#/experiments/1/runs/ec1bef2f141b434f8ae149002b82b813\n",
      "🧪 View experiment at: http://localhost:5000/#/experiments/1\n",
      "Average MSE: 0.10563049965327558\n",
      "Average R2: 0.84926040859316\n"
     ]
    },
    {
     "name": "stderr",
     "output_type": "stream",
     "text": [
      "d:\\ML_Assignment\\A2_ Assignment\\ml_env2\\Lib\\site-packages\\mlflow\\pyfunc\\utils\\data_validation.py:166: UserWarning: \u001b[33mAdd type hints to the `predict` method to enable data validation and automatic signature inference during model logging. Check https://mlflow.org/docs/latest/model/python_model.html#type-hint-usage-in-pythonmodel for more details.\u001b[0m\n",
      "  color_warning(\n"
     ]
    },
    {
     "name": "stdout",
     "output_type": "stream",
     "text": [
      "🏃 View run polynomial-False-reg-Normal-momentum-0.6-method-sto-xavier-xavier-lr-0.001 at: http://localhost:5000/#/experiments/1/runs/69fe942dadf84786bccd247ec2ee9194\n",
      "🧪 View experiment at: http://localhost:5000/#/experiments/1\n",
      "===== polynomial-False-reg-Normal-momentum-0.6-method-sto-xavier-xavier-lr-0.0001 =====\n",
      "Fold 0 - MSE : 0.11465803038276011\n",
      "Fold 0 - R2 : 0.8330014612618462\n",
      "🏃 View run Fold-0 at: http://localhost:5000/#/experiments/1/runs/a3bf7c141f0c4b7b829afd1245ec4391\n",
      "🧪 View experiment at: http://localhost:5000/#/experiments/1\n",
      "Fold 1 - MSE : 0.10435490421666406\n",
      "Fold 1 - R2 : 0.8557186906675733\n",
      "🏃 View run Fold-1 at: http://localhost:5000/#/experiments/1/runs/1014c48ae24a4d70b1aa36a5701cf62e\n",
      "🧪 View experiment at: http://localhost:5000/#/experiments/1\n",
      "Fold 2 - MSE : 0.097299895768754\n",
      "Fold 2 - R2 : 0.8598836190034801\n",
      "🏃 View run Fold-2 at: http://localhost:5000/#/experiments/1/runs/e3bc791d5a73447180aa52cacf48b442\n",
      "🧪 View experiment at: http://localhost:5000/#/experiments/1\n",
      "Average MSE: 0.10543761012272605\n",
      "Average R2: 0.8495345903109666\n"
     ]
    },
    {
     "name": "stderr",
     "output_type": "stream",
     "text": [
      "d:\\ML_Assignment\\A2_ Assignment\\ml_env2\\Lib\\site-packages\\mlflow\\pyfunc\\utils\\data_validation.py:166: UserWarning: \u001b[33mAdd type hints to the `predict` method to enable data validation and automatic signature inference during model logging. Check https://mlflow.org/docs/latest/model/python_model.html#type-hint-usage-in-pythonmodel for more details.\u001b[0m\n",
      "  color_warning(\n"
     ]
    },
    {
     "name": "stdout",
     "output_type": "stream",
     "text": [
      "🏃 View run polynomial-False-reg-Normal-momentum-0.6-method-sto-xavier-xavier-lr-0.0001 at: http://localhost:5000/#/experiments/1/runs/aa865eb567a0401592aa77fedefb829e\n",
      "🧪 View experiment at: http://localhost:5000/#/experiments/1\n",
      "===== polynomial-False-reg-Normal-momentum-0.6-method-mini-xavier-zero-lr-0.01 =====\n",
      "Fold 0 - MSE : 0.11466688369141709\n",
      "Fold 0 - R2 : 0.8329885664859304\n",
      "🏃 View run Fold-0 at: http://localhost:5000/#/experiments/1/runs/540d68d1eb73416283ab0995a1e62d6f\n",
      "🧪 View experiment at: http://localhost:5000/#/experiments/1\n",
      "Fold 1 - MSE : 0.10440187498389705\n",
      "Fold 1 - R2 : 0.8556537487863307\n",
      "🏃 View run Fold-1 at: http://localhost:5000/#/experiments/1/runs/036a4841c4be446c8763686304f4f2e4\n",
      "🧪 View experiment at: http://localhost:5000/#/experiments/1\n",
      "Fold 2 - MSE : 0.09724693393475653\n",
      "Fold 2 - R2 : 0.8599598865107784\n",
      "🏃 View run Fold-2 at: http://localhost:5000/#/experiments/1/runs/1874c4abeb80441a8af757833a66114e\n",
      "🧪 View experiment at: http://localhost:5000/#/experiments/1\n",
      "Average MSE: 0.10543856420335689\n",
      "Average R2: 0.8495340672610131\n"
     ]
    },
    {
     "name": "stderr",
     "output_type": "stream",
     "text": [
      "d:\\ML_Assignment\\A2_ Assignment\\ml_env2\\Lib\\site-packages\\mlflow\\pyfunc\\utils\\data_validation.py:166: UserWarning: \u001b[33mAdd type hints to the `predict` method to enable data validation and automatic signature inference during model logging. Check https://mlflow.org/docs/latest/model/python_model.html#type-hint-usage-in-pythonmodel for more details.\u001b[0m\n",
      "  color_warning(\n"
     ]
    },
    {
     "name": "stdout",
     "output_type": "stream",
     "text": [
      "🏃 View run polynomial-False-reg-Normal-momentum-0.6-method-mini-xavier-zero-lr-0.01 at: http://localhost:5000/#/experiments/1/runs/ccaf53e276d7472489d6cf15df896673\n",
      "🧪 View experiment at: http://localhost:5000/#/experiments/1\n",
      "===== polynomial-False-reg-Normal-momentum-0.6-method-mini-xavier-zero-lr-0.001 =====\n",
      "Fold 0 - MSE : 0.1148024782901816\n",
      "Fold 0 - R2 : 0.8327910739964915\n",
      "🏃 View run Fold-0 at: http://localhost:5000/#/experiments/1/runs/1580ba2e9de841f98a508494717aa294\n",
      "🧪 View experiment at: http://localhost:5000/#/experiments/1\n",
      "Fold 1 - MSE : 0.10456109197667324\n",
      "Fold 1 - R2 : 0.8554336150383468\n",
      "🏃 View run Fold-1 at: http://localhost:5000/#/experiments/1/runs/74cef05db12a4c4584f669a54bfb1950\n",
      "🧪 View experiment at: http://localhost:5000/#/experiments/1\n",
      "Fold 2 - MSE : 0.09732645807199865\n",
      "Fold 2 - R2 : 0.8598453680498469\n",
      "🏃 View run Fold-2 at: http://localhost:5000/#/experiments/1/runs/c9ce498439a745bd9468e2f610a7bd4b\n",
      "🧪 View experiment at: http://localhost:5000/#/experiments/1\n",
      "Average MSE: 0.10556334277961782\n",
      "Average R2: 0.8493566856948952\n"
     ]
    },
    {
     "name": "stderr",
     "output_type": "stream",
     "text": [
      "d:\\ML_Assignment\\A2_ Assignment\\ml_env2\\Lib\\site-packages\\mlflow\\pyfunc\\utils\\data_validation.py:166: UserWarning: \u001b[33mAdd type hints to the `predict` method to enable data validation and automatic signature inference during model logging. Check https://mlflow.org/docs/latest/model/python_model.html#type-hint-usage-in-pythonmodel for more details.\u001b[0m\n",
      "  color_warning(\n"
     ]
    },
    {
     "name": "stdout",
     "output_type": "stream",
     "text": [
      "🏃 View run polynomial-False-reg-Normal-momentum-0.6-method-mini-xavier-zero-lr-0.001 at: http://localhost:5000/#/experiments/1/runs/719b3c3f425743388fec11e0b7350eaf\n",
      "🧪 View experiment at: http://localhost:5000/#/experiments/1\n",
      "===== polynomial-False-reg-Normal-momentum-0.6-method-mini-xavier-zero-lr-0.0001 =====\n",
      "Fold 0 - MSE : 37.94146615687237\n",
      "Fold 0 - R2 : -54.26145342484016\n",
      "🏃 View run Fold-0 at: http://localhost:5000/#/experiments/1/runs/cf54d9149aeb4cf280d1a95e7c2ef997\n",
      "🧪 View experiment at: http://localhost:5000/#/experiments/1\n",
      "Fold 1 - MSE : 37.70556258009983\n",
      "Fold 1 - R2 : -51.13178986660242\n",
      "🏃 View run Fold-1 at: http://localhost:5000/#/experiments/1/runs/1392a37a8fa5402191c11d9eef0fca4e\n",
      "🧪 View experiment at: http://localhost:5000/#/experiments/1\n",
      "Fold 2 - MSE : 37.74560956061166\n",
      "Fold 2 - R2 : -53.35543551567643\n",
      "🏃 View run Fold-2 at: http://localhost:5000/#/experiments/1/runs/d5c4af08251744bcb9a1f64a475e31c1\n",
      "🧪 View experiment at: http://localhost:5000/#/experiments/1\n",
      "Average MSE: 37.79754609919462\n",
      "Average R2: -52.91622626903967\n"
     ]
    },
    {
     "name": "stderr",
     "output_type": "stream",
     "text": [
      "d:\\ML_Assignment\\A2_ Assignment\\ml_env2\\Lib\\site-packages\\mlflow\\pyfunc\\utils\\data_validation.py:166: UserWarning: \u001b[33mAdd type hints to the `predict` method to enable data validation and automatic signature inference during model logging. Check https://mlflow.org/docs/latest/model/python_model.html#type-hint-usage-in-pythonmodel for more details.\u001b[0m\n",
      "  color_warning(\n"
     ]
    },
    {
     "name": "stdout",
     "output_type": "stream",
     "text": [
      "🏃 View run polynomial-False-reg-Normal-momentum-0.6-method-mini-xavier-zero-lr-0.0001 at: http://localhost:5000/#/experiments/1/runs/e3102f7f64b240fd82733cbccc64a19b\n",
      "🧪 View experiment at: http://localhost:5000/#/experiments/1\n",
      "===== polynomial-False-reg-Normal-momentum-0.6-method-mini-xavier-xavier-lr-0.01 =====\n",
      "Fold 0 - MSE : 0.11466203929899312\n",
      "Fold 0 - R2 : 0.832995622306209\n",
      "🏃 View run Fold-0 at: http://localhost:5000/#/experiments/1/runs/0477dd0cbd7841c3a135527fb26e5c91\n",
      "🧪 View experiment at: http://localhost:5000/#/experiments/1\n",
      "Fold 1 - MSE : 0.10436620186661795\n",
      "Fold 1 - R2 : 0.8557030705130635\n",
      "🏃 View run Fold-1 at: http://localhost:5000/#/experiments/1/runs/39823025e78441ab9b8cf7784401a4bb\n",
      "🧪 View experiment at: http://localhost:5000/#/experiments/1\n",
      "Fold 2 - MSE : 0.09722534774067172\n",
      "Fold 2 - R2 : 0.8599909716354925\n",
      "🏃 View run Fold-2 at: http://localhost:5000/#/experiments/1/runs/1c8530fec1774aa791202fdfe15a74c1\n",
      "🧪 View experiment at: http://localhost:5000/#/experiments/1\n",
      "Average MSE: 0.10541786296876093\n",
      "Average R2: 0.8495632214849218\n"
     ]
    },
    {
     "name": "stderr",
     "output_type": "stream",
     "text": [
      "d:\\ML_Assignment\\A2_ Assignment\\ml_env2\\Lib\\site-packages\\mlflow\\pyfunc\\utils\\data_validation.py:166: UserWarning: \u001b[33mAdd type hints to the `predict` method to enable data validation and automatic signature inference during model logging. Check https://mlflow.org/docs/latest/model/python_model.html#type-hint-usage-in-pythonmodel for more details.\u001b[0m\n",
      "  color_warning(\n"
     ]
    },
    {
     "name": "stdout",
     "output_type": "stream",
     "text": [
      "🏃 View run polynomial-False-reg-Normal-momentum-0.6-method-mini-xavier-xavier-lr-0.01 at: http://localhost:5000/#/experiments/1/runs/a7050dca434846e6879b2e4e5f317298\n",
      "🧪 View experiment at: http://localhost:5000/#/experiments/1\n",
      "===== polynomial-False-reg-Normal-momentum-0.6-method-mini-xavier-xavier-lr-0.001 =====\n",
      "Fold 0 - MSE : 0.11707127102487559\n",
      "Fold 0 - R2 : 0.8294865948411387\n",
      "🏃 View run Fold-0 at: http://localhost:5000/#/experiments/1/runs/2d03ba828fc74c3493121804c5e889ab\n",
      "🧪 View experiment at: http://localhost:5000/#/experiments/1\n",
      "Fold 1 - MSE : 0.10440094014114433\n",
      "Fold 1 - R2 : 0.8556550413018804\n",
      "🏃 View run Fold-1 at: http://localhost:5000/#/experiments/1/runs/beafa9d909f347ceae6e2c89b161e122\n",
      "🧪 View experiment at: http://localhost:5000/#/experiments/1\n",
      "Fold 2 - MSE : 0.09740941415679315\n",
      "Fold 2 - R2 : 0.85972590742462\n",
      "🏃 View run Fold-2 at: http://localhost:5000/#/experiments/1/runs/2031f30cc4524d819c2fc9000e77cb21\n",
      "🧪 View experiment at: http://localhost:5000/#/experiments/1\n",
      "Average MSE: 0.10629387510760435\n",
      "Average R2: 0.8482891811892129\n"
     ]
    },
    {
     "name": "stderr",
     "output_type": "stream",
     "text": [
      "d:\\ML_Assignment\\A2_ Assignment\\ml_env2\\Lib\\site-packages\\mlflow\\pyfunc\\utils\\data_validation.py:166: UserWarning: \u001b[33mAdd type hints to the `predict` method to enable data validation and automatic signature inference during model logging. Check https://mlflow.org/docs/latest/model/python_model.html#type-hint-usage-in-pythonmodel for more details.\u001b[0m\n",
      "  color_warning(\n"
     ]
    },
    {
     "name": "stdout",
     "output_type": "stream",
     "text": [
      "🏃 View run polynomial-False-reg-Normal-momentum-0.6-method-mini-xavier-xavier-lr-0.001 at: http://localhost:5000/#/experiments/1/runs/1726bee49377438d99756fe032eb5714\n",
      "🧪 View experiment at: http://localhost:5000/#/experiments/1\n",
      "===== polynomial-False-reg-Normal-momentum-0.6-method-mini-xavier-xavier-lr-0.0001 =====\n",
      "Fold 0 - MSE : 36.46876536781464\n",
      "Fold 0 - R2 : -52.11647606084606\n",
      "🏃 View run Fold-0 at: http://localhost:5000/#/experiments/1/runs/d07a5105951440dfbf5addd75b73ba00\n",
      "🧪 View experiment at: http://localhost:5000/#/experiments/1\n",
      "Fold 1 - MSE : 38.37799022245098\n",
      "Fold 1 - R2 : -52.06148973454833\n",
      "🏃 View run Fold-1 at: http://localhost:5000/#/experiments/1/runs/380a969057194b608376c171b801633f\n",
      "🧪 View experiment at: http://localhost:5000/#/experiments/1\n",
      "Fold 2 - MSE : 36.1806168980211\n",
      "Fold 2 - R2 : -51.10177320251787\n",
      "🏃 View run Fold-2 at: http://localhost:5000/#/experiments/1/runs/5393ef95f64f493c8baa79ab100e65ad\n",
      "🧪 View experiment at: http://localhost:5000/#/experiments/1\n",
      "Average MSE: 37.00912416276224\n",
      "Average R2: -51.759912999304085\n"
     ]
    },
    {
     "name": "stderr",
     "output_type": "stream",
     "text": [
      "d:\\ML_Assignment\\A2_ Assignment\\ml_env2\\Lib\\site-packages\\mlflow\\pyfunc\\utils\\data_validation.py:166: UserWarning: \u001b[33mAdd type hints to the `predict` method to enable data validation and automatic signature inference during model logging. Check https://mlflow.org/docs/latest/model/python_model.html#type-hint-usage-in-pythonmodel for more details.\u001b[0m\n",
      "  color_warning(\n"
     ]
    },
    {
     "name": "stdout",
     "output_type": "stream",
     "text": [
      "🏃 View run polynomial-False-reg-Normal-momentum-0.6-method-mini-xavier-xavier-lr-0.0001 at: http://localhost:5000/#/experiments/1/runs/0c17962d2b5341f09793c3a96ee79ca9\n",
      "🧪 View experiment at: http://localhost:5000/#/experiments/1\n",
      "===== polynomial-False-reg-Normal-momentum-0.6-method-batch-xavier-zero-lr-0.01 =====\n",
      "Fold 0 - MSE : 22.8448790887214\n",
      "Fold 0 - R2 : -32.273390557386655\n",
      "🏃 View run Fold-0 at: http://localhost:5000/#/experiments/1/runs/1a23be67ad8246b281c07272c0fdcea6\n",
      "🧪 View experiment at: http://localhost:5000/#/experiments/1\n",
      "Fold 1 - MSE : 22.680542189648182\n",
      "Fold 1 - R2 : -30.358165177341302\n",
      "🏃 View run Fold-1 at: http://localhost:5000/#/experiments/1/runs/ca0701eccd38428f8b326d9fb04cb2ec\n",
      "🧪 View experiment at: http://localhost:5000/#/experiments/1\n",
      "Fold 2 - MSE : 22.69962582968975\n",
      "Fold 2 - R2 : -31.68851827745368\n",
      "🏃 View run Fold-2 at: http://localhost:5000/#/experiments/1/runs/2fb6666941fa4b55846e74853b9aeb3d\n",
      "🧪 View experiment at: http://localhost:5000/#/experiments/1\n",
      "Average MSE: 22.74168236935311\n",
      "Average R2: -31.44002467072721\n"
     ]
    },
    {
     "name": "stderr",
     "output_type": "stream",
     "text": [
      "d:\\ML_Assignment\\A2_ Assignment\\ml_env2\\Lib\\site-packages\\mlflow\\pyfunc\\utils\\data_validation.py:166: UserWarning: \u001b[33mAdd type hints to the `predict` method to enable data validation and automatic signature inference during model logging. Check https://mlflow.org/docs/latest/model/python_model.html#type-hint-usage-in-pythonmodel for more details.\u001b[0m\n",
      "  color_warning(\n"
     ]
    },
    {
     "name": "stdout",
     "output_type": "stream",
     "text": [
      "🏃 View run polynomial-False-reg-Normal-momentum-0.6-method-batch-xavier-zero-lr-0.01 at: http://localhost:5000/#/experiments/1/runs/379a7586823e4c14a40500674c106064\n",
      "🧪 View experiment at: http://localhost:5000/#/experiments/1\n",
      "===== polynomial-False-reg-Normal-momentum-0.6-method-batch-xavier-zero-lr-0.001 =====\n",
      "Fold 0 - MSE : 138.8992810404105\n",
      "Fold 0 - R2 : -201.30573373791745\n",
      "🏃 View run Fold-0 at: http://localhost:5000/#/experiments/1/runs/4bdf26c63dd54676ad25c69aaad55b34\n",
      "🧪 View experiment at: http://localhost:5000/#/experiments/1\n",
      "Fold 1 - MSE : 138.2995056023898\n",
      "Fold 1 - R2 : -190.2131863674662\n",
      "🏃 View run Fold-1 at: http://localhost:5000/#/experiments/1/runs/11aa0e8f7ee2473290e6485af314be4c\n",
      "🧪 View experiment at: http://localhost:5000/#/experiments/1\n",
      "Fold 2 - MSE : 138.43722212465755\n",
      "Fold 2 - R2 : -198.3560466438593\n",
      "🏃 View run Fold-2 at: http://localhost:5000/#/experiments/1/runs/9819d9d3234b4efba84bed3c8fde31e6\n",
      "🧪 View experiment at: http://localhost:5000/#/experiments/1\n",
      "Average MSE: 138.54533625581928\n",
      "Average R2: -196.6249889164143\n"
     ]
    },
    {
     "name": "stderr",
     "output_type": "stream",
     "text": [
      "d:\\ML_Assignment\\A2_ Assignment\\ml_env2\\Lib\\site-packages\\mlflow\\pyfunc\\utils\\data_validation.py:166: UserWarning: \u001b[33mAdd type hints to the `predict` method to enable data validation and automatic signature inference during model logging. Check https://mlflow.org/docs/latest/model/python_model.html#type-hint-usage-in-pythonmodel for more details.\u001b[0m\n",
      "  color_warning(\n"
     ]
    },
    {
     "name": "stdout",
     "output_type": "stream",
     "text": [
      "🏃 View run polynomial-False-reg-Normal-momentum-0.6-method-batch-xavier-zero-lr-0.001 at: http://localhost:5000/#/experiments/1/runs/82f3d0f1081d4d3481ad67f8c1016ddc\n",
      "🧪 View experiment at: http://localhost:5000/#/experiments/1\n",
      "===== polynomial-False-reg-Normal-momentum-0.6-method-batch-xavier-zero-lr-0.0001 =====\n",
      "Fold 0 - MSE : 166.32505113510373\n",
      "Fold 0 - R2 : -241.25115678672455\n",
      "🏃 View run Fold-0 at: http://localhost:5000/#/experiments/1/runs/d97430e60c334944a195820bb5374f86\n",
      "🧪 View experiment at: http://localhost:5000/#/experiments/1\n",
      "Fold 1 - MSE : 165.65472496194295\n",
      "Fold 1 - R2 : -228.03456999959084\n",
      "🏃 View run Fold-1 at: http://localhost:5000/#/experiments/1/runs/d7aca3b96c234446bb5e0fca541e5108\n",
      "🧪 View experiment at: http://localhost:5000/#/experiments/1\n",
      "Fold 2 - MSE : 165.81080899944354\n",
      "Fold 2 - R2 : -237.77528648461296\n",
      "🏃 View run Fold-2 at: http://localhost:5000/#/experiments/1/runs/290dd4311d734529865087314a83bfc1\n",
      "🧪 View experiment at: http://localhost:5000/#/experiments/1\n",
      "Average MSE: 165.9301950321634\n",
      "Average R2: -235.68700442364278\n"
     ]
    },
    {
     "name": "stderr",
     "output_type": "stream",
     "text": [
      "d:\\ML_Assignment\\A2_ Assignment\\ml_env2\\Lib\\site-packages\\mlflow\\pyfunc\\utils\\data_validation.py:166: UserWarning: \u001b[33mAdd type hints to the `predict` method to enable data validation and automatic signature inference during model logging. Check https://mlflow.org/docs/latest/model/python_model.html#type-hint-usage-in-pythonmodel for more details.\u001b[0m\n",
      "  color_warning(\n"
     ]
    },
    {
     "name": "stdout",
     "output_type": "stream",
     "text": [
      "🏃 View run polynomial-False-reg-Normal-momentum-0.6-method-batch-xavier-zero-lr-0.0001 at: http://localhost:5000/#/experiments/1/runs/698c1a2a18e248cd900f302ecb938bc2\n",
      "🧪 View experiment at: http://localhost:5000/#/experiments/1\n",
      "===== polynomial-False-reg-Normal-momentum-0.6-method-batch-xavier-xavier-lr-0.01 =====\n",
      "Fold 0 - MSE : 22.914611727081144\n",
      "Fold 0 - R2 : -32.37495560843069\n",
      "🏃 View run Fold-0 at: http://localhost:5000/#/experiments/1/runs/ce6c255f8bcd41ca99c6aabd1dc06bfa\n",
      "🧪 View experiment at: http://localhost:5000/#/experiments/1\n",
      "Fold 1 - MSE : 22.35151243211304\n",
      "Fold 1 - R2 : -29.90324794481779\n",
      "🏃 View run Fold-1 at: http://localhost:5000/#/experiments/1/runs/c0865ffb23d947188b033e372973e2cb\n",
      "🧪 View experiment at: http://localhost:5000/#/experiments/1\n",
      "Fold 2 - MSE : 23.107165872394415\n",
      "Fold 2 - R2 : -32.275394917390244\n",
      "🏃 View run Fold-2 at: http://localhost:5000/#/experiments/1/runs/7f09fee902294f789f88be799c2429cd\n",
      "🧪 View experiment at: http://localhost:5000/#/experiments/1\n",
      "Average MSE: 22.791096677196197\n",
      "Average R2: -31.517866156879574\n"
     ]
    },
    {
     "name": "stderr",
     "output_type": "stream",
     "text": [
      "d:\\ML_Assignment\\A2_ Assignment\\ml_env2\\Lib\\site-packages\\mlflow\\pyfunc\\utils\\data_validation.py:166: UserWarning: \u001b[33mAdd type hints to the `predict` method to enable data validation and automatic signature inference during model logging. Check https://mlflow.org/docs/latest/model/python_model.html#type-hint-usage-in-pythonmodel for more details.\u001b[0m\n",
      "  color_warning(\n"
     ]
    },
    {
     "name": "stdout",
     "output_type": "stream",
     "text": [
      "🏃 View run polynomial-False-reg-Normal-momentum-0.6-method-batch-xavier-xavier-lr-0.01 at: http://localhost:5000/#/experiments/1/runs/642fc08581574038b54c1a3104973ab9\n",
      "🧪 View experiment at: http://localhost:5000/#/experiments/1\n",
      "===== polynomial-False-reg-Normal-momentum-0.6-method-batch-xavier-xavier-lr-0.001 =====\n",
      "Fold 0 - MSE : 141.98390882854702\n",
      "Fold 0 - R2 : -205.7984703691875\n",
      "🏃 View run Fold-0 at: http://localhost:5000/#/experiments/1/runs/0a11f739f8cc4f06b2251bde0952a5a0\n",
      "🧪 View experiment at: http://localhost:5000/#/experiments/1\n",
      "Fold 1 - MSE : 130.24766760408284\n",
      "Fold 1 - R2 : -179.08069827168583\n",
      "🏃 View run Fold-1 at: http://localhost:5000/#/experiments/1/runs/b46a23fbeba0416d85df2a8d89f118dc\n",
      "🧪 View experiment at: http://localhost:5000/#/experiments/1\n",
      "Fold 2 - MSE : 135.54411145028638\n",
      "Fold 2 - R2 : -194.1898325455553\n",
      "🏃 View run Fold-2 at: http://localhost:5000/#/experiments/1/runs/db40d00401184ac8b379abf26bfe2e2d\n",
      "🧪 View experiment at: http://localhost:5000/#/experiments/1\n",
      "Average MSE: 135.9252292943054\n",
      "Average R2: -193.0230003954762\n"
     ]
    },
    {
     "name": "stderr",
     "output_type": "stream",
     "text": [
      "d:\\ML_Assignment\\A2_ Assignment\\ml_env2\\Lib\\site-packages\\mlflow\\pyfunc\\utils\\data_validation.py:166: UserWarning: \u001b[33mAdd type hints to the `predict` method to enable data validation and automatic signature inference during model logging. Check https://mlflow.org/docs/latest/model/python_model.html#type-hint-usage-in-pythonmodel for more details.\u001b[0m\n",
      "  color_warning(\n"
     ]
    },
    {
     "name": "stdout",
     "output_type": "stream",
     "text": [
      "🏃 View run polynomial-False-reg-Normal-momentum-0.6-method-batch-xavier-xavier-lr-0.001 at: http://localhost:5000/#/experiments/1/runs/ae53348e0942407e8bb227a407088f8d\n",
      "🧪 View experiment at: http://localhost:5000/#/experiments/1\n",
      "===== polynomial-False-reg-Normal-momentum-0.6-method-batch-xavier-xavier-lr-0.0001 =====\n",
      "Fold 0 - MSE : 170.9837635713668\n",
      "Fold 0 - R2 : -248.0365355923784\n",
      "🏃 View run Fold-0 at: http://localhost:5000/#/experiments/1/runs/30ac0c2e0e3c4f45afe74a9b1ff7b969\n",
      "🧪 View experiment at: http://localhost:5000/#/experiments/1\n",
      "Fold 1 - MSE : 166.22082320140083\n",
      "Fold 1 - R2 : -228.81725861219488\n",
      "🏃 View run Fold-1 at: http://localhost:5000/#/experiments/1/runs/964875f917a444188bb3f0a94637e827\n",
      "🧪 View experiment at: http://localhost:5000/#/experiments/1\n",
      "Fold 2 - MSE : 168.29965787470928\n",
      "Fold 2 - R2 : -241.35934476642544\n",
      "🏃 View run Fold-2 at: http://localhost:5000/#/experiments/1/runs/bbdb06c3e8f846479e110e7e994503d9\n",
      "🧪 View experiment at: http://localhost:5000/#/experiments/1\n",
      "Average MSE: 168.5014148824923\n",
      "Average R2: -239.4043796569996\n"
     ]
    },
    {
     "name": "stderr",
     "output_type": "stream",
     "text": [
      "d:\\ML_Assignment\\A2_ Assignment\\ml_env2\\Lib\\site-packages\\mlflow\\pyfunc\\utils\\data_validation.py:166: UserWarning: \u001b[33mAdd type hints to the `predict` method to enable data validation and automatic signature inference during model logging. Check https://mlflow.org/docs/latest/model/python_model.html#type-hint-usage-in-pythonmodel for more details.\u001b[0m\n",
      "  color_warning(\n"
     ]
    },
    {
     "name": "stdout",
     "output_type": "stream",
     "text": [
      "🏃 View run polynomial-False-reg-Normal-momentum-0.6-method-batch-xavier-xavier-lr-0.0001 at: http://localhost:5000/#/experiments/1/runs/a082c45319a841e5a8483173a007d703\n",
      "🧪 View experiment at: http://localhost:5000/#/experiments/1\n",
      "===== polynomial-False-reg-Ridge-momentum-0-method-sto-xavier-zero-lr-0.01 =====\n",
      "Fold 0 - MSE : 0.2105825594890967\n",
      "Fold 0 - R2 : 0.6932881229424364\n",
      "🏃 View run Fold-0 at: http://localhost:5000/#/experiments/1/runs/b277ab963fe841338ac19bb320aaa8a2\n",
      "🧪 View experiment at: http://localhost:5000/#/experiments/1\n",
      "Fold 1 - MSE : 0.17629844827431282\n",
      "Fold 1 - R2 : 0.7562493958359547\n",
      "🏃 View run Fold-1 at: http://localhost:5000/#/experiments/1/runs/48f543fe6bdd4896ac0e32b617aa87ad\n",
      "🧪 View experiment at: http://localhost:5000/#/experiments/1\n",
      "Fold 2 - MSE : 0.15089895794881938\n",
      "Fold 2 - R2 : 0.7826984734476519\n",
      "🏃 View run Fold-2 at: http://localhost:5000/#/experiments/1/runs/2d5422bb60a74db783ca151ac8e9d191\n",
      "🧪 View experiment at: http://localhost:5000/#/experiments/1\n",
      "Average MSE: 0.17925998857074296\n",
      "Average R2: 0.7440786640753476\n"
     ]
    },
    {
     "name": "stderr",
     "output_type": "stream",
     "text": [
      "d:\\ML_Assignment\\A2_ Assignment\\ml_env2\\Lib\\site-packages\\mlflow\\pyfunc\\utils\\data_validation.py:166: UserWarning: \u001b[33mAdd type hints to the `predict` method to enable data validation and automatic signature inference during model logging. Check https://mlflow.org/docs/latest/model/python_model.html#type-hint-usage-in-pythonmodel for more details.\u001b[0m\n",
      "  color_warning(\n"
     ]
    },
    {
     "name": "stdout",
     "output_type": "stream",
     "text": [
      "🏃 View run polynomial-False-reg-Ridge-momentum-0-method-sto-xavier-zero-lr-0.01 at: http://localhost:5000/#/experiments/1/runs/e34723a2b89a46fb8a04cb5d73e3ee54\n",
      "🧪 View experiment at: http://localhost:5000/#/experiments/1\n",
      "===== polynomial-False-reg-Ridge-momentum-0-method-sto-xavier-zero-lr-0.001 =====\n",
      "Fold 0 - MSE : 0.11489866771897239\n",
      "Fold 0 - R2 : 0.8326509748338207\n",
      "🏃 View run Fold-0 at: http://localhost:5000/#/experiments/1/runs/cebd7e91f5e34c79a70f4b0d13d7eca9\n",
      "🧪 View experiment at: http://localhost:5000/#/experiments/1\n",
      "Fold 1 - MSE : 0.10572979531849773\n",
      "Fold 1 - R2 : 0.8538177633479507\n",
      "🏃 View run Fold-1 at: http://localhost:5000/#/experiments/1/runs/c73d5d8b4ded431b8bf6ed5943fa4d1c\n",
      "🧪 View experiment at: http://localhost:5000/#/experiments/1\n",
      "Fold 2 - MSE : 0.09772725175290083\n",
      "Fold 2 - R2 : 0.8592682064850724\n",
      "🏃 View run Fold-2 at: http://localhost:5000/#/experiments/1/runs/387f06ced791431c9828be1df4051176\n",
      "🧪 View experiment at: http://localhost:5000/#/experiments/1\n",
      "Average MSE: 0.10611857159679032\n",
      "Average R2: 0.8485789815556145\n"
     ]
    },
    {
     "name": "stderr",
     "output_type": "stream",
     "text": [
      "d:\\ML_Assignment\\A2_ Assignment\\ml_env2\\Lib\\site-packages\\mlflow\\pyfunc\\utils\\data_validation.py:166: UserWarning: \u001b[33mAdd type hints to the `predict` method to enable data validation and automatic signature inference during model logging. Check https://mlflow.org/docs/latest/model/python_model.html#type-hint-usage-in-pythonmodel for more details.\u001b[0m\n",
      "  color_warning(\n"
     ]
    },
    {
     "name": "stdout",
     "output_type": "stream",
     "text": [
      "🏃 View run polynomial-False-reg-Ridge-momentum-0-method-sto-xavier-zero-lr-0.001 at: http://localhost:5000/#/experiments/1/runs/26e1daa1d6034dbfac300a6a75dd97ff\n",
      "🧪 View experiment at: http://localhost:5000/#/experiments/1\n",
      "===== polynomial-False-reg-Ridge-momentum-0-method-sto-xavier-zero-lr-0.0001 =====\n",
      "Fold 0 - MSE : 0.11466883773834985\n",
      "Fold 0 - R2 : 0.8329857204316131\n",
      "🏃 View run Fold-0 at: http://localhost:5000/#/experiments/1/runs/9b94c4e01f2c41cf85d8c335810d9bbe\n",
      "🧪 View experiment at: http://localhost:5000/#/experiments/1\n",
      "Fold 1 - MSE : 0.10438257328256972\n",
      "Fold 1 - R2 : 0.8556804353590487\n",
      "🏃 View run Fold-1 at: http://localhost:5000/#/experiments/1/runs/6c597a1d44d34aef825b46207d2b9ff7\n",
      "🧪 View experiment at: http://localhost:5000/#/experiments/1\n",
      "Fold 2 - MSE : 0.0972060161412668\n",
      "Fold 2 - R2 : 0.8600188100388751\n",
      "🏃 View run Fold-2 at: http://localhost:5000/#/experiments/1/runs/6fdcbe8db8b14ec0b4e8d3ac632a40e0\n",
      "🧪 View experiment at: http://localhost:5000/#/experiments/1\n",
      "Average MSE: 0.10541914238739546\n",
      "Average R2: 0.8495616552765123\n"
     ]
    },
    {
     "name": "stderr",
     "output_type": "stream",
     "text": [
      "d:\\ML_Assignment\\A2_ Assignment\\ml_env2\\Lib\\site-packages\\mlflow\\pyfunc\\utils\\data_validation.py:166: UserWarning: \u001b[33mAdd type hints to the `predict` method to enable data validation and automatic signature inference during model logging. Check https://mlflow.org/docs/latest/model/python_model.html#type-hint-usage-in-pythonmodel for more details.\u001b[0m\n",
      "  color_warning(\n"
     ]
    },
    {
     "name": "stdout",
     "output_type": "stream",
     "text": [
      "🏃 View run polynomial-False-reg-Ridge-momentum-0-method-sto-xavier-zero-lr-0.0001 at: http://localhost:5000/#/experiments/1/runs/eb98e3f07c91401e8c1c24d2416ca143\n",
      "🧪 View experiment at: http://localhost:5000/#/experiments/1\n",
      "===== polynomial-False-reg-Ridge-momentum-0-method-sto-xavier-xavier-lr-0.01 =====\n",
      "Fold 0 - MSE : 0.1955069731894896\n",
      "Fold 0 - R2 : 0.7152455983521471\n",
      "🏃 View run Fold-0 at: http://localhost:5000/#/experiments/1/runs/bf9997f8807944b1842a8099d32fb5da\n",
      "🧪 View experiment at: http://localhost:5000/#/experiments/1\n",
      "Fold 1 - MSE : 0.1572686209137541\n",
      "Fold 1 - R2 : 0.7825600750374887\n",
      "🏃 View run Fold-1 at: http://localhost:5000/#/experiments/1/runs/6614c88e06ab4a25a3db8eb318a67bd2\n",
      "🧪 View experiment at: http://localhost:5000/#/experiments/1\n",
      "Fold 2 - MSE : 0.1724569571605021\n",
      "Fold 2 - R2 : 0.7516539506637248\n",
      "🏃 View run Fold-2 at: http://localhost:5000/#/experiments/1/runs/dcc512f171cb43699d5e54c7e8defad2\n",
      "🧪 View experiment at: http://localhost:5000/#/experiments/1\n",
      "Average MSE: 0.17507751708791527\n",
      "Average R2: 0.7498198746844534\n"
     ]
    },
    {
     "name": "stderr",
     "output_type": "stream",
     "text": [
      "d:\\ML_Assignment\\A2_ Assignment\\ml_env2\\Lib\\site-packages\\mlflow\\pyfunc\\utils\\data_validation.py:166: UserWarning: \u001b[33mAdd type hints to the `predict` method to enable data validation and automatic signature inference during model logging. Check https://mlflow.org/docs/latest/model/python_model.html#type-hint-usage-in-pythonmodel for more details.\u001b[0m\n",
      "  color_warning(\n"
     ]
    },
    {
     "name": "stdout",
     "output_type": "stream",
     "text": [
      "🏃 View run polynomial-False-reg-Ridge-momentum-0-method-sto-xavier-xavier-lr-0.01 at: http://localhost:5000/#/experiments/1/runs/1d74deff8ba0425fb79d75c0d03189bd\n",
      "🧪 View experiment at: http://localhost:5000/#/experiments/1\n",
      "===== polynomial-False-reg-Ridge-momentum-0-method-sto-xavier-xavier-lr-0.001 =====\n",
      "Fold 0 - MSE : 0.11490580304063605\n",
      "Fold 0 - R2 : 0.8326405822927375\n",
      "🏃 View run Fold-0 at: http://localhost:5000/#/experiments/1/runs/5e4e76df20754974b40519942a8d7355\n",
      "🧪 View experiment at: http://localhost:5000/#/experiments/1\n",
      "Fold 1 - MSE : 0.10546414175840252\n",
      "Fold 1 - R2 : 0.8541850565170362\n",
      "🏃 View run Fold-1 at: http://localhost:5000/#/experiments/1/runs/e381f4f0a217447594b12b89332fd4ae\n",
      "🧪 View experiment at: http://localhost:5000/#/experiments/1\n",
      "Fold 2 - MSE : 0.09784184190780142\n",
      "Fold 2 - R2 : 0.8591031913257483\n",
      "🏃 View run Fold-2 at: http://localhost:5000/#/experiments/1/runs/64595bf0e9cc4d22a018c14f3de7313c\n",
      "🧪 View experiment at: http://localhost:5000/#/experiments/1\n",
      "Average MSE: 0.10607059556894666\n",
      "Average R2: 0.8486429433785073\n"
     ]
    },
    {
     "name": "stderr",
     "output_type": "stream",
     "text": [
      "d:\\ML_Assignment\\A2_ Assignment\\ml_env2\\Lib\\site-packages\\mlflow\\pyfunc\\utils\\data_validation.py:166: UserWarning: \u001b[33mAdd type hints to the `predict` method to enable data validation and automatic signature inference during model logging. Check https://mlflow.org/docs/latest/model/python_model.html#type-hint-usage-in-pythonmodel for more details.\u001b[0m\n",
      "  color_warning(\n"
     ]
    },
    {
     "name": "stdout",
     "output_type": "stream",
     "text": [
      "🏃 View run polynomial-False-reg-Ridge-momentum-0-method-sto-xavier-xavier-lr-0.001 at: http://localhost:5000/#/experiments/1/runs/d7dc43b8fab1412a9b835f18053fb944\n",
      "🧪 View experiment at: http://localhost:5000/#/experiments/1\n",
      "===== polynomial-False-reg-Ridge-momentum-0-method-sto-xavier-xavier-lr-0.0001 =====\n",
      "Fold 0 - MSE : 0.11472682201469722\n",
      "Fold 0 - R2 : 0.8329012667794138\n",
      "🏃 View run Fold-0 at: http://localhost:5000/#/experiments/1/runs/372afbbb1d074c47b6e30715508276c8\n",
      "🧪 View experiment at: http://localhost:5000/#/experiments/1\n",
      "Fold 1 - MSE : 0.1043708307111461\n",
      "Fold 1 - R2 : 0.8556966706629153\n",
      "🏃 View run Fold-1 at: http://localhost:5000/#/experiments/1/runs/aaa4097719554870816f742e769b8cb0\n",
      "🧪 View experiment at: http://localhost:5000/#/experiments/1\n",
      "Fold 2 - MSE : 0.0972678890053277\n",
      "Fold 2 - R2 : 0.8599297102333141\n",
      "🏃 View run Fold-2 at: http://localhost:5000/#/experiments/1/runs/a067fedd40c54e6bbe99b7e6c6e1c76b\n",
      "🧪 View experiment at: http://localhost:5000/#/experiments/1\n",
      "Average MSE: 0.10545518057705701\n",
      "Average R2: 0.8495092158918811\n"
     ]
    },
    {
     "name": "stderr",
     "output_type": "stream",
     "text": [
      "d:\\ML_Assignment\\A2_ Assignment\\ml_env2\\Lib\\site-packages\\mlflow\\pyfunc\\utils\\data_validation.py:166: UserWarning: \u001b[33mAdd type hints to the `predict` method to enable data validation and automatic signature inference during model logging. Check https://mlflow.org/docs/latest/model/python_model.html#type-hint-usage-in-pythonmodel for more details.\u001b[0m\n",
      "  color_warning(\n"
     ]
    },
    {
     "name": "stdout",
     "output_type": "stream",
     "text": [
      "🏃 View run polynomial-False-reg-Ridge-momentum-0-method-sto-xavier-xavier-lr-0.0001 at: http://localhost:5000/#/experiments/1/runs/91f9cee5f43a45ff80881f1947abd3f1\n",
      "🧪 View experiment at: http://localhost:5000/#/experiments/1\n",
      "===== polynomial-False-reg-Ridge-momentum-0-method-mini-xavier-zero-lr-0.01 =====\n",
      "Fold 0 - MSE : 0.1844654114071358\n",
      "Fold 0 - R2 : 0.7313275481020651\n",
      "🏃 View run Fold-0 at: http://localhost:5000/#/experiments/1/runs/54963eba516c424c85fa962f46c5761f\n",
      "🧪 View experiment at: http://localhost:5000/#/experiments/1\n",
      "Fold 1 - MSE : 0.16854124861709385\n",
      "Fold 1 - R2 : 0.7669745163436872\n",
      "🏃 View run Fold-1 at: http://localhost:5000/#/experiments/1/runs/c87df054fbca47d19c81c2d31a913717\n",
      "🧪 View experiment at: http://localhost:5000/#/experiments/1\n",
      "Fold 2 - MSE : 0.1589931744138263\n",
      "Fold 2 - R2 : 0.7710424248042429\n",
      "🏃 View run Fold-2 at: http://localhost:5000/#/experiments/1/runs/1c83788903d445c088a216a33304bab5\n",
      "🧪 View experiment at: http://localhost:5000/#/experiments/1\n",
      "Average MSE: 0.170666611479352\n",
      "Average R2: 0.7564481630833318\n"
     ]
    },
    {
     "name": "stderr",
     "output_type": "stream",
     "text": [
      "d:\\ML_Assignment\\A2_ Assignment\\ml_env2\\Lib\\site-packages\\mlflow\\pyfunc\\utils\\data_validation.py:166: UserWarning: \u001b[33mAdd type hints to the `predict` method to enable data validation and automatic signature inference during model logging. Check https://mlflow.org/docs/latest/model/python_model.html#type-hint-usage-in-pythonmodel for more details.\u001b[0m\n",
      "  color_warning(\n"
     ]
    },
    {
     "name": "stdout",
     "output_type": "stream",
     "text": [
      "🏃 View run polynomial-False-reg-Ridge-momentum-0-method-mini-xavier-zero-lr-0.01 at: http://localhost:5000/#/experiments/1/runs/391f221ac09146e8a9e95cb7cb253616\n",
      "🧪 View experiment at: http://localhost:5000/#/experiments/1\n",
      "===== polynomial-False-reg-Ridge-momentum-0-method-mini-xavier-zero-lr-0.001 =====\n",
      "Fold 0 - MSE : 0.11627706214506148\n",
      "Fold 0 - R2 : 0.8306433539616213\n",
      "🏃 View run Fold-0 at: http://localhost:5000/#/experiments/1/runs/69d68e3392f14c399b5f195b246127d1\n",
      "🧪 View experiment at: http://localhost:5000/#/experiments/1\n",
      "Fold 1 - MSE : 0.10549545406373749\n",
      "Fold 1 - R2 : 0.8541417640580391\n",
      "🏃 View run Fold-1 at: http://localhost:5000/#/experiments/1/runs/49b0176f5e8e46cfa2acba85bc46eb13\n",
      "🧪 View experiment at: http://localhost:5000/#/experiments/1\n",
      "Fold 2 - MSE : 0.09806941233801007\n",
      "Fold 2 - R2 : 0.8587754793086826\n",
      "🏃 View run Fold-2 at: http://localhost:5000/#/experiments/1/runs/bef66da09f1a4126aa72babeaa222e10\n",
      "🧪 View experiment at: http://localhost:5000/#/experiments/1\n",
      "Average MSE: 0.10661397618226968\n",
      "Average R2: 0.847853532442781\n"
     ]
    },
    {
     "name": "stderr",
     "output_type": "stream",
     "text": [
      "d:\\ML_Assignment\\A2_ Assignment\\ml_env2\\Lib\\site-packages\\mlflow\\pyfunc\\utils\\data_validation.py:166: UserWarning: \u001b[33mAdd type hints to the `predict` method to enable data validation and automatic signature inference during model logging. Check https://mlflow.org/docs/latest/model/python_model.html#type-hint-usage-in-pythonmodel for more details.\u001b[0m\n",
      "  color_warning(\n"
     ]
    },
    {
     "name": "stdout",
     "output_type": "stream",
     "text": [
      "🏃 View run polynomial-False-reg-Ridge-momentum-0-method-mini-xavier-zero-lr-0.001 at: http://localhost:5000/#/experiments/1/runs/d204531e4c3b4ba5b809dda66939775b\n",
      "🧪 View experiment at: http://localhost:5000/#/experiments/1\n",
      "===== polynomial-False-reg-Ridge-momentum-0-method-mini-xavier-zero-lr-0.0001 =====\n",
      "Fold 0 - MSE : 37.94707902717166\n",
      "Fold 0 - R2 : -54.26962852722923\n",
      "🏃 View run Fold-0 at: http://localhost:5000/#/experiments/1/runs/56e68b915b8b4a23b46acf2c85cfa968\n",
      "🧪 View experiment at: http://localhost:5000/#/experiments/1\n",
      "Fold 1 - MSE : 37.71088746757895\n",
      "Fold 1 - R2 : -51.13915206719378\n",
      "🏃 View run Fold-1 at: http://localhost:5000/#/experiments/1/runs/490feea2b6b1423c886359ce515cb499\n",
      "🧪 View experiment at: http://localhost:5000/#/experiments/1\n",
      "Fold 2 - MSE : 37.751030701775505\n",
      "Fold 2 - R2 : -53.36324221140563\n",
      "🏃 View run Fold-2 at: http://localhost:5000/#/experiments/1/runs/0c2e33fae8da4b84a09028dd059d323d\n",
      "🧪 View experiment at: http://localhost:5000/#/experiments/1\n",
      "Average MSE: 37.80299906550871\n",
      "Average R2: -52.92400760194288\n"
     ]
    },
    {
     "name": "stderr",
     "output_type": "stream",
     "text": [
      "d:\\ML_Assignment\\A2_ Assignment\\ml_env2\\Lib\\site-packages\\mlflow\\pyfunc\\utils\\data_validation.py:166: UserWarning: \u001b[33mAdd type hints to the `predict` method to enable data validation and automatic signature inference during model logging. Check https://mlflow.org/docs/latest/model/python_model.html#type-hint-usage-in-pythonmodel for more details.\u001b[0m\n",
      "  color_warning(\n"
     ]
    },
    {
     "name": "stdout",
     "output_type": "stream",
     "text": [
      "🏃 View run polynomial-False-reg-Ridge-momentum-0-method-mini-xavier-zero-lr-0.0001 at: http://localhost:5000/#/experiments/1/runs/acaaefcd23024153a7577ce46fd6acf8\n",
      "🧪 View experiment at: http://localhost:5000/#/experiments/1\n",
      "===== polynomial-False-reg-Ridge-momentum-0-method-mini-xavier-xavier-lr-0.01 =====\n",
      "Fold 0 - MSE : 0.18357589285017747\n",
      "Fold 0 - R2 : 0.7326231250337167\n",
      "🏃 View run Fold-0 at: http://localhost:5000/#/experiments/1/runs/758b899c0c5c42dbbe3f3dd7440c1158\n",
      "🧪 View experiment at: http://localhost:5000/#/experiments/1\n",
      "Fold 1 - MSE : 0.16738384769941334\n",
      "Fold 1 - R2 : 0.7685747412787682\n",
      "🏃 View run Fold-1 at: http://localhost:5000/#/experiments/1/runs/47d26aa9e67d46abb1ac71e7aa83ff6f\n",
      "🧪 View experiment at: http://localhost:5000/#/experiments/1\n",
      "Fold 2 - MSE : 0.1596547210870568\n",
      "Fold 2 - R2 : 0.7700897667876954\n",
      "🏃 View run Fold-2 at: http://localhost:5000/#/experiments/1/runs/2f7a84bdbdc145358f093cb95e0644af\n",
      "🧪 View experiment at: http://localhost:5000/#/experiments/1\n",
      "Average MSE: 0.1702048205455492\n",
      "Average R2: 0.7570958777000601\n"
     ]
    },
    {
     "name": "stderr",
     "output_type": "stream",
     "text": [
      "d:\\ML_Assignment\\A2_ Assignment\\ml_env2\\Lib\\site-packages\\mlflow\\pyfunc\\utils\\data_validation.py:166: UserWarning: \u001b[33mAdd type hints to the `predict` method to enable data validation and automatic signature inference during model logging. Check https://mlflow.org/docs/latest/model/python_model.html#type-hint-usage-in-pythonmodel for more details.\u001b[0m\n",
      "  color_warning(\n"
     ]
    },
    {
     "name": "stdout",
     "output_type": "stream",
     "text": [
      "🏃 View run polynomial-False-reg-Ridge-momentum-0-method-mini-xavier-xavier-lr-0.01 at: http://localhost:5000/#/experiments/1/runs/da8e6dc4da2f41498076169dd3fc0084\n",
      "🧪 View experiment at: http://localhost:5000/#/experiments/1\n",
      "===== polynomial-False-reg-Ridge-momentum-0-method-mini-xavier-xavier-lr-0.001 =====\n",
      "Fold 0 - MSE : 0.11704314303961258\n",
      "Fold 0 - R2 : 0.8295275630351753\n",
      "🏃 View run Fold-0 at: http://localhost:5000/#/experiments/1/runs/d009991adb1240cb91019dad8135762c\n",
      "🧪 View experiment at: http://localhost:5000/#/experiments/1\n",
      "Fold 1 - MSE : 0.10557480618860642\n",
      "Fold 1 - R2 : 0.854032051643847\n",
      "🏃 View run Fold-1 at: http://localhost:5000/#/experiments/1/runs/9bddb9dccda3433daa36b0ffd5c19b02\n",
      "🧪 View experiment at: http://localhost:5000/#/experiments/1\n",
      "Fold 2 - MSE : 0.09819387920344415\n",
      "Fold 2 - R2 : 0.8585962412262488\n",
      "🏃 View run Fold-2 at: http://localhost:5000/#/experiments/1/runs/57cff003929543f69d399bd5e27b9cd2\n",
      "🧪 View experiment at: http://localhost:5000/#/experiments/1\n",
      "Average MSE: 0.1069372761438877\n",
      "Average R2: 0.8473852853017569\n"
     ]
    },
    {
     "name": "stderr",
     "output_type": "stream",
     "text": [
      "d:\\ML_Assignment\\A2_ Assignment\\ml_env2\\Lib\\site-packages\\mlflow\\pyfunc\\utils\\data_validation.py:166: UserWarning: \u001b[33mAdd type hints to the `predict` method to enable data validation and automatic signature inference during model logging. Check https://mlflow.org/docs/latest/model/python_model.html#type-hint-usage-in-pythonmodel for more details.\u001b[0m\n",
      "  color_warning(\n"
     ]
    },
    {
     "name": "stdout",
     "output_type": "stream",
     "text": [
      "🏃 View run polynomial-False-reg-Ridge-momentum-0-method-mini-xavier-xavier-lr-0.001 at: http://localhost:5000/#/experiments/1/runs/0044be07ab604ca193db7fc7cf20d811\n",
      "🧪 View experiment at: http://localhost:5000/#/experiments/1\n",
      "===== polynomial-False-reg-Ridge-momentum-0-method-mini-xavier-xavier-lr-0.0001 =====\n",
      "Fold 0 - MSE : 39.08715617943546\n",
      "Fold 0 - R2 : -55.93014212441236\n",
      "🏃 View run Fold-0 at: http://localhost:5000/#/experiments/1/runs/789c42a755bf48918b8dd8f44ae35c7a\n",
      "🧪 View experiment at: http://localhost:5000/#/experiments/1\n",
      "Fold 1 - MSE : 39.92077460470353\n",
      "Fold 1 - R2 : -54.19454665563811\n",
      "🏃 View run Fold-1 at: http://localhost:5000/#/experiments/1/runs/a08b2a53b4da4c95a7cfb8e468662493\n",
      "🧪 View experiment at: http://localhost:5000/#/experiments/1\n",
      "Fold 2 - MSE : 39.25606308294915\n",
      "Fold 2 - R2 : -55.53055892707621\n",
      "🏃 View run Fold-2 at: http://localhost:5000/#/experiments/1/runs/c124555716fe48d69e7b697b807fb022\n",
      "🧪 View experiment at: http://localhost:5000/#/experiments/1\n",
      "Average MSE: 39.42133128902938\n",
      "Average R2: -55.21841590237556\n"
     ]
    },
    {
     "name": "stderr",
     "output_type": "stream",
     "text": [
      "d:\\ML_Assignment\\A2_ Assignment\\ml_env2\\Lib\\site-packages\\mlflow\\pyfunc\\utils\\data_validation.py:166: UserWarning: \u001b[33mAdd type hints to the `predict` method to enable data validation and automatic signature inference during model logging. Check https://mlflow.org/docs/latest/model/python_model.html#type-hint-usage-in-pythonmodel for more details.\u001b[0m\n",
      "  color_warning(\n"
     ]
    },
    {
     "name": "stdout",
     "output_type": "stream",
     "text": [
      "🏃 View run polynomial-False-reg-Ridge-momentum-0-method-mini-xavier-xavier-lr-0.0001 at: http://localhost:5000/#/experiments/1/runs/ecec0de2ed964404a7068d41f6b270fb\n",
      "🧪 View experiment at: http://localhost:5000/#/experiments/1\n",
      "===== polynomial-False-reg-Ridge-momentum-0-method-batch-xavier-zero-lr-0.01 =====\n",
      "Fold 0 - MSE : 23.501199019638218\n",
      "Fold 0 - R2 : -33.22931548512128\n",
      "🏃 View run Fold-0 at: http://localhost:5000/#/experiments/1/runs/c732378bfaa94c8d95893ff343af5eb9\n",
      "🧪 View experiment at: http://localhost:5000/#/experiments/1\n",
      "Fold 1 - MSE : 23.33348183483684\n",
      "Fold 1 - R2 : -31.260920899557043\n",
      "🏃 View run Fold-1 at: http://localhost:5000/#/experiments/1/runs/b6ae357ab1fd4c48a5420caa4a526217\n",
      "🧪 View experiment at: http://localhost:5000/#/experiments/1\n",
      "Fold 2 - MSE : 23.353305919013675\n",
      "Fold 2 - R2 : -32.62984804684242\n",
      "🏃 View run Fold-2 at: http://localhost:5000/#/experiments/1/runs/85a936ada48a4ef394efecd9c943bf5b\n",
      "🧪 View experiment at: http://localhost:5000/#/experiments/1\n",
      "Average MSE: 23.39599559116291\n",
      "Average R2: -32.37336147717358\n"
     ]
    },
    {
     "name": "stderr",
     "output_type": "stream",
     "text": [
      "d:\\ML_Assignment\\A2_ Assignment\\ml_env2\\Lib\\site-packages\\mlflow\\pyfunc\\utils\\data_validation.py:166: UserWarning: \u001b[33mAdd type hints to the `predict` method to enable data validation and automatic signature inference during model logging. Check https://mlflow.org/docs/latest/model/python_model.html#type-hint-usage-in-pythonmodel for more details.\u001b[0m\n",
      "  color_warning(\n"
     ]
    },
    {
     "name": "stdout",
     "output_type": "stream",
     "text": [
      "🏃 View run polynomial-False-reg-Ridge-momentum-0-method-batch-xavier-zero-lr-0.01 at: http://localhost:5000/#/experiments/1/runs/047410ae9e7a40d3930bbb565bc36ffc\n",
      "🧪 View experiment at: http://localhost:5000/#/experiments/1\n",
      "===== polynomial-False-reg-Ridge-momentum-0-method-batch-xavier-zero-lr-0.001 =====\n",
      "Fold 0 - MSE : 138.90213005729805\n",
      "Fold 0 - R2 : -201.3098833090855\n",
      "🏃 View run Fold-0 at: http://localhost:5000/#/experiments/1/runs/894d89055f264df0aa0156ca38b39ef1\n",
      "🧪 View experiment at: http://localhost:5000/#/experiments/1\n",
      "Fold 1 - MSE : 138.30234678782517\n",
      "Fold 1 - R2 : -190.2171145964052\n",
      "🏃 View run Fold-1 at: http://localhost:5000/#/experiments/1/runs/ae2e6543b3a64ee18c89cfb23d34568c\n",
      "🧪 View experiment at: http://localhost:5000/#/experiments/1\n",
      "Fold 2 - MSE : 138.44006525803528\n",
      "Fold 2 - R2 : -198.36014088832306\n",
      "🏃 View run Fold-2 at: http://localhost:5000/#/experiments/1/runs/8a48f91eaa234550afba65ea6465e083\n",
      "🧪 View experiment at: http://localhost:5000/#/experiments/1\n",
      "Average MSE: 138.54818070105284\n",
      "Average R2: -196.62904626460457\n"
     ]
    },
    {
     "name": "stderr",
     "output_type": "stream",
     "text": [
      "d:\\ML_Assignment\\A2_ Assignment\\ml_env2\\Lib\\site-packages\\mlflow\\pyfunc\\utils\\data_validation.py:166: UserWarning: \u001b[33mAdd type hints to the `predict` method to enable data validation and automatic signature inference during model logging. Check https://mlflow.org/docs/latest/model/python_model.html#type-hint-usage-in-pythonmodel for more details.\u001b[0m\n",
      "  color_warning(\n"
     ]
    },
    {
     "name": "stdout",
     "output_type": "stream",
     "text": [
      "🏃 View run polynomial-False-reg-Ridge-momentum-0-method-batch-xavier-zero-lr-0.001 at: http://localhost:5000/#/experiments/1/runs/7ed2cb8623f64ea1a342da13cfbccd4e\n",
      "🧪 View experiment at: http://localhost:5000/#/experiments/1\n",
      "===== polynomial-False-reg-Ridge-momentum-0-method-batch-xavier-zero-lr-0.0001 =====\n",
      "Fold 0 - MSE : 166.32505444253638\n",
      "Fold 0 - R2 : -241.25116160397477\n",
      "🏃 View run Fold-0 at: http://localhost:5000/#/experiments/1/runs/b355a8e92bc541a2a00b426af450dbf2\n",
      "🧪 View experiment at: http://localhost:5000/#/experiments/1\n",
      "Fold 1 - MSE : 165.6547282616029\n",
      "Fold 1 - R2 : -228.03457456170761\n",
      "🏃 View run Fold-1 at: http://localhost:5000/#/experiments/1/runs/40cbd467ec0445498e71415036c82ed2\n",
      "🧪 View experiment at: http://localhost:5000/#/experiments/1\n",
      "Fold 2 - MSE : 165.8108123011786\n",
      "Fold 2 - R2 : -237.7752912392652\n",
      "🏃 View run Fold-2 at: http://localhost:5000/#/experiments/1/runs/39757fd1cf6f4b9bb59d583095ec1897\n",
      "🧪 View experiment at: http://localhost:5000/#/experiments/1\n",
      "Average MSE: 165.93019833510598\n",
      "Average R2: -235.6870091349825\n"
     ]
    },
    {
     "name": "stderr",
     "output_type": "stream",
     "text": [
      "d:\\ML_Assignment\\A2_ Assignment\\ml_env2\\Lib\\site-packages\\mlflow\\pyfunc\\utils\\data_validation.py:166: UserWarning: \u001b[33mAdd type hints to the `predict` method to enable data validation and automatic signature inference during model logging. Check https://mlflow.org/docs/latest/model/python_model.html#type-hint-usage-in-pythonmodel for more details.\u001b[0m\n",
      "  color_warning(\n"
     ]
    },
    {
     "name": "stdout",
     "output_type": "stream",
     "text": [
      "🏃 View run polynomial-False-reg-Ridge-momentum-0-method-batch-xavier-zero-lr-0.0001 at: http://localhost:5000/#/experiments/1/runs/08bc01c4880640eb9055a47044436bf4\n",
      "🧪 View experiment at: http://localhost:5000/#/experiments/1\n",
      "===== polynomial-False-reg-Ridge-momentum-0-method-batch-xavier-xavier-lr-0.01 =====\n",
      "Fold 0 - MSE : 23.971304114853016\n",
      "Fold 0 - R2 : -33.91401993793767\n",
      "🏃 View run Fold-0 at: http://localhost:5000/#/experiments/1/runs/263f369ad7184103bff199cca8c0a54b\n",
      "🧪 View experiment at: http://localhost:5000/#/experiments/1\n",
      "Fold 1 - MSE : 22.821565670912392\n",
      "Fold 1 - R2 : -30.553144538169157\n",
      "🏃 View run Fold-1 at: http://localhost:5000/#/experiments/1/runs/51c1519ded6f455e9d4a8472c6b96287\n",
      "🧪 View experiment at: http://localhost:5000/#/experiments/1\n",
      "Fold 2 - MSE : 23.04301078806659\n",
      "Fold 2 - R2 : -32.18300860836577\n",
      "🏃 View run Fold-2 at: http://localhost:5000/#/experiments/1/runs/25bb2a9a549f48578449d3de07249edf\n",
      "🧪 View experiment at: http://localhost:5000/#/experiments/1\n",
      "Average MSE: 23.278626857943994\n",
      "Average R2: -32.21672436149087\n"
     ]
    },
    {
     "name": "stderr",
     "output_type": "stream",
     "text": [
      "d:\\ML_Assignment\\A2_ Assignment\\ml_env2\\Lib\\site-packages\\mlflow\\pyfunc\\utils\\data_validation.py:166: UserWarning: \u001b[33mAdd type hints to the `predict` method to enable data validation and automatic signature inference during model logging. Check https://mlflow.org/docs/latest/model/python_model.html#type-hint-usage-in-pythonmodel for more details.\u001b[0m\n",
      "  color_warning(\n"
     ]
    },
    {
     "name": "stdout",
     "output_type": "stream",
     "text": [
      "🏃 View run polynomial-False-reg-Ridge-momentum-0-method-batch-xavier-xavier-lr-0.01 at: http://localhost:5000/#/experiments/1/runs/ae335832406c4f62affdb5da0799d013\n",
      "🧪 View experiment at: http://localhost:5000/#/experiments/1\n",
      "===== polynomial-False-reg-Ridge-momentum-0-method-batch-xavier-xavier-lr-0.001 =====\n",
      "Fold 0 - MSE : 141.9734518617125\n",
      "Fold 0 - R2 : -205.78323987747953\n",
      "🏃 View run Fold-0 at: http://localhost:5000/#/experiments/1/runs/0f5ad5270b274a6e92c1203aa9ed4be6\n",
      "🧪 View experiment at: http://localhost:5000/#/experiments/1\n",
      "Fold 1 - MSE : 140.54017811859032\n",
      "Fold 1 - R2 : -193.3111448855573\n",
      "🏃 View run Fold-1 at: http://localhost:5000/#/experiments/1/runs/8b9f5667a92a41f683768054b71cea76\n",
      "🧪 View experiment at: http://localhost:5000/#/experiments/1\n",
      "Fold 2 - MSE : 146.84421416651216\n",
      "Fold 2 - R2 : -210.46250668335182\n",
      "🏃 View run Fold-2 at: http://localhost:5000/#/experiments/1/runs/ec4eaa3f655c49e4ae48b8d9bfb2aaea\n",
      "🧪 View experiment at: http://localhost:5000/#/experiments/1\n",
      "Average MSE: 143.11928138227165\n",
      "Average R2: -203.18563048212954\n"
     ]
    },
    {
     "name": "stderr",
     "output_type": "stream",
     "text": [
      "d:\\ML_Assignment\\A2_ Assignment\\ml_env2\\Lib\\site-packages\\mlflow\\pyfunc\\utils\\data_validation.py:166: UserWarning: \u001b[33mAdd type hints to the `predict` method to enable data validation and automatic signature inference during model logging. Check https://mlflow.org/docs/latest/model/python_model.html#type-hint-usage-in-pythonmodel for more details.\u001b[0m\n",
      "  color_warning(\n"
     ]
    },
    {
     "name": "stdout",
     "output_type": "stream",
     "text": [
      "🏃 View run polynomial-False-reg-Ridge-momentum-0-method-batch-xavier-xavier-lr-0.001 at: http://localhost:5000/#/experiments/1/runs/c8395a459b794fec89af581409b85fea\n",
      "🧪 View experiment at: http://localhost:5000/#/experiments/1\n",
      "===== polynomial-False-reg-Ridge-momentum-0-method-batch-xavier-xavier-lr-0.0001 =====\n",
      "Fold 0 - MSE : 160.79562921502188\n",
      "Fold 0 - R2 : -233.19759631967477\n",
      "🏃 View run Fold-0 at: http://localhost:5000/#/experiments/1/runs/21dc59d21e77457393fa06359e5c3fcd\n",
      "🧪 View experiment at: http://localhost:5000/#/experiments/1\n",
      "Fold 1 - MSE : 167.81860642550092\n",
      "Fold 1 - R2 : -231.02635704731887\n",
      "🏃 View run Fold-1 at: http://localhost:5000/#/experiments/1/runs/6bfa5a6e565d4a49b3071ad26939dd79\n",
      "🧪 View experiment at: http://localhost:5000/#/experiments/1\n",
      "Fold 2 - MSE : 160.04153977189287\n",
      "Fold 2 - R2 : -229.46727013195232\n",
      "🏃 View run Fold-2 at: http://localhost:5000/#/experiments/1/runs/3f2490c5fd424b849822eaa2e0e144c0\n",
      "🧪 View experiment at: http://localhost:5000/#/experiments/1\n",
      "Average MSE: 162.8852584708052\n",
      "Average R2: -231.230407832982\n"
     ]
    },
    {
     "name": "stderr",
     "output_type": "stream",
     "text": [
      "d:\\ML_Assignment\\A2_ Assignment\\ml_env2\\Lib\\site-packages\\mlflow\\pyfunc\\utils\\data_validation.py:166: UserWarning: \u001b[33mAdd type hints to the `predict` method to enable data validation and automatic signature inference during model logging. Check https://mlflow.org/docs/latest/model/python_model.html#type-hint-usage-in-pythonmodel for more details.\u001b[0m\n",
      "  color_warning(\n"
     ]
    },
    {
     "name": "stdout",
     "output_type": "stream",
     "text": [
      "🏃 View run polynomial-False-reg-Ridge-momentum-0-method-batch-xavier-xavier-lr-0.0001 at: http://localhost:5000/#/experiments/1/runs/5d220894ad87400fa9b25ab941bf80a2\n",
      "🧪 View experiment at: http://localhost:5000/#/experiments/1\n",
      "===== polynomial-False-reg-Ridge-momentum-0.6-method-sto-xavier-zero-lr-0.01 =====\n",
      "Fold 0 - MSE : 0.20379789821198974\n",
      "Fold 0 - R2 : 0.7031699298715093\n",
      "🏃 View run Fold-0 at: http://localhost:5000/#/experiments/1/runs/8f454d842903415f97be922d59bbbc0e\n",
      "🧪 View experiment at: http://localhost:5000/#/experiments/1\n",
      "Fold 1 - MSE : 0.16826575145614484\n",
      "Fold 1 - R2 : 0.7673554192959486\n",
      "🏃 View run Fold-1 at: http://localhost:5000/#/experiments/1/runs/0554462e964c42d0aa76c524ca6ae544\n",
      "🧪 View experiment at: http://localhost:5000/#/experiments/1\n",
      "Fold 2 - MSE : 0.1526990668353946\n",
      "Fold 2 - R2 : 0.7801062328229955\n",
      "🏃 View run Fold-2 at: http://localhost:5000/#/experiments/1/runs/a329696dda594650896fe7827a8ffad3\n",
      "🧪 View experiment at: http://localhost:5000/#/experiments/1\n",
      "Average MSE: 0.17492090550117637\n",
      "Average R2: 0.7502105273301511\n"
     ]
    },
    {
     "name": "stderr",
     "output_type": "stream",
     "text": [
      "d:\\ML_Assignment\\A2_ Assignment\\ml_env2\\Lib\\site-packages\\mlflow\\pyfunc\\utils\\data_validation.py:166: UserWarning: \u001b[33mAdd type hints to the `predict` method to enable data validation and automatic signature inference during model logging. Check https://mlflow.org/docs/latest/model/python_model.html#type-hint-usage-in-pythonmodel for more details.\u001b[0m\n",
      "  color_warning(\n"
     ]
    },
    {
     "name": "stdout",
     "output_type": "stream",
     "text": [
      "🏃 View run polynomial-False-reg-Ridge-momentum-0.6-method-sto-xavier-zero-lr-0.01 at: http://localhost:5000/#/experiments/1/runs/46891d77c95a40df85f5f6ca8f624e97\n",
      "🧪 View experiment at: http://localhost:5000/#/experiments/1\n",
      "===== polynomial-False-reg-Ridge-momentum-0.6-method-sto-xavier-zero-lr-0.001 =====\n",
      "Fold 0 - MSE : 0.11604623872579106\n",
      "Fold 0 - R2 : 0.8309795464951579\n",
      "🏃 View run Fold-0 at: http://localhost:5000/#/experiments/1/runs/308ffc3e23e347f6a95cee426594b215\n",
      "🧪 View experiment at: http://localhost:5000/#/experiments/1\n",
      "Fold 1 - MSE : 0.10488757659831348\n",
      "Fold 1 - R2 : 0.854982216716047\n",
      "🏃 View run Fold-1 at: http://localhost:5000/#/experiments/1/runs/8f6a1a512a004bbd8b872bbb484962c5\n",
      "🧪 View experiment at: http://localhost:5000/#/experiments/1\n",
      "Fold 2 - MSE : 0.09779929096932063\n",
      "Fold 2 - R2 : 0.859164466658685\n",
      "🏃 View run Fold-2 at: http://localhost:5000/#/experiments/1/runs/02386c9d953a4b8fa3641f3a7264e913\n",
      "🧪 View experiment at: http://localhost:5000/#/experiments/1\n",
      "Average MSE: 0.10624436876447507\n",
      "Average R2: 0.84837540995663\n"
     ]
    },
    {
     "name": "stderr",
     "output_type": "stream",
     "text": [
      "d:\\ML_Assignment\\A2_ Assignment\\ml_env2\\Lib\\site-packages\\mlflow\\pyfunc\\utils\\data_validation.py:166: UserWarning: \u001b[33mAdd type hints to the `predict` method to enable data validation and automatic signature inference during model logging. Check https://mlflow.org/docs/latest/model/python_model.html#type-hint-usage-in-pythonmodel for more details.\u001b[0m\n",
      "  color_warning(\n"
     ]
    },
    {
     "name": "stdout",
     "output_type": "stream",
     "text": [
      "🏃 View run polynomial-False-reg-Ridge-momentum-0.6-method-sto-xavier-zero-lr-0.001 at: http://localhost:5000/#/experiments/1/runs/dcad109d484142429dc0775e3d7a61e6\n",
      "🧪 View experiment at: http://localhost:5000/#/experiments/1\n",
      "===== polynomial-False-reg-Ridge-momentum-0.6-method-sto-xavier-zero-lr-0.0001 =====\n",
      "Fold 0 - MSE : 0.1147213886402319\n",
      "Fold 0 - R2 : 0.8329091804475023\n",
      "🏃 View run Fold-0 at: http://localhost:5000/#/experiments/1/runs/b704243532be49aa8e2b5fd0f755ef8e\n",
      "🧪 View experiment at: http://localhost:5000/#/experiments/1\n",
      "Fold 1 - MSE : 0.10437438348846588\n",
      "Fold 1 - R2 : 0.8556917585855452\n",
      "🏃 View run Fold-1 at: http://localhost:5000/#/experiments/1/runs/5dc01e4578094d21a63ff6745a241cdc\n",
      "🧪 View experiment at: http://localhost:5000/#/experiments/1\n",
      "Fold 2 - MSE : 0.09728488973545497\n",
      "Fold 2 - R2 : 0.859905228390236\n",
      "🏃 View run Fold-2 at: http://localhost:5000/#/experiments/1/runs/41f01577ce8143cb8e0359e53690e2cc\n",
      "🧪 View experiment at: http://localhost:5000/#/experiments/1\n",
      "Average MSE: 0.10546022062138426\n",
      "Average R2: 0.8495020558077612\n"
     ]
    },
    {
     "name": "stderr",
     "output_type": "stream",
     "text": [
      "d:\\ML_Assignment\\A2_ Assignment\\ml_env2\\Lib\\site-packages\\mlflow\\pyfunc\\utils\\data_validation.py:166: UserWarning: \u001b[33mAdd type hints to the `predict` method to enable data validation and automatic signature inference during model logging. Check https://mlflow.org/docs/latest/model/python_model.html#type-hint-usage-in-pythonmodel for more details.\u001b[0m\n",
      "  color_warning(\n"
     ]
    },
    {
     "name": "stdout",
     "output_type": "stream",
     "text": [
      "🏃 View run polynomial-False-reg-Ridge-momentum-0.6-method-sto-xavier-zero-lr-0.0001 at: http://localhost:5000/#/experiments/1/runs/6059b3b71527463ea93db44c5094fc3f\n",
      "🧪 View experiment at: http://localhost:5000/#/experiments/1\n",
      "===== polynomial-False-reg-Ridge-momentum-0.6-method-sto-xavier-xavier-lr-0.01 =====\n",
      "Fold 0 - MSE : 0.21334700543018953\n",
      "Fold 0 - R2 : 0.6892617287069696\n",
      "🏃 View run Fold-0 at: http://localhost:5000/#/experiments/1/runs/7b9dda80fb004bb48aa435873dc39584\n",
      "🧪 View experiment at: http://localhost:5000/#/experiments/1\n",
      "Fold 1 - MSE : 0.14636099103294725\n",
      "Fold 1 - R2 : 0.7976409869766996\n",
      "🏃 View run Fold-1 at: http://localhost:5000/#/experiments/1/runs/3dd4c202a1fc48bbaf2db7329b501d54\n",
      "🧪 View experiment at: http://localhost:5000/#/experiments/1\n",
      "Fold 2 - MSE : 0.1585407956028225\n",
      "Fold 2 - R2 : 0.7716938713585949\n",
      "🏃 View run Fold-2 at: http://localhost:5000/#/experiments/1/runs/6292fd51d740447882aabc81cd6872d2\n",
      "🧪 View experiment at: http://localhost:5000/#/experiments/1\n",
      "Average MSE: 0.17274959735531978\n",
      "Average R2: 0.752865529014088\n"
     ]
    },
    {
     "name": "stderr",
     "output_type": "stream",
     "text": [
      "d:\\ML_Assignment\\A2_ Assignment\\ml_env2\\Lib\\site-packages\\mlflow\\pyfunc\\utils\\data_validation.py:166: UserWarning: \u001b[33mAdd type hints to the `predict` method to enable data validation and automatic signature inference during model logging. Check https://mlflow.org/docs/latest/model/python_model.html#type-hint-usage-in-pythonmodel for more details.\u001b[0m\n",
      "  color_warning(\n"
     ]
    },
    {
     "name": "stdout",
     "output_type": "stream",
     "text": [
      "🏃 View run polynomial-False-reg-Ridge-momentum-0.6-method-sto-xavier-xavier-lr-0.01 at: http://localhost:5000/#/experiments/1/runs/b07fb23fe62e48d4b9038c112c9899da\n",
      "🧪 View experiment at: http://localhost:5000/#/experiments/1\n",
      "===== polynomial-False-reg-Ridge-momentum-0.6-method-sto-xavier-xavier-lr-0.001 =====\n",
      "Fold 0 - MSE : 0.11533951565388109\n",
      "Fold 0 - R2 : 0.8320088832097998\n",
      "🏃 View run Fold-0 at: http://localhost:5000/#/experiments/1/runs/8a246676c8424f1689215c12830582b9\n",
      "🧪 View experiment at: http://localhost:5000/#/experiments/1\n",
      "Fold 1 - MSE : 0.10583259340341203\n",
      "Fold 1 - R2 : 0.8536756345002493\n",
      "🏃 View run Fold-1 at: http://localhost:5000/#/experiments/1/runs/3c686433718b4fb181be5d098a36bf0e\n",
      "🧪 View experiment at: http://localhost:5000/#/experiments/1\n",
      "Fold 2 - MSE : 0.09830520535062315\n",
      "Fold 2 - R2 : 0.858435926390043\n",
      "🏃 View run Fold-2 at: http://localhost:5000/#/experiments/1/runs/a12618788ee140e7aa6bc6aadf713d7e\n",
      "🧪 View experiment at: http://localhost:5000/#/experiments/1\n",
      "Average MSE: 0.10649243813597209\n",
      "Average R2: 0.848040148033364\n"
     ]
    },
    {
     "name": "stderr",
     "output_type": "stream",
     "text": [
      "d:\\ML_Assignment\\A2_ Assignment\\ml_env2\\Lib\\site-packages\\mlflow\\pyfunc\\utils\\data_validation.py:166: UserWarning: \u001b[33mAdd type hints to the `predict` method to enable data validation and automatic signature inference during model logging. Check https://mlflow.org/docs/latest/model/python_model.html#type-hint-usage-in-pythonmodel for more details.\u001b[0m\n",
      "  color_warning(\n"
     ]
    },
    {
     "name": "stdout",
     "output_type": "stream",
     "text": [
      "🏃 View run polynomial-False-reg-Ridge-momentum-0.6-method-sto-xavier-xavier-lr-0.001 at: http://localhost:5000/#/experiments/1/runs/e77ce3d0c2e845f69c79f9f0e195bc74\n",
      "🧪 View experiment at: http://localhost:5000/#/experiments/1\n",
      "===== polynomial-False-reg-Ridge-momentum-0.6-method-sto-xavier-xavier-lr-0.0001 =====\n",
      "Fold 0 - MSE : 0.11473535490272087\n",
      "Fold 0 - R2 : 0.8328888386936844\n",
      "🏃 View run Fold-0 at: http://localhost:5000/#/experiments/1/runs/5dfaa19ce13148a3bbfb265667d112c1\n",
      "🧪 View experiment at: http://localhost:5000/#/experiments/1\n",
      "Fold 1 - MSE : 0.10436996055783625\n",
      "Fold 1 - R2 : 0.8556978737387056\n",
      "🏃 View run Fold-1 at: http://localhost:5000/#/experiments/1/runs/df7fa3feb1c444e68760449de8e40f9f\n",
      "🧪 View experiment at: http://localhost:5000/#/experiments/1\n",
      "Fold 2 - MSE : 0.09726723642131518\n",
      "Fold 2 - R2 : 0.8599306499846819\n",
      "🏃 View run Fold-2 at: http://localhost:5000/#/experiments/1/runs/445f63c79c0e4b9db2005bd848c64acc\n",
      "🧪 View experiment at: http://localhost:5000/#/experiments/1\n",
      "Average MSE: 0.10545751729395743\n",
      "Average R2: 0.8495057874723573\n"
     ]
    },
    {
     "name": "stderr",
     "output_type": "stream",
     "text": [
      "d:\\ML_Assignment\\A2_ Assignment\\ml_env2\\Lib\\site-packages\\mlflow\\pyfunc\\utils\\data_validation.py:166: UserWarning: \u001b[33mAdd type hints to the `predict` method to enable data validation and automatic signature inference during model logging. Check https://mlflow.org/docs/latest/model/python_model.html#type-hint-usage-in-pythonmodel for more details.\u001b[0m\n",
      "  color_warning(\n"
     ]
    },
    {
     "name": "stdout",
     "output_type": "stream",
     "text": [
      "🏃 View run polynomial-False-reg-Ridge-momentum-0.6-method-sto-xavier-xavier-lr-0.0001 at: http://localhost:5000/#/experiments/1/runs/c48155f11c0f43399cf06a216a3fdc98\n",
      "🧪 View experiment at: http://localhost:5000/#/experiments/1\n",
      "===== polynomial-False-reg-Ridge-momentum-0.6-method-mini-xavier-zero-lr-0.01 =====\n",
      "Fold 0 - MSE : 0.1832414698200846\n",
      "Fold 0 - R2 : 0.7331102096030179\n",
      "🏃 View run Fold-0 at: http://localhost:5000/#/experiments/1/runs/6ff731af8839450b868acf7a234bd869\n",
      "🧪 View experiment at: http://localhost:5000/#/experiments/1\n",
      "Fold 1 - MSE : 0.16808662939315747\n",
      "Fold 1 - R2 : 0.7676030738357342\n",
      "🏃 View run Fold-1 at: http://localhost:5000/#/experiments/1/runs/ace381a5c75a43209864ef56d5950281\n",
      "🧪 View experiment at: http://localhost:5000/#/experiments/1\n",
      "Fold 2 - MSE : 0.1598166044798738\n",
      "Fold 2 - R2 : 0.7698566471634065\n",
      "🏃 View run Fold-2 at: http://localhost:5000/#/experiments/1/runs/e041e4c283364f15b68dc22bed204188\n",
      "🧪 View experiment at: http://localhost:5000/#/experiments/1\n",
      "Average MSE: 0.17038156789770528\n",
      "Average R2: 0.756856643534053\n"
     ]
    },
    {
     "name": "stderr",
     "output_type": "stream",
     "text": [
      "d:\\ML_Assignment\\A2_ Assignment\\ml_env2\\Lib\\site-packages\\mlflow\\pyfunc\\utils\\data_validation.py:166: UserWarning: \u001b[33mAdd type hints to the `predict` method to enable data validation and automatic signature inference during model logging. Check https://mlflow.org/docs/latest/model/python_model.html#type-hint-usage-in-pythonmodel for more details.\u001b[0m\n",
      "  color_warning(\n"
     ]
    },
    {
     "name": "stdout",
     "output_type": "stream",
     "text": [
      "🏃 View run polynomial-False-reg-Ridge-momentum-0.6-method-mini-xavier-zero-lr-0.01 at: http://localhost:5000/#/experiments/1/runs/94fa1db02d16441d9f19fd1277b87c0e\n",
      "🧪 View experiment at: http://localhost:5000/#/experiments/1\n",
      "===== polynomial-False-reg-Ridge-momentum-0.6-method-mini-xavier-zero-lr-0.001 =====\n",
      "Fold 0 - MSE : 0.11627705760987808\n",
      "Fold 0 - R2 : 0.830643360567081\n",
      "🏃 View run Fold-0 at: http://localhost:5000/#/experiments/1/runs/342ed9cb89c84fd2bbcd5fe46b8617c3\n",
      "🧪 View experiment at: http://localhost:5000/#/experiments/1\n",
      "Fold 1 - MSE : 0.10549463824399152\n",
      "Fold 1 - R2 : 0.8541428920121301\n",
      "🏃 View run Fold-1 at: http://localhost:5000/#/experiments/1/runs/9f2f714470ca45c695fc200b93ef2e19\n",
      "🧪 View experiment at: http://localhost:5000/#/experiments/1\n",
      "Fold 2 - MSE : 0.09806819517577517\n",
      "Fold 2 - R2 : 0.858777232078982\n",
      "🏃 View run Fold-2 at: http://localhost:5000/#/experiments/1/runs/f46bb7c5dc7044048445013d024f370a\n",
      "🧪 View experiment at: http://localhost:5000/#/experiments/1\n",
      "Average MSE: 0.10661329700988159\n",
      "Average R2: 0.8478544948860645\n"
     ]
    },
    {
     "name": "stderr",
     "output_type": "stream",
     "text": [
      "d:\\ML_Assignment\\A2_ Assignment\\ml_env2\\Lib\\site-packages\\mlflow\\pyfunc\\utils\\data_validation.py:166: UserWarning: \u001b[33mAdd type hints to the `predict` method to enable data validation and automatic signature inference during model logging. Check https://mlflow.org/docs/latest/model/python_model.html#type-hint-usage-in-pythonmodel for more details.\u001b[0m\n",
      "  color_warning(\n"
     ]
    },
    {
     "name": "stdout",
     "output_type": "stream",
     "text": [
      "🏃 View run polynomial-False-reg-Ridge-momentum-0.6-method-mini-xavier-zero-lr-0.001 at: http://localhost:5000/#/experiments/1/runs/0b6bf542f39b406aa4cd2c46499a6b55\n",
      "🧪 View experiment at: http://localhost:5000/#/experiments/1\n",
      "===== polynomial-False-reg-Ridge-momentum-0.6-method-mini-xavier-zero-lr-0.0001 =====\n",
      "Fold 0 - MSE : 37.946950755940996\n",
      "Fold 0 - R2 : -54.26944170116906\n",
      "🏃 View run Fold-0 at: http://localhost:5000/#/experiments/1/runs/8d5156da7b9f41799b524454a5941c3e\n",
      "🧪 View experiment at: http://localhost:5000/#/experiments/1\n",
      "Fold 1 - MSE : 37.7108975738636\n",
      "Fold 1 - R2 : -51.13916604016411\n",
      "🏃 View run Fold-1 at: http://localhost:5000/#/experiments/1/runs/b303075a6ab04de085939cdeecc7f8b7\n",
      "🧪 View experiment at: http://localhost:5000/#/experiments/1\n",
      "Fold 2 - MSE : 37.75107376032744\n",
      "Fold 2 - R2 : -53.36330421772559\n",
      "🏃 View run Fold-2 at: http://localhost:5000/#/experiments/1/runs/d0fc8ff6dc0749d0bcd589649e113404\n",
      "🧪 View experiment at: http://localhost:5000/#/experiments/1\n",
      "Average MSE: 37.80297403004401\n",
      "Average R2: -52.92397065301959\n"
     ]
    },
    {
     "name": "stderr",
     "output_type": "stream",
     "text": [
      "d:\\ML_Assignment\\A2_ Assignment\\ml_env2\\Lib\\site-packages\\mlflow\\pyfunc\\utils\\data_validation.py:166: UserWarning: \u001b[33mAdd type hints to the `predict` method to enable data validation and automatic signature inference during model logging. Check https://mlflow.org/docs/latest/model/python_model.html#type-hint-usage-in-pythonmodel for more details.\u001b[0m\n",
      "  color_warning(\n"
     ]
    },
    {
     "name": "stdout",
     "output_type": "stream",
     "text": [
      "🏃 View run polynomial-False-reg-Ridge-momentum-0.6-method-mini-xavier-zero-lr-0.0001 at: http://localhost:5000/#/experiments/1/runs/7d59eefb0ac14248a84a28d1b0765b0c\n",
      "🧪 View experiment at: http://localhost:5000/#/experiments/1\n",
      "===== polynomial-False-reg-Ridge-momentum-0.6-method-mini-xavier-xavier-lr-0.01 =====\n",
      "Fold 0 - MSE : 0.184179720299251\n",
      "Fold 0 - R2 : 0.7317436550017562\n",
      "🏃 View run Fold-0 at: http://localhost:5000/#/experiments/1/runs/c17af5c6de974a08ae304528ab19a4bf\n",
      "🧪 View experiment at: http://localhost:5000/#/experiments/1\n",
      "Fold 1 - MSE : 0.16800021731122633\n",
      "Fold 1 - R2 : 0.7677225473613606\n",
      "🏃 View run Fold-1 at: http://localhost:5000/#/experiments/1/runs/d51e3a83686d424ba5772dcfa3ffbfd2\n",
      "🧪 View experiment at: http://localhost:5000/#/experiments/1\n",
      "Fold 2 - MSE : 0.15946693201926254\n",
      "Fold 2 - R2 : 0.7703601917903343\n",
      "🏃 View run Fold-2 at: http://localhost:5000/#/experiments/1/runs/27fb98c1e4334847b9ae6f6912e66fa0\n",
      "🧪 View experiment at: http://localhost:5000/#/experiments/1\n",
      "Average MSE: 0.17054895654324662\n",
      "Average R2: 0.7566087980511504\n"
     ]
    },
    {
     "name": "stderr",
     "output_type": "stream",
     "text": [
      "d:\\ML_Assignment\\A2_ Assignment\\ml_env2\\Lib\\site-packages\\mlflow\\pyfunc\\utils\\data_validation.py:166: UserWarning: \u001b[33mAdd type hints to the `predict` method to enable data validation and automatic signature inference during model logging. Check https://mlflow.org/docs/latest/model/python_model.html#type-hint-usage-in-pythonmodel for more details.\u001b[0m\n",
      "  color_warning(\n"
     ]
    },
    {
     "name": "stdout",
     "output_type": "stream",
     "text": [
      "🏃 View run polynomial-False-reg-Ridge-momentum-0.6-method-mini-xavier-xavier-lr-0.01 at: http://localhost:5000/#/experiments/1/runs/a67e419ab63a47f8a76bdd526da01b57\n",
      "🧪 View experiment at: http://localhost:5000/#/experiments/1\n",
      "===== polynomial-False-reg-Ridge-momentum-0.6-method-mini-xavier-xavier-lr-0.001 =====\n",
      "Fold 0 - MSE : 0.11850350437574096\n",
      "Fold 0 - R2 : 0.8274005579893969\n",
      "🏃 View run Fold-0 at: http://localhost:5000/#/experiments/1/runs/d2299b57bbda452ebc0847a79169b9d2\n",
      "🧪 View experiment at: http://localhost:5000/#/experiments/1\n",
      "Fold 1 - MSE : 0.10815362668322812\n",
      "Fold 1 - R2 : 0.8504665690219206\n",
      "🏃 View run Fold-1 at: http://localhost:5000/#/experiments/1/runs/d87a0bc1fd454ab882f4a16245a8d454\n",
      "🧪 View experiment at: http://localhost:5000/#/experiments/1\n",
      "Fold 2 - MSE : 0.09942089380974499\n",
      "Fold 2 - R2 : 0.8568292830532067\n",
      "🏃 View run Fold-2 at: http://localhost:5000/#/experiments/1/runs/a291ce8ef6824c7bbe2ccec2ba71702e\n",
      "🧪 View experiment at: http://localhost:5000/#/experiments/1\n",
      "Average MSE: 0.10869267495623802\n",
      "Average R2: 0.8448988033548414\n"
     ]
    },
    {
     "name": "stderr",
     "output_type": "stream",
     "text": [
      "d:\\ML_Assignment\\A2_ Assignment\\ml_env2\\Lib\\site-packages\\mlflow\\pyfunc\\utils\\data_validation.py:166: UserWarning: \u001b[33mAdd type hints to the `predict` method to enable data validation and automatic signature inference during model logging. Check https://mlflow.org/docs/latest/model/python_model.html#type-hint-usage-in-pythonmodel for more details.\u001b[0m\n",
      "  color_warning(\n"
     ]
    },
    {
     "name": "stdout",
     "output_type": "stream",
     "text": [
      "🏃 View run polynomial-False-reg-Ridge-momentum-0.6-method-mini-xavier-xavier-lr-0.001 at: http://localhost:5000/#/experiments/1/runs/7052fdbbcb884220943f9c742c6b8727\n",
      "🧪 View experiment at: http://localhost:5000/#/experiments/1\n",
      "===== polynomial-False-reg-Ridge-momentum-0.6-method-mini-xavier-xavier-lr-0.0001 =====\n",
      "Fold 0 - MSE : 37.51800428856192\n",
      "Fold 0 - R2 : -53.6446844730005\n",
      "🏃 View run Fold-0 at: http://localhost:5000/#/experiments/1/runs/707330062c1d462abf86221b9eb4865d\n",
      "🧪 View experiment at: http://localhost:5000/#/experiments/1\n",
      "Fold 1 - MSE : 35.4843888699991\n",
      "Fold 1 - R2 : -48.06079043870086\n",
      "🏃 View run Fold-1 at: http://localhost:5000/#/experiments/1/runs/53b713fed75d473ab60947d9dbd4460c\n",
      "🧪 View experiment at: http://localhost:5000/#/experiments/1\n",
      "Fold 2 - MSE : 39.150401660231886\n",
      "Fold 2 - R2 : -55.378401557891856\n",
      "🏃 View run Fold-2 at: http://localhost:5000/#/experiments/1/runs/2a202e0ab1134b0598fadd957ed315a5\n",
      "🧪 View experiment at: http://localhost:5000/#/experiments/1\n",
      "Average MSE: 37.384264939597635\n",
      "Average R2: -52.36129215653108\n"
     ]
    },
    {
     "name": "stderr",
     "output_type": "stream",
     "text": [
      "d:\\ML_Assignment\\A2_ Assignment\\ml_env2\\Lib\\site-packages\\mlflow\\pyfunc\\utils\\data_validation.py:166: UserWarning: \u001b[33mAdd type hints to the `predict` method to enable data validation and automatic signature inference during model logging. Check https://mlflow.org/docs/latest/model/python_model.html#type-hint-usage-in-pythonmodel for more details.\u001b[0m\n",
      "  color_warning(\n"
     ]
    },
    {
     "name": "stdout",
     "output_type": "stream",
     "text": [
      "🏃 View run polynomial-False-reg-Ridge-momentum-0.6-method-mini-xavier-xavier-lr-0.0001 at: http://localhost:5000/#/experiments/1/runs/8ad9d0f1566f4910ba685aae870bb31c\n",
      "🧪 View experiment at: http://localhost:5000/#/experiments/1\n",
      "===== polynomial-False-reg-Ridge-momentum-0.6-method-batch-xavier-zero-lr-0.01 =====\n",
      "Fold 0 - MSE : 23.501199019638232\n",
      "Fold 0 - R2 : -33.229315485121305\n",
      "🏃 View run Fold-0 at: http://localhost:5000/#/experiments/1/runs/3bf427feaad94edc956f0a4d2dc472a3\n",
      "🧪 View experiment at: http://localhost:5000/#/experiments/1\n",
      "Fold 1 - MSE : 23.33348183483684\n",
      "Fold 1 - R2 : -31.260920899557043\n",
      "🏃 View run Fold-1 at: http://localhost:5000/#/experiments/1/runs/397261d20bcf4a65a192c258328e1631\n",
      "🧪 View experiment at: http://localhost:5000/#/experiments/1\n",
      "Fold 2 - MSE : 23.35330591901366\n",
      "Fold 2 - R2 : -32.6298480468424\n",
      "🏃 View run Fold-2 at: http://localhost:5000/#/experiments/1/runs/457311c1f9954866a20a68a8443a014c\n",
      "🧪 View experiment at: http://localhost:5000/#/experiments/1\n",
      "Average MSE: 23.39599559116291\n",
      "Average R2: -32.37336147717358\n"
     ]
    },
    {
     "name": "stderr",
     "output_type": "stream",
     "text": [
      "d:\\ML_Assignment\\A2_ Assignment\\ml_env2\\Lib\\site-packages\\mlflow\\pyfunc\\utils\\data_validation.py:166: UserWarning: \u001b[33mAdd type hints to the `predict` method to enable data validation and automatic signature inference during model logging. Check https://mlflow.org/docs/latest/model/python_model.html#type-hint-usage-in-pythonmodel for more details.\u001b[0m\n",
      "  color_warning(\n"
     ]
    },
    {
     "name": "stdout",
     "output_type": "stream",
     "text": [
      "🏃 View run polynomial-False-reg-Ridge-momentum-0.6-method-batch-xavier-zero-lr-0.01 at: http://localhost:5000/#/experiments/1/runs/951d829538a242b08abe5c73ee5c2208\n",
      "🧪 View experiment at: http://localhost:5000/#/experiments/1\n",
      "===== polynomial-False-reg-Ridge-momentum-0.6-method-batch-xavier-zero-lr-0.001 =====\n",
      "Fold 0 - MSE : 138.90213005729808\n",
      "Fold 0 - R2 : -201.30988330908554\n",
      "🏃 View run Fold-0 at: http://localhost:5000/#/experiments/1/runs/dfb3ca73aa90428abb2b8a8cf8c9291f\n",
      "🧪 View experiment at: http://localhost:5000/#/experiments/1\n",
      "Fold 1 - MSE : 138.30234678782517\n",
      "Fold 1 - R2 : -190.2171145964052\n",
      "🏃 View run Fold-1 at: http://localhost:5000/#/experiments/1/runs/36e9e983ec6843219a32ebddfb19f60a\n",
      "🧪 View experiment at: http://localhost:5000/#/experiments/1\n",
      "Fold 2 - MSE : 138.44006525803528\n",
      "Fold 2 - R2 : -198.36014088832306\n",
      "🏃 View run Fold-2 at: http://localhost:5000/#/experiments/1/runs/3dc340b6e3cb4cceabb987199cff8baa\n",
      "🧪 View experiment at: http://localhost:5000/#/experiments/1\n",
      "Average MSE: 138.54818070105284\n",
      "Average R2: -196.62904626460457\n"
     ]
    },
    {
     "name": "stderr",
     "output_type": "stream",
     "text": [
      "d:\\ML_Assignment\\A2_ Assignment\\ml_env2\\Lib\\site-packages\\mlflow\\pyfunc\\utils\\data_validation.py:166: UserWarning: \u001b[33mAdd type hints to the `predict` method to enable data validation and automatic signature inference during model logging. Check https://mlflow.org/docs/latest/model/python_model.html#type-hint-usage-in-pythonmodel for more details.\u001b[0m\n",
      "  color_warning(\n"
     ]
    },
    {
     "name": "stdout",
     "output_type": "stream",
     "text": [
      "🏃 View run polynomial-False-reg-Ridge-momentum-0.6-method-batch-xavier-zero-lr-0.001 at: http://localhost:5000/#/experiments/1/runs/6551f539bd0249958d9a79d939fa81eb\n",
      "🧪 View experiment at: http://localhost:5000/#/experiments/1\n",
      "===== polynomial-False-reg-Ridge-momentum-0.6-method-batch-xavier-zero-lr-0.0001 =====\n",
      "Fold 0 - MSE : 166.32505444253638\n",
      "Fold 0 - R2 : -241.25116160397477\n",
      "🏃 View run Fold-0 at: http://localhost:5000/#/experiments/1/runs/0936a3174dd94e06b06ec0ce197c867b\n",
      "🧪 View experiment at: http://localhost:5000/#/experiments/1\n",
      "Fold 1 - MSE : 165.65472826160288\n",
      "Fold 1 - R2 : -228.0345745617076\n",
      "🏃 View run Fold-1 at: http://localhost:5000/#/experiments/1/runs/64716e6ef6634906adcde72bdad46d9e\n",
      "🧪 View experiment at: http://localhost:5000/#/experiments/1\n",
      "Fold 2 - MSE : 165.8108123011786\n",
      "Fold 2 - R2 : -237.7752912392652\n",
      "🏃 View run Fold-2 at: http://localhost:5000/#/experiments/1/runs/87a414ebbd5e4236a3cf55d2d239c018\n",
      "🧪 View experiment at: http://localhost:5000/#/experiments/1\n",
      "Average MSE: 165.93019833510596\n",
      "Average R2: -235.6870091349825\n"
     ]
    },
    {
     "name": "stderr",
     "output_type": "stream",
     "text": [
      "d:\\ML_Assignment\\A2_ Assignment\\ml_env2\\Lib\\site-packages\\mlflow\\pyfunc\\utils\\data_validation.py:166: UserWarning: \u001b[33mAdd type hints to the `predict` method to enable data validation and automatic signature inference during model logging. Check https://mlflow.org/docs/latest/model/python_model.html#type-hint-usage-in-pythonmodel for more details.\u001b[0m\n",
      "  color_warning(\n"
     ]
    },
    {
     "name": "stdout",
     "output_type": "stream",
     "text": [
      "🏃 View run polynomial-False-reg-Ridge-momentum-0.6-method-batch-xavier-zero-lr-0.0001 at: http://localhost:5000/#/experiments/1/runs/61a00749f54e4cb2881347e92c1fb237\n",
      "🧪 View experiment at: http://localhost:5000/#/experiments/1\n",
      "===== polynomial-False-reg-Ridge-momentum-0.6-method-batch-xavier-xavier-lr-0.01 =====\n",
      "Fold 0 - MSE : 23.025492128505586\n",
      "Fold 0 - R2 : -32.53645205966718\n",
      "🏃 View run Fold-0 at: http://localhost:5000/#/experiments/1/runs/659480a56e544b5a83d5d1254140dfff\n",
      "🧪 View experiment at: http://localhost:5000/#/experiments/1\n",
      "Fold 1 - MSE : 24.212907426739093\n",
      "Fold 1 - R2 : -32.47681656648862\n",
      "🏃 View run Fold-1 at: http://localhost:5000/#/experiments/1/runs/6b9b2599b2d44066b78213ba2af53562\n",
      "🧪 View experiment at: http://localhost:5000/#/experiments/1\n",
      "Fold 2 - MSE : 22.52117194995446\n",
      "Fold 2 - R2 : -31.43153638034329\n",
      "🏃 View run Fold-2 at: http://localhost:5000/#/experiments/1/runs/18b5d0e7d5e54146bc98fdf8c69e5d3b\n",
      "🧪 View experiment at: http://localhost:5000/#/experiments/1\n",
      "Average MSE: 23.253190501733048\n",
      "Average R2: -32.148268335499694\n"
     ]
    },
    {
     "name": "stderr",
     "output_type": "stream",
     "text": [
      "d:\\ML_Assignment\\A2_ Assignment\\ml_env2\\Lib\\site-packages\\mlflow\\pyfunc\\utils\\data_validation.py:166: UserWarning: \u001b[33mAdd type hints to the `predict` method to enable data validation and automatic signature inference during model logging. Check https://mlflow.org/docs/latest/model/python_model.html#type-hint-usage-in-pythonmodel for more details.\u001b[0m\n",
      "  color_warning(\n"
     ]
    },
    {
     "name": "stdout",
     "output_type": "stream",
     "text": [
      "🏃 View run polynomial-False-reg-Ridge-momentum-0.6-method-batch-xavier-xavier-lr-0.01 at: http://localhost:5000/#/experiments/1/runs/58fc46e45b624b18a209f3c3eded1231\n",
      "🧪 View experiment at: http://localhost:5000/#/experiments/1\n",
      "===== polynomial-False-reg-Ridge-momentum-0.6-method-batch-xavier-xavier-lr-0.001 =====\n",
      "Fold 0 - MSE : 137.94661335813666\n",
      "Fold 0 - R2 : -199.9181805912979\n",
      "🏃 View run Fold-0 at: http://localhost:5000/#/experiments/1/runs/4fbf4cfdde85410bb08f7699771e32d3\n",
      "🧪 View experiment at: http://localhost:5000/#/experiments/1\n",
      "Fold 1 - MSE : 130.30838164291836\n",
      "Fold 1 - R2 : -179.1646416290566\n",
      "🏃 View run Fold-1 at: http://localhost:5000/#/experiments/1/runs/09575cede34d421cb9f51518fb814201\n",
      "🧪 View experiment at: http://localhost:5000/#/experiments/1\n",
      "Fold 2 - MSE : 134.73942141963778\n",
      "Fold 2 - R2 : -193.0310414283847\n",
      "🏃 View run Fold-2 at: http://localhost:5000/#/experiments/1/runs/74833ed74ee34e86be913521ffd49297\n",
      "🧪 View experiment at: http://localhost:5000/#/experiments/1\n",
      "Average MSE: 134.33147214023094\n",
      "Average R2: -190.7046212162464\n"
     ]
    },
    {
     "name": "stderr",
     "output_type": "stream",
     "text": [
      "d:\\ML_Assignment\\A2_ Assignment\\ml_env2\\Lib\\site-packages\\mlflow\\pyfunc\\utils\\data_validation.py:166: UserWarning: \u001b[33mAdd type hints to the `predict` method to enable data validation and automatic signature inference during model logging. Check https://mlflow.org/docs/latest/model/python_model.html#type-hint-usage-in-pythonmodel for more details.\u001b[0m\n",
      "  color_warning(\n"
     ]
    },
    {
     "name": "stdout",
     "output_type": "stream",
     "text": [
      "🏃 View run polynomial-False-reg-Ridge-momentum-0.6-method-batch-xavier-xavier-lr-0.001 at: http://localhost:5000/#/experiments/1/runs/82ae2cb46e0b41d7a4262be5583ea679\n",
      "🧪 View experiment at: http://localhost:5000/#/experiments/1\n",
      "===== polynomial-False-reg-Ridge-momentum-0.6-method-batch-xavier-xavier-lr-0.0001 =====\n",
      "Fold 0 - MSE : 158.83694659755608\n",
      "Fold 0 - R2 : -230.34479016317036\n",
      "🏃 View run Fold-0 at: http://localhost:5000/#/experiments/1/runs/9a215552216c4bbf9993da714bece087\n",
      "🧪 View experiment at: http://localhost:5000/#/experiments/1\n",
      "Fold 1 - MSE : 176.18180703274697\n",
      "Fold 1 - R2 : -242.58933573893762\n",
      "🏃 View run Fold-1 at: http://localhost:5000/#/experiments/1/runs/2410709a075b48d999fa88c7e0b3553e\n",
      "🧪 View experiment at: http://localhost:5000/#/experiments/1\n",
      "Fold 2 - MSE : 158.4595224982474\n",
      "Fold 2 - R2 : -227.1890915860677\n",
      "🏃 View run Fold-2 at: http://localhost:5000/#/experiments/1/runs/dcdf972344344caf9f04e52dfb39e535\n",
      "🧪 View experiment at: http://localhost:5000/#/experiments/1\n",
      "Average MSE: 164.49275870951683\n",
      "Average R2: -233.3744058293919\n"
     ]
    },
    {
     "name": "stderr",
     "output_type": "stream",
     "text": [
      "d:\\ML_Assignment\\A2_ Assignment\\ml_env2\\Lib\\site-packages\\mlflow\\pyfunc\\utils\\data_validation.py:166: UserWarning: \u001b[33mAdd type hints to the `predict` method to enable data validation and automatic signature inference during model logging. Check https://mlflow.org/docs/latest/model/python_model.html#type-hint-usage-in-pythonmodel for more details.\u001b[0m\n",
      "  color_warning(\n"
     ]
    },
    {
     "name": "stdout",
     "output_type": "stream",
     "text": [
      "🏃 View run polynomial-False-reg-Ridge-momentum-0.6-method-batch-xavier-xavier-lr-0.0001 at: http://localhost:5000/#/experiments/1/runs/2440adce96dc4fcfa7584f0834ee7237\n",
      "🧪 View experiment at: http://localhost:5000/#/experiments/1\n",
      "===== polynomial-False-reg-Lasso-momentum-0-method-sto-xavier-zero-lr-0.01 =====\n",
      "Fold 0 - MSE : 0.11872117340828606\n",
      "Fold 0 - R2 : 0.8270835247188774\n",
      "🏃 View run Fold-0 at: http://localhost:5000/#/experiments/1/runs/437e286cc1914f95926224d8f83a59e3\n",
      "🧪 View experiment at: http://localhost:5000/#/experiments/1\n",
      "Fold 1 - MSE : 0.10879110472975952\n",
      "Fold 1 - R2 : 0.849585190538421\n",
      "🏃 View run Fold-1 at: http://localhost:5000/#/experiments/1/runs/794b8ddf0808456fbbaafc5436f99e37\n",
      "🧪 View experiment at: http://localhost:5000/#/experiments/1\n",
      "Fold 2 - MSE : 0.10265176992923986\n",
      "Fold 2 - R2 : 0.8521766709847662\n",
      "🏃 View run Fold-2 at: http://localhost:5000/#/experiments/1/runs/2427defa105743a68c1ed806cbb6b1d7\n",
      "🧪 View experiment at: http://localhost:5000/#/experiments/1\n",
      "Average MSE: 0.11005468268909514\n",
      "Average R2: 0.8429484620806882\n"
     ]
    },
    {
     "name": "stderr",
     "output_type": "stream",
     "text": [
      "d:\\ML_Assignment\\A2_ Assignment\\ml_env2\\Lib\\site-packages\\mlflow\\pyfunc\\utils\\data_validation.py:166: UserWarning: \u001b[33mAdd type hints to the `predict` method to enable data validation and automatic signature inference during model logging. Check https://mlflow.org/docs/latest/model/python_model.html#type-hint-usage-in-pythonmodel for more details.\u001b[0m\n",
      "  color_warning(\n"
     ]
    },
    {
     "name": "stdout",
     "output_type": "stream",
     "text": [
      "🏃 View run polynomial-False-reg-Lasso-momentum-0-method-sto-xavier-zero-lr-0.01 at: http://localhost:5000/#/experiments/1/runs/374b07a9247d4707a0bebe9d18efc6b1\n",
      "🧪 View experiment at: http://localhost:5000/#/experiments/1\n",
      "===== polynomial-False-reg-Lasso-momentum-0-method-sto-xavier-zero-lr-0.001 =====\n",
      "Fold 0 - MSE : 0.11506575882328496\n",
      "Fold 0 - R2 : 0.8324076079264772\n",
      "🏃 View run Fold-0 at: http://localhost:5000/#/experiments/1/runs/9b64da568a0742dc98870d1241fc3290\n",
      "🧪 View experiment at: http://localhost:5000/#/experiments/1\n",
      "Fold 1 - MSE : 0.104931034789183\n",
      "Fold 1 - R2 : 0.8549221313302481\n",
      "🏃 View run Fold-1 at: http://localhost:5000/#/experiments/1/runs/b1216da0b21d41ff8481058f4569bfb1\n",
      "🧪 View experiment at: http://localhost:5000/#/experiments/1\n",
      "Fold 2 - MSE : 0.09714623333278888\n",
      "Fold 2 - R2 : 0.8601049000670664\n",
      "🏃 View run Fold-2 at: http://localhost:5000/#/experiments/1/runs/d080830c5e5a4308a0a0417c9ee57b1f\n",
      "🧪 View experiment at: http://localhost:5000/#/experiments/1\n",
      "Average MSE: 0.10571434231508563\n",
      "Average R2: 0.8491448797745972\n"
     ]
    },
    {
     "name": "stderr",
     "output_type": "stream",
     "text": [
      "d:\\ML_Assignment\\A2_ Assignment\\ml_env2\\Lib\\site-packages\\mlflow\\pyfunc\\utils\\data_validation.py:166: UserWarning: \u001b[33mAdd type hints to the `predict` method to enable data validation and automatic signature inference during model logging. Check https://mlflow.org/docs/latest/model/python_model.html#type-hint-usage-in-pythonmodel for more details.\u001b[0m\n",
      "  color_warning(\n"
     ]
    },
    {
     "name": "stdout",
     "output_type": "stream",
     "text": [
      "🏃 View run polynomial-False-reg-Lasso-momentum-0-method-sto-xavier-zero-lr-0.001 at: http://localhost:5000/#/experiments/1/runs/0a598c044cd2443eb748fcf9c32f427a\n",
      "🧪 View experiment at: http://localhost:5000/#/experiments/1\n",
      "===== polynomial-False-reg-Lasso-momentum-0-method-sto-xavier-zero-lr-0.0001 =====\n",
      "Fold 0 - MSE : 0.11460346195502201\n",
      "Fold 0 - R2 : 0.8330809397568375\n",
      "🏃 View run Fold-0 at: http://localhost:5000/#/experiments/1/runs/ab918e53e7fb48a7aa8be8f153eb085c\n",
      "🧪 View experiment at: http://localhost:5000/#/experiments/1\n",
      "Fold 1 - MSE : 0.1043417154267136\n",
      "Fold 1 - R2 : 0.855736925516207\n",
      "🏃 View run Fold-1 at: http://localhost:5000/#/experiments/1/runs/0fa41c5a7b4a44a5b9892aeefd27b369\n",
      "🧪 View experiment at: http://localhost:5000/#/experiments/1\n",
      "Fold 2 - MSE : 0.09728322761988803\n",
      "Fold 2 - R2 : 0.8599076219140542\n",
      "🏃 View run Fold-2 at: http://localhost:5000/#/experiments/1/runs/9e1790c8ab654776ba84fe03bcbcb455\n",
      "🧪 View experiment at: http://localhost:5000/#/experiments/1\n",
      "Average MSE: 0.10540946833387455\n",
      "Average R2: 0.8495751623956996\n"
     ]
    },
    {
     "name": "stderr",
     "output_type": "stream",
     "text": [
      "d:\\ML_Assignment\\A2_ Assignment\\ml_env2\\Lib\\site-packages\\mlflow\\pyfunc\\utils\\data_validation.py:166: UserWarning: \u001b[33mAdd type hints to the `predict` method to enable data validation and automatic signature inference during model logging. Check https://mlflow.org/docs/latest/model/python_model.html#type-hint-usage-in-pythonmodel for more details.\u001b[0m\n",
      "  color_warning(\n"
     ]
    },
    {
     "name": "stdout",
     "output_type": "stream",
     "text": [
      "🏃 View run polynomial-False-reg-Lasso-momentum-0-method-sto-xavier-zero-lr-0.0001 at: http://localhost:5000/#/experiments/1/runs/6f6955b5de0344a1b7c352506d0214b8\n",
      "🧪 View experiment at: http://localhost:5000/#/experiments/1\n",
      "===== polynomial-False-reg-Lasso-momentum-0-method-sto-xavier-xavier-lr-0.01 =====\n",
      "Fold 0 - MSE : 0.11910191586076985\n",
      "Fold 0 - R2 : 0.8265289762673811\n",
      "🏃 View run Fold-0 at: http://localhost:5000/#/experiments/1/runs/b6f433ec058a451db5885e2a6c049700\n",
      "🧪 View experiment at: http://localhost:5000/#/experiments/1\n",
      "Fold 1 - MSE : 0.10793971083970524\n",
      "Fold 1 - R2 : 0.8507623295156138\n",
      "🏃 View run Fold-1 at: http://localhost:5000/#/experiments/1/runs/7df4ff16c10143da82ed2605d3bfab89\n",
      "🧪 View experiment at: http://localhost:5000/#/experiments/1\n",
      "Fold 2 - MSE : 0.10536997776472694\n",
      "Fold 2 - R2 : 0.848262325119381\n",
      "🏃 View run Fold-2 at: http://localhost:5000/#/experiments/1/runs/bb98f4db2b724203ba591f8e7f1cd471\n",
      "🧪 View experiment at: http://localhost:5000/#/experiments/1\n",
      "Average MSE: 0.11080386815506733\n",
      "Average R2: 0.841851210300792\n"
     ]
    },
    {
     "name": "stderr",
     "output_type": "stream",
     "text": [
      "d:\\ML_Assignment\\A2_ Assignment\\ml_env2\\Lib\\site-packages\\mlflow\\pyfunc\\utils\\data_validation.py:166: UserWarning: \u001b[33mAdd type hints to the `predict` method to enable data validation and automatic signature inference during model logging. Check https://mlflow.org/docs/latest/model/python_model.html#type-hint-usage-in-pythonmodel for more details.\u001b[0m\n",
      "  color_warning(\n"
     ]
    },
    {
     "name": "stdout",
     "output_type": "stream",
     "text": [
      "🏃 View run polynomial-False-reg-Lasso-momentum-0-method-sto-xavier-xavier-lr-0.01 at: http://localhost:5000/#/experiments/1/runs/9446087051a5474fb0a913382b2cf381\n",
      "🧪 View experiment at: http://localhost:5000/#/experiments/1\n",
      "===== polynomial-False-reg-Lasso-momentum-0-method-sto-xavier-xavier-lr-0.001 =====\n",
      "Fold 0 - MSE : 0.11541095182017963\n",
      "Fold 0 - R2 : 0.8319048369834249\n",
      "🏃 View run Fold-0 at: http://localhost:5000/#/experiments/1/runs/9614aec0675c46798a024bbe0fd69d45\n",
      "🧪 View experiment at: http://localhost:5000/#/experiments/1\n",
      "Fold 1 - MSE : 0.10443954501702822\n",
      "Fold 1 - R2 : 0.8556016661195547\n",
      "🏃 View run Fold-1 at: http://localhost:5000/#/experiments/1/runs/3669a23f4bd34200b81981c094985a4b\n",
      "🧪 View experiment at: http://localhost:5000/#/experiments/1\n",
      "Fold 2 - MSE : 0.09840883802735502\n",
      "Fold 2 - R2 : 0.8582866905095528\n",
      "🏃 View run Fold-2 at: http://localhost:5000/#/experiments/1/runs/5c1d21b7c38847889beffa2b12b8d6b1\n",
      "🧪 View experiment at: http://localhost:5000/#/experiments/1\n",
      "Average MSE: 0.1060864449548543\n",
      "Average R2: 0.8485977312041775\n"
     ]
    },
    {
     "name": "stderr",
     "output_type": "stream",
     "text": [
      "d:\\ML_Assignment\\A2_ Assignment\\ml_env2\\Lib\\site-packages\\mlflow\\pyfunc\\utils\\data_validation.py:166: UserWarning: \u001b[33mAdd type hints to the `predict` method to enable data validation and automatic signature inference during model logging. Check https://mlflow.org/docs/latest/model/python_model.html#type-hint-usage-in-pythonmodel for more details.\u001b[0m\n",
      "  color_warning(\n"
     ]
    },
    {
     "name": "stdout",
     "output_type": "stream",
     "text": [
      "🏃 View run polynomial-False-reg-Lasso-momentum-0-method-sto-xavier-xavier-lr-0.001 at: http://localhost:5000/#/experiments/1/runs/44d924cc76884977bf0a1372bea96efa\n",
      "🧪 View experiment at: http://localhost:5000/#/experiments/1\n",
      "===== polynomial-False-reg-Lasso-momentum-0-method-sto-xavier-xavier-lr-0.0001 =====\n",
      "Fold 0 - MSE : 0.11467615093741758\n",
      "Fold 0 - R2 : 0.8329750688134601\n",
      "🏃 View run Fold-0 at: http://localhost:5000/#/experiments/1/runs/6d998217222c4253aa037838975bea22\n",
      "🧪 View experiment at: http://localhost:5000/#/experiments/1\n",
      "Fold 1 - MSE : 0.10437674516193386\n",
      "Fold 1 - R2 : 0.8556884933308575\n",
      "🏃 View run Fold-1 at: http://localhost:5000/#/experiments/1/runs/de906e3b5ffa41ebb84ec1b62426d9f9\n",
      "🧪 View experiment at: http://localhost:5000/#/experiments/1\n",
      "Fold 2 - MSE : 0.09726937442802826\n",
      "Fold 2 - R2 : 0.8599275711554517\n",
      "🏃 View run Fold-2 at: http://localhost:5000/#/experiments/1/runs/c465345226344c8f865fa7fca543442f\n",
      "🧪 View experiment at: http://localhost:5000/#/experiments/1\n",
      "Average MSE: 0.1054407568424599\n",
      "Average R2: 0.8495303777665898\n"
     ]
    },
    {
     "name": "stderr",
     "output_type": "stream",
     "text": [
      "d:\\ML_Assignment\\A2_ Assignment\\ml_env2\\Lib\\site-packages\\mlflow\\pyfunc\\utils\\data_validation.py:166: UserWarning: \u001b[33mAdd type hints to the `predict` method to enable data validation and automatic signature inference during model logging. Check https://mlflow.org/docs/latest/model/python_model.html#type-hint-usage-in-pythonmodel for more details.\u001b[0m\n",
      "  color_warning(\n"
     ]
    },
    {
     "name": "stdout",
     "output_type": "stream",
     "text": [
      "🏃 View run polynomial-False-reg-Lasso-momentum-0-method-sto-xavier-xavier-lr-0.0001 at: http://localhost:5000/#/experiments/1/runs/eae9146780a746feb5e72d24b894d63b\n",
      "🧪 View experiment at: http://localhost:5000/#/experiments/1\n",
      "===== polynomial-False-reg-Lasso-momentum-0-method-mini-xavier-zero-lr-0.01 =====\n",
      "Fold 0 - MSE : 0.11473394331895767\n",
      "Fold 0 - R2 : 0.8328908946545706\n",
      "🏃 View run Fold-0 at: http://localhost:5000/#/experiments/1/runs/84226f6ce7fe4798a165199b600ac4a6\n",
      "🧪 View experiment at: http://localhost:5000/#/experiments/1\n",
      "Fold 1 - MSE : 0.10458531587147538\n",
      "Fold 1 - R2 : 0.8554001230306121\n",
      "🏃 View run Fold-1 at: http://localhost:5000/#/experiments/1/runs/00cc438e07e64657ad5982b5dcab535f\n",
      "🧪 View experiment at: http://localhost:5000/#/experiments/1\n",
      "Fold 2 - MSE : 0.09787321670315674\n",
      "Fold 2 - R2 : 0.8590580101593661\n",
      "🏃 View run Fold-2 at: http://localhost:5000/#/experiments/1/runs/72676074d6cd45c29f8bd0f7530cd795\n",
      "🧪 View experiment at: http://localhost:5000/#/experiments/1\n",
      "Average MSE: 0.10573082529786326\n",
      "Average R2: 0.8491163426148495\n"
     ]
    },
    {
     "name": "stderr",
     "output_type": "stream",
     "text": [
      "d:\\ML_Assignment\\A2_ Assignment\\ml_env2\\Lib\\site-packages\\mlflow\\pyfunc\\utils\\data_validation.py:166: UserWarning: \u001b[33mAdd type hints to the `predict` method to enable data validation and automatic signature inference during model logging. Check https://mlflow.org/docs/latest/model/python_model.html#type-hint-usage-in-pythonmodel for more details.\u001b[0m\n",
      "  color_warning(\n"
     ]
    },
    {
     "name": "stdout",
     "output_type": "stream",
     "text": [
      "🏃 View run polynomial-False-reg-Lasso-momentum-0-method-mini-xavier-zero-lr-0.01 at: http://localhost:5000/#/experiments/1/runs/240c02d173c94321aae37455feb23bb0\n",
      "🧪 View experiment at: http://localhost:5000/#/experiments/1\n",
      "===== polynomial-False-reg-Lasso-momentum-0-method-mini-xavier-zero-lr-0.001 =====\n",
      "Fold 0 - MSE : 0.11478960350132729\n",
      "Fold 0 - R2 : 0.8328098260273615\n",
      "🏃 View run Fold-0 at: http://localhost:5000/#/experiments/1/runs/48a50bc078724d5f8f5c75294c9e1471\n",
      "🧪 View experiment at: http://localhost:5000/#/experiments/1\n",
      "Fold 1 - MSE : 0.1045404846600564\n",
      "Fold 1 - R2 : 0.855462106757501\n",
      "🏃 View run Fold-1 at: http://localhost:5000/#/experiments/1/runs/7bd21ba0f70944c8a83ed8fb2eed15e8\n",
      "🧪 View experiment at: http://localhost:5000/#/experiments/1\n",
      "Fold 2 - MSE : 0.09738206805448074\n",
      "Fold 2 - R2 : 0.859765287085411\n",
      "🏃 View run Fold-2 at: http://localhost:5000/#/experiments/1/runs/3e4defb046b84e0f8cd8a8a823910ecf\n",
      "🧪 View experiment at: http://localhost:5000/#/experiments/1\n",
      "Average MSE: 0.10557071873862149\n",
      "Average R2: 0.8493457399567578\n"
     ]
    },
    {
     "name": "stderr",
     "output_type": "stream",
     "text": [
      "d:\\ML_Assignment\\A2_ Assignment\\ml_env2\\Lib\\site-packages\\mlflow\\pyfunc\\utils\\data_validation.py:166: UserWarning: \u001b[33mAdd type hints to the `predict` method to enable data validation and automatic signature inference during model logging. Check https://mlflow.org/docs/latest/model/python_model.html#type-hint-usage-in-pythonmodel for more details.\u001b[0m\n",
      "  color_warning(\n"
     ]
    },
    {
     "name": "stdout",
     "output_type": "stream",
     "text": [
      "🏃 View run polynomial-False-reg-Lasso-momentum-0-method-mini-xavier-zero-lr-0.001 at: http://localhost:5000/#/experiments/1/runs/f93c3fa0f946466b8f7d098eaad587d4\n",
      "🧪 View experiment at: http://localhost:5000/#/experiments/1\n",
      "===== polynomial-False-reg-Lasso-momentum-0-method-mini-xavier-zero-lr-0.0001 =====\n",
      "Fold 0 - MSE : 37.942156783600204\n",
      "Fold 0 - R2 : -54.26245931735354\n",
      "🏃 View run Fold-0 at: http://localhost:5000/#/experiments/1/runs/809d5a04f8594604b70358b71c0e5544\n",
      "🧪 View experiment at: http://localhost:5000/#/experiments/1\n",
      "Fold 1 - MSE : 37.706044180633434\n",
      "Fold 1 - R2 : -51.13245572850977\n",
      "🏃 View run Fold-1 at: http://localhost:5000/#/experiments/1/runs/94271a6e06194f59b312f87a5f650868\n",
      "🧪 View experiment at: http://localhost:5000/#/experiments/1\n",
      "Fold 2 - MSE : 37.746340217845784\n",
      "Fold 2 - R2 : -53.35648769611903\n",
      "🏃 View run Fold-2 at: http://localhost:5000/#/experiments/1/runs/b4b2f2963ca24115b478f49de395a9a3\n",
      "🧪 View experiment at: http://localhost:5000/#/experiments/1\n",
      "Average MSE: 37.798180394026474\n",
      "Average R2: -52.91713424732745\n"
     ]
    },
    {
     "name": "stderr",
     "output_type": "stream",
     "text": [
      "d:\\ML_Assignment\\A2_ Assignment\\ml_env2\\Lib\\site-packages\\mlflow\\pyfunc\\utils\\data_validation.py:166: UserWarning: \u001b[33mAdd type hints to the `predict` method to enable data validation and automatic signature inference during model logging. Check https://mlflow.org/docs/latest/model/python_model.html#type-hint-usage-in-pythonmodel for more details.\u001b[0m\n",
      "  color_warning(\n"
     ]
    },
    {
     "name": "stdout",
     "output_type": "stream",
     "text": [
      "🏃 View run polynomial-False-reg-Lasso-momentum-0-method-mini-xavier-zero-lr-0.0001 at: http://localhost:5000/#/experiments/1/runs/906744ba1f214253a4876be5d5a48427\n",
      "🧪 View experiment at: http://localhost:5000/#/experiments/1\n",
      "===== polynomial-False-reg-Lasso-momentum-0-method-mini-xavier-xavier-lr-0.01 =====\n",
      "Fold 0 - MSE : 0.11467633221495432\n",
      "Fold 0 - R2 : 0.8329748047841231\n",
      "🏃 View run Fold-0 at: http://localhost:5000/#/experiments/1/runs/330b16098bb9473c99641f59e0ff3a88\n",
      "🧪 View experiment at: http://localhost:5000/#/experiments/1\n",
      "Fold 1 - MSE : 0.1046943414959718\n",
      "Fold 1 - R2 : 0.8552493839736295\n",
      "🏃 View run Fold-1 at: http://localhost:5000/#/experiments/1/runs/0f4e4d7bfdef4aad86466d161f0fb288\n",
      "🧪 View experiment at: http://localhost:5000/#/experiments/1\n",
      "Fold 2 - MSE : 0.09806057765819044\n",
      "Fold 2 - R2 : 0.8587882016590388\n",
      "🏃 View run Fold-2 at: http://localhost:5000/#/experiments/1/runs/af839e817f5b4e0889ce04bc1d404443\n",
      "🧪 View experiment at: http://localhost:5000/#/experiments/1\n",
      "Average MSE: 0.10581041712303885\n",
      "Average R2: 0.8490041301389305\n"
     ]
    },
    {
     "name": "stderr",
     "output_type": "stream",
     "text": [
      "d:\\ML_Assignment\\A2_ Assignment\\ml_env2\\Lib\\site-packages\\mlflow\\pyfunc\\utils\\data_validation.py:166: UserWarning: \u001b[33mAdd type hints to the `predict` method to enable data validation and automatic signature inference during model logging. Check https://mlflow.org/docs/latest/model/python_model.html#type-hint-usage-in-pythonmodel for more details.\u001b[0m\n",
      "  color_warning(\n"
     ]
    },
    {
     "name": "stdout",
     "output_type": "stream",
     "text": [
      "🏃 View run polynomial-False-reg-Lasso-momentum-0-method-mini-xavier-xavier-lr-0.01 at: http://localhost:5000/#/experiments/1/runs/1f645f2e6fc0427bbe9663dd98266eef\n",
      "🧪 View experiment at: http://localhost:5000/#/experiments/1\n",
      "===== polynomial-False-reg-Lasso-momentum-0-method-mini-xavier-xavier-lr-0.001 =====\n",
      "Fold 0 - MSE : 0.11481156113098354\n",
      "Fold 0 - R2 : 0.8327778449087735\n",
      "🏃 View run Fold-0 at: http://localhost:5000/#/experiments/1/runs/272f300ab9b9422582dd6f13173cb993\n",
      "🧪 View experiment at: http://localhost:5000/#/experiments/1\n",
      "Fold 1 - MSE : 0.1074275847934832\n",
      "Fold 1 - R2 : 0.8514703960607064\n",
      "🏃 View run Fold-1 at: http://localhost:5000/#/experiments/1/runs/4393fd53c38243779810ca649f957f79\n",
      "🧪 View experiment at: http://localhost:5000/#/experiments/1\n",
      "Fold 2 - MSE : 0.0990002362391631\n",
      "Fold 2 - R2 : 0.8574350495441472\n",
      "🏃 View run Fold-2 at: http://localhost:5000/#/experiments/1/runs/3cd747fe6bf44187b80df8f82da9712d\n",
      "🧪 View experiment at: http://localhost:5000/#/experiments/1\n",
      "Average MSE: 0.10707979405454328\n",
      "Average R2: 0.8472277635045424\n"
     ]
    },
    {
     "name": "stderr",
     "output_type": "stream",
     "text": [
      "d:\\ML_Assignment\\A2_ Assignment\\ml_env2\\Lib\\site-packages\\mlflow\\pyfunc\\utils\\data_validation.py:166: UserWarning: \u001b[33mAdd type hints to the `predict` method to enable data validation and automatic signature inference during model logging. Check https://mlflow.org/docs/latest/model/python_model.html#type-hint-usage-in-pythonmodel for more details.\u001b[0m\n",
      "  color_warning(\n"
     ]
    },
    {
     "name": "stdout",
     "output_type": "stream",
     "text": [
      "🏃 View run polynomial-False-reg-Lasso-momentum-0-method-mini-xavier-xavier-lr-0.001 at: http://localhost:5000/#/experiments/1/runs/f4ca8bb4a5514b668ea2404b25c61b71\n",
      "🧪 View experiment at: http://localhost:5000/#/experiments/1\n",
      "===== polynomial-False-reg-Lasso-momentum-0-method-mini-xavier-xavier-lr-0.0001 =====\n",
      "Fold 0 - MSE : 36.328868191252724\n",
      "Fold 0 - R2 : -51.9127168999618\n",
      "🏃 View run Fold-0 at: http://localhost:5000/#/experiments/1/runs/7cd05466d4f94763849f17dca5aefc51\n",
      "🧪 View experiment at: http://localhost:5000/#/experiments/1\n",
      "Fold 1 - MSE : 37.768305866986616\n",
      "Fold 1 - R2 : -51.21853886658281\n",
      "🏃 View run Fold-1 at: http://localhost:5000/#/experiments/1/runs/b731b864e8014db5ba0b8b80ba655f99\n",
      "🧪 View experiment at: http://localhost:5000/#/experiments/1\n",
      "Fold 2 - MSE : 38.734981612993195\n",
      "Fold 2 - R2 : -54.780177344467965\n",
      "🏃 View run Fold-2 at: http://localhost:5000/#/experiments/1/runs/a14156ff67894798b31ab92f3a24255c\n",
      "🧪 View experiment at: http://localhost:5000/#/experiments/1\n",
      "Average MSE: 37.61071855707751\n",
      "Average R2: -52.63714437033752\n"
     ]
    },
    {
     "name": "stderr",
     "output_type": "stream",
     "text": [
      "d:\\ML_Assignment\\A2_ Assignment\\ml_env2\\Lib\\site-packages\\mlflow\\pyfunc\\utils\\data_validation.py:166: UserWarning: \u001b[33mAdd type hints to the `predict` method to enable data validation and automatic signature inference during model logging. Check https://mlflow.org/docs/latest/model/python_model.html#type-hint-usage-in-pythonmodel for more details.\u001b[0m\n",
      "  color_warning(\n"
     ]
    },
    {
     "name": "stdout",
     "output_type": "stream",
     "text": [
      "🏃 View run polynomial-False-reg-Lasso-momentum-0-method-mini-xavier-xavier-lr-0.0001 at: http://localhost:5000/#/experiments/1/runs/4bb2d24c67584962ab9c3fdf91752f82\n",
      "🧪 View experiment at: http://localhost:5000/#/experiments/1\n",
      "===== polynomial-False-reg-Lasso-momentum-0-method-batch-xavier-zero-lr-0.01 =====\n",
      "Fold 0 - MSE : 22.910310262753224\n",
      "Fold 0 - R2 : -32.36869055874512\n",
      "🏃 View run Fold-0 at: http://localhost:5000/#/experiments/1/runs/3eb368a60d71406bb83c6e10e9195b39\n",
      "🧪 View experiment at: http://localhost:5000/#/experiments/1\n",
      "Fold 1 - MSE : 22.740797494676663\n",
      "Fold 1 - R2 : -30.44147428838877\n",
      "🏃 View run Fold-1 at: http://localhost:5000/#/experiments/1/runs/c03fc6f6441a4bf1a4601fa5864031d8\n",
      "🧪 View experiment at: http://localhost:5000/#/experiments/1\n",
      "Fold 2 - MSE : 22.761327498970648\n",
      "Fold 2 - R2 : -31.777371554559238\n",
      "🏃 View run Fold-2 at: http://localhost:5000/#/experiments/1/runs/d183953350ee4697a9483f19cd9cf0fb\n",
      "🧪 View experiment at: http://localhost:5000/#/experiments/1\n",
      "Average MSE: 22.804145085466843\n",
      "Average R2: -31.529178800564377\n"
     ]
    },
    {
     "name": "stderr",
     "output_type": "stream",
     "text": [
      "d:\\ML_Assignment\\A2_ Assignment\\ml_env2\\Lib\\site-packages\\mlflow\\pyfunc\\utils\\data_validation.py:166: UserWarning: \u001b[33mAdd type hints to the `predict` method to enable data validation and automatic signature inference during model logging. Check https://mlflow.org/docs/latest/model/python_model.html#type-hint-usage-in-pythonmodel for more details.\u001b[0m\n",
      "  color_warning(\n"
     ]
    },
    {
     "name": "stdout",
     "output_type": "stream",
     "text": [
      "🏃 View run polynomial-False-reg-Lasso-momentum-0-method-batch-xavier-zero-lr-0.01 at: http://localhost:5000/#/experiments/1/runs/096f851657ed4e2ab475b2e948f2e0ba\n",
      "🧪 View experiment at: http://localhost:5000/#/experiments/1\n",
      "===== polynomial-False-reg-Lasso-momentum-0-method-batch-xavier-zero-lr-0.001 =====\n",
      "Fold 0 - MSE : 138.90188418219128\n",
      "Fold 0 - R2 : -201.30952519388498\n",
      "🏃 View run Fold-0 at: http://localhost:5000/#/experiments/1/runs/d09d23a8171f4b9bb9661201fa2b8a33\n",
      "🧪 View experiment at: http://localhost:5000/#/experiments/1\n",
      "Fold 1 - MSE : 138.3019559544326\n",
      "Fold 1 - R2 : -190.2165742293373\n",
      "🏃 View run Fold-1 at: http://localhost:5000/#/experiments/1/runs/3c39597b9868472f8885cee443908c61\n",
      "🧪 View experiment at: http://localhost:5000/#/experiments/1\n",
      "Fold 2 - MSE : 138.43968364238034\n",
      "Fold 2 - R2 : -198.35959134400878\n",
      "🏃 View run Fold-2 at: http://localhost:5000/#/experiments/1/runs/209c07c7d12e42a4bff3f6f3daf068da\n",
      "🧪 View experiment at: http://localhost:5000/#/experiments/1\n",
      "Average MSE: 138.54784125966808\n",
      "Average R2: -196.628563589077\n"
     ]
    },
    {
     "name": "stderr",
     "output_type": "stream",
     "text": [
      "d:\\ML_Assignment\\A2_ Assignment\\ml_env2\\Lib\\site-packages\\mlflow\\pyfunc\\utils\\data_validation.py:166: UserWarning: \u001b[33mAdd type hints to the `predict` method to enable data validation and automatic signature inference during model logging. Check https://mlflow.org/docs/latest/model/python_model.html#type-hint-usage-in-pythonmodel for more details.\u001b[0m\n",
      "  color_warning(\n"
     ]
    },
    {
     "name": "stdout",
     "output_type": "stream",
     "text": [
      "🏃 View run polynomial-False-reg-Lasso-momentum-0-method-batch-xavier-zero-lr-0.001 at: http://localhost:5000/#/experiments/1/runs/bf1b1acc07f047029c2b81e0b5ceafe7\n",
      "🧪 View experiment at: http://localhost:5000/#/experiments/1\n",
      "===== polynomial-False-reg-Lasso-momentum-0-method-batch-xavier-zero-lr-0.0001 =====\n",
      "Fold 0 - MSE : 166.32508132629368\n",
      "Fold 0 - R2 : -241.25120075996034\n",
      "🏃 View run Fold-0 at: http://localhost:5000/#/experiments/1/runs/a338081e13234a30bdfc0596cbc2a16a\n",
      "🧪 View experiment at: http://localhost:5000/#/experiments/1\n",
      "Fold 1 - MSE : 165.6547535071236\n",
      "Fold 1 - R2 : -228.03460946621743\n",
      "🏃 View run Fold-1 at: http://localhost:5000/#/experiments/1/runs/0b73f898cf4b42139103b8cf03fc92fe\n",
      "🧪 View experiment at: http://localhost:5000/#/experiments/1\n",
      "Fold 2 - MSE : 165.81083763876885\n",
      "Fold 2 - R2 : -237.77532772657509\n",
      "🏃 View run Fold-2 at: http://localhost:5000/#/experiments/1/runs/7b8dc1b5a80c49c18577e748d6c4a5d4\n",
      "🧪 View experiment at: http://localhost:5000/#/experiments/1\n",
      "Average MSE: 165.93022415739537\n",
      "Average R2: -235.68704598425097\n"
     ]
    },
    {
     "name": "stderr",
     "output_type": "stream",
     "text": [
      "d:\\ML_Assignment\\A2_ Assignment\\ml_env2\\Lib\\site-packages\\mlflow\\pyfunc\\utils\\data_validation.py:166: UserWarning: \u001b[33mAdd type hints to the `predict` method to enable data validation and automatic signature inference during model logging. Check https://mlflow.org/docs/latest/model/python_model.html#type-hint-usage-in-pythonmodel for more details.\u001b[0m\n",
      "  color_warning(\n"
     ]
    },
    {
     "name": "stdout",
     "output_type": "stream",
     "text": [
      "🏃 View run polynomial-False-reg-Lasso-momentum-0-method-batch-xavier-zero-lr-0.0001 at: http://localhost:5000/#/experiments/1/runs/b501139f788d41e48ae1b6d9a75404e2\n",
      "🧪 View experiment at: http://localhost:5000/#/experiments/1\n",
      "===== polynomial-False-reg-Lasso-momentum-0-method-batch-xavier-xavier-lr-0.01 =====\n",
      "Fold 0 - MSE : 22.60437773321447\n",
      "Fold 0 - R2 : -31.923102184211864\n",
      "🏃 View run Fold-0 at: http://localhost:5000/#/experiments/1/runs/782468a9c524433b98489f9af2c189c1\n",
      "🧪 View experiment at: http://localhost:5000/#/experiments/1\n",
      "Fold 1 - MSE : 22.834215271458515\n",
      "Fold 1 - R2 : -30.57063390240198\n",
      "🏃 View run Fold-1 at: http://localhost:5000/#/experiments/1/runs/28cf455a28994976a7868f2d86128153\n",
      "🧪 View experiment at: http://localhost:5000/#/experiments/1\n",
      "Fold 2 - MSE : 21.555100408505716\n",
      "Fold 2 - R2 : -30.040348372359873\n",
      "🏃 View run Fold-2 at: http://localhost:5000/#/experiments/1/runs/cf0c34b3e47c45ca89fd780a69108c13\n",
      "🧪 View experiment at: http://localhost:5000/#/experiments/1\n",
      "Average MSE: 22.331231137726235\n",
      "Average R2: -30.844694819657906\n"
     ]
    },
    {
     "name": "stderr",
     "output_type": "stream",
     "text": [
      "d:\\ML_Assignment\\A2_ Assignment\\ml_env2\\Lib\\site-packages\\mlflow\\pyfunc\\utils\\data_validation.py:166: UserWarning: \u001b[33mAdd type hints to the `predict` method to enable data validation and automatic signature inference during model logging. Check https://mlflow.org/docs/latest/model/python_model.html#type-hint-usage-in-pythonmodel for more details.\u001b[0m\n",
      "  color_warning(\n"
     ]
    },
    {
     "name": "stdout",
     "output_type": "stream",
     "text": [
      "🏃 View run polynomial-False-reg-Lasso-momentum-0-method-batch-xavier-xavier-lr-0.01 at: http://localhost:5000/#/experiments/1/runs/f85fa6b3bfde42be9f1de28b528c99a4\n",
      "🧪 View experiment at: http://localhost:5000/#/experiments/1\n",
      "===== polynomial-False-reg-Lasso-momentum-0-method-batch-xavier-xavier-lr-0.001 =====\n",
      "Fold 0 - MSE : 140.3980211089288\n",
      "Fold 0 - R2 : -203.48863711202344\n",
      "🏃 View run Fold-0 at: http://localhost:5000/#/experiments/1/runs/a3d72d53995b437f8b1a947b5ce06782\n",
      "🧪 View experiment at: http://localhost:5000/#/experiments/1\n",
      "Fold 1 - MSE : 141.8854719546115\n",
      "Fold 1 - R2 : -195.17115096342192\n",
      "🏃 View run Fold-1 at: http://localhost:5000/#/experiments/1/runs/df2a393cf0234540b2679b9fd51f8317\n",
      "🧪 View experiment at: http://localhost:5000/#/experiments/1\n",
      "Fold 2 - MSE : 135.0617832864631\n",
      "Fold 2 - R2 : -193.49525752845324\n",
      "🏃 View run Fold-2 at: http://localhost:5000/#/experiments/1/runs/65a13da4d6e04bc9874329f897e4ffed\n",
      "🧪 View experiment at: http://localhost:5000/#/experiments/1\n",
      "Average MSE: 139.1150921166678\n",
      "Average R2: -197.38501520129952\n"
     ]
    },
    {
     "name": "stderr",
     "output_type": "stream",
     "text": [
      "d:\\ML_Assignment\\A2_ Assignment\\ml_env2\\Lib\\site-packages\\mlflow\\pyfunc\\utils\\data_validation.py:166: UserWarning: \u001b[33mAdd type hints to the `predict` method to enable data validation and automatic signature inference during model logging. Check https://mlflow.org/docs/latest/model/python_model.html#type-hint-usage-in-pythonmodel for more details.\u001b[0m\n",
      "  color_warning(\n"
     ]
    },
    {
     "name": "stdout",
     "output_type": "stream",
     "text": [
      "🏃 View run polynomial-False-reg-Lasso-momentum-0-method-batch-xavier-xavier-lr-0.001 at: http://localhost:5000/#/experiments/1/runs/b9fd348f83694d2fa673df7c976b54d0\n",
      "🧪 View experiment at: http://localhost:5000/#/experiments/1\n",
      "===== polynomial-False-reg-Lasso-momentum-0-method-batch-xavier-xavier-lr-0.0001 =====\n",
      "Fold 0 - MSE : 157.88690323139554\n",
      "Fold 0 - R2 : -228.96105931277071\n",
      "🏃 View run Fold-0 at: http://localhost:5000/#/experiments/1/runs/5fb5480758414121b220cddaea00d217\n",
      "🧪 View experiment at: http://localhost:5000/#/experiments/1\n",
      "Fold 1 - MSE : 171.5216384211819\n",
      "Fold 1 - R2 : -236.1461768473298\n",
      "🏃 View run Fold-1 at: http://localhost:5000/#/experiments/1/runs/ec0e22f8d9dc435497a6bddbc54f50df\n",
      "🧪 View experiment at: http://localhost:5000/#/experiments/1\n",
      "Fold 2 - MSE : 159.8067400424781\n",
      "Fold 2 - R2 : -229.12914758737375\n",
      "🏃 View run Fold-2 at: http://localhost:5000/#/experiments/1/runs/b0871e7a81b94ec1af06119d159fa2d6\n",
      "🧪 View experiment at: http://localhost:5000/#/experiments/1\n",
      "Average MSE: 163.07176056501854\n",
      "Average R2: -231.41212791582475\n"
     ]
    },
    {
     "name": "stderr",
     "output_type": "stream",
     "text": [
      "d:\\ML_Assignment\\A2_ Assignment\\ml_env2\\Lib\\site-packages\\mlflow\\pyfunc\\utils\\data_validation.py:166: UserWarning: \u001b[33mAdd type hints to the `predict` method to enable data validation and automatic signature inference during model logging. Check https://mlflow.org/docs/latest/model/python_model.html#type-hint-usage-in-pythonmodel for more details.\u001b[0m\n",
      "  color_warning(\n"
     ]
    },
    {
     "name": "stdout",
     "output_type": "stream",
     "text": [
      "🏃 View run polynomial-False-reg-Lasso-momentum-0-method-batch-xavier-xavier-lr-0.0001 at: http://localhost:5000/#/experiments/1/runs/a60ff7b8dfe54ba3b6231a2529d5c2a5\n",
      "🧪 View experiment at: http://localhost:5000/#/experiments/1\n",
      "===== polynomial-False-reg-Lasso-momentum-0.6-method-sto-xavier-zero-lr-0.01 =====\n",
      "Fold 0 - MSE : 0.1191408809625279\n",
      "Fold 0 - R2 : 0.826472223896582\n",
      "🏃 View run Fold-0 at: http://localhost:5000/#/experiments/1/runs/1e334c47609b4e2fad598c76321d9120\n",
      "🧪 View experiment at: http://localhost:5000/#/experiments/1\n",
      "Fold 1 - MSE : 0.10758966504070286\n",
      "Fold 1 - R2 : 0.8512463035711265\n",
      "🏃 View run Fold-1 at: http://localhost:5000/#/experiments/1/runs/6ce71e97e95643e99989dc824d56c4a9\n",
      "🧪 View experiment at: http://localhost:5000/#/experiments/1\n",
      "Fold 2 - MSE : 0.1022667899361969\n",
      "Fold 2 - R2 : 0.852731060102607\n",
      "🏃 View run Fold-2 at: http://localhost:5000/#/experiments/1/runs/c81984d37e254e68b832992df401f3cd\n",
      "🧪 View experiment at: http://localhost:5000/#/experiments/1\n",
      "Average MSE: 0.10966577864647588\n",
      "Average R2: 0.843483195856772\n"
     ]
    },
    {
     "name": "stderr",
     "output_type": "stream",
     "text": [
      "d:\\ML_Assignment\\A2_ Assignment\\ml_env2\\Lib\\site-packages\\mlflow\\pyfunc\\utils\\data_validation.py:166: UserWarning: \u001b[33mAdd type hints to the `predict` method to enable data validation and automatic signature inference during model logging. Check https://mlflow.org/docs/latest/model/python_model.html#type-hint-usage-in-pythonmodel for more details.\u001b[0m\n",
      "  color_warning(\n"
     ]
    },
    {
     "name": "stdout",
     "output_type": "stream",
     "text": [
      "🏃 View run polynomial-False-reg-Lasso-momentum-0.6-method-sto-xavier-zero-lr-0.01 at: http://localhost:5000/#/experiments/1/runs/1a3d18af95c249d598de66a365cca8b9\n",
      "🧪 View experiment at: http://localhost:5000/#/experiments/1\n",
      "===== polynomial-False-reg-Lasso-momentum-0.6-method-sto-xavier-zero-lr-0.001 =====\n",
      "Fold 0 - MSE : 0.11443619923939251\n",
      "Fold 0 - R2 : 0.8333245566147431\n",
      "🏃 View run Fold-0 at: http://localhost:5000/#/experiments/1/runs/d312927006d645cea300d871a83746d7\n",
      "🧪 View experiment at: http://localhost:5000/#/experiments/1\n",
      "Fold 1 - MSE : 0.10514368792587393\n",
      "Fold 1 - R2 : 0.8546281166576677\n",
      "🏃 View run Fold-1 at: http://localhost:5000/#/experiments/1/runs/298e05c8a8f842139a20a499dd8e0430\n",
      "🧪 View experiment at: http://localhost:5000/#/experiments/1\n",
      "Fold 2 - MSE : 0.09857407422781908\n",
      "Fold 2 - R2 : 0.8580487426861176\n",
      "🏃 View run Fold-2 at: http://localhost:5000/#/experiments/1/runs/0b341845a6224a8799377173c8e6e733\n",
      "🧪 View experiment at: http://localhost:5000/#/experiments/1\n",
      "Average MSE: 0.10605132046436183\n",
      "Average R2: 0.8486671386528428\n"
     ]
    },
    {
     "name": "stderr",
     "output_type": "stream",
     "text": [
      "d:\\ML_Assignment\\A2_ Assignment\\ml_env2\\Lib\\site-packages\\mlflow\\pyfunc\\utils\\data_validation.py:166: UserWarning: \u001b[33mAdd type hints to the `predict` method to enable data validation and automatic signature inference during model logging. Check https://mlflow.org/docs/latest/model/python_model.html#type-hint-usage-in-pythonmodel for more details.\u001b[0m\n",
      "  color_warning(\n"
     ]
    },
    {
     "name": "stdout",
     "output_type": "stream",
     "text": [
      "🏃 View run polynomial-False-reg-Lasso-momentum-0.6-method-sto-xavier-zero-lr-0.001 at: http://localhost:5000/#/experiments/1/runs/f500b987989c44069215216251e40524\n",
      "🧪 View experiment at: http://localhost:5000/#/experiments/1\n",
      "===== polynomial-False-reg-Lasso-momentum-0.6-method-sto-xavier-zero-lr-0.0001 =====\n",
      "Fold 0 - MSE : 0.11464275316313377\n",
      "Fold 0 - R2 : 0.8330237124146442\n",
      "🏃 View run Fold-0 at: http://localhost:5000/#/experiments/1/runs/43ba8216236348e48eb8d4ecc2bf1498\n",
      "🧪 View experiment at: http://localhost:5000/#/experiments/1\n",
      "Fold 1 - MSE : 0.1044134594078626\n",
      "Fold 1 - R2 : 0.8556377321374712\n",
      "🏃 View run Fold-1 at: http://localhost:5000/#/experiments/1/runs/aa8e104284e043409bf17f783a5a0f70\n",
      "🧪 View experiment at: http://localhost:5000/#/experiments/1\n",
      "Fold 2 - MSE : 0.09730270213593768\n",
      "Fold 2 - R2 : 0.8598795777040479\n",
      "🏃 View run Fold-2 at: http://localhost:5000/#/experiments/1/runs/536f7fdfb2824372ace9f8b16f3cd04c\n",
      "🧪 View experiment at: http://localhost:5000/#/experiments/1\n",
      "Average MSE: 0.10545297156897802\n",
      "Average R2: 0.8495136740853878\n"
     ]
    },
    {
     "name": "stderr",
     "output_type": "stream",
     "text": [
      "d:\\ML_Assignment\\A2_ Assignment\\ml_env2\\Lib\\site-packages\\mlflow\\pyfunc\\utils\\data_validation.py:166: UserWarning: \u001b[33mAdd type hints to the `predict` method to enable data validation and automatic signature inference during model logging. Check https://mlflow.org/docs/latest/model/python_model.html#type-hint-usage-in-pythonmodel for more details.\u001b[0m\n",
      "  color_warning(\n"
     ]
    },
    {
     "name": "stdout",
     "output_type": "stream",
     "text": [
      "🏃 View run polynomial-False-reg-Lasso-momentum-0.6-method-sto-xavier-zero-lr-0.0001 at: http://localhost:5000/#/experiments/1/runs/a8d57f04cefa4e3c8f962c89764f5507\n",
      "🧪 View experiment at: http://localhost:5000/#/experiments/1\n",
      "===== polynomial-False-reg-Lasso-momentum-0.6-method-sto-xavier-xavier-lr-0.01 =====\n",
      "Fold 0 - MSE : 0.11573599051238666\n",
      "Fold 0 - R2 : 0.8314314206300241\n",
      "🏃 View run Fold-0 at: http://localhost:5000/#/experiments/1/runs/b24524b728e04f1b8b5ca7207f60b3e9\n",
      "🧪 View experiment at: http://localhost:5000/#/experiments/1\n",
      "Fold 1 - MSE : 0.10648211432054333\n",
      "Fold 1 - R2 : 0.8527776055186125\n",
      "🏃 View run Fold-1 at: http://localhost:5000/#/experiments/1/runs/d5d91c66ccbc47088e60d14b282c2c69\n",
      "🧪 View experiment at: http://localhost:5000/#/experiments/1\n",
      "Fold 2 - MSE : 0.09695261504414351\n",
      "Fold 2 - R2 : 0.8603837194191878\n",
      "🏃 View run Fold-2 at: http://localhost:5000/#/experiments/1/runs/27e2160fc7c447c39e49e1f81492da52\n",
      "🧪 View experiment at: http://localhost:5000/#/experiments/1\n",
      "Average MSE: 0.10639023995902448\n",
      "Average R2: 0.8481975818559415\n"
     ]
    },
    {
     "name": "stderr",
     "output_type": "stream",
     "text": [
      "d:\\ML_Assignment\\A2_ Assignment\\ml_env2\\Lib\\site-packages\\mlflow\\pyfunc\\utils\\data_validation.py:166: UserWarning: \u001b[33mAdd type hints to the `predict` method to enable data validation and automatic signature inference during model logging. Check https://mlflow.org/docs/latest/model/python_model.html#type-hint-usage-in-pythonmodel for more details.\u001b[0m\n",
      "  color_warning(\n"
     ]
    },
    {
     "name": "stdout",
     "output_type": "stream",
     "text": [
      "🏃 View run polynomial-False-reg-Lasso-momentum-0.6-method-sto-xavier-xavier-lr-0.01 at: http://localhost:5000/#/experiments/1/runs/8d96d1f0c32142f29fe4a406678362df\n",
      "🧪 View experiment at: http://localhost:5000/#/experiments/1\n",
      "===== polynomial-False-reg-Lasso-momentum-0.6-method-sto-xavier-xavier-lr-0.001 =====\n",
      "Fold 0 - MSE : 0.11499528128904848\n",
      "Fold 0 - R2 : 0.8325102579126322\n",
      "🏃 View run Fold-0 at: http://localhost:5000/#/experiments/1/runs/cd462af1c5344fbca3c1ab100ff39b5f\n",
      "🧪 View experiment at: http://localhost:5000/#/experiments/1\n",
      "Fold 1 - MSE : 0.10465279214391374\n",
      "Fold 1 - R2 : 0.8553068301948862\n",
      "🏃 View run Fold-1 at: http://localhost:5000/#/experiments/1/runs/7108ab981c1d474489b43b81d0c047fc\n",
      "🧪 View experiment at: http://localhost:5000/#/experiments/1\n",
      "Fold 2 - MSE : 0.09760999914148928\n",
      "Fold 2 - R2 : 0.8594370557057583\n",
      "🏃 View run Fold-2 at: http://localhost:5000/#/experiments/1/runs/eb15977ba5e44fda98dc469b573583ce\n",
      "🧪 View experiment at: http://localhost:5000/#/experiments/1\n",
      "Average MSE: 0.10575269085815049\n",
      "Average R2: 0.8490847146044257\n"
     ]
    },
    {
     "name": "stderr",
     "output_type": "stream",
     "text": [
      "d:\\ML_Assignment\\A2_ Assignment\\ml_env2\\Lib\\site-packages\\mlflow\\pyfunc\\utils\\data_validation.py:166: UserWarning: \u001b[33mAdd type hints to the `predict` method to enable data validation and automatic signature inference during model logging. Check https://mlflow.org/docs/latest/model/python_model.html#type-hint-usage-in-pythonmodel for more details.\u001b[0m\n",
      "  color_warning(\n"
     ]
    },
    {
     "name": "stdout",
     "output_type": "stream",
     "text": [
      "🏃 View run polynomial-False-reg-Lasso-momentum-0.6-method-sto-xavier-xavier-lr-0.001 at: http://localhost:5000/#/experiments/1/runs/37955707a23d4baf9264ea40f5a4991a\n",
      "🧪 View experiment at: http://localhost:5000/#/experiments/1\n",
      "===== polynomial-False-reg-Lasso-momentum-0.6-method-sto-xavier-xavier-lr-0.0001 =====\n",
      "Fold 0 - MSE : 0.11465042716709162\n",
      "Fold 0 - R2 : 0.833012535286946\n",
      "🏃 View run Fold-0 at: http://localhost:5000/#/experiments/1/runs/298418db80fc4c71978bc3e8ec0c6818\n",
      "🧪 View experiment at: http://localhost:5000/#/experiments/1\n",
      "Fold 1 - MSE : 0.10439235552126908\n",
      "Fold 1 - R2 : 0.8556669104153162\n",
      "🏃 View run Fold-1 at: http://localhost:5000/#/experiments/1/runs/f6ab8ab18eeb4ecd8481a7fb20219968\n",
      "🧪 View experiment at: http://localhost:5000/#/experiments/1\n",
      "Fold 2 - MSE : 0.09724877839213943\n",
      "Fold 2 - R2 : 0.8599572304062538\n",
      "🏃 View run Fold-2 at: http://localhost:5000/#/experiments/1/runs/8bf6034207fa47c7809a1e07e8a80e26\n",
      "🧪 View experiment at: http://localhost:5000/#/experiments/1\n",
      "Average MSE: 0.1054305203601667\n",
      "Average R2: 0.8495455587028387\n"
     ]
    },
    {
     "name": "stderr",
     "output_type": "stream",
     "text": [
      "d:\\ML_Assignment\\A2_ Assignment\\ml_env2\\Lib\\site-packages\\mlflow\\pyfunc\\utils\\data_validation.py:166: UserWarning: \u001b[33mAdd type hints to the `predict` method to enable data validation and automatic signature inference during model logging. Check https://mlflow.org/docs/latest/model/python_model.html#type-hint-usage-in-pythonmodel for more details.\u001b[0m\n",
      "  color_warning(\n"
     ]
    },
    {
     "name": "stdout",
     "output_type": "stream",
     "text": [
      "🏃 View run polynomial-False-reg-Lasso-momentum-0.6-method-sto-xavier-xavier-lr-0.0001 at: http://localhost:5000/#/experiments/1/runs/5afece18996e4e84bb3a0e9b13736072\n",
      "🧪 View experiment at: http://localhost:5000/#/experiments/1\n",
      "===== polynomial-False-reg-Lasso-momentum-0.6-method-mini-xavier-zero-lr-0.01 =====\n",
      "Fold 0 - MSE : 0.11485179164309443\n",
      "Fold 0 - R2 : 0.8327192494775352\n",
      "🏃 View run Fold-0 at: http://localhost:5000/#/experiments/1/runs/4cb1486511a64369840ee3fbfe33ef36\n",
      "🧪 View experiment at: http://localhost:5000/#/experiments/1\n",
      "Fold 1 - MSE : 0.10466704243504561\n",
      "Fold 1 - R2 : 0.8552871277124938\n",
      "🏃 View run Fold-1 at: http://localhost:5000/#/experiments/1/runs/85d9c2a0763f49a0af76e71c28b4415e\n",
      "🧪 View experiment at: http://localhost:5000/#/experiments/1\n",
      "Fold 2 - MSE : 0.09776520136217301\n",
      "Fold 2 - R2 : 0.8592135572804721\n",
      "🏃 View run Fold-2 at: http://localhost:5000/#/experiments/1/runs/1b9a7d75450d48c5b38e9daf5a896218\n",
      "🧪 View experiment at: http://localhost:5000/#/experiments/1\n",
      "Average MSE: 0.105761345146771\n",
      "Average R2: 0.8490733114901671\n"
     ]
    },
    {
     "name": "stderr",
     "output_type": "stream",
     "text": [
      "d:\\ML_Assignment\\A2_ Assignment\\ml_env2\\Lib\\site-packages\\mlflow\\pyfunc\\utils\\data_validation.py:166: UserWarning: \u001b[33mAdd type hints to the `predict` method to enable data validation and automatic signature inference during model logging. Check https://mlflow.org/docs/latest/model/python_model.html#type-hint-usage-in-pythonmodel for more details.\u001b[0m\n",
      "  color_warning(\n"
     ]
    },
    {
     "name": "stdout",
     "output_type": "stream",
     "text": [
      "🏃 View run polynomial-False-reg-Lasso-momentum-0.6-method-mini-xavier-zero-lr-0.01 at: http://localhost:5000/#/experiments/1/runs/bd78f697eefc4d5d84dc8fd575571c96\n",
      "🧪 View experiment at: http://localhost:5000/#/experiments/1\n",
      "===== polynomial-False-reg-Lasso-momentum-0.6-method-mini-xavier-zero-lr-0.001 =====\n",
      "Fold 0 - MSE : 0.11479261598068634\n",
      "Fold 0 - R2 : 0.8328054383743619\n",
      "🏃 View run Fold-0 at: http://localhost:5000/#/experiments/1/runs/cd3059bc23564ac09d6816dcfabc8813\n",
      "🧪 View experiment at: http://localhost:5000/#/experiments/1\n",
      "Fold 1 - MSE : 0.10454164991724968\n",
      "Fold 1 - R2 : 0.8554604956704628\n",
      "🏃 View run Fold-1 at: http://localhost:5000/#/experiments/1/runs/22e32a96babd49f29d7807cc09d5dd04\n",
      "🧪 View experiment at: http://localhost:5000/#/experiments/1\n",
      "Fold 2 - MSE : 0.09738729764651821\n",
      "Fold 2 - R2 : 0.8597577562293439\n",
      "🏃 View run Fold-2 at: http://localhost:5000/#/experiments/1/runs/d6b9a8e474b141d58e4ef3bc6799c522\n",
      "🧪 View experiment at: http://localhost:5000/#/experiments/1\n",
      "Average MSE: 0.10557385451481809\n",
      "Average R2: 0.8493412300913895\n"
     ]
    },
    {
     "name": "stderr",
     "output_type": "stream",
     "text": [
      "d:\\ML_Assignment\\A2_ Assignment\\ml_env2\\Lib\\site-packages\\mlflow\\pyfunc\\utils\\data_validation.py:166: UserWarning: \u001b[33mAdd type hints to the `predict` method to enable data validation and automatic signature inference during model logging. Check https://mlflow.org/docs/latest/model/python_model.html#type-hint-usage-in-pythonmodel for more details.\u001b[0m\n",
      "  color_warning(\n"
     ]
    },
    {
     "name": "stdout",
     "output_type": "stream",
     "text": [
      "🏃 View run polynomial-False-reg-Lasso-momentum-0.6-method-mini-xavier-zero-lr-0.001 at: http://localhost:5000/#/experiments/1/runs/b67e118926524e6d8180f2bb0eb47530\n",
      "🧪 View experiment at: http://localhost:5000/#/experiments/1\n",
      "===== polynomial-False-reg-Lasso-momentum-0.6-method-mini-xavier-zero-lr-0.0001 =====\n",
      "Fold 0 - MSE : 37.94232659102941\n",
      "Fold 0 - R2 : -54.26270664056719\n",
      "🏃 View run Fold-0 at: http://localhost:5000/#/experiments/1/runs/c41cb5c0db2144f0bbd8ec7ecba7f925\n",
      "🧪 View experiment at: http://localhost:5000/#/experiments/1\n",
      "Fold 1 - MSE : 37.70609005592437\n",
      "Fold 1 - R2 : -51.132519155783186\n",
      "🏃 View run Fold-1 at: http://localhost:5000/#/experiments/1/runs/e406d1560826491cb910d12c665edf1f\n",
      "🧪 View experiment at: http://localhost:5000/#/experiments/1\n",
      "Fold 2 - MSE : 37.74645149843288\n",
      "Fold 2 - R2 : -53.3566479453466\n",
      "🏃 View run Fold-2 at: http://localhost:5000/#/experiments/1/runs/0c5198659ad141b592bcbb44b9cf3ab5\n",
      "🧪 View experiment at: http://localhost:5000/#/experiments/1\n",
      "Average MSE: 37.79828938179556\n",
      "Average R2: -52.91729124723233\n"
     ]
    },
    {
     "name": "stderr",
     "output_type": "stream",
     "text": [
      "d:\\ML_Assignment\\A2_ Assignment\\ml_env2\\Lib\\site-packages\\mlflow\\pyfunc\\utils\\data_validation.py:166: UserWarning: \u001b[33mAdd type hints to the `predict` method to enable data validation and automatic signature inference during model logging. Check https://mlflow.org/docs/latest/model/python_model.html#type-hint-usage-in-pythonmodel for more details.\u001b[0m\n",
      "  color_warning(\n"
     ]
    },
    {
     "name": "stdout",
     "output_type": "stream",
     "text": [
      "🏃 View run polynomial-False-reg-Lasso-momentum-0.6-method-mini-xavier-zero-lr-0.0001 at: http://localhost:5000/#/experiments/1/runs/e718ae54ff77419ab35edeec4b2b402b\n",
      "🧪 View experiment at: http://localhost:5000/#/experiments/1\n",
      "===== polynomial-False-reg-Lasso-momentum-0.6-method-mini-xavier-xavier-lr-0.01 =====\n",
      "Fold 0 - MSE : 0.114795409031427\n",
      "Fold 0 - R2 : 0.832801370317456\n",
      "🏃 View run Fold-0 at: http://localhost:5000/#/experiments/1/runs/1e3697fe021c43f8b24c7ff80a408bc0\n",
      "🧪 View experiment at: http://localhost:5000/#/experiments/1\n",
      "Fold 1 - MSE : 0.10476724952838495\n",
      "Fold 1 - R2 : 0.8551485811751757\n",
      "🏃 View run Fold-1 at: http://localhost:5000/#/experiments/1/runs/2a84484bdea4450c84cd415f09a3b6e7\n",
      "🧪 View experiment at: http://localhost:5000/#/experiments/1\n",
      "Fold 2 - MSE : 0.09778230973897609\n",
      "Fold 2 - R2 : 0.8591889204211679\n",
      "🏃 View run Fold-2 at: http://localhost:5000/#/experiments/1/runs/b6374b0ad92549e99cdd0b6ae0c8e4aa\n",
      "🧪 View experiment at: http://localhost:5000/#/experiments/1\n",
      "Average MSE: 0.105781656099596\n",
      "Average R2: 0.8490462906379332\n"
     ]
    },
    {
     "name": "stderr",
     "output_type": "stream",
     "text": [
      "d:\\ML_Assignment\\A2_ Assignment\\ml_env2\\Lib\\site-packages\\mlflow\\pyfunc\\utils\\data_validation.py:166: UserWarning: \u001b[33mAdd type hints to the `predict` method to enable data validation and automatic signature inference during model logging. Check https://mlflow.org/docs/latest/model/python_model.html#type-hint-usage-in-pythonmodel for more details.\u001b[0m\n",
      "  color_warning(\n"
     ]
    },
    {
     "name": "stdout",
     "output_type": "stream",
     "text": [
      "🏃 View run polynomial-False-reg-Lasso-momentum-0.6-method-mini-xavier-xavier-lr-0.01 at: http://localhost:5000/#/experiments/1/runs/3615a1fe5b5a42b59787a54c2d49320f\n",
      "🧪 View experiment at: http://localhost:5000/#/experiments/1\n",
      "===== polynomial-False-reg-Lasso-momentum-0.6-method-mini-xavier-xavier-lr-0.001 =====\n",
      "Fold 0 - MSE : 0.11517363559992634\n",
      "Fold 0 - R2 : 0.8322504862316185\n",
      "🏃 View run Fold-0 at: http://localhost:5000/#/experiments/1/runs/5a0308ee4d70412baa07ec00d5d0248f\n",
      "🧪 View experiment at: http://localhost:5000/#/experiments/1\n",
      "Fold 1 - MSE : 0.10554210350810199\n",
      "Fold 1 - R2 : 0.8540772664384682\n",
      "🏃 View run Fold-1 at: http://localhost:5000/#/experiments/1/runs/0e6ba9b772cd4e7fab025ed1b7ed71c8\n",
      "🧪 View experiment at: http://localhost:5000/#/experiments/1\n",
      "Fold 2 - MSE : 0.097886500510802\n",
      "Fold 2 - R2 : 0.8590388808577527\n",
      "🏃 View run Fold-2 at: http://localhost:5000/#/experiments/1/runs/97e2ee3b998d442596b82a70575e8ee9\n",
      "🧪 View experiment at: http://localhost:5000/#/experiments/1\n",
      "Average MSE: 0.1062007465396101\n",
      "Average R2: 0.8484555445092798\n"
     ]
    },
    {
     "name": "stderr",
     "output_type": "stream",
     "text": [
      "d:\\ML_Assignment\\A2_ Assignment\\ml_env2\\Lib\\site-packages\\mlflow\\pyfunc\\utils\\data_validation.py:166: UserWarning: \u001b[33mAdd type hints to the `predict` method to enable data validation and automatic signature inference during model logging. Check https://mlflow.org/docs/latest/model/python_model.html#type-hint-usage-in-pythonmodel for more details.\u001b[0m\n",
      "  color_warning(\n"
     ]
    },
    {
     "name": "stdout",
     "output_type": "stream",
     "text": [
      "🏃 View run polynomial-False-reg-Lasso-momentum-0.6-method-mini-xavier-xavier-lr-0.001 at: http://localhost:5000/#/experiments/1/runs/eb3254b3ab7145f1875137f168abbd8e\n",
      "🧪 View experiment at: http://localhost:5000/#/experiments/1\n",
      "===== polynomial-False-reg-Lasso-momentum-0.6-method-mini-xavier-xavier-lr-0.0001 =====\n",
      "Fold 0 - MSE : 37.794119894529814\n",
      "Fold 0 - R2 : -54.04684472785144\n",
      "🏃 View run Fold-0 at: http://localhost:5000/#/experiments/1/runs/ba62f9efa15047e2a2822994496e11dd\n",
      "🧪 View experiment at: http://localhost:5000/#/experiments/1\n",
      "Fold 1 - MSE : 39.68503716263923\n",
      "Fold 1 - R2 : -53.86861557405621\n",
      "🏃 View run Fold-1 at: http://localhost:5000/#/experiments/1/runs/149b9e55309c43d79717cb6331f38ae4\n",
      "🧪 View experiment at: http://localhost:5000/#/experiments/1\n",
      "Fold 2 - MSE : 38.126957257820365\n",
      "Fold 2 - R2 : -53.904593958366156\n",
      "🏃 View run Fold-2 at: http://localhost:5000/#/experiments/1/runs/a814e3185c8046978474f8aa3677fa27\n",
      "🧪 View experiment at: http://localhost:5000/#/experiments/1\n",
      "Average MSE: 38.535371438329804\n",
      "Average R2: -53.94001808675793\n"
     ]
    },
    {
     "name": "stderr",
     "output_type": "stream",
     "text": [
      "d:\\ML_Assignment\\A2_ Assignment\\ml_env2\\Lib\\site-packages\\mlflow\\pyfunc\\utils\\data_validation.py:166: UserWarning: \u001b[33mAdd type hints to the `predict` method to enable data validation and automatic signature inference during model logging. Check https://mlflow.org/docs/latest/model/python_model.html#type-hint-usage-in-pythonmodel for more details.\u001b[0m\n",
      "  color_warning(\n"
     ]
    },
    {
     "name": "stdout",
     "output_type": "stream",
     "text": [
      "🏃 View run polynomial-False-reg-Lasso-momentum-0.6-method-mini-xavier-xavier-lr-0.0001 at: http://localhost:5000/#/experiments/1/runs/7c35dd07f4bf492e94368be63e2ad2f8\n",
      "🧪 View experiment at: http://localhost:5000/#/experiments/1\n",
      "===== polynomial-False-reg-Lasso-momentum-0.6-method-batch-xavier-zero-lr-0.01 =====\n",
      "Fold 0 - MSE : 22.910310262753228\n",
      "Fold 0 - R2 : -32.36869055874513\n",
      "🏃 View run Fold-0 at: http://localhost:5000/#/experiments/1/runs/a3a164960b9b4a40a68cdb46cc3e251f\n",
      "🧪 View experiment at: http://localhost:5000/#/experiments/1\n",
      "Fold 1 - MSE : 22.740797494676663\n",
      "Fold 1 - R2 : -30.44147428838877\n",
      "🏃 View run Fold-1 at: http://localhost:5000/#/experiments/1/runs/d32fbf357bf24a5d80875544c57b0307\n",
      "🧪 View experiment at: http://localhost:5000/#/experiments/1\n",
      "Fold 2 - MSE : 22.761327498970648\n",
      "Fold 2 - R2 : -31.777371554559238\n",
      "🏃 View run Fold-2 at: http://localhost:5000/#/experiments/1/runs/337feffa029c469fab19eb6145888156\n",
      "🧪 View experiment at: http://localhost:5000/#/experiments/1\n",
      "Average MSE: 22.804145085466846\n",
      "Average R2: -31.52917880056438\n"
     ]
    },
    {
     "name": "stderr",
     "output_type": "stream",
     "text": [
      "d:\\ML_Assignment\\A2_ Assignment\\ml_env2\\Lib\\site-packages\\mlflow\\pyfunc\\utils\\data_validation.py:166: UserWarning: \u001b[33mAdd type hints to the `predict` method to enable data validation and automatic signature inference during model logging. Check https://mlflow.org/docs/latest/model/python_model.html#type-hint-usage-in-pythonmodel for more details.\u001b[0m\n",
      "  color_warning(\n"
     ]
    },
    {
     "name": "stdout",
     "output_type": "stream",
     "text": [
      "🏃 View run polynomial-False-reg-Lasso-momentum-0.6-method-batch-xavier-zero-lr-0.01 at: http://localhost:5000/#/experiments/1/runs/e9fd257be53044e99b4f03d5554ad9a7\n",
      "🧪 View experiment at: http://localhost:5000/#/experiments/1\n",
      "===== polynomial-False-reg-Lasso-momentum-0.6-method-batch-xavier-zero-lr-0.001 =====\n",
      "Fold 0 - MSE : 138.90188418219125\n",
      "Fold 0 - R2 : -201.30952519388495\n",
      "🏃 View run Fold-0 at: http://localhost:5000/#/experiments/1/runs/cedcc293e81b459f9bfbc7505e8d945c\n",
      "🧪 View experiment at: http://localhost:5000/#/experiments/1\n",
      "Fold 1 - MSE : 138.3019559544326\n",
      "Fold 1 - R2 : -190.21657422933734\n",
      "🏃 View run Fold-1 at: http://localhost:5000/#/experiments/1/runs/7cb1967bc4bd470b9e544833dc2b5122\n",
      "🧪 View experiment at: http://localhost:5000/#/experiments/1\n",
      "Fold 2 - MSE : 138.43968364238037\n",
      "Fold 2 - R2 : -198.3595913440088\n",
      "🏃 View run Fold-2 at: http://localhost:5000/#/experiments/1/runs/987a729241934ea380edb719439dc233\n",
      "🧪 View experiment at: http://localhost:5000/#/experiments/1\n",
      "Average MSE: 138.54784125966808\n",
      "Average R2: -196.628563589077\n"
     ]
    },
    {
     "name": "stderr",
     "output_type": "stream",
     "text": [
      "d:\\ML_Assignment\\A2_ Assignment\\ml_env2\\Lib\\site-packages\\mlflow\\pyfunc\\utils\\data_validation.py:166: UserWarning: \u001b[33mAdd type hints to the `predict` method to enable data validation and automatic signature inference during model logging. Check https://mlflow.org/docs/latest/model/python_model.html#type-hint-usage-in-pythonmodel for more details.\u001b[0m\n",
      "  color_warning(\n"
     ]
    },
    {
     "name": "stdout",
     "output_type": "stream",
     "text": [
      "🏃 View run polynomial-False-reg-Lasso-momentum-0.6-method-batch-xavier-zero-lr-0.001 at: http://localhost:5000/#/experiments/1/runs/82652764ea5d4dccaa9dc93ee3a56101\n",
      "🧪 View experiment at: http://localhost:5000/#/experiments/1\n",
      "===== polynomial-False-reg-Lasso-momentum-0.6-method-batch-xavier-zero-lr-0.0001 =====\n",
      "Fold 0 - MSE : 166.32508132629368\n",
      "Fold 0 - R2 : -241.25120075996034\n",
      "🏃 View run Fold-0 at: http://localhost:5000/#/experiments/1/runs/16a0808df7c44f749d6e190c070be33d\n",
      "🧪 View experiment at: http://localhost:5000/#/experiments/1\n",
      "Fold 1 - MSE : 165.6547535071236\n",
      "Fold 1 - R2 : -228.03460946621743\n",
      "🏃 View run Fold-1 at: http://localhost:5000/#/experiments/1/runs/dd4a3a32305e4c41927f67d3cf7151d5\n",
      "🧪 View experiment at: http://localhost:5000/#/experiments/1\n",
      "Fold 2 - MSE : 165.81083763876885\n",
      "Fold 2 - R2 : -237.77532772657509\n",
      "🏃 View run Fold-2 at: http://localhost:5000/#/experiments/1/runs/5f6a20e5210c4562873bb55200cfa40b\n",
      "🧪 View experiment at: http://localhost:5000/#/experiments/1\n",
      "Average MSE: 165.93022415739537\n",
      "Average R2: -235.68704598425097\n"
     ]
    },
    {
     "name": "stderr",
     "output_type": "stream",
     "text": [
      "d:\\ML_Assignment\\A2_ Assignment\\ml_env2\\Lib\\site-packages\\mlflow\\pyfunc\\utils\\data_validation.py:166: UserWarning: \u001b[33mAdd type hints to the `predict` method to enable data validation and automatic signature inference during model logging. Check https://mlflow.org/docs/latest/model/python_model.html#type-hint-usage-in-pythonmodel for more details.\u001b[0m\n",
      "  color_warning(\n"
     ]
    },
    {
     "name": "stdout",
     "output_type": "stream",
     "text": [
      "🏃 View run polynomial-False-reg-Lasso-momentum-0.6-method-batch-xavier-zero-lr-0.0001 at: http://localhost:5000/#/experiments/1/runs/fb0cca24c303452b9c8b9e5956e7bf4a\n",
      "🧪 View experiment at: http://localhost:5000/#/experiments/1\n",
      "===== polynomial-False-reg-Lasso-momentum-0.6-method-batch-xavier-xavier-lr-0.01 =====\n",
      "Fold 0 - MSE : 22.06840225988687\n",
      "Fold 0 - R2 : -31.142458032673588\n",
      "🏃 View run Fold-0 at: http://localhost:5000/#/experiments/1/runs/8b629d3bcf4b48459fe07676677810e7\n",
      "🧪 View experiment at: http://localhost:5000/#/experiments/1\n",
      "Fold 1 - MSE : 24.18345542632317\n",
      "Fold 1 - R2 : -32.43609616897241\n",
      "🏃 View run Fold-1 at: http://localhost:5000/#/experiments/1/runs/bbecdc92be494f3aad3fc4015e188cc3\n",
      "🧪 View experiment at: http://localhost:5000/#/experiments/1\n",
      "Fold 2 - MSE : 22.57720596162306\n",
      "Fold 2 - R2 : -31.512227966554036\n",
      "🏃 View run Fold-2 at: http://localhost:5000/#/experiments/1/runs/7f2c694834044d7699119d19cc0b7568\n",
      "🧪 View experiment at: http://localhost:5000/#/experiments/1\n",
      "Average MSE: 22.94302121594437\n",
      "Average R2: -31.696927389400013\n"
     ]
    },
    {
     "name": "stderr",
     "output_type": "stream",
     "text": [
      "d:\\ML_Assignment\\A2_ Assignment\\ml_env2\\Lib\\site-packages\\mlflow\\pyfunc\\utils\\data_validation.py:166: UserWarning: \u001b[33mAdd type hints to the `predict` method to enable data validation and automatic signature inference during model logging. Check https://mlflow.org/docs/latest/model/python_model.html#type-hint-usage-in-pythonmodel for more details.\u001b[0m\n",
      "  color_warning(\n"
     ]
    },
    {
     "name": "stdout",
     "output_type": "stream",
     "text": [
      "🏃 View run polynomial-False-reg-Lasso-momentum-0.6-method-batch-xavier-xavier-lr-0.01 at: http://localhost:5000/#/experiments/1/runs/d3fbd3a22de645a5ab65bca8f1659f81\n",
      "🧪 View experiment at: http://localhost:5000/#/experiments/1\n",
      "===== polynomial-False-reg-Lasso-momentum-0.6-method-batch-xavier-xavier-lr-0.001 =====\n",
      "Fold 0 - MSE : 140.72861088914\n",
      "Fold 0 - R2 : -203.97013858237608\n",
      "🏃 View run Fold-0 at: http://localhost:5000/#/experiments/1/runs/418d0c63df0048a89cf96feabe7cc67f\n",
      "🧪 View experiment at: http://localhost:5000/#/experiments/1\n",
      "Fold 1 - MSE : 135.31357339766475\n",
      "Fold 1 - R2 : -186.0848302417098\n",
      "🏃 View run Fold-1 at: http://localhost:5000/#/experiments/1/runs/fc444895366947c187cf3f5181ff3a4e\n",
      "🧪 View experiment at: http://localhost:5000/#/experiments/1\n",
      "Fold 2 - MSE : 135.32983741347385\n",
      "Fold 2 - R2 : -193.88126795417034\n",
      "🏃 View run Fold-2 at: http://localhost:5000/#/experiments/1/runs/540ad249ee8a46c4ba7722c8a7e1927e\n",
      "🧪 View experiment at: http://localhost:5000/#/experiments/1\n",
      "Average MSE: 137.1240072334262\n",
      "Average R2: -194.64541225941875\n"
     ]
    },
    {
     "name": "stderr",
     "output_type": "stream",
     "text": [
      "d:\\ML_Assignment\\A2_ Assignment\\ml_env2\\Lib\\site-packages\\mlflow\\pyfunc\\utils\\data_validation.py:166: UserWarning: \u001b[33mAdd type hints to the `predict` method to enable data validation and automatic signature inference during model logging. Check https://mlflow.org/docs/latest/model/python_model.html#type-hint-usage-in-pythonmodel for more details.\u001b[0m\n",
      "  color_warning(\n"
     ]
    },
    {
     "name": "stdout",
     "output_type": "stream",
     "text": [
      "🏃 View run polynomial-False-reg-Lasso-momentum-0.6-method-batch-xavier-xavier-lr-0.001 at: http://localhost:5000/#/experiments/1/runs/e25ba4464ade4f1a8631dc339cc2d6c1\n",
      "🧪 View experiment at: http://localhost:5000/#/experiments/1\n",
      "===== polynomial-False-reg-Lasso-momentum-0.6-method-batch-xavier-xavier-lr-0.0001 =====\n",
      "Fold 0 - MSE : 162.92162866177804\n",
      "Fold 0 - R2 : -236.29409815021546\n",
      "🏃 View run Fold-0 at: http://localhost:5000/#/experiments/1/runs/66303997309a4835b065fc7efeb644cb\n",
      "🧪 View experiment at: http://localhost:5000/#/experiments/1\n",
      "Fold 1 - MSE : 170.91836715379267\n",
      "Fold 1 - R2 : -235.31209272838092\n",
      "🏃 View run Fold-1 at: http://localhost:5000/#/experiments/1/runs/7c950075ae79405791b8ed4311f10a7f\n",
      "🧪 View experiment at: http://localhost:5000/#/experiments/1\n",
      "Fold 2 - MSE : 161.57771180584197\n",
      "Fold 2 - R2 : -231.67942939773985\n",
      "🏃 View run Fold-2 at: http://localhost:5000/#/experiments/1/runs/3639c945652d434da46108f25efa7910\n",
      "🧪 View experiment at: http://localhost:5000/#/experiments/1\n",
      "Average MSE: 165.1392358738042\n",
      "Average R2: -234.42854009211206\n"
     ]
    },
    {
     "name": "stderr",
     "output_type": "stream",
     "text": [
      "d:\\ML_Assignment\\A2_ Assignment\\ml_env2\\Lib\\site-packages\\mlflow\\pyfunc\\utils\\data_validation.py:166: UserWarning: \u001b[33mAdd type hints to the `predict` method to enable data validation and automatic signature inference during model logging. Check https://mlflow.org/docs/latest/model/python_model.html#type-hint-usage-in-pythonmodel for more details.\u001b[0m\n",
      "  color_warning(\n"
     ]
    },
    {
     "name": "stdout",
     "output_type": "stream",
     "text": [
      "🏃 View run polynomial-False-reg-Lasso-momentum-0.6-method-batch-xavier-xavier-lr-0.0001 at: http://localhost:5000/#/experiments/1/runs/c4275388bc2a450f8d91e2ddef7e59aa\n",
      "🧪 View experiment at: http://localhost:5000/#/experiments/1\n",
      "===== polynomial-True-reg-Normal-momentum-0-method-sto-xavier-zero-lr-0.01 =====\n",
      "Fold 0 - MSE : 0.7996875249060904\n",
      "Fold 0 - R2 : -0.16473872489029007\n",
      "🏃 View run Fold-0 at: http://localhost:5000/#/experiments/1/runs/46cc8c59159b4e58b9306c069d2e17e9\n",
      "🧪 View experiment at: http://localhost:5000/#/experiments/1\n",
      "Fold 1 - MSE : 0.4684189767360676\n",
      "Fold 1 - R2 : 0.3523629408032838\n",
      "🏃 View run Fold-1 at: http://localhost:5000/#/experiments/1/runs/85a2ebb604344a1d8a028d27d51c5b66\n",
      "🧪 View experiment at: http://localhost:5000/#/experiments/1\n",
      "Fold 2 - MSE : 0.5322745988735981\n",
      "Fold 2 - R2 : 0.23349979050550107\n",
      "🏃 View run Fold-2 at: http://localhost:5000/#/experiments/1/runs/c33db225659a4773a70d80f8d6494519\n",
      "🧪 View experiment at: http://localhost:5000/#/experiments/1\n",
      "Average MSE: 0.600127033505252\n",
      "Average R2: 0.14037466880616492\n"
     ]
    },
    {
     "name": "stderr",
     "output_type": "stream",
     "text": [
      "d:\\ML_Assignment\\A2_ Assignment\\ml_env2\\Lib\\site-packages\\mlflow\\pyfunc\\utils\\data_validation.py:166: UserWarning: \u001b[33mAdd type hints to the `predict` method to enable data validation and automatic signature inference during model logging. Check https://mlflow.org/docs/latest/model/python_model.html#type-hint-usage-in-pythonmodel for more details.\u001b[0m\n",
      "  color_warning(\n"
     ]
    },
    {
     "name": "stdout",
     "output_type": "stream",
     "text": [
      "🏃 View run polynomial-True-reg-Normal-momentum-0-method-sto-xavier-zero-lr-0.01 at: http://localhost:5000/#/experiments/1/runs/6ad8cd0d046f45c48e48e74f1e897482\n",
      "🧪 View experiment at: http://localhost:5000/#/experiments/1\n",
      "===== polynomial-True-reg-Normal-momentum-0-method-sto-xavier-zero-lr-0.001 =====\n",
      "Fold 0 - MSE : 0.4585337632426481\n",
      "Fold 0 - R2 : 0.33214910313737145\n",
      "🏃 View run Fold-0 at: http://localhost:5000/#/experiments/1/runs/2b58e13fe3df4c9d9e7ffe5ef97e5918\n",
      "🧪 View experiment at: http://localhost:5000/#/experiments/1\n",
      "Fold 1 - MSE : 0.499169860062815\n",
      "Fold 1 - R2 : 0.3098467050516792\n",
      "🏃 View run Fold-1 at: http://localhost:5000/#/experiments/1/runs/7be7c6c6e8024cba9ad063bace476407\n",
      "🧪 View experiment at: http://localhost:5000/#/experiments/1\n",
      "Fold 2 - MSE : 0.40021879318307435\n",
      "Fold 2 - R2 : 0.4236663003125728\n",
      "🏃 View run Fold-2 at: http://localhost:5000/#/experiments/1/runs/a9fae7d842234946bc264b1f76f6690c\n",
      "🧪 View experiment at: http://localhost:5000/#/experiments/1\n",
      "Average MSE: 0.4526408054961792\n",
      "Average R2: 0.35522070283387447\n"
     ]
    },
    {
     "name": "stderr",
     "output_type": "stream",
     "text": [
      "d:\\ML_Assignment\\A2_ Assignment\\ml_env2\\Lib\\site-packages\\mlflow\\pyfunc\\utils\\data_validation.py:166: UserWarning: \u001b[33mAdd type hints to the `predict` method to enable data validation and automatic signature inference during model logging. Check https://mlflow.org/docs/latest/model/python_model.html#type-hint-usage-in-pythonmodel for more details.\u001b[0m\n",
      "  color_warning(\n"
     ]
    },
    {
     "name": "stdout",
     "output_type": "stream",
     "text": [
      "🏃 View run polynomial-True-reg-Normal-momentum-0-method-sto-xavier-zero-lr-0.001 at: http://localhost:5000/#/experiments/1/runs/1e19242fca6c4400897e20534eb6bea6\n",
      "🧪 View experiment at: http://localhost:5000/#/experiments/1\n",
      "===== polynomial-True-reg-Normal-momentum-0-method-sto-xavier-zero-lr-0.0001 =====\n",
      "Fold 0 - MSE : 0.4671178429355948\n",
      "Fold 0 - R2 : 0.3196464571356179\n",
      "🏃 View run Fold-0 at: http://localhost:5000/#/experiments/1/runs/7be0b4e7589e44b2bf1f5e0b99b9b6f0\n",
      "🧪 View experiment at: http://localhost:5000/#/experiments/1\n",
      "Fold 1 - MSE : 0.41361996929454165\n",
      "Fold 1 - R2 : 0.42812816336881987\n",
      "🏃 View run Fold-1 at: http://localhost:5000/#/experiments/1/runs/4473fa9fac124f618a4c02a7072b4173\n",
      "🧪 View experiment at: http://localhost:5000/#/experiments/1\n",
      "Fold 2 - MSE : 0.4061275616120956\n",
      "Fold 2 - R2 : 0.4151573986135555\n",
      "🏃 View run Fold-2 at: http://localhost:5000/#/experiments/1/runs/15e8ebf472d843c2bcd68da6fb31b890\n",
      "🧪 View experiment at: http://localhost:5000/#/experiments/1\n",
      "Average MSE: 0.4289551246140773\n",
      "Average R2: 0.38764400637266444\n"
     ]
    },
    {
     "name": "stderr",
     "output_type": "stream",
     "text": [
      "d:\\ML_Assignment\\A2_ Assignment\\ml_env2\\Lib\\site-packages\\mlflow\\pyfunc\\utils\\data_validation.py:166: UserWarning: \u001b[33mAdd type hints to the `predict` method to enable data validation and automatic signature inference during model logging. Check https://mlflow.org/docs/latest/model/python_model.html#type-hint-usage-in-pythonmodel for more details.\u001b[0m\n",
      "  color_warning(\n"
     ]
    },
    {
     "name": "stdout",
     "output_type": "stream",
     "text": [
      "🏃 View run polynomial-True-reg-Normal-momentum-0-method-sto-xavier-zero-lr-0.0001 at: http://localhost:5000/#/experiments/1/runs/7c9e77ae329144e58f3e045fb92c0472\n",
      "🧪 View experiment at: http://localhost:5000/#/experiments/1\n",
      "===== polynomial-True-reg-Normal-momentum-0-method-sto-xavier-xavier-lr-0.01 =====\n",
      "Fold 0 - MSE : 0.6303975912322476\n",
      "Fold 0 - R2 : 0.08183076049362759\n",
      "🏃 View run Fold-0 at: http://localhost:5000/#/experiments/1/runs/83b227b2729e4f39ba437676580add2d\n",
      "🧪 View experiment at: http://localhost:5000/#/experiments/1\n",
      "Fold 1 - MSE : 0.9359844484779608\n",
      "Fold 1 - R2 : -0.29409406059925747\n",
      "🏃 View run Fold-1 at: http://localhost:5000/#/experiments/1/runs/9f46cda4fc8248d0ad5be9185e3b62b0\n",
      "🧪 View experiment at: http://localhost:5000/#/experiments/1\n",
      "Fold 2 - MSE : 0.5306387338521915\n",
      "Fold 2 - R2 : 0.23585551231575896\n",
      "🏃 View run Fold-2 at: http://localhost:5000/#/experiments/1/runs/944c75b4fce140238bb37fc17d4f6ac7\n",
      "🧪 View experiment at: http://localhost:5000/#/experiments/1\n",
      "Average MSE: 0.6990069245208\n",
      "Average R2: 0.007864070736709694\n"
     ]
    },
    {
     "name": "stderr",
     "output_type": "stream",
     "text": [
      "d:\\ML_Assignment\\A2_ Assignment\\ml_env2\\Lib\\site-packages\\mlflow\\pyfunc\\utils\\data_validation.py:166: UserWarning: \u001b[33mAdd type hints to the `predict` method to enable data validation and automatic signature inference during model logging. Check https://mlflow.org/docs/latest/model/python_model.html#type-hint-usage-in-pythonmodel for more details.\u001b[0m\n",
      "  color_warning(\n"
     ]
    },
    {
     "name": "stdout",
     "output_type": "stream",
     "text": [
      "🏃 View run polynomial-True-reg-Normal-momentum-0-method-sto-xavier-xavier-lr-0.01 at: http://localhost:5000/#/experiments/1/runs/dbb0dcbe06a04b7298394e08e29436d3\n",
      "🧪 View experiment at: http://localhost:5000/#/experiments/1\n",
      "===== polynomial-True-reg-Normal-momentum-0-method-sto-xavier-xavier-lr-0.001 =====\n",
      "Fold 0 - MSE : 0.4740835482794938\n",
      "Fold 0 - R2 : 0.30950096091674517\n",
      "🏃 View run Fold-0 at: http://localhost:5000/#/experiments/1/runs/22a6bd3390ae40a29c985b4db538e3bd\n",
      "🧪 View experiment at: http://localhost:5000/#/experiments/1\n",
      "Fold 1 - MSE : 0.9698552288385065\n",
      "Fold 1 - R2 : -0.3409238725301298\n",
      "🏃 View run Fold-1 at: http://localhost:5000/#/experiments/1/runs/7441c047aae64407854c8f4dd094f0d0\n",
      "🧪 View experiment at: http://localhost:5000/#/experiments/1\n",
      "Fold 2 - MSE : 0.4021255346758563\n",
      "Fold 2 - R2 : 0.4209205037692808\n",
      "🏃 View run Fold-2 at: http://localhost:5000/#/experiments/1/runs/cfd01f3089434ca987f3bc6ad3fe3c4a\n",
      "🧪 View experiment at: http://localhost:5000/#/experiments/1\n",
      "Average MSE: 0.6153547705979522\n",
      "Average R2: 0.12983253071863207\n"
     ]
    },
    {
     "name": "stderr",
     "output_type": "stream",
     "text": [
      "d:\\ML_Assignment\\A2_ Assignment\\ml_env2\\Lib\\site-packages\\mlflow\\pyfunc\\utils\\data_validation.py:166: UserWarning: \u001b[33mAdd type hints to the `predict` method to enable data validation and automatic signature inference during model logging. Check https://mlflow.org/docs/latest/model/python_model.html#type-hint-usage-in-pythonmodel for more details.\u001b[0m\n",
      "  color_warning(\n"
     ]
    },
    {
     "name": "stdout",
     "output_type": "stream",
     "text": [
      "🏃 View run polynomial-True-reg-Normal-momentum-0-method-sto-xavier-xavier-lr-0.001 at: http://localhost:5000/#/experiments/1/runs/d5362b6617734fd1be4e0d0e781ea715\n",
      "🧪 View experiment at: http://localhost:5000/#/experiments/1\n",
      "===== polynomial-True-reg-Normal-momentum-0-method-sto-xavier-xavier-lr-0.0001 =====\n",
      "Fold 0 - MSE : 0.45796326315328834\n",
      "Fold 0 - R2 : 0.33298003212642724\n",
      "🏃 View run Fold-0 at: http://localhost:5000/#/experiments/1/runs/4e64b450afe641d787cea310c4c7905f\n",
      "🧪 View experiment at: http://localhost:5000/#/experiments/1\n",
      "Fold 1 - MSE : 0.4185301759153944\n",
      "Fold 1 - R2 : 0.4213393014014083\n",
      "🏃 View run Fold-1 at: http://localhost:5000/#/experiments/1/runs/bce04962d4984aeca78fa1ecc62deec9\n",
      "🧪 View experiment at: http://localhost:5000/#/experiments/1\n",
      "Fold 2 - MSE : 0.4172619938391901\n",
      "Fold 2 - R2 : 0.399123297695099\n",
      "🏃 View run Fold-2 at: http://localhost:5000/#/experiments/1/runs/3ee3ffce138844edaae6c599053348fb\n",
      "🧪 View experiment at: http://localhost:5000/#/experiments/1\n",
      "Average MSE: 0.43125181096929094\n",
      "Average R2: 0.3844808770743115\n"
     ]
    },
    {
     "name": "stderr",
     "output_type": "stream",
     "text": [
      "d:\\ML_Assignment\\A2_ Assignment\\ml_env2\\Lib\\site-packages\\mlflow\\pyfunc\\utils\\data_validation.py:166: UserWarning: \u001b[33mAdd type hints to the `predict` method to enable data validation and automatic signature inference during model logging. Check https://mlflow.org/docs/latest/model/python_model.html#type-hint-usage-in-pythonmodel for more details.\u001b[0m\n",
      "  color_warning(\n"
     ]
    },
    {
     "name": "stdout",
     "output_type": "stream",
     "text": [
      "🏃 View run polynomial-True-reg-Normal-momentum-0-method-sto-xavier-xavier-lr-0.0001 at: http://localhost:5000/#/experiments/1/runs/fbf953b8bf7f437585a0178f0df47429\n",
      "🧪 View experiment at: http://localhost:5000/#/experiments/1\n",
      "===== polynomial-True-reg-Normal-momentum-0-method-mini-xavier-zero-lr-0.01 =====\n",
      "Fold 0 - MSE : 0.4698230626937465\n",
      "Fold 0 - R2 : 0.3157063253797453\n",
      "🏃 View run Fold-0 at: http://localhost:5000/#/experiments/1/runs/4412dc9556334d10be54df1a9e087f59\n",
      "🧪 View experiment at: http://localhost:5000/#/experiments/1\n",
      "Fold 1 - MSE : 0.40943529349866425\n",
      "Fold 1 - R2 : 0.43391390489666737\n",
      "🏃 View run Fold-1 at: http://localhost:5000/#/experiments/1/runs/079956b82ef64d3c99b497d7c441f1b9\n",
      "🧪 View experiment at: http://localhost:5000/#/experiments/1\n",
      "Fold 2 - MSE : 0.46023065305559574\n",
      "Fold 2 - R2 : 0.3372464274466015\n",
      "🏃 View run Fold-2 at: http://localhost:5000/#/experiments/1/runs/21fde45a98604ae7a9955d63097b4ed1\n",
      "🧪 View experiment at: http://localhost:5000/#/experiments/1\n",
      "Average MSE: 0.44649633641600217\n",
      "Average R2: 0.3622888859076714\n"
     ]
    },
    {
     "name": "stderr",
     "output_type": "stream",
     "text": [
      "d:\\ML_Assignment\\A2_ Assignment\\ml_env2\\Lib\\site-packages\\mlflow\\pyfunc\\utils\\data_validation.py:166: UserWarning: \u001b[33mAdd type hints to the `predict` method to enable data validation and automatic signature inference during model logging. Check https://mlflow.org/docs/latest/model/python_model.html#type-hint-usage-in-pythonmodel for more details.\u001b[0m\n",
      "  color_warning(\n"
     ]
    },
    {
     "name": "stdout",
     "output_type": "stream",
     "text": [
      "🏃 View run polynomial-True-reg-Normal-momentum-0-method-mini-xavier-zero-lr-0.01 at: http://localhost:5000/#/experiments/1/runs/b3b9da8fdb37474b9504f14dadd61432\n",
      "🧪 View experiment at: http://localhost:5000/#/experiments/1\n",
      "===== polynomial-True-reg-Normal-momentum-0-method-mini-xavier-zero-lr-0.001 =====\n",
      "Fold 0 - MSE : 0.8314430221494512\n",
      "Fold 0 - R2 : -0.21099036220554335\n",
      "🏃 View run Fold-0 at: http://localhost:5000/#/experiments/1/runs/730e69aa9bea4cda97c30aa56eff4259\n",
      "🧪 View experiment at: http://localhost:5000/#/experiments/1\n",
      "Fold 1 - MSE : 0.7373548210234537\n",
      "Fold 1 - R2 : -0.019468321287122725\n",
      "🏃 View run Fold-1 at: http://localhost:5000/#/experiments/1/runs/d22b8aaea6374d088e2e5131e6351acc\n",
      "🧪 View experiment at: http://localhost:5000/#/experiments/1\n",
      "Fold 2 - MSE : 0.7901093094745982\n",
      "Fold 2 - R2 : -0.1377941996808547\n",
      "🏃 View run Fold-2 at: http://localhost:5000/#/experiments/1/runs/bbe92144b9634c7792d74fcbd794d872\n",
      "🧪 View experiment at: http://localhost:5000/#/experiments/1\n",
      "Average MSE: 0.7863023842158343\n",
      "Average R2: -0.12275096105784027\n"
     ]
    },
    {
     "name": "stderr",
     "output_type": "stream",
     "text": [
      "d:\\ML_Assignment\\A2_ Assignment\\ml_env2\\Lib\\site-packages\\mlflow\\pyfunc\\utils\\data_validation.py:166: UserWarning: \u001b[33mAdd type hints to the `predict` method to enable data validation and automatic signature inference during model logging. Check https://mlflow.org/docs/latest/model/python_model.html#type-hint-usage-in-pythonmodel for more details.\u001b[0m\n",
      "  color_warning(\n"
     ]
    },
    {
     "name": "stdout",
     "output_type": "stream",
     "text": [
      "🏃 View run polynomial-True-reg-Normal-momentum-0-method-mini-xavier-zero-lr-0.001 at: http://localhost:5000/#/experiments/1/runs/32b353b7d184442e848e2fb4a1974a7d\n",
      "🧪 View experiment at: http://localhost:5000/#/experiments/1\n",
      "===== polynomial-True-reg-Normal-momentum-0-method-mini-xavier-zero-lr-0.0001 =====\n",
      "Fold 0 - MSE : 31.743495582111425\n",
      "Fold 0 - R2 : -45.23415698801959\n",
      "🏃 View run Fold-0 at: http://localhost:5000/#/experiments/1/runs/887612906e764a5a95adc17d407b17da\n",
      "🧪 View experiment at: http://localhost:5000/#/experiments/1\n",
      "Fold 1 - MSE : 28.623340598381514\n",
      "Fold 1 - R2 : -38.574690715331165\n",
      "🏃 View run Fold-1 at: http://localhost:5000/#/experiments/1/runs/e430edaa15734f73a4e769dc62a9ed3f\n",
      "🧪 View experiment at: http://localhost:5000/#/experiments/1\n",
      "Fold 2 - MSE : 30.58428148449369\n",
      "Fold 2 - R2 : -43.04278959528225\n",
      "🏃 View run Fold-2 at: http://localhost:5000/#/experiments/1/runs/46a480efe5d04baa85fe9d31f5e28115\n",
      "🧪 View experiment at: http://localhost:5000/#/experiments/1\n",
      "Average MSE: 30.31703922166221\n",
      "Average R2: -42.28387909954433\n"
     ]
    },
    {
     "name": "stderr",
     "output_type": "stream",
     "text": [
      "d:\\ML_Assignment\\A2_ Assignment\\ml_env2\\Lib\\site-packages\\mlflow\\pyfunc\\utils\\data_validation.py:166: UserWarning: \u001b[33mAdd type hints to the `predict` method to enable data validation and automatic signature inference during model logging. Check https://mlflow.org/docs/latest/model/python_model.html#type-hint-usage-in-pythonmodel for more details.\u001b[0m\n",
      "  color_warning(\n"
     ]
    },
    {
     "name": "stdout",
     "output_type": "stream",
     "text": [
      "🏃 View run polynomial-True-reg-Normal-momentum-0-method-mini-xavier-zero-lr-0.0001 at: http://localhost:5000/#/experiments/1/runs/9c350815104546abba3d9b379e7a5239\n",
      "🧪 View experiment at: http://localhost:5000/#/experiments/1\n",
      "===== polynomial-True-reg-Normal-momentum-0-method-mini-xavier-xavier-lr-0.01 =====\n",
      "Fold 0 - MSE : 0.45940335455791104\n",
      "Fold 0 - R2 : 0.33088255007987066\n",
      "🏃 View run Fold-0 at: http://localhost:5000/#/experiments/1/runs/f983469f203a443a90a59623a79f6f35\n",
      "🧪 View experiment at: http://localhost:5000/#/experiments/1\n",
      "Fold 1 - MSE : 0.4613407251217055\n",
      "Fold 1 - R2 : 0.36214934632366225\n",
      "🏃 View run Fold-1 at: http://localhost:5000/#/experiments/1/runs/8925d825a4444ef0980f5c789795c730\n",
      "🧪 View experiment at: http://localhost:5000/#/experiments/1\n",
      "Fold 2 - MSE : 0.40772174775227876\n",
      "Fold 2 - R2 : 0.4128616963331734\n",
      "🏃 View run Fold-2 at: http://localhost:5000/#/experiments/1/runs/69edc343cb4b44ce845e420dcc2c6e93\n",
      "🧪 View experiment at: http://localhost:5000/#/experiments/1\n",
      "Average MSE: 0.4428219424772984\n",
      "Average R2: 0.3686311975789021\n"
     ]
    },
    {
     "name": "stderr",
     "output_type": "stream",
     "text": [
      "d:\\ML_Assignment\\A2_ Assignment\\ml_env2\\Lib\\site-packages\\mlflow\\pyfunc\\utils\\data_validation.py:166: UserWarning: \u001b[33mAdd type hints to the `predict` method to enable data validation and automatic signature inference during model logging. Check https://mlflow.org/docs/latest/model/python_model.html#type-hint-usage-in-pythonmodel for more details.\u001b[0m\n",
      "  color_warning(\n"
     ]
    },
    {
     "name": "stdout",
     "output_type": "stream",
     "text": [
      "🏃 View run polynomial-True-reg-Normal-momentum-0-method-mini-xavier-xavier-lr-0.01 at: http://localhost:5000/#/experiments/1/runs/4ea1e3c823d140028cb46ce8ec266f6d\n",
      "🧪 View experiment at: http://localhost:5000/#/experiments/1\n",
      "===== polynomial-True-reg-Normal-momentum-0-method-mini-xavier-xavier-lr-0.001 =====\n",
      "Fold 0 - MSE : 0.8456770490410668\n",
      "Fold 0 - R2 : -0.2317221128149347\n",
      "🏃 View run Fold-0 at: http://localhost:5000/#/experiments/1/runs/5538355168cf44409e53563a91f941c6\n",
      "🧪 View experiment at: http://localhost:5000/#/experiments/1\n",
      "Fold 1 - MSE : 0.7296540729906495\n",
      "Fold 1 - R2 : -0.008821250913647383\n",
      "🏃 View run Fold-1 at: http://localhost:5000/#/experiments/1/runs/0223c280a25e468e9ab94d988fcf85c3\n",
      "🧪 View experiment at: http://localhost:5000/#/experiments/1\n",
      "Fold 2 - MSE : 0.8043800782777177\n",
      "Fold 2 - R2 : -0.1583447713226105\n",
      "🏃 View run Fold-2 at: http://localhost:5000/#/experiments/1/runs/f168ac38c3dd4da5a8cc7902a38de854\n",
      "🧪 View experiment at: http://localhost:5000/#/experiments/1\n",
      "Average MSE: 0.7932370667698114\n",
      "Average R2: -0.13296271168373086\n"
     ]
    },
    {
     "name": "stderr",
     "output_type": "stream",
     "text": [
      "d:\\ML_Assignment\\A2_ Assignment\\ml_env2\\Lib\\site-packages\\mlflow\\pyfunc\\utils\\data_validation.py:166: UserWarning: \u001b[33mAdd type hints to the `predict` method to enable data validation and automatic signature inference during model logging. Check https://mlflow.org/docs/latest/model/python_model.html#type-hint-usage-in-pythonmodel for more details.\u001b[0m\n",
      "  color_warning(\n"
     ]
    },
    {
     "name": "stdout",
     "output_type": "stream",
     "text": [
      "🏃 View run polynomial-True-reg-Normal-momentum-0-method-mini-xavier-xavier-lr-0.001 at: http://localhost:5000/#/experiments/1/runs/18ec93bf16d941558cabba9f64fb6898\n",
      "🧪 View experiment at: http://localhost:5000/#/experiments/1\n",
      "===== polynomial-True-reg-Normal-momentum-0-method-mini-xavier-xavier-lr-0.0001 =====\n",
      "Fold 0 - MSE : 29.759541795591858\n",
      "Fold 0 - R2 : -42.344543568298654\n",
      "🏃 View run Fold-0 at: http://localhost:5000/#/experiments/1/runs/61b2d9736df44251874e92f833965d3f\n",
      "🧪 View experiment at: http://localhost:5000/#/experiments/1\n",
      "Fold 1 - MSE : 27.79687283989128\n",
      "Fold 1 - R2 : -37.43201465989222\n",
      "🏃 View run Fold-1 at: http://localhost:5000/#/experiments/1/runs/0e584e5e498c444c826c620f35030434\n",
      "🧪 View experiment at: http://localhost:5000/#/experiments/1\n",
      "Fold 2 - MSE : 32.31784879722842\n",
      "Fold 2 - R2 : -45.539207254881184\n",
      "🏃 View run Fold-2 at: http://localhost:5000/#/experiments/1/runs/ea313b51d60746f09ee41b69bfb04805\n",
      "🧪 View experiment at: http://localhost:5000/#/experiments/1\n",
      "Average MSE: 29.95808781090385\n",
      "Average R2: -41.77192182769068\n"
     ]
    },
    {
     "name": "stderr",
     "output_type": "stream",
     "text": [
      "d:\\ML_Assignment\\A2_ Assignment\\ml_env2\\Lib\\site-packages\\mlflow\\pyfunc\\utils\\data_validation.py:166: UserWarning: \u001b[33mAdd type hints to the `predict` method to enable data validation and automatic signature inference during model logging. Check https://mlflow.org/docs/latest/model/python_model.html#type-hint-usage-in-pythonmodel for more details.\u001b[0m\n",
      "  color_warning(\n"
     ]
    },
    {
     "name": "stdout",
     "output_type": "stream",
     "text": [
      "🏃 View run polynomial-True-reg-Normal-momentum-0-method-mini-xavier-xavier-lr-0.0001 at: http://localhost:5000/#/experiments/1/runs/3bbc5db86f62452a84340ac03069d640\n",
      "🧪 View experiment at: http://localhost:5000/#/experiments/1\n",
      "===== polynomial-True-reg-Normal-momentum-0-method-batch-xavier-zero-lr-0.01 =====\n",
      "Fold 0 - MSE : 26.09976222855073\n",
      "Fold 0 - R2 : -37.014102797954514\n",
      "🏃 View run Fold-0 at: http://localhost:5000/#/experiments/1/runs/617cff1de8e04a05ad7c85b82a45afbf\n",
      "🧪 View experiment at: http://localhost:5000/#/experiments/1\n",
      "Fold 1 - MSE : 23.04537336572802\n",
      "Fold 1 - R2 : -30.862581526196355\n",
      "🏃 View run Fold-1 at: http://localhost:5000/#/experiments/1/runs/0a6d0961cc184a97b68fd84ec73186de\n",
      "🧪 View experiment at: http://localhost:5000/#/experiments/1\n",
      "Fold 2 - MSE : 24.7091952863439\n",
      "Fold 2 - R2 : -34.58239187724374\n",
      "🏃 View run Fold-2 at: http://localhost:5000/#/experiments/1/runs/b2d3a2b966f44289945908dbbb728f74\n",
      "🧪 View experiment at: http://localhost:5000/#/experiments/1\n",
      "Average MSE: 24.618110293540884\n",
      "Average R2: -34.15302540046487\n"
     ]
    },
    {
     "name": "stderr",
     "output_type": "stream",
     "text": [
      "d:\\ML_Assignment\\A2_ Assignment\\ml_env2\\Lib\\site-packages\\mlflow\\pyfunc\\utils\\data_validation.py:166: UserWarning: \u001b[33mAdd type hints to the `predict` method to enable data validation and automatic signature inference during model logging. Check https://mlflow.org/docs/latest/model/python_model.html#type-hint-usage-in-pythonmodel for more details.\u001b[0m\n",
      "  color_warning(\n"
     ]
    },
    {
     "name": "stdout",
     "output_type": "stream",
     "text": [
      "🏃 View run polynomial-True-reg-Normal-momentum-0-method-batch-xavier-zero-lr-0.01 at: http://localhost:5000/#/experiments/1/runs/f491f26ee07448a5863490de6c037a25\n",
      "🧪 View experiment at: http://localhost:5000/#/experiments/1\n",
      "===== polynomial-True-reg-Normal-momentum-0-method-batch-xavier-zero-lr-0.001 =====\n",
      "Fold 0 - MSE : 79.2231730314955\n",
      "Fold 0 - R2 : -114.38794174549982\n",
      "🏃 View run Fold-0 at: http://localhost:5000/#/experiments/1/runs/80304726a90744fdbf3f109a85d775c3\n",
      "🧪 View experiment at: http://localhost:5000/#/experiments/1\n",
      "Fold 1 - MSE : 79.52897088050791\n",
      "Fold 1 - R2 : -108.95692185847248\n",
      "🏃 View run Fold-1 at: http://localhost:5000/#/experiments/1/runs/1a6ddca331674464a01a6b45cdee5a6b\n",
      "🧪 View experiment at: http://localhost:5000/#/experiments/1\n",
      "Fold 2 - MSE : 81.44455847677229\n",
      "Fold 2 - R2 : -116.28395694016173\n",
      "🏃 View run Fold-2 at: http://localhost:5000/#/experiments/1/runs/037f9993dcd5424a91e360a7b6611fc2\n",
      "🧪 View experiment at: http://localhost:5000/#/experiments/1\n",
      "Average MSE: 80.06556746292523\n",
      "Average R2: -113.20960684804469\n"
     ]
    },
    {
     "name": "stderr",
     "output_type": "stream",
     "text": [
      "d:\\ML_Assignment\\A2_ Assignment\\ml_env2\\Lib\\site-packages\\mlflow\\pyfunc\\utils\\data_validation.py:166: UserWarning: \u001b[33mAdd type hints to the `predict` method to enable data validation and automatic signature inference during model logging. Check https://mlflow.org/docs/latest/model/python_model.html#type-hint-usage-in-pythonmodel for more details.\u001b[0m\n",
      "  color_warning(\n"
     ]
    },
    {
     "name": "stdout",
     "output_type": "stream",
     "text": [
      "🏃 View run polynomial-True-reg-Normal-momentum-0-method-batch-xavier-zero-lr-0.001 at: http://localhost:5000/#/experiments/1/runs/7ceb3501d4bf4576865997e9de154176\n",
      "🧪 View experiment at: http://localhost:5000/#/experiments/1\n",
      "===== polynomial-True-reg-Normal-momentum-0-method-batch-xavier-zero-lr-0.0001 =====\n",
      "Fold 0 - MSE : 150.656945480473\n",
      "Fold 0 - R2 : -218.43068149699934\n",
      "🏃 View run Fold-0 at: http://localhost:5000/#/experiments/1/runs/0c9c3b975ff84fb091ff19cedf9bb918\n",
      "🧪 View experiment at: http://localhost:5000/#/experiments/1\n",
      "Fold 1 - MSE : 150.07811173158012\n",
      "Fold 1 - R2 : -206.49831189354714\n",
      "🏃 View run Fold-1 at: http://localhost:5000/#/experiments/1/runs/4a7ea1f0531043a0bd3f390838a5a9f9\n",
      "🧪 View experiment at: http://localhost:5000/#/experiments/1\n",
      "Fold 2 - MSE : 150.35510863355938\n",
      "Fold 2 - R2 : -215.51835821224256\n",
      "🏃 View run Fold-2 at: http://localhost:5000/#/experiments/1/runs/6286cbdb18cf4826bb2d4d0911c0fd4d\n",
      "🧪 View experiment at: http://localhost:5000/#/experiments/1\n",
      "Average MSE: 150.36338861520417\n",
      "Average R2: -213.482450534263\n"
     ]
    },
    {
     "name": "stderr",
     "output_type": "stream",
     "text": [
      "d:\\ML_Assignment\\A2_ Assignment\\ml_env2\\Lib\\site-packages\\mlflow\\pyfunc\\utils\\data_validation.py:166: UserWarning: \u001b[33mAdd type hints to the `predict` method to enable data validation and automatic signature inference during model logging. Check https://mlflow.org/docs/latest/model/python_model.html#type-hint-usage-in-pythonmodel for more details.\u001b[0m\n",
      "  color_warning(\n"
     ]
    },
    {
     "name": "stdout",
     "output_type": "stream",
     "text": [
      "🏃 View run polynomial-True-reg-Normal-momentum-0-method-batch-xavier-zero-lr-0.0001 at: http://localhost:5000/#/experiments/1/runs/259f9a82beaa4c2ea2b8205b50cc6176\n",
      "🧪 View experiment at: http://localhost:5000/#/experiments/1\n",
      "===== polynomial-True-reg-Normal-momentum-0-method-batch-xavier-xavier-lr-0.01 =====\n",
      "Fold 0 - MSE : 27.071007906397742\n",
      "Fold 0 - R2 : -38.4287146521329\n",
      "🏃 View run Fold-0 at: http://localhost:5000/#/experiments/1/runs/1e3b93b819f146b3a6c304a4f0a4d68b\n",
      "🧪 View experiment at: http://localhost:5000/#/experiments/1\n",
      "Fold 1 - MSE : 24.355436808976275\n",
      "Fold 1 - R2 : -32.673877989158576\n",
      "🏃 View run Fold-1 at: http://localhost:5000/#/experiments/1/runs/6d0c39539d5247cd8c4dfd6ced6d99cf\n",
      "🧪 View experiment at: http://localhost:5000/#/experiments/1\n",
      "Fold 2 - MSE : 24.730196488946167\n",
      "Fold 2 - R2 : -34.612634586981045\n",
      "🏃 View run Fold-2 at: http://localhost:5000/#/experiments/1/runs/313641aa163f4a709b5607497f4b5dd9\n",
      "🧪 View experiment at: http://localhost:5000/#/experiments/1\n",
      "Average MSE: 25.385547068106728\n",
      "Average R2: -35.23840907609084\n"
     ]
    },
    {
     "name": "stderr",
     "output_type": "stream",
     "text": [
      "d:\\ML_Assignment\\A2_ Assignment\\ml_env2\\Lib\\site-packages\\mlflow\\pyfunc\\utils\\data_validation.py:166: UserWarning: \u001b[33mAdd type hints to the `predict` method to enable data validation and automatic signature inference during model logging. Check https://mlflow.org/docs/latest/model/python_model.html#type-hint-usage-in-pythonmodel for more details.\u001b[0m\n",
      "  color_warning(\n"
     ]
    },
    {
     "name": "stdout",
     "output_type": "stream",
     "text": [
      "🏃 View run polynomial-True-reg-Normal-momentum-0-method-batch-xavier-xavier-lr-0.01 at: http://localhost:5000/#/experiments/1/runs/9827fc949d994313bd6bf30be24f635e\n",
      "🧪 View experiment at: http://localhost:5000/#/experiments/1\n",
      "===== polynomial-True-reg-Normal-momentum-0-method-batch-xavier-xavier-lr-0.001 =====\n",
      "Fold 0 - MSE : 77.53727097054475\n",
      "Fold 0 - R2 : -111.93243836998786\n",
      "🏃 View run Fold-0 at: http://localhost:5000/#/experiments/1/runs/f57094c8b8bb4f18ad2d9a0ca2b9fe6e\n",
      "🧪 View experiment at: http://localhost:5000/#/experiments/1\n",
      "Fold 1 - MSE : 71.4355748293736\n",
      "Fold 1 - R2 : -97.76697551173356\n",
      "🏃 View run Fold-1 at: http://localhost:5000/#/experiments/1/runs/b3874b63b7e24970aaa64ca7a10de4bd\n",
      "🧪 View experiment at: http://localhost:5000/#/experiments/1\n",
      "Fold 2 - MSE : 82.85885181473223\n",
      "Fold 2 - R2 : -118.32060520804275\n",
      "🏃 View run Fold-2 at: http://localhost:5000/#/experiments/1/runs/05e38d7194f8480983e10c5498926638\n",
      "🧪 View experiment at: http://localhost:5000/#/experiments/1\n",
      "Average MSE: 77.27723253821686\n",
      "Average R2: -109.34000636325472\n"
     ]
    },
    {
     "name": "stderr",
     "output_type": "stream",
     "text": [
      "d:\\ML_Assignment\\A2_ Assignment\\ml_env2\\Lib\\site-packages\\mlflow\\pyfunc\\utils\\data_validation.py:166: UserWarning: \u001b[33mAdd type hints to the `predict` method to enable data validation and automatic signature inference during model logging. Check https://mlflow.org/docs/latest/model/python_model.html#type-hint-usage-in-pythonmodel for more details.\u001b[0m\n",
      "  color_warning(\n"
     ]
    },
    {
     "name": "stdout",
     "output_type": "stream",
     "text": [
      "🏃 View run polynomial-True-reg-Normal-momentum-0-method-batch-xavier-xavier-lr-0.001 at: http://localhost:5000/#/experiments/1/runs/a26be003e1d248a3825ed54d8500a8bc\n",
      "🧪 View experiment at: http://localhost:5000/#/experiments/1\n",
      "===== polynomial-True-reg-Normal-momentum-0-method-batch-xavier-xavier-lr-0.0001 =====\n",
      "Fold 0 - MSE : 158.19357613232745\n",
      "Fold 0 - R2 : -229.4077260325395\n",
      "🏃 View run Fold-0 at: http://localhost:5000/#/experiments/1/runs/ab24ff85add04e5db8040d29493d69eb\n",
      "🧪 View experiment at: http://localhost:5000/#/experiments/1\n",
      "Fold 1 - MSE : 150.89214351009733\n",
      "Fold 1 - R2 : -207.62379393700542\n",
      "🏃 View run Fold-1 at: http://localhost:5000/#/experiments/1/runs/79241e30b7074569b314fbfc09fff1a0\n",
      "🧪 View experiment at: http://localhost:5000/#/experiments/1\n",
      "Fold 2 - MSE : 162.09295053023612\n",
      "Fold 2 - R2 : -232.42139715465242\n",
      "🏃 View run Fold-2 at: http://localhost:5000/#/experiments/1/runs/a32a6e08b4f14f9396b3cf9e68fa00c9\n",
      "🧪 View experiment at: http://localhost:5000/#/experiments/1\n",
      "Average MSE: 157.0595567242203\n",
      "Average R2: -223.15097237473242\n"
     ]
    },
    {
     "name": "stderr",
     "output_type": "stream",
     "text": [
      "d:\\ML_Assignment\\A2_ Assignment\\ml_env2\\Lib\\site-packages\\mlflow\\pyfunc\\utils\\data_validation.py:166: UserWarning: \u001b[33mAdd type hints to the `predict` method to enable data validation and automatic signature inference during model logging. Check https://mlflow.org/docs/latest/model/python_model.html#type-hint-usage-in-pythonmodel for more details.\u001b[0m\n",
      "  color_warning(\n"
     ]
    },
    {
     "name": "stdout",
     "output_type": "stream",
     "text": [
      "🏃 View run polynomial-True-reg-Normal-momentum-0-method-batch-xavier-xavier-lr-0.0001 at: http://localhost:5000/#/experiments/1/runs/115f6df775da4ef9adf6f58968ea791f\n",
      "🧪 View experiment at: http://localhost:5000/#/experiments/1\n",
      "===== polynomial-True-reg-Normal-momentum-0.6-method-sto-xavier-zero-lr-0.01 =====\n",
      "Fold 0 - MSE : 0.5560207284381044\n",
      "Fold 0 - R2 : 0.19016008868011336\n",
      "🏃 View run Fold-0 at: http://localhost:5000/#/experiments/1/runs/95e6024b65dd4ea2a67cb1913a842cdc\n",
      "🧪 View experiment at: http://localhost:5000/#/experiments/1\n",
      "Fold 1 - MSE : 0.8872994733732993\n",
      "Fold 1 - R2 : -0.22678211195970843\n",
      "🏃 View run Fold-1 at: http://localhost:5000/#/experiments/1/runs/d5a5dbfa94914127b3da37a0fe81c0c3\n",
      "🧪 View experiment at: http://localhost:5000/#/experiments/1\n",
      "Fold 2 - MSE : 0.5232936605824272\n",
      "Fold 2 - R2 : 0.24643275987170277\n",
      "🏃 View run Fold-2 at: http://localhost:5000/#/experiments/1/runs/aac1cf423a08445a84cd658dbadcce3e\n",
      "🧪 View experiment at: http://localhost:5000/#/experiments/1\n",
      "Average MSE: 0.6555379541312769\n",
      "Average R2: 0.06993691219736924\n"
     ]
    },
    {
     "name": "stderr",
     "output_type": "stream",
     "text": [
      "d:\\ML_Assignment\\A2_ Assignment\\ml_env2\\Lib\\site-packages\\mlflow\\pyfunc\\utils\\data_validation.py:166: UserWarning: \u001b[33mAdd type hints to the `predict` method to enable data validation and automatic signature inference during model logging. Check https://mlflow.org/docs/latest/model/python_model.html#type-hint-usage-in-pythonmodel for more details.\u001b[0m\n",
      "  color_warning(\n"
     ]
    },
    {
     "name": "stdout",
     "output_type": "stream",
     "text": [
      "🏃 View run polynomial-True-reg-Normal-momentum-0.6-method-sto-xavier-zero-lr-0.01 at: http://localhost:5000/#/experiments/1/runs/8586c7db9c7f4411b4453e9674a47648\n",
      "🧪 View experiment at: http://localhost:5000/#/experiments/1\n",
      "===== polynomial-True-reg-Normal-momentum-0.6-method-sto-xavier-zero-lr-0.001 =====\n",
      "Fold 0 - MSE : 0.4643288033596958\n",
      "Fold 0 - R2 : 0.3237086718108845\n",
      "🏃 View run Fold-0 at: http://localhost:5000/#/experiments/1/runs/80de1caacb03477ea1f921207e68586d\n",
      "🧪 View experiment at: http://localhost:5000/#/experiments/1\n",
      "Fold 1 - MSE : 0.40960702433525564\n",
      "Fold 1 - R2 : 0.43367646948199146\n",
      "🏃 View run Fold-1 at: http://localhost:5000/#/experiments/1/runs/456cc9b940ac41218c518634e28b9c81\n",
      "🧪 View experiment at: http://localhost:5000/#/experiments/1\n",
      "Fold 2 - MSE : 0.40617003029521775\n",
      "Fold 2 - R2 : 0.41509624173216586\n",
      "🏃 View run Fold-2 at: http://localhost:5000/#/experiments/1/runs/fe263027958f4c4699b6edef0694c1a3\n",
      "🧪 View experiment at: http://localhost:5000/#/experiments/1\n",
      "Average MSE: 0.4267019526633897\n",
      "Average R2: 0.39082712767501393\n"
     ]
    },
    {
     "name": "stderr",
     "output_type": "stream",
     "text": [
      "d:\\ML_Assignment\\A2_ Assignment\\ml_env2\\Lib\\site-packages\\mlflow\\pyfunc\\utils\\data_validation.py:166: UserWarning: \u001b[33mAdd type hints to the `predict` method to enable data validation and automatic signature inference during model logging. Check https://mlflow.org/docs/latest/model/python_model.html#type-hint-usage-in-pythonmodel for more details.\u001b[0m\n",
      "  color_warning(\n"
     ]
    },
    {
     "name": "stdout",
     "output_type": "stream",
     "text": [
      "🏃 View run polynomial-True-reg-Normal-momentum-0.6-method-sto-xavier-zero-lr-0.001 at: http://localhost:5000/#/experiments/1/runs/6d6c9e64dcba4932a17c4c72724fa78b\n",
      "🧪 View experiment at: http://localhost:5000/#/experiments/1\n",
      "===== polynomial-True-reg-Normal-momentum-0.6-method-sto-xavier-zero-lr-0.0001 =====\n",
      "Fold 0 - MSE : 0.46230965018195913\n",
      "Fold 0 - R2 : 0.326649552872986\n",
      "🏃 View run Fold-0 at: http://localhost:5000/#/experiments/1/runs/a31114076ee04117bc2bc97a37005acf\n",
      "🧪 View experiment at: http://localhost:5000/#/experiments/1\n",
      "Fold 1 - MSE : 0.41233993926954565\n",
      "Fold 1 - R2 : 0.42989793556474654\n",
      "🏃 View run Fold-1 at: http://localhost:5000/#/experiments/1/runs/5577662f464540eb86beb95dc5b5067d\n",
      "🧪 View experiment at: http://localhost:5000/#/experiments/1\n",
      "Fold 2 - MSE : 0.4057155521023499\n",
      "Fold 2 - R2 : 0.41575071149416665\n",
      "🏃 View run Fold-2 at: http://localhost:5000/#/experiments/1/runs/0c7e0b05a1954c868f99b9a78b17b1c1\n",
      "🧪 View experiment at: http://localhost:5000/#/experiments/1\n",
      "Average MSE: 0.42678838051795154\n",
      "Average R2: 0.39076606664396635\n"
     ]
    },
    {
     "name": "stderr",
     "output_type": "stream",
     "text": [
      "d:\\ML_Assignment\\A2_ Assignment\\ml_env2\\Lib\\site-packages\\mlflow\\pyfunc\\utils\\data_validation.py:166: UserWarning: \u001b[33mAdd type hints to the `predict` method to enable data validation and automatic signature inference during model logging. Check https://mlflow.org/docs/latest/model/python_model.html#type-hint-usage-in-pythonmodel for more details.\u001b[0m\n",
      "  color_warning(\n"
     ]
    },
    {
     "name": "stdout",
     "output_type": "stream",
     "text": [
      "🏃 View run polynomial-True-reg-Normal-momentum-0.6-method-sto-xavier-zero-lr-0.0001 at: http://localhost:5000/#/experiments/1/runs/1ea67df43024439584130014bbfb3075\n",
      "🧪 View experiment at: http://localhost:5000/#/experiments/1\n",
      "===== polynomial-True-reg-Normal-momentum-0.6-method-sto-xavier-xavier-lr-0.01 =====\n",
      "Fold 0 - MSE : 0.5358707317676281\n",
      "Fold 0 - R2 : 0.2195084037376357\n",
      "🏃 View run Fold-0 at: http://localhost:5000/#/experiments/1/runs/d0f89135758640a3b4b39689ddf7bec8\n",
      "🧪 View experiment at: http://localhost:5000/#/experiments/1\n",
      "Fold 1 - MSE : 0.43959680940259216\n",
      "Fold 1 - R2 : 0.3922125297793625\n",
      "🏃 View run Fold-1 at: http://localhost:5000/#/experiments/1/runs/d01a5a4c737b49cf9fe05f72c1374be0\n",
      "🧪 View experiment at: http://localhost:5000/#/experiments/1\n",
      "Fold 2 - MSE : 0.6821716587218858\n",
      "Fold 2 - R2 : 0.017641043874597084\n",
      "🏃 View run Fold-2 at: http://localhost:5000/#/experiments/1/runs/88d29c296b4243f784539c6363bd1ea4\n",
      "🧪 View experiment at: http://localhost:5000/#/experiments/1\n",
      "Average MSE: 0.5525463999640353\n",
      "Average R2: 0.20978732579719842\n"
     ]
    },
    {
     "name": "stderr",
     "output_type": "stream",
     "text": [
      "d:\\ML_Assignment\\A2_ Assignment\\ml_env2\\Lib\\site-packages\\mlflow\\pyfunc\\utils\\data_validation.py:166: UserWarning: \u001b[33mAdd type hints to the `predict` method to enable data validation and automatic signature inference during model logging. Check https://mlflow.org/docs/latest/model/python_model.html#type-hint-usage-in-pythonmodel for more details.\u001b[0m\n",
      "  color_warning(\n"
     ]
    },
    {
     "name": "stdout",
     "output_type": "stream",
     "text": [
      "🏃 View run polynomial-True-reg-Normal-momentum-0.6-method-sto-xavier-xavier-lr-0.01 at: http://localhost:5000/#/experiments/1/runs/b79ff4ae5e3e411e95ad36765d3f7d1d\n",
      "🧪 View experiment at: http://localhost:5000/#/experiments/1\n",
      "===== polynomial-True-reg-Normal-momentum-0.6-method-sto-xavier-xavier-lr-0.001 =====\n",
      "Fold 0 - MSE : 0.4597459995755933\n",
      "Fold 0 - R2 : 0.33038349024892977\n",
      "🏃 View run Fold-0 at: http://localhost:5000/#/experiments/1/runs/17901f0397eb46fc9771c57e401232bc\n",
      "🧪 View experiment at: http://localhost:5000/#/experiments/1\n",
      "Fold 1 - MSE : 0.4245472503671867\n",
      "Fold 1 - R2 : 0.4130200816505779\n",
      "🏃 View run Fold-1 at: http://localhost:5000/#/experiments/1/runs/da274604622b446c988fcf88be8c86ea\n",
      "🧪 View experiment at: http://localhost:5000/#/experiments/1\n",
      "Fold 2 - MSE : 0.40696499143313036\n",
      "Fold 2 - R2 : 0.4139514606735929\n",
      "🏃 View run Fold-2 at: http://localhost:5000/#/experiments/1/runs/2bfa9da52bf94b7e9e4a6090b2c8c85d\n",
      "🧪 View experiment at: http://localhost:5000/#/experiments/1\n",
      "Average MSE: 0.43041941379197013\n",
      "Average R2: 0.3857850108577002\n"
     ]
    },
    {
     "name": "stderr",
     "output_type": "stream",
     "text": [
      "d:\\ML_Assignment\\A2_ Assignment\\ml_env2\\Lib\\site-packages\\mlflow\\pyfunc\\utils\\data_validation.py:166: UserWarning: \u001b[33mAdd type hints to the `predict` method to enable data validation and automatic signature inference during model logging. Check https://mlflow.org/docs/latest/model/python_model.html#type-hint-usage-in-pythonmodel for more details.\u001b[0m\n",
      "  color_warning(\n"
     ]
    },
    {
     "name": "stdout",
     "output_type": "stream",
     "text": [
      "🏃 View run polynomial-True-reg-Normal-momentum-0.6-method-sto-xavier-xavier-lr-0.001 at: http://localhost:5000/#/experiments/1/runs/3a6d32abf93c43efbcad5259e98b7e35\n",
      "🧪 View experiment at: http://localhost:5000/#/experiments/1\n",
      "===== polynomial-True-reg-Normal-momentum-0.6-method-sto-xavier-xavier-lr-0.0001 =====\n",
      "Fold 0 - MSE : 0.457266993293132\n",
      "Fold 0 - R2 : 0.3339941438186076\n",
      "🏃 View run Fold-0 at: http://localhost:5000/#/experiments/1/runs/c06d423d6fa74bc8aadbb84ffb37ca64\n",
      "🧪 View experiment at: http://localhost:5000/#/experiments/1\n",
      "Fold 1 - MSE : 0.42441014521452863\n",
      "Fold 1 - R2 : 0.4132096435220608\n",
      "🏃 View run Fold-1 at: http://localhost:5000/#/experiments/1/runs/88146e2acd33463a989dd08c1272f7fb\n",
      "🧪 View experiment at: http://localhost:5000/#/experiments/1\n",
      "Fold 2 - MSE : 0.4105709492065978\n",
      "Fold 2 - R2 : 0.4087587135565216\n",
      "🏃 View run Fold-2 at: http://localhost:5000/#/experiments/1/runs/2fcd00d08b6e4c4aa843a6052577d84c\n",
      "🧪 View experiment at: http://localhost:5000/#/experiments/1\n",
      "Average MSE: 0.43074936257141944\n",
      "Average R2: 0.3853208336323967\n"
     ]
    },
    {
     "name": "stderr",
     "output_type": "stream",
     "text": [
      "d:\\ML_Assignment\\A2_ Assignment\\ml_env2\\Lib\\site-packages\\mlflow\\pyfunc\\utils\\data_validation.py:166: UserWarning: \u001b[33mAdd type hints to the `predict` method to enable data validation and automatic signature inference during model logging. Check https://mlflow.org/docs/latest/model/python_model.html#type-hint-usage-in-pythonmodel for more details.\u001b[0m\n",
      "  color_warning(\n"
     ]
    },
    {
     "name": "stdout",
     "output_type": "stream",
     "text": [
      "🏃 View run polynomial-True-reg-Normal-momentum-0.6-method-sto-xavier-xavier-lr-0.0001 at: http://localhost:5000/#/experiments/1/runs/38499ff053f84bee8da2aace48276eab\n",
      "🧪 View experiment at: http://localhost:5000/#/experiments/1\n",
      "===== polynomial-True-reg-Normal-momentum-0.6-method-mini-xavier-zero-lr-0.01 =====\n",
      "Fold 0 - MSE : 0.45479003796785\n",
      "Fold 0 - R2 : 0.33760181018493973\n",
      "🏃 View run Fold-0 at: http://localhost:5000/#/experiments/1/runs/5ffda67261554fa0a5da6a04616cba20\n",
      "🧪 View experiment at: http://localhost:5000/#/experiments/1\n",
      "Fold 1 - MSE : 0.41422117677936243\n",
      "Fold 1 - R2 : 0.4272969326399765\n",
      "🏃 View run Fold-1 at: http://localhost:5000/#/experiments/1/runs/cfc5068fe5f247aa805316657feaaedf\n",
      "🧪 View experiment at: http://localhost:5000/#/experiments/1\n",
      "Fold 2 - MSE : 0.4151826195962858\n",
      "Fold 2 - R2 : 0.4021176934377787\n",
      "🏃 View run Fold-2 at: http://localhost:5000/#/experiments/1/runs/c5add962188446d382c9aef94b5a481f\n",
      "🧪 View experiment at: http://localhost:5000/#/experiments/1\n",
      "Average MSE: 0.42806461144783275\n",
      "Average R2: 0.38900547875423164\n"
     ]
    },
    {
     "name": "stderr",
     "output_type": "stream",
     "text": [
      "d:\\ML_Assignment\\A2_ Assignment\\ml_env2\\Lib\\site-packages\\mlflow\\pyfunc\\utils\\data_validation.py:166: UserWarning: \u001b[33mAdd type hints to the `predict` method to enable data validation and automatic signature inference during model logging. Check https://mlflow.org/docs/latest/model/python_model.html#type-hint-usage-in-pythonmodel for more details.\u001b[0m\n",
      "  color_warning(\n"
     ]
    },
    {
     "name": "stdout",
     "output_type": "stream",
     "text": [
      "🏃 View run polynomial-True-reg-Normal-momentum-0.6-method-mini-xavier-zero-lr-0.01 at: http://localhost:5000/#/experiments/1/runs/b7725f926f4949c9a19644bdec8f2ff4\n",
      "🧪 View experiment at: http://localhost:5000/#/experiments/1\n",
      "===== polynomial-True-reg-Normal-momentum-0.6-method-mini-xavier-zero-lr-0.001 =====\n",
      "Fold 0 - MSE : 0.8319852965600848\n",
      "Fold 0 - R2 : -0.2117801807107853\n",
      "🏃 View run Fold-0 at: http://localhost:5000/#/experiments/1/runs/bc4b789530524221b7b153e91ba7b8ae\n",
      "🧪 View experiment at: http://localhost:5000/#/experiments/1\n",
      "Fold 1 - MSE : 0.7372463841901831\n",
      "Fold 1 - R2 : -0.01931839629412302\n",
      "🏃 View run Fold-1 at: http://localhost:5000/#/experiments/1/runs/d559784a26824041a922808951e6cfaf\n",
      "🧪 View experiment at: http://localhost:5000/#/experiments/1\n",
      "Fold 2 - MSE : 0.7902927385685524\n",
      "Fold 2 - R2 : -0.1380583461181275\n",
      "🏃 View run Fold-2 at: http://localhost:5000/#/experiments/1/runs/5a693e27782e44ffa84b21c483f17191\n",
      "🧪 View experiment at: http://localhost:5000/#/experiments/1\n",
      "Average MSE: 0.7865081397729402\n",
      "Average R2: -0.12305230770767861\n"
     ]
    },
    {
     "name": "stderr",
     "output_type": "stream",
     "text": [
      "d:\\ML_Assignment\\A2_ Assignment\\ml_env2\\Lib\\site-packages\\mlflow\\pyfunc\\utils\\data_validation.py:166: UserWarning: \u001b[33mAdd type hints to the `predict` method to enable data validation and automatic signature inference during model logging. Check https://mlflow.org/docs/latest/model/python_model.html#type-hint-usage-in-pythonmodel for more details.\u001b[0m\n",
      "  color_warning(\n"
     ]
    },
    {
     "name": "stdout",
     "output_type": "stream",
     "text": [
      "🏃 View run polynomial-True-reg-Normal-momentum-0.6-method-mini-xavier-zero-lr-0.001 at: http://localhost:5000/#/experiments/1/runs/42b19576783047778980a840ed42e68f\n",
      "🧪 View experiment at: http://localhost:5000/#/experiments/1\n",
      "===== polynomial-True-reg-Normal-momentum-0.6-method-mini-xavier-zero-lr-0.0001 =====\n",
      "Fold 0 - MSE : 31.74192633046974\n",
      "Fold 0 - R2 : -45.2318713850819\n",
      "🏃 View run Fold-0 at: http://localhost:5000/#/experiments/1/runs/0d0ae82826c64bb48266895e9192d1e7\n",
      "🧪 View experiment at: http://localhost:5000/#/experiments/1\n",
      "Fold 1 - MSE : 28.62159806112164\n",
      "Fold 1 - R2 : -38.57228147966273\n",
      "🏃 View run Fold-1 at: http://localhost:5000/#/experiments/1/runs/55b8319a2f99409b800382b257f6a5f5\n",
      "🧪 View experiment at: http://localhost:5000/#/experiments/1\n",
      "Fold 2 - MSE : 30.583966651751766\n",
      "Fold 2 - R2 : -43.04233622147266\n",
      "🏃 View run Fold-2 at: http://localhost:5000/#/experiments/1/runs/33bf0a045929427dae422799dca0ec7a\n",
      "🧪 View experiment at: http://localhost:5000/#/experiments/1\n",
      "Average MSE: 30.31583034778105\n",
      "Average R2: -42.28216302873909\n"
     ]
    },
    {
     "name": "stderr",
     "output_type": "stream",
     "text": [
      "d:\\ML_Assignment\\A2_ Assignment\\ml_env2\\Lib\\site-packages\\mlflow\\pyfunc\\utils\\data_validation.py:166: UserWarning: \u001b[33mAdd type hints to the `predict` method to enable data validation and automatic signature inference during model logging. Check https://mlflow.org/docs/latest/model/python_model.html#type-hint-usage-in-pythonmodel for more details.\u001b[0m\n",
      "  color_warning(\n"
     ]
    },
    {
     "name": "stdout",
     "output_type": "stream",
     "text": [
      "🏃 View run polynomial-True-reg-Normal-momentum-0.6-method-mini-xavier-zero-lr-0.0001 at: http://localhost:5000/#/experiments/1/runs/ca4e672f0c61478b848f15ecbb4700c1\n",
      "🧪 View experiment at: http://localhost:5000/#/experiments/1\n",
      "===== polynomial-True-reg-Normal-momentum-0.6-method-mini-xavier-xavier-lr-0.01 =====\n",
      "Fold 0 - MSE : 0.4671406767432559\n",
      "Fold 0 - R2 : 0.3196131998705096\n",
      "🏃 View run Fold-0 at: http://localhost:5000/#/experiments/1/runs/84d8bccdf575430cb9f9bd2a1caafa98\n",
      "🧪 View experiment at: http://localhost:5000/#/experiments/1\n",
      "Fold 1 - MSE : 0.41088817149531875\n",
      "Fold 1 - R2 : 0.4319051527327791\n",
      "🏃 View run Fold-1 at: http://localhost:5000/#/experiments/1/runs/e4b66d81b50a4c18a1f2b4327125e4a0\n",
      "🧪 View experiment at: http://localhost:5000/#/experiments/1\n",
      "Fold 2 - MSE : 0.4140479576863057\n",
      "Fold 2 - R2 : 0.403751659427412\n",
      "🏃 View run Fold-2 at: http://localhost:5000/#/experiments/1/runs/1a871ec9aef946318d7d520cb3950166\n",
      "🧪 View experiment at: http://localhost:5000/#/experiments/1\n",
      "Average MSE: 0.4306922686416268\n",
      "Average R2: 0.3850900040102336\n"
     ]
    },
    {
     "name": "stderr",
     "output_type": "stream",
     "text": [
      "d:\\ML_Assignment\\A2_ Assignment\\ml_env2\\Lib\\site-packages\\mlflow\\pyfunc\\utils\\data_validation.py:166: UserWarning: \u001b[33mAdd type hints to the `predict` method to enable data validation and automatic signature inference during model logging. Check https://mlflow.org/docs/latest/model/python_model.html#type-hint-usage-in-pythonmodel for more details.\u001b[0m\n",
      "  color_warning(\n"
     ]
    },
    {
     "name": "stdout",
     "output_type": "stream",
     "text": [
      "🏃 View run polynomial-True-reg-Normal-momentum-0.6-method-mini-xavier-xavier-lr-0.01 at: http://localhost:5000/#/experiments/1/runs/2171f9986a004295a5fc48fd46dd0b1d\n",
      "🧪 View experiment at: http://localhost:5000/#/experiments/1\n",
      "===== polynomial-True-reg-Normal-momentum-0.6-method-mini-xavier-xavier-lr-0.001 =====\n",
      "Fold 0 - MSE : 0.8306352677778266\n",
      "Fold 0 - R2 : -0.20981387418049757\n",
      "🏃 View run Fold-0 at: http://localhost:5000/#/experiments/1/runs/1cfd984343e647679c9da1cc61f03793\n",
      "🧪 View experiment at: http://localhost:5000/#/experiments/1\n",
      "Fold 1 - MSE : 0.7327432617481389\n",
      "Fold 1 - R2 : -0.013092369765715706\n",
      "🏃 View run Fold-1 at: http://localhost:5000/#/experiments/1/runs/c1f3c91eaf154e82a528ae2603480612\n",
      "🧪 View experiment at: http://localhost:5000/#/experiments/1\n",
      "Fold 2 - MSE : 0.7668580811212126\n",
      "Fold 2 - R2 : -0.10431134808209408\n",
      "🏃 View run Fold-2 at: http://localhost:5000/#/experiments/1/runs/2e4500c962ef48b2a244ceb9dc910d9d\n",
      "🧪 View experiment at: http://localhost:5000/#/experiments/1\n",
      "Average MSE: 0.7767455368823927\n",
      "Average R2: -0.10907253067610245\n"
     ]
    },
    {
     "name": "stderr",
     "output_type": "stream",
     "text": [
      "d:\\ML_Assignment\\A2_ Assignment\\ml_env2\\Lib\\site-packages\\mlflow\\pyfunc\\utils\\data_validation.py:166: UserWarning: \u001b[33mAdd type hints to the `predict` method to enable data validation and automatic signature inference during model logging. Check https://mlflow.org/docs/latest/model/python_model.html#type-hint-usage-in-pythonmodel for more details.\u001b[0m\n",
      "  color_warning(\n"
     ]
    },
    {
     "name": "stdout",
     "output_type": "stream",
     "text": [
      "🏃 View run polynomial-True-reg-Normal-momentum-0.6-method-mini-xavier-xavier-lr-0.001 at: http://localhost:5000/#/experiments/1/runs/8f170719576a4da49cc9fc8e4afd8b84\n",
      "🧪 View experiment at: http://localhost:5000/#/experiments/1\n",
      "===== polynomial-True-reg-Normal-momentum-0.6-method-mini-xavier-xavier-lr-0.0001 =====\n",
      "Fold 0 - MSE : 31.09056512012639\n",
      "Fold 0 - R2 : -44.28316879569562\n",
      "🏃 View run Fold-0 at: http://localhost:5000/#/experiments/1/runs/81e088d17195411fa0489bd75e24a5d6\n",
      "🧪 View experiment at: http://localhost:5000/#/experiments/1\n",
      "Fold 1 - MSE : 28.139774267306397\n",
      "Fold 1 - R2 : -37.9061108922714\n",
      "🏃 View run Fold-1 at: http://localhost:5000/#/experiments/1/runs/ef52f80587be40d78e92dee584963037\n",
      "🧪 View experiment at: http://localhost:5000/#/experiments/1\n",
      "Fold 2 - MSE : 29.57347529234104\n",
      "Fold 2 - R2 : -41.587181607069134\n",
      "🏃 View run Fold-2 at: http://localhost:5000/#/experiments/1/runs/2e9199b0c8084bbbabf6c8f06fc0f705\n",
      "🧪 View experiment at: http://localhost:5000/#/experiments/1\n",
      "Average MSE: 29.60127155992461\n",
      "Average R2: -41.25882043167872\n"
     ]
    },
    {
     "name": "stderr",
     "output_type": "stream",
     "text": [
      "d:\\ML_Assignment\\A2_ Assignment\\ml_env2\\Lib\\site-packages\\mlflow\\pyfunc\\utils\\data_validation.py:166: UserWarning: \u001b[33mAdd type hints to the `predict` method to enable data validation and automatic signature inference during model logging. Check https://mlflow.org/docs/latest/model/python_model.html#type-hint-usage-in-pythonmodel for more details.\u001b[0m\n",
      "  color_warning(\n"
     ]
    },
    {
     "name": "stdout",
     "output_type": "stream",
     "text": [
      "🏃 View run polynomial-True-reg-Normal-momentum-0.6-method-mini-xavier-xavier-lr-0.0001 at: http://localhost:5000/#/experiments/1/runs/a8423556ce734a05b3e50a332249bb67\n",
      "🧪 View experiment at: http://localhost:5000/#/experiments/1\n",
      "===== polynomial-True-reg-Normal-momentum-0.6-method-batch-xavier-zero-lr-0.01 =====\n",
      "Fold 0 - MSE : 26.09976222855073\n",
      "Fold 0 - R2 : -37.014102797954514\n",
      "🏃 View run Fold-0 at: http://localhost:5000/#/experiments/1/runs/8f4702eaf3de4c91a17a9cb981203485\n",
      "🧪 View experiment at: http://localhost:5000/#/experiments/1\n",
      "Fold 1 - MSE : 23.04537336572802\n",
      "Fold 1 - R2 : -30.862581526196355\n",
      "🏃 View run Fold-1 at: http://localhost:5000/#/experiments/1/runs/ab8fe6ea29c24b10a6640fd3a89cff74\n",
      "🧪 View experiment at: http://localhost:5000/#/experiments/1\n",
      "Fold 2 - MSE : 24.709195286343906\n",
      "Fold 2 - R2 : -34.58239187724375\n",
      "🏃 View run Fold-2 at: http://localhost:5000/#/experiments/1/runs/3b1fc7abf543416f8cfb146d4b17d1d2\n",
      "🧪 View experiment at: http://localhost:5000/#/experiments/1\n",
      "Average MSE: 24.618110293540884\n",
      "Average R2: -34.15302540046488\n"
     ]
    },
    {
     "name": "stderr",
     "output_type": "stream",
     "text": [
      "d:\\ML_Assignment\\A2_ Assignment\\ml_env2\\Lib\\site-packages\\mlflow\\pyfunc\\utils\\data_validation.py:166: UserWarning: \u001b[33mAdd type hints to the `predict` method to enable data validation and automatic signature inference during model logging. Check https://mlflow.org/docs/latest/model/python_model.html#type-hint-usage-in-pythonmodel for more details.\u001b[0m\n",
      "  color_warning(\n"
     ]
    },
    {
     "name": "stdout",
     "output_type": "stream",
     "text": [
      "🏃 View run polynomial-True-reg-Normal-momentum-0.6-method-batch-xavier-zero-lr-0.01 at: http://localhost:5000/#/experiments/1/runs/3a25ee1ad70b4ed1822263179536e2e1\n",
      "🧪 View experiment at: http://localhost:5000/#/experiments/1\n",
      "===== polynomial-True-reg-Normal-momentum-0.6-method-batch-xavier-zero-lr-0.001 =====\n",
      "Fold 0 - MSE : 79.2231730314955\n",
      "Fold 0 - R2 : -114.38794174549982\n",
      "🏃 View run Fold-0 at: http://localhost:5000/#/experiments/1/runs/2038dd869572433dbfcc9f7dc8699cb2\n",
      "🧪 View experiment at: http://localhost:5000/#/experiments/1\n",
      "Fold 1 - MSE : 79.52897088050791\n",
      "Fold 1 - R2 : -108.95692185847248\n",
      "🏃 View run Fold-1 at: http://localhost:5000/#/experiments/1/runs/c48538af81fb465a8dff67f3b21dab46\n",
      "🧪 View experiment at: http://localhost:5000/#/experiments/1\n",
      "Fold 2 - MSE : 81.44455847677229\n",
      "Fold 2 - R2 : -116.28395694016173\n",
      "🏃 View run Fold-2 at: http://localhost:5000/#/experiments/1/runs/45137dc466cd4410b7ceb2fcce6c0a26\n",
      "🧪 View experiment at: http://localhost:5000/#/experiments/1\n",
      "Average MSE: 80.06556746292523\n",
      "Average R2: -113.20960684804469\n"
     ]
    },
    {
     "name": "stderr",
     "output_type": "stream",
     "text": [
      "d:\\ML_Assignment\\A2_ Assignment\\ml_env2\\Lib\\site-packages\\mlflow\\pyfunc\\utils\\data_validation.py:166: UserWarning: \u001b[33mAdd type hints to the `predict` method to enable data validation and automatic signature inference during model logging. Check https://mlflow.org/docs/latest/model/python_model.html#type-hint-usage-in-pythonmodel for more details.\u001b[0m\n",
      "  color_warning(\n"
     ]
    },
    {
     "name": "stdout",
     "output_type": "stream",
     "text": [
      "🏃 View run polynomial-True-reg-Normal-momentum-0.6-method-batch-xavier-zero-lr-0.001 at: http://localhost:5000/#/experiments/1/runs/1c4dce22685f4c368ed120fb57c1bc25\n",
      "🧪 View experiment at: http://localhost:5000/#/experiments/1\n",
      "===== polynomial-True-reg-Normal-momentum-0.6-method-batch-xavier-zero-lr-0.0001 =====\n",
      "Fold 0 - MSE : 150.656945480473\n",
      "Fold 0 - R2 : -218.43068149699934\n",
      "🏃 View run Fold-0 at: http://localhost:5000/#/experiments/1/runs/cb69ee5e38784b9a9d4375657773335f\n",
      "🧪 View experiment at: http://localhost:5000/#/experiments/1\n",
      "Fold 1 - MSE : 150.07811173158012\n",
      "Fold 1 - R2 : -206.49831189354714\n",
      "🏃 View run Fold-1 at: http://localhost:5000/#/experiments/1/runs/f91e901d744c4ff488e051d2d87cae14\n",
      "🧪 View experiment at: http://localhost:5000/#/experiments/1\n",
      "Fold 2 - MSE : 150.35510863355938\n",
      "Fold 2 - R2 : -215.51835821224256\n",
      "🏃 View run Fold-2 at: http://localhost:5000/#/experiments/1/runs/e61fc49680e649c98dbfe6e747c74c83\n",
      "🧪 View experiment at: http://localhost:5000/#/experiments/1\n",
      "Average MSE: 150.36338861520417\n",
      "Average R2: -213.482450534263\n"
     ]
    },
    {
     "name": "stderr",
     "output_type": "stream",
     "text": [
      "d:\\ML_Assignment\\A2_ Assignment\\ml_env2\\Lib\\site-packages\\mlflow\\pyfunc\\utils\\data_validation.py:166: UserWarning: \u001b[33mAdd type hints to the `predict` method to enable data validation and automatic signature inference during model logging. Check https://mlflow.org/docs/latest/model/python_model.html#type-hint-usage-in-pythonmodel for more details.\u001b[0m\n",
      "  color_warning(\n"
     ]
    },
    {
     "name": "stdout",
     "output_type": "stream",
     "text": [
      "🏃 View run polynomial-True-reg-Normal-momentum-0.6-method-batch-xavier-zero-lr-0.0001 at: http://localhost:5000/#/experiments/1/runs/16937591278e48a3b95bfc3e858d0319\n",
      "🧪 View experiment at: http://localhost:5000/#/experiments/1\n",
      "===== polynomial-True-reg-Normal-momentum-0.6-method-batch-xavier-xavier-lr-0.01 =====\n",
      "Fold 0 - MSE : 25.450537117889898\n",
      "Fold 0 - R2 : -36.06851142131442\n",
      "🏃 View run Fold-0 at: http://localhost:5000/#/experiments/1/runs/827ed53862df47f3b57b629bea16a23e\n",
      "🧪 View experiment at: http://localhost:5000/#/experiments/1\n",
      "Fold 1 - MSE : 24.662328384914\n",
      "Fold 1 - R2 : -33.09818692539653\n",
      "🏃 View run Fold-1 at: http://localhost:5000/#/experiments/1/runs/7b5a028c7fc240f5b82402a348af3f67\n",
      "🧪 View experiment at: http://localhost:5000/#/experiments/1\n",
      "Fold 2 - MSE : 26.1292381335667\n",
      "Fold 2 - R2 : -36.62731970620806\n",
      "🏃 View run Fold-2 at: http://localhost:5000/#/experiments/1/runs/fcf37f1cdfc34144bf3ec3f1a778649c\n",
      "🧪 View experiment at: http://localhost:5000/#/experiments/1\n",
      "Average MSE: 25.414034545456868\n",
      "Average R2: -35.26467268430633\n"
     ]
    },
    {
     "name": "stderr",
     "output_type": "stream",
     "text": [
      "d:\\ML_Assignment\\A2_ Assignment\\ml_env2\\Lib\\site-packages\\mlflow\\pyfunc\\utils\\data_validation.py:166: UserWarning: \u001b[33mAdd type hints to the `predict` method to enable data validation and automatic signature inference during model logging. Check https://mlflow.org/docs/latest/model/python_model.html#type-hint-usage-in-pythonmodel for more details.\u001b[0m\n",
      "  color_warning(\n"
     ]
    },
    {
     "name": "stdout",
     "output_type": "stream",
     "text": [
      "🏃 View run polynomial-True-reg-Normal-momentum-0.6-method-batch-xavier-xavier-lr-0.01 at: http://localhost:5000/#/experiments/1/runs/1e9348963c9745409a7edae327b64b2d\n",
      "🧪 View experiment at: http://localhost:5000/#/experiments/1\n",
      "===== polynomial-True-reg-Normal-momentum-0.6-method-batch-xavier-xavier-lr-0.001 =====\n",
      "Fold 0 - MSE : 82.79976913807924\n",
      "Fold 0 - R2 : -119.59722644594466\n",
      "🏃 View run Fold-0 at: http://localhost:5000/#/experiments/1/runs/2179803a33064945a99530d7479a9d59\n",
      "🧪 View experiment at: http://localhost:5000/#/experiments/1\n",
      "Fold 1 - MSE : 78.1481200139811\n",
      "Fold 1 - R2 : -107.04775455569141\n",
      "🏃 View run Fold-1 at: http://localhost:5000/#/experiments/1/runs/664f1a53cf4d43b0b60161b01f500bfe\n",
      "🧪 View experiment at: http://localhost:5000/#/experiments/1\n",
      "Fold 2 - MSE : 77.47532065457234\n",
      "Fold 2 - R2 : -110.56806963558599\n",
      "🏃 View run Fold-2 at: http://localhost:5000/#/experiments/1/runs/8f0aab7656db433b8507a88fa12fba6f\n",
      "🧪 View experiment at: http://localhost:5000/#/experiments/1\n",
      "Average MSE: 79.47440326887755\n",
      "Average R2: -112.40435021240735\n"
     ]
    },
    {
     "name": "stderr",
     "output_type": "stream",
     "text": [
      "d:\\ML_Assignment\\A2_ Assignment\\ml_env2\\Lib\\site-packages\\mlflow\\pyfunc\\utils\\data_validation.py:166: UserWarning: \u001b[33mAdd type hints to the `predict` method to enable data validation and automatic signature inference during model logging. Check https://mlflow.org/docs/latest/model/python_model.html#type-hint-usage-in-pythonmodel for more details.\u001b[0m\n",
      "  color_warning(\n"
     ]
    },
    {
     "name": "stdout",
     "output_type": "stream",
     "text": [
      "🏃 View run polynomial-True-reg-Normal-momentum-0.6-method-batch-xavier-xavier-lr-0.001 at: http://localhost:5000/#/experiments/1/runs/615ebea878a0452cab04e47715c2a431\n",
      "🧪 View experiment at: http://localhost:5000/#/experiments/1\n",
      "===== polynomial-True-reg-Normal-momentum-0.6-method-batch-xavier-xavier-lr-0.0001 =====\n",
      "Fold 0 - MSE : 128.98741282598976\n",
      "Fold 0 - R2 : -186.86917397452643\n",
      "🏃 View run Fold-0 at: http://localhost:5000/#/experiments/1/runs/4090c782364242899162bb58a1b05fdd\n",
      "🧪 View experiment at: http://localhost:5000/#/experiments/1\n",
      "Fold 1 - MSE : 141.69946912266292\n",
      "Fold 1 - R2 : -194.91398305804626\n",
      "🏃 View run Fold-1 at: http://localhost:5000/#/experiments/1/runs/457bffe6f1d148a3a7644dd349aed3ec\n",
      "🧪 View experiment at: http://localhost:5000/#/experiments/1\n",
      "Fold 2 - MSE : 141.59486000325498\n",
      "Fold 2 - R2 : -202.90319223482794\n",
      "🏃 View run Fold-2 at: http://localhost:5000/#/experiments/1/runs/082052cb07e144119e4dd8df319b85b7\n",
      "🧪 View experiment at: http://localhost:5000/#/experiments/1\n",
      "Average MSE: 137.42724731730254\n",
      "Average R2: -194.8954497558002\n"
     ]
    },
    {
     "name": "stderr",
     "output_type": "stream",
     "text": [
      "d:\\ML_Assignment\\A2_ Assignment\\ml_env2\\Lib\\site-packages\\mlflow\\pyfunc\\utils\\data_validation.py:166: UserWarning: \u001b[33mAdd type hints to the `predict` method to enable data validation and automatic signature inference during model logging. Check https://mlflow.org/docs/latest/model/python_model.html#type-hint-usage-in-pythonmodel for more details.\u001b[0m\n",
      "  color_warning(\n"
     ]
    },
    {
     "name": "stdout",
     "output_type": "stream",
     "text": [
      "🏃 View run polynomial-True-reg-Normal-momentum-0.6-method-batch-xavier-xavier-lr-0.0001 at: http://localhost:5000/#/experiments/1/runs/03141f3d304a420b95a1957dfea28796\n",
      "🧪 View experiment at: http://localhost:5000/#/experiments/1\n",
      "===== polynomial-True-reg-Ridge-momentum-0-method-sto-xavier-zero-lr-0.01 =====\n",
      "Fold 0 - MSE : 0.8583523487474807\n",
      "Fold 0 - R2 : -0.25018358927648676\n",
      "🏃 View run Fold-0 at: http://localhost:5000/#/experiments/1/runs/9f7263a40ed94f0b8c0ae9cb5f3a722c\n",
      "🧪 View experiment at: http://localhost:5000/#/experiments/1\n",
      "Fold 1 - MSE : 0.9416710536455649\n",
      "Fold 1 - R2 : -0.3019563728249963\n",
      "🏃 View run Fold-1 at: http://localhost:5000/#/experiments/1/runs/c9ed50f1f7c2401bac88231eb84993c4\n",
      "🧪 View experiment at: http://localhost:5000/#/experiments/1\n",
      "Fold 2 - MSE : 0.6292466466053505\n",
      "Fold 2 - R2 : 0.09385552594958513\n",
      "🏃 View run Fold-2 at: http://localhost:5000/#/experiments/1/runs/011b5abf05b641d5915dfaa90dd0e0c2\n",
      "🧪 View experiment at: http://localhost:5000/#/experiments/1\n",
      "Average MSE: 0.8097566829994652\n",
      "Average R2: -0.1527614787172993\n"
     ]
    },
    {
     "name": "stderr",
     "output_type": "stream",
     "text": [
      "d:\\ML_Assignment\\A2_ Assignment\\ml_env2\\Lib\\site-packages\\mlflow\\pyfunc\\utils\\data_validation.py:166: UserWarning: \u001b[33mAdd type hints to the `predict` method to enable data validation and automatic signature inference during model logging. Check https://mlflow.org/docs/latest/model/python_model.html#type-hint-usage-in-pythonmodel for more details.\u001b[0m\n",
      "  color_warning(\n"
     ]
    },
    {
     "name": "stdout",
     "output_type": "stream",
     "text": [
      "🏃 View run polynomial-True-reg-Ridge-momentum-0-method-sto-xavier-zero-lr-0.01 at: http://localhost:5000/#/experiments/1/runs/176dbbb7ab6c4638b28a95064d986d50\n",
      "🧪 View experiment at: http://localhost:5000/#/experiments/1\n",
      "===== polynomial-True-reg-Ridge-momentum-0-method-sto-xavier-zero-lr-0.001 =====\n",
      "Fold 0 - MSE : 0.4420817319463226\n",
      "Fold 0 - R2 : 0.35611136009040767\n",
      "🏃 View run Fold-0 at: http://localhost:5000/#/experiments/1/runs/f2f8746f5078435f88f98c111a84d984\n",
      "🧪 View experiment at: http://localhost:5000/#/experiments/1\n",
      "Fold 1 - MSE : 0.41527734417003936\n",
      "Fold 1 - R2 : 0.4258366733915496\n",
      "🏃 View run Fold-1 at: http://localhost:5000/#/experiments/1/runs/5ec33ee27a5f41a889959a10260f9885\n",
      "🧪 View experiment at: http://localhost:5000/#/experiments/1\n",
      "Fold 2 - MSE : 0.4399633552283004\n",
      "Fold 2 - R2 : 0.36643228013125784\n",
      "🏃 View run Fold-2 at: http://localhost:5000/#/experiments/1/runs/46747af1bde446a09e29557c245c437b\n",
      "🧪 View experiment at: http://localhost:5000/#/experiments/1\n",
      "Average MSE: 0.43244081044822075\n",
      "Average R2: 0.38279343787107173\n"
     ]
    },
    {
     "name": "stderr",
     "output_type": "stream",
     "text": [
      "d:\\ML_Assignment\\A2_ Assignment\\ml_env2\\Lib\\site-packages\\mlflow\\pyfunc\\utils\\data_validation.py:166: UserWarning: \u001b[33mAdd type hints to the `predict` method to enable data validation and automatic signature inference during model logging. Check https://mlflow.org/docs/latest/model/python_model.html#type-hint-usage-in-pythonmodel for more details.\u001b[0m\n",
      "  color_warning(\n"
     ]
    },
    {
     "name": "stdout",
     "output_type": "stream",
     "text": [
      "🏃 View run polynomial-True-reg-Ridge-momentum-0-method-sto-xavier-zero-lr-0.001 at: http://localhost:5000/#/experiments/1/runs/12112be3930547df8b6aa29deadc4faa\n",
      "🧪 View experiment at: http://localhost:5000/#/experiments/1\n",
      "===== polynomial-True-reg-Ridge-momentum-0-method-sto-xavier-zero-lr-0.0001 =====\n",
      "Fold 0 - MSE : 0.46221021649046956\n",
      "Fold 0 - R2 : 0.3267943772793068\n",
      "🏃 View run Fold-0 at: http://localhost:5000/#/experiments/1/runs/093c3a7609bb4cb2b9e42e1fbf319d18\n",
      "🧪 View experiment at: http://localhost:5000/#/experiments/1\n",
      "Fold 1 - MSE : 0.4120638551776547\n",
      "Fold 1 - R2 : 0.43027965000895874\n",
      "🏃 View run Fold-1 at: http://localhost:5000/#/experiments/1/runs/29cd634fbb304403a17f057ae1d10164\n",
      "🧪 View experiment at: http://localhost:5000/#/experiments/1\n",
      "Fold 2 - MSE : 0.4098264038757296\n",
      "Fold 2 - R2 : 0.4098308935051729\n",
      "🏃 View run Fold-2 at: http://localhost:5000/#/experiments/1/runs/efebe858329c473281ce07e30ed14794\n",
      "🧪 View experiment at: http://localhost:5000/#/experiments/1\n",
      "Average MSE: 0.4280334918479513\n",
      "Average R2: 0.3889683069311462\n"
     ]
    },
    {
     "name": "stderr",
     "output_type": "stream",
     "text": [
      "d:\\ML_Assignment\\A2_ Assignment\\ml_env2\\Lib\\site-packages\\mlflow\\pyfunc\\utils\\data_validation.py:166: UserWarning: \u001b[33mAdd type hints to the `predict` method to enable data validation and automatic signature inference during model logging. Check https://mlflow.org/docs/latest/model/python_model.html#type-hint-usage-in-pythonmodel for more details.\u001b[0m\n",
      "  color_warning(\n"
     ]
    },
    {
     "name": "stdout",
     "output_type": "stream",
     "text": [
      "🏃 View run polynomial-True-reg-Ridge-momentum-0-method-sto-xavier-zero-lr-0.0001 at: http://localhost:5000/#/experiments/1/runs/3d4de60ce516494aa67052d33ec5915c\n",
      "🧪 View experiment at: http://localhost:5000/#/experiments/1\n",
      "===== polynomial-True-reg-Ridge-momentum-0-method-sto-xavier-xavier-lr-0.01 =====\n",
      "Fold 0 - MSE : 0.6072696689028183\n",
      "Fold 0 - R2 : 0.11551640135254237\n",
      "🏃 View run Fold-0 at: http://localhost:5000/#/experiments/1/runs/30047c9a4f594960853bedb9463641dc\n",
      "🧪 View experiment at: http://localhost:5000/#/experiments/1\n",
      "Fold 1 - MSE : 1.2450236194620163\n",
      "Fold 1 - R2 : -0.7213722662503439\n",
      "🏃 View run Fold-1 at: http://localhost:5000/#/experiments/1/runs/03bf82734b2a4f5a841d0e28e23d5b9c\n",
      "🧪 View experiment at: http://localhost:5000/#/experiments/1\n",
      "Fold 2 - MSE : 0.7978796862424159\n",
      "Fold 2 - R2 : -0.148983904079651\n",
      "🏃 View run Fold-2 at: http://localhost:5000/#/experiments/1/runs/336f6321038b46cfafacc849098475e9\n",
      "🧪 View experiment at: http://localhost:5000/#/experiments/1\n",
      "Average MSE: 0.8833909915357502\n",
      "Average R2: -0.2516132563258175\n"
     ]
    },
    {
     "name": "stderr",
     "output_type": "stream",
     "text": [
      "d:\\ML_Assignment\\A2_ Assignment\\ml_env2\\Lib\\site-packages\\mlflow\\pyfunc\\utils\\data_validation.py:166: UserWarning: \u001b[33mAdd type hints to the `predict` method to enable data validation and automatic signature inference during model logging. Check https://mlflow.org/docs/latest/model/python_model.html#type-hint-usage-in-pythonmodel for more details.\u001b[0m\n",
      "  color_warning(\n"
     ]
    },
    {
     "name": "stdout",
     "output_type": "stream",
     "text": [
      "🏃 View run polynomial-True-reg-Ridge-momentum-0-method-sto-xavier-xavier-lr-0.01 at: http://localhost:5000/#/experiments/1/runs/88f3a262950f4bb898be4c00bab7ce65\n",
      "🧪 View experiment at: http://localhost:5000/#/experiments/1\n",
      "===== polynomial-True-reg-Ridge-momentum-0-method-sto-xavier-xavier-lr-0.001 =====\n",
      "Fold 0 - MSE : 0.46607547183478204\n",
      "Fold 0 - R2 : 0.3211646626208988\n",
      "🏃 View run Fold-0 at: http://localhost:5000/#/experiments/1/runs/f5d49c9a9e17425dae24ff09527ec0dd\n",
      "🧪 View experiment at: http://localhost:5000/#/experiments/1\n",
      "Fold 1 - MSE : 0.41363637655680435\n",
      "Fold 1 - R2 : 0.42810547865362036\n",
      "🏃 View run Fold-1 at: http://localhost:5000/#/experiments/1/runs/7f7a2be7db9248bda6a53cc0d3d40aa9\n",
      "🧪 View experiment at: http://localhost:5000/#/experiments/1\n",
      "Fold 2 - MSE : 0.45621484245574406\n",
      "Fold 2 - R2 : 0.34302938171981034\n",
      "🏃 View run Fold-2 at: http://localhost:5000/#/experiments/1/runs/ccb63fa4f92d48f7b911139827a241a4\n",
      "🧪 View experiment at: http://localhost:5000/#/experiments/1\n",
      "Average MSE: 0.4453088969491102\n",
      "Average R2: 0.3640998409981098\n"
     ]
    },
    {
     "name": "stderr",
     "output_type": "stream",
     "text": [
      "d:\\ML_Assignment\\A2_ Assignment\\ml_env2\\Lib\\site-packages\\mlflow\\pyfunc\\utils\\data_validation.py:166: UserWarning: \u001b[33mAdd type hints to the `predict` method to enable data validation and automatic signature inference during model logging. Check https://mlflow.org/docs/latest/model/python_model.html#type-hint-usage-in-pythonmodel for more details.\u001b[0m\n",
      "  color_warning(\n"
     ]
    },
    {
     "name": "stdout",
     "output_type": "stream",
     "text": [
      "🏃 View run polynomial-True-reg-Ridge-momentum-0-method-sto-xavier-xavier-lr-0.001 at: http://localhost:5000/#/experiments/1/runs/4e1c348b4a9842178111381ac2ad6182\n",
      "🧪 View experiment at: http://localhost:5000/#/experiments/1\n",
      "===== polynomial-True-reg-Ridge-momentum-0-method-sto-xavier-xavier-lr-0.0001 =====\n",
      "Fold 0 - MSE : 0.4594366021094757\n",
      "Fold 0 - R2 : 0.3308341252769208\n",
      "🏃 View run Fold-0 at: http://localhost:5000/#/experiments/1/runs/b07b8d97c73d4a7a855075aaa4d04af3\n",
      "🧪 View experiment at: http://localhost:5000/#/experiments/1\n",
      "Fold 1 - MSE : 0.4203013909692921\n",
      "Fold 1 - R2 : 0.41889041575483565\n",
      "🏃 View run Fold-1 at: http://localhost:5000/#/experiments/1/runs/59ce8a6df6db4e17ab015f87302f0f9b\n",
      "🧪 View experiment at: http://localhost:5000/#/experiments/1\n",
      "Fold 2 - MSE : 0.4215512698669822\n",
      "Fold 2 - R2 : 0.39294654047083943\n",
      "🏃 View run Fold-2 at: http://localhost:5000/#/experiments/1/runs/da1fa9b9c23042a28895a34144c8852c\n",
      "🧪 View experiment at: http://localhost:5000/#/experiments/1\n",
      "Average MSE: 0.43376308764858335\n",
      "Average R2: 0.3808903605008653\n"
     ]
    },
    {
     "name": "stderr",
     "output_type": "stream",
     "text": [
      "d:\\ML_Assignment\\A2_ Assignment\\ml_env2\\Lib\\site-packages\\mlflow\\pyfunc\\utils\\data_validation.py:166: UserWarning: \u001b[33mAdd type hints to the `predict` method to enable data validation and automatic signature inference during model logging. Check https://mlflow.org/docs/latest/model/python_model.html#type-hint-usage-in-pythonmodel for more details.\u001b[0m\n",
      "  color_warning(\n"
     ]
    },
    {
     "name": "stdout",
     "output_type": "stream",
     "text": [
      "🏃 View run polynomial-True-reg-Ridge-momentum-0-method-sto-xavier-xavier-lr-0.0001 at: http://localhost:5000/#/experiments/1/runs/0468d4d7c2654424964245031c49df02\n",
      "🧪 View experiment at: http://localhost:5000/#/experiments/1\n",
      "===== polynomial-True-reg-Ridge-momentum-0-method-mini-xavier-zero-lr-0.01 =====\n",
      "Fold 0 - MSE : 0.5850683157035675\n",
      "Fold 0 - R2 : 0.1478525014050861\n",
      "🏃 View run Fold-0 at: http://localhost:5000/#/experiments/1/runs/95c0a0371b7c4bc19e7483f31b6f9458\n",
      "🧪 View experiment at: http://localhost:5000/#/experiments/1\n",
      "Fold 1 - MSE : 0.5688214926890791\n",
      "Fold 1 - R2 : 0.2135462117696989\n",
      "🏃 View run Fold-1 at: http://localhost:5000/#/experiments/1/runs/659026e15b7741ccb90949a306e14025\n",
      "🧪 View experiment at: http://localhost:5000/#/experiments/1\n",
      "Fold 2 - MSE : 0.5863378121200379\n",
      "Fold 2 - R2 : 0.15564624579937325\n",
      "🏃 View run Fold-2 at: http://localhost:5000/#/experiments/1/runs/6361decf02514b55af89dbf5ed694851\n",
      "🧪 View experiment at: http://localhost:5000/#/experiments/1\n",
      "Average MSE: 0.5800758735042281\n",
      "Average R2: 0.17234831965805275\n"
     ]
    },
    {
     "name": "stderr",
     "output_type": "stream",
     "text": [
      "d:\\ML_Assignment\\A2_ Assignment\\ml_env2\\Lib\\site-packages\\mlflow\\pyfunc\\utils\\data_validation.py:166: UserWarning: \u001b[33mAdd type hints to the `predict` method to enable data validation and automatic signature inference during model logging. Check https://mlflow.org/docs/latest/model/python_model.html#type-hint-usage-in-pythonmodel for more details.\u001b[0m\n",
      "  color_warning(\n"
     ]
    },
    {
     "name": "stdout",
     "output_type": "stream",
     "text": [
      "🏃 View run polynomial-True-reg-Ridge-momentum-0-method-mini-xavier-zero-lr-0.01 at: http://localhost:5000/#/experiments/1/runs/e8a42783a2f44d23b0f2ca5da6980a69\n",
      "🧪 View experiment at: http://localhost:5000/#/experiments/1\n",
      "===== polynomial-True-reg-Ridge-momentum-0-method-mini-xavier-zero-lr-0.001 =====\n",
      "Fold 0 - MSE : 0.8685318204051167\n",
      "Fold 0 - R2 : -0.26500991139519714\n",
      "🏃 View run Fold-0 at: http://localhost:5000/#/experiments/1/runs/700aa92ad0764fdc9ccaf0a260f4bd37\n",
      "🧪 View experiment at: http://localhost:5000/#/experiments/1\n",
      "Fold 1 - MSE : 0.7692226011792085\n",
      "Fold 1 - R2 : -0.06352878093589887\n",
      "🏃 View run Fold-1 at: http://localhost:5000/#/experiments/1/runs/efdfa78befb54d459579c472816661a8\n",
      "🧪 View experiment at: http://localhost:5000/#/experiments/1\n",
      "Fold 2 - MSE : 0.8262643408402829\n",
      "Fold 2 - R2 : -0.1898591285253337\n",
      "🏃 View run Fold-2 at: http://localhost:5000/#/experiments/1/runs/5cbd9e6aa3d340ccb879881915c44332\n",
      "🧪 View experiment at: http://localhost:5000/#/experiments/1\n",
      "Average MSE: 0.8213395874748693\n",
      "Average R2: -0.1727992736188099\n"
     ]
    },
    {
     "name": "stderr",
     "output_type": "stream",
     "text": [
      "d:\\ML_Assignment\\A2_ Assignment\\ml_env2\\Lib\\site-packages\\mlflow\\pyfunc\\utils\\data_validation.py:166: UserWarning: \u001b[33mAdd type hints to the `predict` method to enable data validation and automatic signature inference during model logging. Check https://mlflow.org/docs/latest/model/python_model.html#type-hint-usage-in-pythonmodel for more details.\u001b[0m\n",
      "  color_warning(\n"
     ]
    },
    {
     "name": "stdout",
     "output_type": "stream",
     "text": [
      "🏃 View run polynomial-True-reg-Ridge-momentum-0-method-mini-xavier-zero-lr-0.001 at: http://localhost:5000/#/experiments/1/runs/256aed776ae94dea8fb5070ee010bd64\n",
      "🧪 View experiment at: http://localhost:5000/#/experiments/1\n",
      "===== polynomial-True-reg-Ridge-momentum-0-method-mini-xavier-zero-lr-0.0001 =====\n",
      "Fold 0 - MSE : 31.7465967577632\n",
      "Fold 0 - R2 : -45.23867382648689\n",
      "🏃 View run Fold-0 at: http://localhost:5000/#/experiments/1/runs/47f829c4b6cf43a5bec422efcc96d1f8\n",
      "🧪 View experiment at: http://localhost:5000/#/experiments/1\n",
      "Fold 1 - MSE : 28.625341151144408\n",
      "Fold 1 - R2 : -38.57745668377496\n",
      "🏃 View run Fold-1 at: http://localhost:5000/#/experiments/1/runs/1a9ecd1ec669487c8d86af250822ea8d\n",
      "🧪 View experiment at: http://localhost:5000/#/experiments/1\n",
      "Fold 2 - MSE : 30.58752519317104\n",
      "Fold 2 - R2 : -43.04746068683159\n",
      "🏃 View run Fold-2 at: http://localhost:5000/#/experiments/1/runs/975933bbd12248b0b258d57a3b9f8ca3\n",
      "🧪 View experiment at: http://localhost:5000/#/experiments/1\n",
      "Average MSE: 30.319821034026216\n",
      "Average R2: -42.28786373236448\n"
     ]
    },
    {
     "name": "stderr",
     "output_type": "stream",
     "text": [
      "d:\\ML_Assignment\\A2_ Assignment\\ml_env2\\Lib\\site-packages\\mlflow\\pyfunc\\utils\\data_validation.py:166: UserWarning: \u001b[33mAdd type hints to the `predict` method to enable data validation and automatic signature inference during model logging. Check https://mlflow.org/docs/latest/model/python_model.html#type-hint-usage-in-pythonmodel for more details.\u001b[0m\n",
      "  color_warning(\n"
     ]
    },
    {
     "name": "stdout",
     "output_type": "stream",
     "text": [
      "🏃 View run polynomial-True-reg-Ridge-momentum-0-method-mini-xavier-zero-lr-0.0001 at: http://localhost:5000/#/experiments/1/runs/9665aa7ec0d94b24872fc6750654ded4\n",
      "🧪 View experiment at: http://localhost:5000/#/experiments/1\n",
      "===== polynomial-True-reg-Ridge-momentum-0-method-mini-xavier-xavier-lr-0.01 =====\n",
      "Fold 0 - MSE : 0.5823261492734445\n",
      "Fold 0 - R2 : 0.15184644570430905\n",
      "🏃 View run Fold-0 at: http://localhost:5000/#/experiments/1/runs/f06acce4cd1e441c97b126ec17b9a807\n",
      "🧪 View experiment at: http://localhost:5000/#/experiments/1\n",
      "Fold 1 - MSE : 0.5729001080006393\n",
      "Fold 1 - R2 : 0.2079071096898063\n",
      "🏃 View run Fold-1 at: http://localhost:5000/#/experiments/1/runs/cfe5d3b22b0d4ba2a527c07091c4b2e3\n",
      "🧪 View experiment at: http://localhost:5000/#/experiments/1\n",
      "Fold 2 - MSE : 0.5907935943111349\n",
      "Fold 2 - R2 : 0.14922971194604773\n",
      "🏃 View run Fold-2 at: http://localhost:5000/#/experiments/1/runs/37df24df113c459fab5befa1b0059668\n",
      "🧪 View experiment at: http://localhost:5000/#/experiments/1\n",
      "Average MSE: 0.5820066171950729\n",
      "Average R2: 0.1696610891133877\n"
     ]
    },
    {
     "name": "stderr",
     "output_type": "stream",
     "text": [
      "d:\\ML_Assignment\\A2_ Assignment\\ml_env2\\Lib\\site-packages\\mlflow\\pyfunc\\utils\\data_validation.py:166: UserWarning: \u001b[33mAdd type hints to the `predict` method to enable data validation and automatic signature inference during model logging. Check https://mlflow.org/docs/latest/model/python_model.html#type-hint-usage-in-pythonmodel for more details.\u001b[0m\n",
      "  color_warning(\n"
     ]
    },
    {
     "name": "stdout",
     "output_type": "stream",
     "text": [
      "🏃 View run polynomial-True-reg-Ridge-momentum-0-method-mini-xavier-xavier-lr-0.01 at: http://localhost:5000/#/experiments/1/runs/2c76a6c02c5c4f6bb0feee090221ae1c\n",
      "🧪 View experiment at: http://localhost:5000/#/experiments/1\n",
      "===== polynomial-True-reg-Ridge-momentum-0-method-mini-xavier-xavier-lr-0.001 =====\n",
      "Fold 0 - MSE : 0.8408480645724337\n",
      "Fold 0 - R2 : -0.22468873410470502\n",
      "🏃 View run Fold-0 at: http://localhost:5000/#/experiments/1/runs/dd1d6afc7db94063a83e0a050b6de983\n",
      "🧪 View experiment at: http://localhost:5000/#/experiments/1\n",
      "Fold 1 - MSE : 0.7911557876182415\n",
      "Fold 1 - R2 : -0.09385365048573413\n",
      "🏃 View run Fold-1 at: http://localhost:5000/#/experiments/1/runs/5e42e2c9e77640e1b7142abada52816b\n",
      "🧪 View experiment at: http://localhost:5000/#/experiments/1\n",
      "Fold 2 - MSE : 0.8318851329114704\n",
      "Fold 2 - R2 : -0.19795333085850464\n",
      "🏃 View run Fold-2 at: http://localhost:5000/#/experiments/1/runs/70d1313126bd4afe97e28d53eef9fcee\n",
      "🧪 View experiment at: http://localhost:5000/#/experiments/1\n",
      "Average MSE: 0.8212963283673819\n",
      "Average R2: -0.17216523848298126\n"
     ]
    },
    {
     "name": "stderr",
     "output_type": "stream",
     "text": [
      "d:\\ML_Assignment\\A2_ Assignment\\ml_env2\\Lib\\site-packages\\mlflow\\pyfunc\\utils\\data_validation.py:166: UserWarning: \u001b[33mAdd type hints to the `predict` method to enable data validation and automatic signature inference during model logging. Check https://mlflow.org/docs/latest/model/python_model.html#type-hint-usage-in-pythonmodel for more details.\u001b[0m\n",
      "  color_warning(\n"
     ]
    },
    {
     "name": "stdout",
     "output_type": "stream",
     "text": [
      "🏃 View run polynomial-True-reg-Ridge-momentum-0-method-mini-xavier-xavier-lr-0.001 at: http://localhost:5000/#/experiments/1/runs/c74cbdc9d24f4a05a4761461eecff45a\n",
      "🧪 View experiment at: http://localhost:5000/#/experiments/1\n",
      "===== polynomial-True-reg-Ridge-momentum-0-method-mini-xavier-xavier-lr-0.0001 =====\n",
      "Fold 0 - MSE : 30.304402619949613\n",
      "Fold 0 - R2 : -43.138129165222466\n",
      "🏃 View run Fold-0 at: http://localhost:5000/#/experiments/1/runs/c82d04cfd9e74a09b944c0c9fd648fa8\n",
      "🧪 View experiment at: http://localhost:5000/#/experiments/1\n",
      "Fold 1 - MSE : 27.941139426818047\n",
      "Fold 1 - R2 : -37.63147794540775\n",
      "🏃 View run Fold-1 at: http://localhost:5000/#/experiments/1/runs/0c16c819c2cb47e69e66651d66168cd4\n",
      "🧪 View experiment at: http://localhost:5000/#/experiments/1\n",
      "Fold 2 - MSE : 31.13074826892026\n",
      "Fold 2 - R2 : -43.82972721287881\n",
      "🏃 View run Fold-2 at: http://localhost:5000/#/experiments/1/runs/05c971622a5c4eb7844aaa959246af33\n",
      "🧪 View experiment at: http://localhost:5000/#/experiments/1\n",
      "Average MSE: 29.792096771895974\n",
      "Average R2: -41.53311144116967\n"
     ]
    },
    {
     "name": "stderr",
     "output_type": "stream",
     "text": [
      "d:\\ML_Assignment\\A2_ Assignment\\ml_env2\\Lib\\site-packages\\mlflow\\pyfunc\\utils\\data_validation.py:166: UserWarning: \u001b[33mAdd type hints to the `predict` method to enable data validation and automatic signature inference during model logging. Check https://mlflow.org/docs/latest/model/python_model.html#type-hint-usage-in-pythonmodel for more details.\u001b[0m\n",
      "  color_warning(\n"
     ]
    },
    {
     "name": "stdout",
     "output_type": "stream",
     "text": [
      "🏃 View run polynomial-True-reg-Ridge-momentum-0-method-mini-xavier-xavier-lr-0.0001 at: http://localhost:5000/#/experiments/1/runs/a8dd58c477c34d4daaa6012a3306d63d\n",
      "🧪 View experiment at: http://localhost:5000/#/experiments/1\n",
      "===== polynomial-True-reg-Ridge-momentum-0-method-batch-xavier-zero-lr-0.01 =====\n",
      "Fold 0 - MSE : 26.31325940940582\n",
      "Fold 0 - R2 : -37.32505979859802\n",
      "🏃 View run Fold-0 at: http://localhost:5000/#/experiments/1/runs/35bd7ab1d4a942b68981ece8ac7adb33\n",
      "🧪 View experiment at: http://localhost:5000/#/experiments/1\n",
      "Fold 1 - MSE : 23.291796965382478\n",
      "Fold 1 - R2 : -31.20328731166414\n",
      "🏃 View run Fold-1 at: http://localhost:5000/#/experiments/1/runs/de5bf9f1cc424271865f69de8e4121dc\n",
      "🧪 View experiment at: http://localhost:5000/#/experiments/1\n",
      "Fold 2 - MSE : 24.970244570080865\n",
      "Fold 2 - R2 : -34.95831500244305\n",
      "🏃 View run Fold-2 at: http://localhost:5000/#/experiments/1/runs/8cba668e8aba41ed9dfbb7c632bf3d83\n",
      "🧪 View experiment at: http://localhost:5000/#/experiments/1\n",
      "Average MSE: 24.85843364828972\n",
      "Average R2: -34.495554037568404\n"
     ]
    },
    {
     "name": "stderr",
     "output_type": "stream",
     "text": [
      "d:\\ML_Assignment\\A2_ Assignment\\ml_env2\\Lib\\site-packages\\mlflow\\pyfunc\\utils\\data_validation.py:166: UserWarning: \u001b[33mAdd type hints to the `predict` method to enable data validation and automatic signature inference during model logging. Check https://mlflow.org/docs/latest/model/python_model.html#type-hint-usage-in-pythonmodel for more details.\u001b[0m\n",
      "  color_warning(\n"
     ]
    },
    {
     "name": "stdout",
     "output_type": "stream",
     "text": [
      "🏃 View run polynomial-True-reg-Ridge-momentum-0-method-batch-xavier-zero-lr-0.01 at: http://localhost:5000/#/experiments/1/runs/beafb958fd7f41da87378c67d092b246\n",
      "🧪 View experiment at: http://localhost:5000/#/experiments/1\n",
      "===== polynomial-True-reg-Ridge-momentum-0-method-batch-xavier-zero-lr-0.001 =====\n",
      "Fold 0 - MSE : 79.22752377568608\n",
      "Fold 0 - R2 : -114.39427857092602\n",
      "🏃 View run Fold-0 at: http://localhost:5000/#/experiments/1/runs/056cca42530c49f08fe54928d5eda08f\n",
      "🧪 View experiment at: http://localhost:5000/#/experiments/1\n",
      "Fold 1 - MSE : 79.53322845224403\n",
      "Fold 1 - R2 : -108.96280838608011\n",
      "🏃 View run Fold-1 at: http://localhost:5000/#/experiments/1/runs/10830cd9823d45469363f8bcf9f4353a\n",
      "🧪 View experiment at: http://localhost:5000/#/experiments/1\n",
      "Fold 2 - MSE : 81.44855365508486\n",
      "Fold 2 - R2 : -116.28971018298046\n",
      "🏃 View run Fold-2 at: http://localhost:5000/#/experiments/1/runs/632792a872584523b4636c3f88c71f1c\n",
      "🧪 View experiment at: http://localhost:5000/#/experiments/1\n",
      "Average MSE: 80.06976862767165\n",
      "Average R2: -113.21559904666219\n"
     ]
    },
    {
     "name": "stderr",
     "output_type": "stream",
     "text": [
      "d:\\ML_Assignment\\A2_ Assignment\\ml_env2\\Lib\\site-packages\\mlflow\\pyfunc\\utils\\data_validation.py:166: UserWarning: \u001b[33mAdd type hints to the `predict` method to enable data validation and automatic signature inference during model logging. Check https://mlflow.org/docs/latest/model/python_model.html#type-hint-usage-in-pythonmodel for more details.\u001b[0m\n",
      "  color_warning(\n"
     ]
    },
    {
     "name": "stdout",
     "output_type": "stream",
     "text": [
      "🏃 View run polynomial-True-reg-Ridge-momentum-0-method-batch-xavier-zero-lr-0.001 at: http://localhost:5000/#/experiments/1/runs/36676b7f2609450a80407aeb705515aa\n",
      "🧪 View experiment at: http://localhost:5000/#/experiments/1\n",
      "===== polynomial-True-reg-Ridge-momentum-0-method-batch-xavier-zero-lr-0.0001 =====\n",
      "Fold 0 - MSE : 150.65696299672217\n",
      "Fold 0 - R2 : -218.43070700928143\n",
      "🏃 View run Fold-0 at: http://localhost:5000/#/experiments/1/runs/657d8cb42ddc463397a71c692fef7f7a\n",
      "🧪 View experiment at: http://localhost:5000/#/experiments/1\n",
      "Fold 1 - MSE : 150.0781291297615\n",
      "Fold 1 - R2 : -206.49833594830918\n",
      "🏃 View run Fold-1 at: http://localhost:5000/#/experiments/1/runs/f927af64efc141fa85b4aa4b5a1f3f66\n",
      "🧪 View experiment at: http://localhost:5000/#/experiments/1\n",
      "Fold 2 - MSE : 150.3551258840508\n",
      "Fold 2 - R2 : -215.51838305375352\n",
      "🏃 View run Fold-2 at: http://localhost:5000/#/experiments/1/runs/ccd3105d429b454ca9ae41a7fbc1b970\n",
      "🧪 View experiment at: http://localhost:5000/#/experiments/1\n",
      "Average MSE: 150.3634060035115\n",
      "Average R2: -213.4824753371147\n"
     ]
    },
    {
     "name": "stderr",
     "output_type": "stream",
     "text": [
      "d:\\ML_Assignment\\A2_ Assignment\\ml_env2\\Lib\\site-packages\\mlflow\\pyfunc\\utils\\data_validation.py:166: UserWarning: \u001b[33mAdd type hints to the `predict` method to enable data validation and automatic signature inference during model logging. Check https://mlflow.org/docs/latest/model/python_model.html#type-hint-usage-in-pythonmodel for more details.\u001b[0m\n",
      "  color_warning(\n"
     ]
    },
    {
     "name": "stdout",
     "output_type": "stream",
     "text": [
      "🏃 View run polynomial-True-reg-Ridge-momentum-0-method-batch-xavier-zero-lr-0.0001 at: http://localhost:5000/#/experiments/1/runs/6e4abc883ce2489d9693ff07363f0bc4\n",
      "🧪 View experiment at: http://localhost:5000/#/experiments/1\n",
      "===== polynomial-True-reg-Ridge-momentum-0-method-batch-xavier-xavier-lr-0.01 =====\n",
      "Fold 0 - MSE : 25.737083807293143\n",
      "Fold 0 - R2 : -36.48586446890168\n",
      "🏃 View run Fold-0 at: http://localhost:5000/#/experiments/1/runs/55f2a4f85cc44496918b78346a3ecabf\n",
      "🧪 View experiment at: http://localhost:5000/#/experiments/1\n",
      "Fold 1 - MSE : 24.53949464456562\n",
      "Fold 1 - R2 : -32.928356738490635\n",
      "🏃 View run Fold-1 at: http://localhost:5000/#/experiments/1/runs/d1612a1f5d4742e2ba1b1230569d381d\n",
      "🧪 View experiment at: http://localhost:5000/#/experiments/1\n",
      "Fold 2 - MSE : 24.07194947969041\n",
      "Fold 2 - R2 : -33.664728240216824\n",
      "🏃 View run Fold-2 at: http://localhost:5000/#/experiments/1/runs/6de62a6d03b14fd4adaf65c0905a77eb\n",
      "🧪 View experiment at: http://localhost:5000/#/experiments/1\n",
      "Average MSE: 24.782842643849722\n",
      "Average R2: -34.359649815869716\n"
     ]
    },
    {
     "name": "stderr",
     "output_type": "stream",
     "text": [
      "d:\\ML_Assignment\\A2_ Assignment\\ml_env2\\Lib\\site-packages\\mlflow\\pyfunc\\utils\\data_validation.py:166: UserWarning: \u001b[33mAdd type hints to the `predict` method to enable data validation and automatic signature inference during model logging. Check https://mlflow.org/docs/latest/model/python_model.html#type-hint-usage-in-pythonmodel for more details.\u001b[0m\n",
      "  color_warning(\n"
     ]
    },
    {
     "name": "stdout",
     "output_type": "stream",
     "text": [
      "🏃 View run polynomial-True-reg-Ridge-momentum-0-method-batch-xavier-xavier-lr-0.01 at: http://localhost:5000/#/experiments/1/runs/1984edbe85ee446ba4b7f1def7ebac77\n",
      "🧪 View experiment at: http://localhost:5000/#/experiments/1\n",
      "===== polynomial-True-reg-Ridge-momentum-0-method-batch-xavier-xavier-lr-0.001 =====\n",
      "Fold 0 - MSE : 76.35475950193054\n",
      "Fold 0 - R2 : -110.21011951765414\n",
      "🏃 View run Fold-0 at: http://localhost:5000/#/experiments/1/runs/d63d2f3c9f56412f8ee5819217b86d0d\n",
      "🧪 View experiment at: http://localhost:5000/#/experiments/1\n",
      "Fold 1 - MSE : 82.23223392882048\n",
      "Fold 1 - R2 : -112.69445901600476\n",
      "🏃 View run Fold-1 at: http://localhost:5000/#/experiments/1/runs/c7009f9f8f1c42f9b59e357305b87785\n",
      "🧪 View experiment at: http://localhost:5000/#/experiments/1\n",
      "Fold 2 - MSE : 83.60591360535368\n",
      "Fold 2 - R2 : -119.39640897592581\n",
      "🏃 View run Fold-2 at: http://localhost:5000/#/experiments/1/runs/e24355a0651048a8ada1d4563fa3f617\n",
      "🧪 View experiment at: http://localhost:5000/#/experiments/1\n",
      "Average MSE: 80.7309690120349\n",
      "Average R2: -114.10032916986155\n"
     ]
    },
    {
     "name": "stderr",
     "output_type": "stream",
     "text": [
      "d:\\ML_Assignment\\A2_ Assignment\\ml_env2\\Lib\\site-packages\\mlflow\\pyfunc\\utils\\data_validation.py:166: UserWarning: \u001b[33mAdd type hints to the `predict` method to enable data validation and automatic signature inference during model logging. Check https://mlflow.org/docs/latest/model/python_model.html#type-hint-usage-in-pythonmodel for more details.\u001b[0m\n",
      "  color_warning(\n"
     ]
    },
    {
     "name": "stdout",
     "output_type": "stream",
     "text": [
      "🏃 View run polynomial-True-reg-Ridge-momentum-0-method-batch-xavier-xavier-lr-0.001 at: http://localhost:5000/#/experiments/1/runs/03a594825b9d4d04b5e202bca5d8e9ec\n",
      "🧪 View experiment at: http://localhost:5000/#/experiments/1\n",
      "===== polynomial-True-reg-Ridge-momentum-0-method-batch-xavier-xavier-lr-0.0001 =====\n",
      "Fold 0 - MSE : 161.27653811774783\n",
      "Fold 0 - R2 : -233.89803643497507\n",
      "🏃 View run Fold-0 at: http://localhost:5000/#/experiments/1/runs/7f5de8c45c184ef4b04d85601ebc64d3\n",
      "🧪 View experiment at: http://localhost:5000/#/experiments/1\n",
      "Fold 1 - MSE : 161.26456444264082\n",
      "Fold 1 - R2 : -221.96472486237218\n",
      "🏃 View run Fold-1 at: http://localhost:5000/#/experiments/1/runs/0964748d2dc04c218202e41161d18405\n",
      "🧪 View experiment at: http://localhost:5000/#/experiments/1\n",
      "Fold 2 - MSE : 151.71070118424296\n",
      "Fold 2 - R2 : -217.47047461285047\n",
      "🏃 View run Fold-2 at: http://localhost:5000/#/experiments/1/runs/982f94a419ad436a8a19221a09310ed3\n",
      "🧪 View experiment at: http://localhost:5000/#/experiments/1\n",
      "Average MSE: 158.08393458154387\n",
      "Average R2: -224.4444119700659\n"
     ]
    },
    {
     "name": "stderr",
     "output_type": "stream",
     "text": [
      "d:\\ML_Assignment\\A2_ Assignment\\ml_env2\\Lib\\site-packages\\mlflow\\pyfunc\\utils\\data_validation.py:166: UserWarning: \u001b[33mAdd type hints to the `predict` method to enable data validation and automatic signature inference during model logging. Check https://mlflow.org/docs/latest/model/python_model.html#type-hint-usage-in-pythonmodel for more details.\u001b[0m\n",
      "  color_warning(\n"
     ]
    },
    {
     "name": "stdout",
     "output_type": "stream",
     "text": [
      "🏃 View run polynomial-True-reg-Ridge-momentum-0-method-batch-xavier-xavier-lr-0.0001 at: http://localhost:5000/#/experiments/1/runs/c74773da3d53469b9a07c088dd654e38\n",
      "🧪 View experiment at: http://localhost:5000/#/experiments/1\n",
      "===== polynomial-True-reg-Ridge-momentum-0.6-method-sto-xavier-zero-lr-0.01 =====\n",
      "Fold 0 - MSE : 0.7787794436277424\n",
      "Fold 0 - R2 : -0.1342862654363235\n",
      "🏃 View run Fold-0 at: http://localhost:5000/#/experiments/1/runs/bbae1a69ccb34cdfad31550c9749d647\n",
      "🧪 View experiment at: http://localhost:5000/#/experiments/1\n",
      "Fold 1 - MSE : 0.8873181008869021\n",
      "Fold 1 - R2 : -0.22680786639906514\n",
      "🏃 View run Fold-1 at: http://localhost:5000/#/experiments/1/runs/ad2fe1b7600c4524b34f6a18e2d91701\n",
      "🧪 View experiment at: http://localhost:5000/#/experiments/1\n",
      "Fold 2 - MSE : 0.8672093426871695\n",
      "Fold 2 - R2 : -0.24882183792346568\n",
      "🏃 View run Fold-2 at: http://localhost:5000/#/experiments/1/runs/8ae7dd15cfec4f42abb14acc2d0d9318\n",
      "🧪 View experiment at: http://localhost:5000/#/experiments/1\n",
      "Average MSE: 0.8444356290672714\n",
      "Average R2: -0.20330532325295145\n"
     ]
    },
    {
     "name": "stderr",
     "output_type": "stream",
     "text": [
      "d:\\ML_Assignment\\A2_ Assignment\\ml_env2\\Lib\\site-packages\\mlflow\\pyfunc\\utils\\data_validation.py:166: UserWarning: \u001b[33mAdd type hints to the `predict` method to enable data validation and automatic signature inference during model logging. Check https://mlflow.org/docs/latest/model/python_model.html#type-hint-usage-in-pythonmodel for more details.\u001b[0m\n",
      "  color_warning(\n"
     ]
    },
    {
     "name": "stdout",
     "output_type": "stream",
     "text": [
      "🏃 View run polynomial-True-reg-Ridge-momentum-0.6-method-sto-xavier-zero-lr-0.01 at: http://localhost:5000/#/experiments/1/runs/e522d54d8dc24173bda55fe85614caed\n",
      "🧪 View experiment at: http://localhost:5000/#/experiments/1\n",
      "===== polynomial-True-reg-Ridge-momentum-0.6-method-sto-xavier-zero-lr-0.001 =====\n",
      "Fold 0 - MSE : 0.4743775812926197\n",
      "Fold 0 - R2 : 0.3090727040962775\n",
      "🏃 View run Fold-0 at: http://localhost:5000/#/experiments/1/runs/622f34699fc04947a8c9f12b6febd72e\n",
      "🧪 View experiment at: http://localhost:5000/#/experiments/1\n",
      "Fold 1 - MSE : 1.5724528370973063\n",
      "Fold 1 - R2 : -1.17407658895306\n",
      "🏃 View run Fold-1 at: http://localhost:5000/#/experiments/1/runs/0aa1856a2c2341999e7d5b674fd81ffd\n",
      "🧪 View experiment at: http://localhost:5000/#/experiments/1\n",
      "Fold 2 - MSE : 0.4095219356441627\n",
      "Fold 2 - R2 : 0.4102693419371932\n",
      "🏃 View run Fold-2 at: http://localhost:5000/#/experiments/1/runs/906313597b4d40a2ad8a26b1224de522\n",
      "🧪 View experiment at: http://localhost:5000/#/experiments/1\n",
      "Average MSE: 0.818784118011363\n",
      "Average R2: -0.15157818097319642\n"
     ]
    },
    {
     "name": "stderr",
     "output_type": "stream",
     "text": [
      "d:\\ML_Assignment\\A2_ Assignment\\ml_env2\\Lib\\site-packages\\mlflow\\pyfunc\\utils\\data_validation.py:166: UserWarning: \u001b[33mAdd type hints to the `predict` method to enable data validation and automatic signature inference during model logging. Check https://mlflow.org/docs/latest/model/python_model.html#type-hint-usage-in-pythonmodel for more details.\u001b[0m\n",
      "  color_warning(\n"
     ]
    },
    {
     "name": "stdout",
     "output_type": "stream",
     "text": [
      "🏃 View run polynomial-True-reg-Ridge-momentum-0.6-method-sto-xavier-zero-lr-0.001 at: http://localhost:5000/#/experiments/1/runs/975b1a04e8864655b1af3eebe27e0ccc\n",
      "🧪 View experiment at: http://localhost:5000/#/experiments/1\n",
      "===== polynomial-True-reg-Ridge-momentum-0.6-method-sto-xavier-zero-lr-0.0001 =====\n",
      "Fold 0 - MSE : 0.4665511241557566\n",
      "Fold 0 - R2 : 0.3204718786764599\n",
      "🏃 View run Fold-0 at: http://localhost:5000/#/experiments/1/runs/c5737225d88d4bbea37710e2e944c953\n",
      "🧪 View experiment at: http://localhost:5000/#/experiments/1\n",
      "Fold 1 - MSE : 0.42181634511808347\n",
      "Fold 1 - R2 : 0.4167958369728706\n",
      "🏃 View run Fold-1 at: http://localhost:5000/#/experiments/1/runs/7bdea5ec1958480eb08d0d18e60523e3\n",
      "🧪 View experiment at: http://localhost:5000/#/experiments/1\n",
      "Fold 2 - MSE : 0.41536400186926736\n",
      "Fold 2 - R2 : 0.4018564945180234\n",
      "🏃 View run Fold-2 at: http://localhost:5000/#/experiments/1/runs/511fcddb672f41498eed2d9de9d340c3\n",
      "🧪 View experiment at: http://localhost:5000/#/experiments/1\n",
      "Average MSE: 0.43457715704770256\n",
      "Average R2: 0.37970807005578466\n"
     ]
    },
    {
     "name": "stderr",
     "output_type": "stream",
     "text": [
      "d:\\ML_Assignment\\A2_ Assignment\\ml_env2\\Lib\\site-packages\\mlflow\\pyfunc\\utils\\data_validation.py:166: UserWarning: \u001b[33mAdd type hints to the `predict` method to enable data validation and automatic signature inference during model logging. Check https://mlflow.org/docs/latest/model/python_model.html#type-hint-usage-in-pythonmodel for more details.\u001b[0m\n",
      "  color_warning(\n"
     ]
    },
    {
     "name": "stdout",
     "output_type": "stream",
     "text": [
      "🏃 View run polynomial-True-reg-Ridge-momentum-0.6-method-sto-xavier-zero-lr-0.0001 at: http://localhost:5000/#/experiments/1/runs/0d45c511efcd455aa520140e189d3096\n",
      "🧪 View experiment at: http://localhost:5000/#/experiments/1\n",
      "===== polynomial-True-reg-Ridge-momentum-0.6-method-sto-xavier-xavier-lr-0.01 =====\n",
      "Fold 0 - MSE : 0.7891517605424859\n",
      "Fold 0 - R2 : -0.14939346518769514\n",
      "🏃 View run Fold-0 at: http://localhost:5000/#/experiments/1/runs/53f4d716278e4003a97fa98699e7a53f\n",
      "🧪 View experiment at: http://localhost:5000/#/experiments/1\n",
      "Fold 1 - MSE : 1.048799708940733\n",
      "Fold 1 - R2 : -0.4500726762132643\n",
      "🏃 View run Fold-1 at: http://localhost:5000/#/experiments/1/runs/9269307fde5a4ae9bace37a715bf000b\n",
      "🧪 View experiment at: http://localhost:5000/#/experiments/1\n",
      "Fold 2 - MSE : 0.7058072074743685\n",
      "Fold 2 - R2 : -0.016395246996006252\n",
      "🏃 View run Fold-2 at: http://localhost:5000/#/experiments/1/runs/567c0991f1d34fb49876887f8db33804\n",
      "🧪 View experiment at: http://localhost:5000/#/experiments/1\n",
      "Average MSE: 0.8479195589858625\n",
      "Average R2: -0.20528712946565522\n"
     ]
    },
    {
     "name": "stderr",
     "output_type": "stream",
     "text": [
      "d:\\ML_Assignment\\A2_ Assignment\\ml_env2\\Lib\\site-packages\\mlflow\\pyfunc\\utils\\data_validation.py:166: UserWarning: \u001b[33mAdd type hints to the `predict` method to enable data validation and automatic signature inference during model logging. Check https://mlflow.org/docs/latest/model/python_model.html#type-hint-usage-in-pythonmodel for more details.\u001b[0m\n",
      "  color_warning(\n"
     ]
    },
    {
     "name": "stdout",
     "output_type": "stream",
     "text": [
      "🏃 View run polynomial-True-reg-Ridge-momentum-0.6-method-sto-xavier-xavier-lr-0.01 at: http://localhost:5000/#/experiments/1/runs/4f13eeba59284a74a3c32ec8eccc443f\n",
      "🧪 View experiment at: http://localhost:5000/#/experiments/1\n",
      "===== polynomial-True-reg-Ridge-momentum-0.6-method-sto-xavier-xavier-lr-0.001 =====\n",
      "Fold 0 - MSE : 0.4382260997866523\n",
      "Fold 0 - R2 : 0.3617270586544534\n",
      "🏃 View run Fold-0 at: http://localhost:5000/#/experiments/1/runs/338c949357d7461d961f76cf5f46d91f\n",
      "🧪 View experiment at: http://localhost:5000/#/experiments/1\n",
      "Fold 1 - MSE : 1.4127737849079012\n",
      "Fold 1 - R2 : -0.9533039966557706\n",
      "🏃 View run Fold-1 at: http://localhost:5000/#/experiments/1/runs/1ee077ae3e7e4e329fdb9a53c49c7b54\n",
      "🧪 View experiment at: http://localhost:5000/#/experiments/1\n",
      "Fold 2 - MSE : 0.44783838037800133\n",
      "Fold 2 - R2 : 0.3550918771892536\n",
      "🏃 View run Fold-2 at: http://localhost:5000/#/experiments/1/runs/7b43f2b204e54f13971aadd3953824bf\n",
      "🧪 View experiment at: http://localhost:5000/#/experiments/1\n",
      "Average MSE: 0.7662794216908516\n",
      "Average R2: -0.07882835360402118\n"
     ]
    },
    {
     "name": "stderr",
     "output_type": "stream",
     "text": [
      "d:\\ML_Assignment\\A2_ Assignment\\ml_env2\\Lib\\site-packages\\mlflow\\pyfunc\\utils\\data_validation.py:166: UserWarning: \u001b[33mAdd type hints to the `predict` method to enable data validation and automatic signature inference during model logging. Check https://mlflow.org/docs/latest/model/python_model.html#type-hint-usage-in-pythonmodel for more details.\u001b[0m\n",
      "  color_warning(\n"
     ]
    },
    {
     "name": "stdout",
     "output_type": "stream",
     "text": [
      "🏃 View run polynomial-True-reg-Ridge-momentum-0.6-method-sto-xavier-xavier-lr-0.001 at: http://localhost:5000/#/experiments/1/runs/b671567b594f4f8e87872404d839b739\n",
      "🧪 View experiment at: http://localhost:5000/#/experiments/1\n",
      "===== polynomial-True-reg-Ridge-momentum-0.6-method-sto-xavier-xavier-lr-0.0001 =====\n",
      "Fold 0 - MSE : 0.4608320706743813\n",
      "Fold 0 - R2 : 0.32880163605295354\n",
      "🏃 View run Fold-0 at: http://localhost:5000/#/experiments/1/runs/1d95423b55c448cb9dd732a98e337de4\n",
      "🧪 View experiment at: http://localhost:5000/#/experiments/1\n",
      "Fold 1 - MSE : 0.4108667793598525\n",
      "Fold 1 - R2 : 0.4319347295441197\n",
      "🏃 View run Fold-1 at: http://localhost:5000/#/experiments/1/runs/b5ef14706fa0453a85850278477de2ee\n",
      "🧪 View experiment at: http://localhost:5000/#/experiments/1\n",
      "Fold 2 - MSE : 0.4123012984446181\n",
      "Fold 2 - R2 : 0.40626693007437176\n",
      "🏃 View run Fold-2 at: http://localhost:5000/#/experiments/1/runs/744ac32cb04647f2961b6111ec88ffde\n",
      "🧪 View experiment at: http://localhost:5000/#/experiments/1\n",
      "Average MSE: 0.4280000494929506\n",
      "Average R2: 0.3890010985571483\n"
     ]
    },
    {
     "name": "stderr",
     "output_type": "stream",
     "text": [
      "d:\\ML_Assignment\\A2_ Assignment\\ml_env2\\Lib\\site-packages\\mlflow\\pyfunc\\utils\\data_validation.py:166: UserWarning: \u001b[33mAdd type hints to the `predict` method to enable data validation and automatic signature inference during model logging. Check https://mlflow.org/docs/latest/model/python_model.html#type-hint-usage-in-pythonmodel for more details.\u001b[0m\n",
      "  color_warning(\n"
     ]
    },
    {
     "name": "stdout",
     "output_type": "stream",
     "text": [
      "🏃 View run polynomial-True-reg-Ridge-momentum-0.6-method-sto-xavier-xavier-lr-0.0001 at: http://localhost:5000/#/experiments/1/runs/3706664ed569413eadbb44a585af43d8\n",
      "🧪 View experiment at: http://localhost:5000/#/experiments/1\n",
      "===== polynomial-True-reg-Ridge-momentum-0.6-method-mini-xavier-zero-lr-0.01 =====\n",
      "Fold 0 - MSE : 0.5859797268170195\n",
      "Fold 0 - R2 : 0.1465250381334069\n",
      "🏃 View run Fold-0 at: http://localhost:5000/#/experiments/1/runs/2fbac638f1d04e84a7e7b49cc779b516\n",
      "🧪 View experiment at: http://localhost:5000/#/experiments/1\n",
      "Fold 1 - MSE : 0.5743904959188854\n",
      "Fold 1 - R2 : 0.2058464962296922\n",
      "🏃 View run Fold-1 at: http://localhost:5000/#/experiments/1/runs/487b90d9ff8847c792c66ae8b59a97d8\n",
      "🧪 View experiment at: http://localhost:5000/#/experiments/1\n",
      "Fold 2 - MSE : 0.5849172996251981\n",
      "Fold 2 - R2 : 0.15769184994277674\n",
      "🏃 View run Fold-2 at: http://localhost:5000/#/experiments/1/runs/ad40cd02b3f64e5f99a62d45cb111995\n",
      "🧪 View experiment at: http://localhost:5000/#/experiments/1\n",
      "Average MSE: 0.581762507453701\n",
      "Average R2: 0.1700211281019586\n"
     ]
    },
    {
     "name": "stderr",
     "output_type": "stream",
     "text": [
      "d:\\ML_Assignment\\A2_ Assignment\\ml_env2\\Lib\\site-packages\\mlflow\\pyfunc\\utils\\data_validation.py:166: UserWarning: \u001b[33mAdd type hints to the `predict` method to enable data validation and automatic signature inference during model logging. Check https://mlflow.org/docs/latest/model/python_model.html#type-hint-usage-in-pythonmodel for more details.\u001b[0m\n",
      "  color_warning(\n"
     ]
    },
    {
     "name": "stdout",
     "output_type": "stream",
     "text": [
      "🏃 View run polynomial-True-reg-Ridge-momentum-0.6-method-mini-xavier-zero-lr-0.01 at: http://localhost:5000/#/experiments/1/runs/76e6be7bebfe4823b19c5f148b2b6f89\n",
      "🧪 View experiment at: http://localhost:5000/#/experiments/1\n",
      "===== polynomial-True-reg-Ridge-momentum-0.6-method-mini-xavier-zero-lr-0.001 =====\n",
      "Fold 0 - MSE : 0.8679987577212688\n",
      "Fold 0 - R2 : -0.2642335096991164\n",
      "🏃 View run Fold-0 at: http://localhost:5000/#/experiments/1/runs/32559fe55e774cb7b08cce287b9b4d70\n",
      "🧪 View experiment at: http://localhost:5000/#/experiments/1\n",
      "Fold 1 - MSE : 0.7693670595415495\n",
      "Fold 1 - R2 : -0.063728509370504\n",
      "🏃 View run Fold-1 at: http://localhost:5000/#/experiments/1/runs/0186171c229846f98d42a1ef29be272a\n",
      "🧪 View experiment at: http://localhost:5000/#/experiments/1\n",
      "Fold 2 - MSE : 0.8271281075584677\n",
      "Fold 2 - R2 : -0.19110299282365673\n",
      "🏃 View run Fold-2 at: http://localhost:5000/#/experiments/1/runs/7aeb9ad1069e4edb9c7faf6f1fc37956\n",
      "🧪 View experiment at: http://localhost:5000/#/experiments/1\n",
      "Average MSE: 0.8214979749404286\n",
      "Average R2: -0.1730216706310924\n"
     ]
    },
    {
     "name": "stderr",
     "output_type": "stream",
     "text": [
      "d:\\ML_Assignment\\A2_ Assignment\\ml_env2\\Lib\\site-packages\\mlflow\\pyfunc\\utils\\data_validation.py:166: UserWarning: \u001b[33mAdd type hints to the `predict` method to enable data validation and automatic signature inference during model logging. Check https://mlflow.org/docs/latest/model/python_model.html#type-hint-usage-in-pythonmodel for more details.\u001b[0m\n",
      "  color_warning(\n"
     ]
    },
    {
     "name": "stdout",
     "output_type": "stream",
     "text": [
      "🏃 View run polynomial-True-reg-Ridge-momentum-0.6-method-mini-xavier-zero-lr-0.001 at: http://localhost:5000/#/experiments/1/runs/d754e5f830e941e59bb7f707f56ba14d\n",
      "🧪 View experiment at: http://localhost:5000/#/experiments/1\n",
      "===== polynomial-True-reg-Ridge-momentum-0.6-method-mini-xavier-zero-lr-0.0001 =====\n",
      "Fold 0 - MSE : 31.74436054042382\n",
      "Fold 0 - R2 : -45.235416793144076\n",
      "🏃 View run Fold-0 at: http://localhost:5000/#/experiments/1/runs/30bd3ba3a10141dba9349a8e1c836acf\n",
      "🧪 View experiment at: http://localhost:5000/#/experiments/1\n",
      "Fold 1 - MSE : 28.625024065889647\n",
      "Fold 1 - R2 : -38.57701828103702\n",
      "🏃 View run Fold-1 at: http://localhost:5000/#/experiments/1/runs/046e98ed72a34adab261fd3a9634cc07\n",
      "🧪 View experiment at: http://localhost:5000/#/experiments/1\n",
      "Fold 2 - MSE : 30.587540324199463\n",
      "Fold 2 - R2 : -43.047482476217155\n",
      "🏃 View run Fold-2 at: http://localhost:5000/#/experiments/1/runs/4419634f64c049b58a88d975bd8af39e\n",
      "🧪 View experiment at: http://localhost:5000/#/experiments/1\n",
      "Average MSE: 30.31897497683764\n",
      "Average R2: -42.286639183466086\n"
     ]
    },
    {
     "name": "stderr",
     "output_type": "stream",
     "text": [
      "d:\\ML_Assignment\\A2_ Assignment\\ml_env2\\Lib\\site-packages\\mlflow\\pyfunc\\utils\\data_validation.py:166: UserWarning: \u001b[33mAdd type hints to the `predict` method to enable data validation and automatic signature inference during model logging. Check https://mlflow.org/docs/latest/model/python_model.html#type-hint-usage-in-pythonmodel for more details.\u001b[0m\n",
      "  color_warning(\n"
     ]
    },
    {
     "name": "stdout",
     "output_type": "stream",
     "text": [
      "🏃 View run polynomial-True-reg-Ridge-momentum-0.6-method-mini-xavier-zero-lr-0.0001 at: http://localhost:5000/#/experiments/1/runs/049dab2d46d74784b0688c6048d44310\n",
      "🧪 View experiment at: http://localhost:5000/#/experiments/1\n",
      "===== polynomial-True-reg-Ridge-momentum-0.6-method-mini-xavier-xavier-lr-0.01 =====\n",
      "Fold 0 - MSE : 0.5762861348443091\n",
      "Fold 0 - R2 : 0.16064368023080278\n",
      "🏃 View run Fold-0 at: http://localhost:5000/#/experiments/1/runs/a79d33fef9f04abfbd0dbd7aa82ce8b1\n",
      "🧪 View experiment at: http://localhost:5000/#/experiments/1\n",
      "Fold 1 - MSE : 0.5678041362550703\n",
      "Fold 1 - R2 : 0.21495281090807583\n",
      "🏃 View run Fold-1 at: http://localhost:5000/#/experiments/1/runs/00d18c7fc70a4a23bcaf4b7240c56751\n",
      "🧪 View experiment at: http://localhost:5000/#/experiments/1\n",
      "Fold 2 - MSE : 0.5819782754372176\n",
      "Fold 2 - R2 : 0.16192418163879185\n",
      "🏃 View run Fold-2 at: http://localhost:5000/#/experiments/1/runs/5cf415d37ab847f7a61db222b943372c\n",
      "🧪 View experiment at: http://localhost:5000/#/experiments/1\n",
      "Average MSE: 0.5753561821788656\n",
      "Average R2: 0.17917355759255682\n"
     ]
    },
    {
     "name": "stderr",
     "output_type": "stream",
     "text": [
      "d:\\ML_Assignment\\A2_ Assignment\\ml_env2\\Lib\\site-packages\\mlflow\\pyfunc\\utils\\data_validation.py:166: UserWarning: \u001b[33mAdd type hints to the `predict` method to enable data validation and automatic signature inference during model logging. Check https://mlflow.org/docs/latest/model/python_model.html#type-hint-usage-in-pythonmodel for more details.\u001b[0m\n",
      "  color_warning(\n"
     ]
    },
    {
     "name": "stdout",
     "output_type": "stream",
     "text": [
      "🏃 View run polynomial-True-reg-Ridge-momentum-0.6-method-mini-xavier-xavier-lr-0.01 at: http://localhost:5000/#/experiments/1/runs/273d288629214b3e84b77d9aa1faae45\n",
      "🧪 View experiment at: http://localhost:5000/#/experiments/1\n",
      "===== polynomial-True-reg-Ridge-momentum-0.6-method-mini-xavier-xavier-lr-0.001 =====\n",
      "Fold 0 - MSE : 0.8855515539041574\n",
      "Fold 0 - R2 : -0.28979902223692644\n",
      "🏃 View run Fold-0 at: http://localhost:5000/#/experiments/1/runs/a17c651d5100414099415e3d9f940e48\n",
      "🧪 View experiment at: http://localhost:5000/#/experiments/1\n",
      "Fold 1 - MSE : 0.7649142947105115\n",
      "Fold 1 - R2 : -0.05757210738063989\n",
      "🏃 View run Fold-1 at: http://localhost:5000/#/experiments/1/runs/b00a969ab4344013902c2777890c7cfc\n",
      "🧪 View experiment at: http://localhost:5000/#/experiments/1\n",
      "Fold 2 - MSE : 0.8451427711091996\n",
      "Fold 2 - R2 : -0.2170449472487408\n",
      "🏃 View run Fold-2 at: http://localhost:5000/#/experiments/1/runs/b592dd5790724a92ad51dd69729ad3dc\n",
      "🧪 View experiment at: http://localhost:5000/#/experiments/1\n",
      "Average MSE: 0.8318695399079562\n",
      "Average R2: -0.18813869228876903\n"
     ]
    },
    {
     "name": "stderr",
     "output_type": "stream",
     "text": [
      "d:\\ML_Assignment\\A2_ Assignment\\ml_env2\\Lib\\site-packages\\mlflow\\pyfunc\\utils\\data_validation.py:166: UserWarning: \u001b[33mAdd type hints to the `predict` method to enable data validation and automatic signature inference during model logging. Check https://mlflow.org/docs/latest/model/python_model.html#type-hint-usage-in-pythonmodel for more details.\u001b[0m\n",
      "  color_warning(\n"
     ]
    },
    {
     "name": "stdout",
     "output_type": "stream",
     "text": [
      "🏃 View run polynomial-True-reg-Ridge-momentum-0.6-method-mini-xavier-xavier-lr-0.001 at: http://localhost:5000/#/experiments/1/runs/763884db087a4b7daf292d5397436120\n",
      "🧪 View experiment at: http://localhost:5000/#/experiments/1\n",
      "===== polynomial-True-reg-Ridge-momentum-0.6-method-mini-xavier-xavier-lr-0.0001 =====\n",
      "Fold 0 - MSE : 32.408771349806024\n",
      "Fold 0 - R2 : -46.20312602308865\n",
      "🏃 View run Fold-0 at: http://localhost:5000/#/experiments/1/runs/36c321b66e604fd4a6e912eaa40e91f7\n",
      "🧪 View experiment at: http://localhost:5000/#/experiments/1\n",
      "Fold 1 - MSE : 28.712077357394268\n",
      "Fold 1 - R2 : -38.697378344363855\n",
      "🏃 View run Fold-1 at: http://localhost:5000/#/experiments/1/runs/960d43429be4405184aa92aca3765b1b\n",
      "🧪 View experiment at: http://localhost:5000/#/experiments/1\n",
      "Fold 2 - MSE : 30.51502153240861\n",
      "Fold 2 - R2 : -42.943052038962385\n",
      "🏃 View run Fold-2 at: http://localhost:5000/#/experiments/1/runs/57c348d1600f4d59b5c368b5ecd3ba9a\n",
      "🧪 View experiment at: http://localhost:5000/#/experiments/1\n",
      "Average MSE: 30.545290079869634\n",
      "Average R2: -42.61451880213829\n"
     ]
    },
    {
     "name": "stderr",
     "output_type": "stream",
     "text": [
      "d:\\ML_Assignment\\A2_ Assignment\\ml_env2\\Lib\\site-packages\\mlflow\\pyfunc\\utils\\data_validation.py:166: UserWarning: \u001b[33mAdd type hints to the `predict` method to enable data validation and automatic signature inference during model logging. Check https://mlflow.org/docs/latest/model/python_model.html#type-hint-usage-in-pythonmodel for more details.\u001b[0m\n",
      "  color_warning(\n"
     ]
    },
    {
     "name": "stdout",
     "output_type": "stream",
     "text": [
      "🏃 View run polynomial-True-reg-Ridge-momentum-0.6-method-mini-xavier-xavier-lr-0.0001 at: http://localhost:5000/#/experiments/1/runs/300080ed3e0848b1a0d87f3c3f4f6cf4\n",
      "🧪 View experiment at: http://localhost:5000/#/experiments/1\n",
      "===== polynomial-True-reg-Ridge-momentum-0.6-method-batch-xavier-zero-lr-0.01 =====\n",
      "Fold 0 - MSE : 26.313259409405816\n",
      "Fold 0 - R2 : -37.32505979859801\n",
      "🏃 View run Fold-0 at: http://localhost:5000/#/experiments/1/runs/854650a4ebf74f318e9e92202a6a0b5b\n",
      "🧪 View experiment at: http://localhost:5000/#/experiments/1\n",
      "Fold 1 - MSE : 23.291796965382492\n",
      "Fold 1 - R2 : -31.203287311664162\n",
      "🏃 View run Fold-1 at: http://localhost:5000/#/experiments/1/runs/d65b15d41ad7485989d708159af03a95\n",
      "🧪 View experiment at: http://localhost:5000/#/experiments/1\n",
      "Fold 2 - MSE : 24.970244570080872\n",
      "Fold 2 - R2 : -34.958315002443065\n",
      "🏃 View run Fold-2 at: http://localhost:5000/#/experiments/1/runs/09fd2a7f83874ea8a41faf632f8eb0e6\n",
      "🧪 View experiment at: http://localhost:5000/#/experiments/1\n",
      "Average MSE: 24.85843364828973\n",
      "Average R2: -34.49555403756841\n"
     ]
    },
    {
     "name": "stderr",
     "output_type": "stream",
     "text": [
      "d:\\ML_Assignment\\A2_ Assignment\\ml_env2\\Lib\\site-packages\\mlflow\\pyfunc\\utils\\data_validation.py:166: UserWarning: \u001b[33mAdd type hints to the `predict` method to enable data validation and automatic signature inference during model logging. Check https://mlflow.org/docs/latest/model/python_model.html#type-hint-usage-in-pythonmodel for more details.\u001b[0m\n",
      "  color_warning(\n"
     ]
    },
    {
     "name": "stdout",
     "output_type": "stream",
     "text": [
      "🏃 View run polynomial-True-reg-Ridge-momentum-0.6-method-batch-xavier-zero-lr-0.01 at: http://localhost:5000/#/experiments/1/runs/ed9eede2a48443dbab4f4abe3c3732a7\n",
      "🧪 View experiment at: http://localhost:5000/#/experiments/1\n",
      "===== polynomial-True-reg-Ridge-momentum-0.6-method-batch-xavier-zero-lr-0.001 =====\n",
      "Fold 0 - MSE : 79.22752377568608\n",
      "Fold 0 - R2 : -114.39427857092602\n",
      "🏃 View run Fold-0 at: http://localhost:5000/#/experiments/1/runs/7163215af0f94309bd6fecf26ab39ca6\n",
      "🧪 View experiment at: http://localhost:5000/#/experiments/1\n",
      "Fold 1 - MSE : 79.53322845224402\n",
      "Fold 1 - R2 : -108.9628083860801\n",
      "🏃 View run Fold-1 at: http://localhost:5000/#/experiments/1/runs/7c64d1dfe097492da4ce46ac88866bf5\n",
      "🧪 View experiment at: http://localhost:5000/#/experiments/1\n",
      "Fold 2 - MSE : 81.44855365508486\n",
      "Fold 2 - R2 : -116.28971018298046\n",
      "🏃 View run Fold-2 at: http://localhost:5000/#/experiments/1/runs/14d3a9be314b496b8575b8352d060856\n",
      "🧪 View experiment at: http://localhost:5000/#/experiments/1\n",
      "Average MSE: 80.06976862767165\n",
      "Average R2: -113.21559904666219\n"
     ]
    },
    {
     "name": "stderr",
     "output_type": "stream",
     "text": [
      "d:\\ML_Assignment\\A2_ Assignment\\ml_env2\\Lib\\site-packages\\mlflow\\pyfunc\\utils\\data_validation.py:166: UserWarning: \u001b[33mAdd type hints to the `predict` method to enable data validation and automatic signature inference during model logging. Check https://mlflow.org/docs/latest/model/python_model.html#type-hint-usage-in-pythonmodel for more details.\u001b[0m\n",
      "  color_warning(\n"
     ]
    },
    {
     "name": "stdout",
     "output_type": "stream",
     "text": [
      "🏃 View run polynomial-True-reg-Ridge-momentum-0.6-method-batch-xavier-zero-lr-0.001 at: http://localhost:5000/#/experiments/1/runs/07aee2c9eca246c1b2ecba512a3d64a8\n",
      "🧪 View experiment at: http://localhost:5000/#/experiments/1\n",
      "===== polynomial-True-reg-Ridge-momentum-0.6-method-batch-xavier-zero-lr-0.0001 =====\n",
      "Fold 0 - MSE : 150.65696299672217\n",
      "Fold 0 - R2 : -218.43070700928143\n",
      "🏃 View run Fold-0 at: http://localhost:5000/#/experiments/1/runs/d11b1fdf2e32465c8861f565d3dc2c75\n",
      "🧪 View experiment at: http://localhost:5000/#/experiments/1\n",
      "Fold 1 - MSE : 150.0781291297615\n",
      "Fold 1 - R2 : -206.49833594830918\n",
      "🏃 View run Fold-1 at: http://localhost:5000/#/experiments/1/runs/7bfda290693649a98c5cabb5a6344391\n",
      "🧪 View experiment at: http://localhost:5000/#/experiments/1\n",
      "Fold 2 - MSE : 150.3551258840508\n",
      "Fold 2 - R2 : -215.51838305375352\n",
      "🏃 View run Fold-2 at: http://localhost:5000/#/experiments/1/runs/3022074465b1445ab11d075a523788af\n",
      "🧪 View experiment at: http://localhost:5000/#/experiments/1\n",
      "Average MSE: 150.3634060035115\n",
      "Average R2: -213.4824753371147\n"
     ]
    },
    {
     "name": "stderr",
     "output_type": "stream",
     "text": [
      "d:\\ML_Assignment\\A2_ Assignment\\ml_env2\\Lib\\site-packages\\mlflow\\pyfunc\\utils\\data_validation.py:166: UserWarning: \u001b[33mAdd type hints to the `predict` method to enable data validation and automatic signature inference during model logging. Check https://mlflow.org/docs/latest/model/python_model.html#type-hint-usage-in-pythonmodel for more details.\u001b[0m\n",
      "  color_warning(\n"
     ]
    },
    {
     "name": "stdout",
     "output_type": "stream",
     "text": [
      "🏃 View run polynomial-True-reg-Ridge-momentum-0.6-method-batch-xavier-zero-lr-0.0001 at: http://localhost:5000/#/experiments/1/runs/2e2a89632c974a75994923ca3a2c256f\n",
      "🧪 View experiment at: http://localhost:5000/#/experiments/1\n",
      "===== polynomial-True-reg-Ridge-momentum-0.6-method-batch-xavier-xavier-lr-0.01 =====\n",
      "Fold 0 - MSE : 26.280344495325508\n",
      "Fold 0 - R2 : -37.277119479583696\n",
      "🏃 View run Fold-0 at: http://localhost:5000/#/experiments/1/runs/b3a18bd7586b4473a25179da76accefa\n",
      "🧪 View experiment at: http://localhost:5000/#/experiments/1\n",
      "Fold 1 - MSE : 22.785600429954744\n",
      "Fold 1 - R2 : -30.503418920626046\n",
      "🏃 View run Fold-1 at: http://localhost:5000/#/experiments/1/runs/66b8be55c17940c798d173b968628a30\n",
      "🧪 View experiment at: http://localhost:5000/#/experiments/1\n",
      "Fold 2 - MSE : 23.60821971524134\n",
      "Fold 2 - R2 : -32.996935784309194\n",
      "🏃 View run Fold-2 at: http://localhost:5000/#/experiments/1/runs/6b7362494a7146d4b2b3962d69b89d63\n",
      "🧪 View experiment at: http://localhost:5000/#/experiments/1\n",
      "Average MSE: 24.224721546840527\n",
      "Average R2: -33.59249139483964\n"
     ]
    },
    {
     "name": "stderr",
     "output_type": "stream",
     "text": [
      "d:\\ML_Assignment\\A2_ Assignment\\ml_env2\\Lib\\site-packages\\mlflow\\pyfunc\\utils\\data_validation.py:166: UserWarning: \u001b[33mAdd type hints to the `predict` method to enable data validation and automatic signature inference during model logging. Check https://mlflow.org/docs/latest/model/python_model.html#type-hint-usage-in-pythonmodel for more details.\u001b[0m\n",
      "  color_warning(\n"
     ]
    },
    {
     "name": "stdout",
     "output_type": "stream",
     "text": [
      "🏃 View run polynomial-True-reg-Ridge-momentum-0.6-method-batch-xavier-xavier-lr-0.01 at: http://localhost:5000/#/experiments/1/runs/aaac5f8fa91242e39b3bfdfee52e18d8\n",
      "🧪 View experiment at: http://localhost:5000/#/experiments/1\n",
      "===== polynomial-True-reg-Ridge-momentum-0.6-method-batch-xavier-xavier-lr-0.001 =====\n",
      "Fold 0 - MSE : 82.70722423969275\n",
      "Fold 0 - R2 : -119.46243551375595\n",
      "🏃 View run Fold-0 at: http://localhost:5000/#/experiments/1/runs/cc84852aa5404b4e96162b7c24928791\n",
      "🧪 View experiment at: http://localhost:5000/#/experiments/1\n",
      "Fold 1 - MSE : 78.70818496834018\n",
      "Fold 1 - R2 : -107.82210153567004\n",
      "🏃 View run Fold-1 at: http://localhost:5000/#/experiments/1/runs/341bd65fde5144aaa5841211cfc6c832\n",
      "🧪 View experiment at: http://localhost:5000/#/experiments/1\n",
      "Fold 2 - MSE : 87.71640198794604\n",
      "Fold 2 - R2 : -125.31570366526334\n",
      "🏃 View run Fold-2 at: http://localhost:5000/#/experiments/1/runs/62b2395949874f3797ded7063aa121d1\n",
      "🧪 View experiment at: http://localhost:5000/#/experiments/1\n",
      "Average MSE: 83.04393706532632\n",
      "Average R2: -117.53341357156312\n"
     ]
    },
    {
     "name": "stderr",
     "output_type": "stream",
     "text": [
      "d:\\ML_Assignment\\A2_ Assignment\\ml_env2\\Lib\\site-packages\\mlflow\\pyfunc\\utils\\data_validation.py:166: UserWarning: \u001b[33mAdd type hints to the `predict` method to enable data validation and automatic signature inference during model logging. Check https://mlflow.org/docs/latest/model/python_model.html#type-hint-usage-in-pythonmodel for more details.\u001b[0m\n",
      "  color_warning(\n"
     ]
    },
    {
     "name": "stdout",
     "output_type": "stream",
     "text": [
      "🏃 View run polynomial-True-reg-Ridge-momentum-0.6-method-batch-xavier-xavier-lr-0.001 at: http://localhost:5000/#/experiments/1/runs/c4fd2c23aca54389b841014b52f4f44b\n",
      "🧪 View experiment at: http://localhost:5000/#/experiments/1\n",
      "===== polynomial-True-reg-Ridge-momentum-0.6-method-batch-xavier-xavier-lr-0.0001 =====\n",
      "Fold 0 - MSE : 139.31282329280782\n",
      "Fold 0 - R2 : -201.9080548455302\n",
      "🏃 View run Fold-0 at: http://localhost:5000/#/experiments/1/runs/962b8a16e11447e7b25714a65ad09919\n",
      "🧪 View experiment at: http://localhost:5000/#/experiments/1\n",
      "Fold 1 - MSE : 147.07700770934596\n",
      "Fold 1 - R2 : -202.34897918109743\n",
      "🏃 View run Fold-1 at: http://localhost:5000/#/experiments/1/runs/808bf03c4b714df6bbf45cbb3c37e8de\n",
      "🧪 View experiment at: http://localhost:5000/#/experiments/1\n",
      "Fold 2 - MSE : 172.61042350607585\n",
      "Fold 2 - R2 : -247.56704802056632\n",
      "🏃 View run Fold-2 at: http://localhost:5000/#/experiments/1/runs/27ebe43f848a4f0ca87589ca0d60bfb8\n",
      "🧪 View experiment at: http://localhost:5000/#/experiments/1\n",
      "Average MSE: 153.00008483607652\n",
      "Average R2: -217.27469401573128\n"
     ]
    },
    {
     "name": "stderr",
     "output_type": "stream",
     "text": [
      "d:\\ML_Assignment\\A2_ Assignment\\ml_env2\\Lib\\site-packages\\mlflow\\pyfunc\\utils\\data_validation.py:166: UserWarning: \u001b[33mAdd type hints to the `predict` method to enable data validation and automatic signature inference during model logging. Check https://mlflow.org/docs/latest/model/python_model.html#type-hint-usage-in-pythonmodel for more details.\u001b[0m\n",
      "  color_warning(\n"
     ]
    },
    {
     "name": "stdout",
     "output_type": "stream",
     "text": [
      "🏃 View run polynomial-True-reg-Ridge-momentum-0.6-method-batch-xavier-xavier-lr-0.0001 at: http://localhost:5000/#/experiments/1/runs/edf3130bc3ba4c4489734d42cd0ee0a1\n",
      "🧪 View experiment at: http://localhost:5000/#/experiments/1\n",
      "===== polynomial-True-reg-Lasso-momentum-0-method-sto-xavier-zero-lr-0.01 =====\n",
      "Fold 0 - MSE : 0.45994442091597587\n",
      "Fold 0 - R2 : 0.33009449109389677\n",
      "🏃 View run Fold-0 at: http://localhost:5000/#/experiments/1/runs/ae1a6184cbae4afa8172efc325219bf9\n",
      "🧪 View experiment at: http://localhost:5000/#/experiments/1\n",
      "Fold 1 - MSE : 0.4475573024427236\n",
      "Fold 1 - R2 : 0.38120633541424487\n",
      "🏃 View run Fold-1 at: http://localhost:5000/#/experiments/1/runs/3b6110aa39c541089186445efc70870d\n",
      "🧪 View experiment at: http://localhost:5000/#/experiments/1\n",
      "Fold 2 - MSE : 0.46149689596184623\n",
      "Fold 2 - R2 : 0.33542297869483717\n",
      "🏃 View run Fold-2 at: http://localhost:5000/#/experiments/1/runs/f929ff8eee5e4d4a97bf76a2ab0f5412\n",
      "🧪 View experiment at: http://localhost:5000/#/experiments/1\n",
      "Average MSE: 0.45633287310684856\n",
      "Average R2: 0.3489079350676596\n"
     ]
    },
    {
     "name": "stderr",
     "output_type": "stream",
     "text": [
      "d:\\ML_Assignment\\A2_ Assignment\\ml_env2\\Lib\\site-packages\\mlflow\\pyfunc\\utils\\data_validation.py:166: UserWarning: \u001b[33mAdd type hints to the `predict` method to enable data validation and automatic signature inference during model logging. Check https://mlflow.org/docs/latest/model/python_model.html#type-hint-usage-in-pythonmodel for more details.\u001b[0m\n",
      "  color_warning(\n"
     ]
    },
    {
     "name": "stdout",
     "output_type": "stream",
     "text": [
      "🏃 View run polynomial-True-reg-Lasso-momentum-0-method-sto-xavier-zero-lr-0.01 at: http://localhost:5000/#/experiments/1/runs/bfe29be944a143518828a63503250fc2\n",
      "🧪 View experiment at: http://localhost:5000/#/experiments/1\n",
      "===== polynomial-True-reg-Lasso-momentum-0-method-sto-xavier-zero-lr-0.001 =====\n",
      "Fold 0 - MSE : 0.4893524945629103\n",
      "Fold 0 - R2 : 0.2872618581788935\n",
      "🏃 View run Fold-0 at: http://localhost:5000/#/experiments/1/runs/7e5a2d4d68ed4a749ae823614cac60d4\n",
      "🧪 View experiment at: http://localhost:5000/#/experiments/1\n",
      "Fold 1 - MSE : 0.4153798352028419\n",
      "Fold 1 - R2 : 0.4256949690747418\n",
      "🏃 View run Fold-1 at: http://localhost:5000/#/experiments/1/runs/63987ac07d814d64bb66b224f3808d03\n",
      "🧪 View experiment at: http://localhost:5000/#/experiments/1\n",
      "Fold 2 - MSE : 0.4446224161170343\n",
      "Fold 2 - R2 : 0.35972301548699426\n",
      "🏃 View run Fold-2 at: http://localhost:5000/#/experiments/1/runs/aa991191e8284e988087fb5db7a283f9\n",
      "🧪 View experiment at: http://localhost:5000/#/experiments/1\n",
      "Average MSE: 0.4497849152942621\n",
      "Average R2: 0.35755994758020987\n"
     ]
    },
    {
     "name": "stderr",
     "output_type": "stream",
     "text": [
      "d:\\ML_Assignment\\A2_ Assignment\\ml_env2\\Lib\\site-packages\\mlflow\\pyfunc\\utils\\data_validation.py:166: UserWarning: \u001b[33mAdd type hints to the `predict` method to enable data validation and automatic signature inference during model logging. Check https://mlflow.org/docs/latest/model/python_model.html#type-hint-usage-in-pythonmodel for more details.\u001b[0m\n",
      "  color_warning(\n"
     ]
    },
    {
     "name": "stdout",
     "output_type": "stream",
     "text": [
      "🏃 View run polynomial-True-reg-Lasso-momentum-0-method-sto-xavier-zero-lr-0.001 at: http://localhost:5000/#/experiments/1/runs/c5e32400742048efabe0ec5b26405a92\n",
      "🧪 View experiment at: http://localhost:5000/#/experiments/1\n",
      "===== polynomial-True-reg-Lasso-momentum-0-method-sto-xavier-zero-lr-0.0001 =====\n",
      "Fold 0 - MSE : 0.4609824065207446\n",
      "Fold 0 - R2 : 0.3285826730498491\n",
      "🏃 View run Fold-0 at: http://localhost:5000/#/experiments/1/runs/b6727de9be21477b95788d5526e73a77\n",
      "🧪 View experiment at: http://localhost:5000/#/experiments/1\n",
      "Fold 1 - MSE : 0.42443279510318344\n",
      "Fold 1 - R2 : 0.41317832773852503\n",
      "🏃 View run Fold-1 at: http://localhost:5000/#/experiments/1/runs/9e0584103b7b4e459f142a5c38ce9e11\n",
      "🧪 View experiment at: http://localhost:5000/#/experiments/1\n",
      "Fold 2 - MSE : 0.41410284056094715\n",
      "Fold 2 - R2 : 0.4036726255321268\n",
      "🏃 View run Fold-2 at: http://localhost:5000/#/experiments/1/runs/fc1dbc17bcb5451bb22532bc332b5c4c\n",
      "🧪 View experiment at: http://localhost:5000/#/experiments/1\n",
      "Average MSE: 0.4331726807282917\n",
      "Average R2: 0.38181120877350033\n"
     ]
    },
    {
     "name": "stderr",
     "output_type": "stream",
     "text": [
      "d:\\ML_Assignment\\A2_ Assignment\\ml_env2\\Lib\\site-packages\\mlflow\\pyfunc\\utils\\data_validation.py:166: UserWarning: \u001b[33mAdd type hints to the `predict` method to enable data validation and automatic signature inference during model logging. Check https://mlflow.org/docs/latest/model/python_model.html#type-hint-usage-in-pythonmodel for more details.\u001b[0m\n",
      "  color_warning(\n"
     ]
    },
    {
     "name": "stdout",
     "output_type": "stream",
     "text": [
      "🏃 View run polynomial-True-reg-Lasso-momentum-0-method-sto-xavier-zero-lr-0.0001 at: http://localhost:5000/#/experiments/1/runs/ec1253d07ce64d01944f3808f6cfd9b3\n",
      "🧪 View experiment at: http://localhost:5000/#/experiments/1\n",
      "===== polynomial-True-reg-Lasso-momentum-0-method-sto-xavier-xavier-lr-0.01 =====\n",
      "Fold 0 - MSE : 0.7118617734133428\n",
      "Fold 0 - R2 : -0.036821193829383425\n",
      "🏃 View run Fold-0 at: http://localhost:5000/#/experiments/1/runs/d6b6d9cdc2db4d7985119f310238fb43\n",
      "🧪 View experiment at: http://localhost:5000/#/experiments/1\n",
      "Fold 1 - MSE : 0.46517940426529525\n",
      "Fold 1 - R2 : 0.3568419804925913\n",
      "🏃 View run Fold-1 at: http://localhost:5000/#/experiments/1/runs/c4d9ade8d7604b868ff07aa09ce2c990\n",
      "🧪 View experiment at: http://localhost:5000/#/experiments/1\n",
      "Fold 2 - MSE : 0.5396840962481916\n",
      "Fold 2 - R2 : 0.22282976923848286\n",
      "🏃 View run Fold-2 at: http://localhost:5000/#/experiments/1/runs/e358c97f375343c0a94508eb8bdc303b\n",
      "🧪 View experiment at: http://localhost:5000/#/experiments/1\n",
      "Average MSE: 0.5722417579756098\n",
      "Average R2: 0.1809501853005636\n"
     ]
    },
    {
     "name": "stderr",
     "output_type": "stream",
     "text": [
      "d:\\ML_Assignment\\A2_ Assignment\\ml_env2\\Lib\\site-packages\\mlflow\\pyfunc\\utils\\data_validation.py:166: UserWarning: \u001b[33mAdd type hints to the `predict` method to enable data validation and automatic signature inference during model logging. Check https://mlflow.org/docs/latest/model/python_model.html#type-hint-usage-in-pythonmodel for more details.\u001b[0m\n",
      "  color_warning(\n"
     ]
    },
    {
     "name": "stdout",
     "output_type": "stream",
     "text": [
      "🏃 View run polynomial-True-reg-Lasso-momentum-0-method-sto-xavier-xavier-lr-0.01 at: http://localhost:5000/#/experiments/1/runs/979d90a1a427465b8dae823a5d7e94d6\n",
      "🧪 View experiment at: http://localhost:5000/#/experiments/1\n",
      "===== polynomial-True-reg-Lasso-momentum-0-method-sto-xavier-xavier-lr-0.001 =====\n",
      "Fold 0 - MSE : 0.4847729649012625\n",
      "Fold 0 - R2 : 0.2939319078827842\n",
      "🏃 View run Fold-0 at: http://localhost:5000/#/experiments/1/runs/3f7fdb865e7c4ee287f33342e0fd48e3\n",
      "🧪 View experiment at: http://localhost:5000/#/experiments/1\n",
      "Fold 1 - MSE : 0.40997012302171976\n",
      "Fold 1 - R2 : 0.4331744484769109\n",
      "🏃 View run Fold-1 at: http://localhost:5000/#/experiments/1/runs/33d13c1f64c64c42aa2856bbdacb6997\n",
      "🧪 View experiment at: http://localhost:5000/#/experiments/1\n",
      "Fold 2 - MSE : 0.41222026851110793\n",
      "Fold 2 - R2 : 0.4063836169520516\n",
      "🏃 View run Fold-2 at: http://localhost:5000/#/experiments/1/runs/87795fa126894b89bdc22495a2b94f01\n",
      "🧪 View experiment at: http://localhost:5000/#/experiments/1\n",
      "Average MSE: 0.4356544521446968\n",
      "Average R2: 0.3778299911039156\n"
     ]
    },
    {
     "name": "stderr",
     "output_type": "stream",
     "text": [
      "d:\\ML_Assignment\\A2_ Assignment\\ml_env2\\Lib\\site-packages\\mlflow\\pyfunc\\utils\\data_validation.py:166: UserWarning: \u001b[33mAdd type hints to the `predict` method to enable data validation and automatic signature inference during model logging. Check https://mlflow.org/docs/latest/model/python_model.html#type-hint-usage-in-pythonmodel for more details.\u001b[0m\n",
      "  color_warning(\n"
     ]
    },
    {
     "name": "stdout",
     "output_type": "stream",
     "text": [
      "🏃 View run polynomial-True-reg-Lasso-momentum-0-method-sto-xavier-xavier-lr-0.001 at: http://localhost:5000/#/experiments/1/runs/5675ab73a74e46f2be5b5151450f30d5\n",
      "🧪 View experiment at: http://localhost:5000/#/experiments/1\n",
      "===== polynomial-True-reg-Lasso-momentum-0-method-sto-xavier-xavier-lr-0.0001 =====\n",
      "Fold 0 - MSE : 0.4542242824965726\n",
      "Fold 0 - R2 : 0.3384258286742775\n",
      "🏃 View run Fold-0 at: http://localhost:5000/#/experiments/1/runs/b8ef79c459a645a78c8069e7b8fe5d18\n",
      "🧪 View experiment at: http://localhost:5000/#/experiments/1\n",
      "Fold 1 - MSE : 0.41369049459668844\n",
      "Fold 1 - R2 : 0.42803065493822734\n",
      "🏃 View run Fold-1 at: http://localhost:5000/#/experiments/1/runs/3b6aed8872f24447a0ad7bbb4300d307\n",
      "🧪 View experiment at: http://localhost:5000/#/experiments/1\n",
      "Fold 2 - MSE : 0.41212273400963123\n",
      "Fold 2 - R2 : 0.4065240711761927\n",
      "🏃 View run Fold-2 at: http://localhost:5000/#/experiments/1/runs/d0609ac558d3446eb666d6f621c689f1\n",
      "🧪 View experiment at: http://localhost:5000/#/experiments/1\n",
      "Average MSE: 0.42667917036763076\n",
      "Average R2: 0.3909935182628992\n"
     ]
    },
    {
     "name": "stderr",
     "output_type": "stream",
     "text": [
      "d:\\ML_Assignment\\A2_ Assignment\\ml_env2\\Lib\\site-packages\\mlflow\\pyfunc\\utils\\data_validation.py:166: UserWarning: \u001b[33mAdd type hints to the `predict` method to enable data validation and automatic signature inference during model logging. Check https://mlflow.org/docs/latest/model/python_model.html#type-hint-usage-in-pythonmodel for more details.\u001b[0m\n",
      "  color_warning(\n"
     ]
    },
    {
     "name": "stdout",
     "output_type": "stream",
     "text": [
      "🏃 View run polynomial-True-reg-Lasso-momentum-0-method-sto-xavier-xavier-lr-0.0001 at: http://localhost:5000/#/experiments/1/runs/851b25242f8845f097cdab85455b8532\n",
      "🧪 View experiment at: http://localhost:5000/#/experiments/1\n",
      "===== polynomial-True-reg-Lasso-momentum-0-method-mini-xavier-zero-lr-0.01 =====\n",
      "Fold 0 - MSE : 0.4706554606880993\n",
      "Fold 0 - R2 : 0.3144939441078759\n",
      "🏃 View run Fold-0 at: http://localhost:5000/#/experiments/1/runs/ef2c550c93fd4683a0f047bd4375cf7a\n",
      "🧪 View experiment at: http://localhost:5000/#/experiments/1\n",
      "Fold 1 - MSE : 0.4561585385474063\n",
      "Fold 1 - R2 : 0.36931424834486903\n",
      "🏃 View run Fold-1 at: http://localhost:5000/#/experiments/1/runs/25f4268cfb25478b846218742020b55b\n",
      "🧪 View experiment at: http://localhost:5000/#/experiments/1\n",
      "Fold 2 - MSE : 0.40916594086933183\n",
      "Fold 2 - R2 : 0.41078199099101675\n",
      "🏃 View run Fold-2 at: http://localhost:5000/#/experiments/1/runs/a170c7bc23c4413da8eabe45e098cdb4\n",
      "🧪 View experiment at: http://localhost:5000/#/experiments/1\n",
      "Average MSE: 0.4453266467016124\n",
      "Average R2: 0.3648633944812539\n"
     ]
    },
    {
     "name": "stderr",
     "output_type": "stream",
     "text": [
      "d:\\ML_Assignment\\A2_ Assignment\\ml_env2\\Lib\\site-packages\\mlflow\\pyfunc\\utils\\data_validation.py:166: UserWarning: \u001b[33mAdd type hints to the `predict` method to enable data validation and automatic signature inference during model logging. Check https://mlflow.org/docs/latest/model/python_model.html#type-hint-usage-in-pythonmodel for more details.\u001b[0m\n",
      "  color_warning(\n"
     ]
    },
    {
     "name": "stdout",
     "output_type": "stream",
     "text": [
      "🏃 View run polynomial-True-reg-Lasso-momentum-0-method-mini-xavier-zero-lr-0.01 at: http://localhost:5000/#/experiments/1/runs/08bc1c831a55455ea6b06ffbc4b8fafd\n",
      "🧪 View experiment at: http://localhost:5000/#/experiments/1\n",
      "===== polynomial-True-reg-Lasso-momentum-0-method-mini-xavier-zero-lr-0.001 =====\n",
      "Fold 0 - MSE : 0.831520263375994\n",
      "Fold 0 - R2 : -0.2111028634574832\n",
      "🏃 View run Fold-0 at: http://localhost:5000/#/experiments/1/runs/1c239c7847b548c8a0946e5d9059aa4e\n",
      "🧪 View experiment at: http://localhost:5000/#/experiments/1\n",
      "Fold 1 - MSE : 0.7378248234902904\n",
      "Fold 1 - R2 : -0.02011814768305209\n",
      "🏃 View run Fold-1 at: http://localhost:5000/#/experiments/1/runs/63283e6308844f41b4beca0eddaa509e\n",
      "🧪 View experiment at: http://localhost:5000/#/experiments/1\n",
      "Fold 2 - MSE : 0.7906658360719325\n",
      "Fold 2 - R2 : -0.13859562389750657\n",
      "🏃 View run Fold-2 at: http://localhost:5000/#/experiments/1/runs/d46e9513ff9542b0b6b9d5154c166464\n",
      "🧪 View experiment at: http://localhost:5000/#/experiments/1\n",
      "Average MSE: 0.7866703076460725\n",
      "Average R2: -0.12327221167934728\n"
     ]
    },
    {
     "name": "stderr",
     "output_type": "stream",
     "text": [
      "d:\\ML_Assignment\\A2_ Assignment\\ml_env2\\Lib\\site-packages\\mlflow\\pyfunc\\utils\\data_validation.py:166: UserWarning: \u001b[33mAdd type hints to the `predict` method to enable data validation and automatic signature inference during model logging. Check https://mlflow.org/docs/latest/model/python_model.html#type-hint-usage-in-pythonmodel for more details.\u001b[0m\n",
      "  color_warning(\n"
     ]
    },
    {
     "name": "stdout",
     "output_type": "stream",
     "text": [
      "🏃 View run polynomial-True-reg-Lasso-momentum-0-method-mini-xavier-zero-lr-0.001 at: http://localhost:5000/#/experiments/1/runs/9dffd7677e8f4b7d8215d8f231b9328d\n",
      "🧪 View experiment at: http://localhost:5000/#/experiments/1\n",
      "===== polynomial-True-reg-Lasso-momentum-0-method-mini-xavier-zero-lr-0.0001 =====\n",
      "Fold 0 - MSE : 31.744400886859093\n",
      "Fold 0 - R2 : -45.235475557416514\n",
      "🏃 View run Fold-0 at: http://localhost:5000/#/experiments/1/runs/497aa13589674b5c820ad1a78f3a3c2c\n",
      "🧪 View experiment at: http://localhost:5000/#/experiments/1\n",
      "Fold 1 - MSE : 28.62380767141811\n",
      "Fold 1 - R2 : -38.5753364914907\n",
      "🏃 View run Fold-1 at: http://localhost:5000/#/experiments/1/runs/9ec557c2a43a444ba771a12a0a4e0a70\n",
      "🧪 View experiment at: http://localhost:5000/#/experiments/1\n",
      "Fold 2 - MSE : 30.58449023135739\n",
      "Fold 2 - R2 : -43.043090200486965\n",
      "🏃 View run Fold-2 at: http://localhost:5000/#/experiments/1/runs/82dd64599bd848dab4d9403cac7825ba\n",
      "🧪 View experiment at: http://localhost:5000/#/experiments/1\n",
      "Average MSE: 30.317566263211532\n",
      "Average R2: -42.2846340831314\n"
     ]
    },
    {
     "name": "stderr",
     "output_type": "stream",
     "text": [
      "d:\\ML_Assignment\\A2_ Assignment\\ml_env2\\Lib\\site-packages\\mlflow\\pyfunc\\utils\\data_validation.py:166: UserWarning: \u001b[33mAdd type hints to the `predict` method to enable data validation and automatic signature inference during model logging. Check https://mlflow.org/docs/latest/model/python_model.html#type-hint-usage-in-pythonmodel for more details.\u001b[0m\n",
      "  color_warning(\n"
     ]
    },
    {
     "name": "stdout",
     "output_type": "stream",
     "text": [
      "🏃 View run polynomial-True-reg-Lasso-momentum-0-method-mini-xavier-zero-lr-0.0001 at: http://localhost:5000/#/experiments/1/runs/bd3d5efd9d5f4080949642ca7c149002\n",
      "🧪 View experiment at: http://localhost:5000/#/experiments/1\n",
      "===== polynomial-True-reg-Lasso-momentum-0-method-mini-xavier-xavier-lr-0.01 =====\n",
      "Fold 0 - MSE : 0.4541951884822402\n",
      "Fold 0 - R2 : 0.3384682038822181\n",
      "🏃 View run Fold-0 at: http://localhost:5000/#/experiments/1/runs/21ea8684e5784d3aaf3a10e9c5bce4cd\n",
      "🧪 View experiment at: http://localhost:5000/#/experiments/1\n",
      "Fold 1 - MSE : 0.41524189701324343\n",
      "Fold 1 - R2 : 0.4258856827048447\n",
      "🏃 View run Fold-1 at: http://localhost:5000/#/experiments/1/runs/2612a0bec6424b6b8db2a67c0c10630a\n",
      "🧪 View experiment at: http://localhost:5000/#/experiments/1\n",
      "Fold 2 - MSE : 0.4092775449574994\n",
      "Fold 2 - R2 : 0.41062127590684416\n",
      "🏃 View run Fold-2 at: http://localhost:5000/#/experiments/1/runs/4cc8f26393f3466f9975341e6d4329d3\n",
      "🧪 View experiment at: http://localhost:5000/#/experiments/1\n",
      "Average MSE: 0.42623821015099433\n",
      "Average R2: 0.39165838749796905\n"
     ]
    },
    {
     "name": "stderr",
     "output_type": "stream",
     "text": [
      "d:\\ML_Assignment\\A2_ Assignment\\ml_env2\\Lib\\site-packages\\mlflow\\pyfunc\\utils\\data_validation.py:166: UserWarning: \u001b[33mAdd type hints to the `predict` method to enable data validation and automatic signature inference during model logging. Check https://mlflow.org/docs/latest/model/python_model.html#type-hint-usage-in-pythonmodel for more details.\u001b[0m\n",
      "  color_warning(\n"
     ]
    },
    {
     "name": "stdout",
     "output_type": "stream",
     "text": [
      "🏃 View run polynomial-True-reg-Lasso-momentum-0-method-mini-xavier-xavier-lr-0.01 at: http://localhost:5000/#/experiments/1/runs/dcbe792fc5434ba2bdff6ebb3e0bca29\n",
      "🧪 View experiment at: http://localhost:5000/#/experiments/1\n",
      "===== polynomial-True-reg-Lasso-momentum-0-method-mini-xavier-xavier-lr-0.001 =====\n",
      "Fold 0 - MSE : 0.8411515886991309\n",
      "Fold 0 - R2 : -0.22513081465903673\n",
      "🏃 View run Fold-0 at: http://localhost:5000/#/experiments/1/runs/0c9e9411913a49c88cbf8e4da054e2a6\n",
      "🧪 View experiment at: http://localhost:5000/#/experiments/1\n",
      "Fold 1 - MSE : 0.7630164160075755\n",
      "Fold 1 - R2 : -0.05494809630737785\n",
      "🏃 View run Fold-1 at: http://localhost:5000/#/experiments/1/runs/5608c494664046388478c54f3efb8814\n",
      "🧪 View experiment at: http://localhost:5000/#/experiments/1\n",
      "Fold 2 - MSE : 0.7795117722301976\n",
      "Fold 2 - R2 : -0.12253325253975733\n",
      "🏃 View run Fold-2 at: http://localhost:5000/#/experiments/1/runs/800b73b87b364ef89a833a1ea2f89668\n",
      "🧪 View experiment at: http://localhost:5000/#/experiments/1\n",
      "Average MSE: 0.7945599256456347\n",
      "Average R2: -0.1342040545020573\n"
     ]
    },
    {
     "name": "stderr",
     "output_type": "stream",
     "text": [
      "d:\\ML_Assignment\\A2_ Assignment\\ml_env2\\Lib\\site-packages\\mlflow\\pyfunc\\utils\\data_validation.py:166: UserWarning: \u001b[33mAdd type hints to the `predict` method to enable data validation and automatic signature inference during model logging. Check https://mlflow.org/docs/latest/model/python_model.html#type-hint-usage-in-pythonmodel for more details.\u001b[0m\n",
      "  color_warning(\n"
     ]
    },
    {
     "name": "stdout",
     "output_type": "stream",
     "text": [
      "🏃 View run polynomial-True-reg-Lasso-momentum-0-method-mini-xavier-xavier-lr-0.001 at: http://localhost:5000/#/experiments/1/runs/cd75313e0afa4d34bb1695abdc39706e\n",
      "🧪 View experiment at: http://localhost:5000/#/experiments/1\n",
      "===== polynomial-True-reg-Lasso-momentum-0-method-mini-xavier-xavier-lr-0.0001 =====\n",
      "Fold 0 - MSE : 31.339532265081147\n",
      "Fold 0 - R2 : -44.645787526040614\n",
      "🏃 View run Fold-0 at: http://localhost:5000/#/experiments/1/runs/4e1543fb94f14c74972384450fcec12f\n",
      "🧪 View experiment at: http://localhost:5000/#/experiments/1\n",
      "Fold 1 - MSE : 27.399367095543745\n",
      "Fold 1 - R2 : -36.88242238445353\n",
      "🏃 View run Fold-1 at: http://localhost:5000/#/experiments/1/runs/f307ec7b68a948f8b7f6e89a1b9d55fd\n",
      "🧪 View experiment at: http://localhost:5000/#/experiments/1\n",
      "Fold 2 - MSE : 30.284354577728937\n",
      "Fold 2 - R2 : -42.6108808824586\n",
      "🏃 View run Fold-2 at: http://localhost:5000/#/experiments/1/runs/972b33c7192e4506aab4980546e320fa\n",
      "🧪 View experiment at: http://localhost:5000/#/experiments/1\n",
      "Average MSE: 29.674417979451277\n",
      "Average R2: -41.379696930984245\n"
     ]
    },
    {
     "name": "stderr",
     "output_type": "stream",
     "text": [
      "d:\\ML_Assignment\\A2_ Assignment\\ml_env2\\Lib\\site-packages\\mlflow\\pyfunc\\utils\\data_validation.py:166: UserWarning: \u001b[33mAdd type hints to the `predict` method to enable data validation and automatic signature inference during model logging. Check https://mlflow.org/docs/latest/model/python_model.html#type-hint-usage-in-pythonmodel for more details.\u001b[0m\n",
      "  color_warning(\n"
     ]
    },
    {
     "name": "stdout",
     "output_type": "stream",
     "text": [
      "🏃 View run polynomial-True-reg-Lasso-momentum-0-method-mini-xavier-xavier-lr-0.0001 at: http://localhost:5000/#/experiments/1/runs/aed2bb92c3084c208775e3d3acad7939\n",
      "🧪 View experiment at: http://localhost:5000/#/experiments/1\n",
      "===== polynomial-True-reg-Lasso-momentum-0-method-batch-xavier-zero-lr-0.01 =====\n",
      "Fold 0 - MSE : 26.11148114321927\n",
      "Fold 0 - R2 : -37.031171306969625\n",
      "🏃 View run Fold-0 at: http://localhost:5000/#/experiments/1/runs/4c1e5e8c80264e6692b81861e53ac866\n",
      "🧪 View experiment at: http://localhost:5000/#/experiments/1\n",
      "Fold 1 - MSE : 23.071970722753555\n",
      "Fold 1 - R2 : -30.89935508777673\n",
      "🏃 View run Fold-1 at: http://localhost:5000/#/experiments/1/runs/6841b62a09c14065a39436c065f66bf9\n",
      "🧪 View experiment at: http://localhost:5000/#/experiments/1\n",
      "Fold 2 - MSE : 24.742186732039308\n",
      "Fold 2 - R2 : -34.62990109540026\n",
      "🏃 View run Fold-2 at: http://localhost:5000/#/experiments/1/runs/7c2b2f4055594d6f8f53829bb82ead21\n",
      "🧪 View experiment at: http://localhost:5000/#/experiments/1\n",
      "Average MSE: 24.641879532670714\n",
      "Average R2: -34.1868091633822\n"
     ]
    },
    {
     "name": "stderr",
     "output_type": "stream",
     "text": [
      "d:\\ML_Assignment\\A2_ Assignment\\ml_env2\\Lib\\site-packages\\mlflow\\pyfunc\\utils\\data_validation.py:166: UserWarning: \u001b[33mAdd type hints to the `predict` method to enable data validation and automatic signature inference during model logging. Check https://mlflow.org/docs/latest/model/python_model.html#type-hint-usage-in-pythonmodel for more details.\u001b[0m\n",
      "  color_warning(\n"
     ]
    },
    {
     "name": "stdout",
     "output_type": "stream",
     "text": [
      "🏃 View run polynomial-True-reg-Lasso-momentum-0-method-batch-xavier-zero-lr-0.01 at: http://localhost:5000/#/experiments/1/runs/8fc88f99817244f9b40209986d27d602\n",
      "🧪 View experiment at: http://localhost:5000/#/experiments/1\n",
      "===== polynomial-True-reg-Lasso-momentum-0-method-batch-xavier-zero-lr-0.001 =====\n",
      "Fold 0 - MSE : 79.22706956447323\n",
      "Fold 0 - R2 : -114.39361701579054\n",
      "🏃 View run Fold-0 at: http://localhost:5000/#/experiments/1/runs/e90bce371b3a447ebc3aecb00fb6ff81\n",
      "🧪 View experiment at: http://localhost:5000/#/experiments/1\n",
      "Fold 1 - MSE : 79.53276713616435\n",
      "Fold 1 - R2 : -108.9621705695013\n",
      "🏃 View run Fold-1 at: http://localhost:5000/#/experiments/1/runs/31c0df77bb884a1aa8c0273efc2e4253\n",
      "🧪 View experiment at: http://localhost:5000/#/experiments/1\n",
      "Fold 2 - MSE : 81.44807482970444\n",
      "Fold 2 - R2 : -116.28902065213455\n",
      "🏃 View run Fold-2 at: http://localhost:5000/#/experiments/1/runs/ea881f5f231b4a1d85ae25981b445741\n",
      "🧪 View experiment at: http://localhost:5000/#/experiments/1\n",
      "Average MSE: 80.06930384344734\n",
      "Average R2: -113.21493607914213\n"
     ]
    },
    {
     "name": "stderr",
     "output_type": "stream",
     "text": [
      "d:\\ML_Assignment\\A2_ Assignment\\ml_env2\\Lib\\site-packages\\mlflow\\pyfunc\\utils\\data_validation.py:166: UserWarning: \u001b[33mAdd type hints to the `predict` method to enable data validation and automatic signature inference during model logging. Check https://mlflow.org/docs/latest/model/python_model.html#type-hint-usage-in-pythonmodel for more details.\u001b[0m\n",
      "  color_warning(\n"
     ]
    },
    {
     "name": "stdout",
     "output_type": "stream",
     "text": [
      "🏃 View run polynomial-True-reg-Lasso-momentum-0-method-batch-xavier-zero-lr-0.001 at: http://localhost:5000/#/experiments/1/runs/7adfc08012244e219fddf91a24f44e4a\n",
      "🧪 View experiment at: http://localhost:5000/#/experiments/1\n",
      "===== polynomial-True-reg-Lasso-momentum-0-method-batch-xavier-zero-lr-0.0001 =====\n",
      "Fold 0 - MSE : 150.65708076228054\n",
      "Fold 0 - R2 : -218.43087853391077\n",
      "🏃 View run Fold-0 at: http://localhost:5000/#/experiments/1/runs/8c74fc646e194e3badcc0ff7dc55bc92\n",
      "🧪 View experiment at: http://localhost:5000/#/experiments/1\n",
      "Fold 1 - MSE : 150.07824552627474\n",
      "Fold 1 - R2 : -206.49849687837238\n",
      "🏃 View run Fold-1 at: http://localhost:5000/#/experiments/1/runs/28b2792e5a1b4d87973016cf23a0b8f7\n",
      "🧪 View experiment at: http://localhost:5000/#/experiments/1\n",
      "Fold 2 - MSE : 150.35524051142716\n",
      "Fold 2 - R2 : -215.51854812251347\n",
      "🏃 View run Fold-2 at: http://localhost:5000/#/experiments/1/runs/8d15c1f133b449fa9e8d8c7909a3a2d2\n",
      "🧪 View experiment at: http://localhost:5000/#/experiments/1\n",
      "Average MSE: 150.3635222666608\n",
      "Average R2: -213.48264117826554\n"
     ]
    },
    {
     "name": "stderr",
     "output_type": "stream",
     "text": [
      "d:\\ML_Assignment\\A2_ Assignment\\ml_env2\\Lib\\site-packages\\mlflow\\pyfunc\\utils\\data_validation.py:166: UserWarning: \u001b[33mAdd type hints to the `predict` method to enable data validation and automatic signature inference during model logging. Check https://mlflow.org/docs/latest/model/python_model.html#type-hint-usage-in-pythonmodel for more details.\u001b[0m\n",
      "  color_warning(\n"
     ]
    },
    {
     "name": "stdout",
     "output_type": "stream",
     "text": [
      "🏃 View run polynomial-True-reg-Lasso-momentum-0-method-batch-xavier-zero-lr-0.0001 at: http://localhost:5000/#/experiments/1/runs/175d55687da1448bbfde4243eefcfe5e\n",
      "🧪 View experiment at: http://localhost:5000/#/experiments/1\n",
      "===== polynomial-True-reg-Lasso-momentum-0-method-batch-xavier-xavier-lr-0.01 =====\n",
      "Fold 0 - MSE : 26.325379639374972\n",
      "Fold 0 - R2 : -37.34271282025958\n",
      "🏃 View run Fold-0 at: http://localhost:5000/#/experiments/1/runs/6dd3d8e78fea44739a99ca703032a6c1\n",
      "🧪 View experiment at: http://localhost:5000/#/experiments/1\n",
      "Fold 1 - MSE : 22.378091832573602\n",
      "Fold 1 - R2 : -29.93999667961379\n",
      "🏃 View run Fold-1 at: http://localhost:5000/#/experiments/1/runs/e2d731e586484ef28cd6ff68c8739195\n",
      "🧪 View experiment at: http://localhost:5000/#/experiments/1\n",
      "Fold 2 - MSE : 23.284136631440024\n",
      "Fold 2 - R2 : -32.5302410516411\n",
      "🏃 View run Fold-2 at: http://localhost:5000/#/experiments/1/runs/deeb5e53ae3c4cd6aedc810f39cafd33\n",
      "🧪 View experiment at: http://localhost:5000/#/experiments/1\n",
      "Average MSE: 23.9958693677962\n",
      "Average R2: -33.27098351717149\n"
     ]
    },
    {
     "name": "stderr",
     "output_type": "stream",
     "text": [
      "d:\\ML_Assignment\\A2_ Assignment\\ml_env2\\Lib\\site-packages\\mlflow\\pyfunc\\utils\\data_validation.py:166: UserWarning: \u001b[33mAdd type hints to the `predict` method to enable data validation and automatic signature inference during model logging. Check https://mlflow.org/docs/latest/model/python_model.html#type-hint-usage-in-pythonmodel for more details.\u001b[0m\n",
      "  color_warning(\n"
     ]
    },
    {
     "name": "stdout",
     "output_type": "stream",
     "text": [
      "🏃 View run polynomial-True-reg-Lasso-momentum-0-method-batch-xavier-xavier-lr-0.01 at: http://localhost:5000/#/experiments/1/runs/6c022b5555c344c78cb09e8e950a15c8\n",
      "🧪 View experiment at: http://localhost:5000/#/experiments/1\n",
      "===== polynomial-True-reg-Lasso-momentum-0-method-batch-xavier-xavier-lr-0.001 =====\n",
      "Fold 0 - MSE : 77.99721912112146\n",
      "Fold 0 - R2 : -112.60234931111611\n",
      "🏃 View run Fold-0 at: http://localhost:5000/#/experiments/1/runs/a263f5743c424e56a5f55fd4f89697b8\n",
      "🧪 View experiment at: http://localhost:5000/#/experiments/1\n",
      "Fold 1 - MSE : 75.00675065993352\n",
      "Fold 1 - R2 : -102.70449070143388\n",
      "🏃 View run Fold-1 at: http://localhost:5000/#/experiments/1/runs/2041b9614cac4b0d886fb8a2a1240999\n",
      "🧪 View experiment at: http://localhost:5000/#/experiments/1\n",
      "Fold 2 - MSE : 83.45641070004416\n",
      "Fold 2 - R2 : -119.18111783018584\n",
      "🏃 View run Fold-2 at: http://localhost:5000/#/experiments/1/runs/e5f366804cbf4a9e9ae181cf2ea36f73\n",
      "🧪 View experiment at: http://localhost:5000/#/experiments/1\n",
      "Average MSE: 78.82012682703305\n",
      "Average R2: -111.49598594757862\n"
     ]
    },
    {
     "name": "stderr",
     "output_type": "stream",
     "text": [
      "d:\\ML_Assignment\\A2_ Assignment\\ml_env2\\Lib\\site-packages\\mlflow\\pyfunc\\utils\\data_validation.py:166: UserWarning: \u001b[33mAdd type hints to the `predict` method to enable data validation and automatic signature inference during model logging. Check https://mlflow.org/docs/latest/model/python_model.html#type-hint-usage-in-pythonmodel for more details.\u001b[0m\n",
      "  color_warning(\n"
     ]
    },
    {
     "name": "stdout",
     "output_type": "stream",
     "text": [
      "🏃 View run polynomial-True-reg-Lasso-momentum-0-method-batch-xavier-xavier-lr-0.001 at: http://localhost:5000/#/experiments/1/runs/08bdf3a9d69e426c91d0d25b6ea46ac4\n",
      "🧪 View experiment at: http://localhost:5000/#/experiments/1\n",
      "===== polynomial-True-reg-Lasso-momentum-0-method-batch-xavier-xavier-lr-0.0001 =====\n",
      "Fold 0 - MSE : 165.38095214330787\n",
      "Fold 0 - R2 : -239.87608387183363\n",
      "🏃 View run Fold-0 at: http://localhost:5000/#/experiments/1/runs/c4e260e098fa4110a8b9866664f4faeb\n",
      "🧪 View experiment at: http://localhost:5000/#/experiments/1\n",
      "Fold 1 - MSE : 135.14527916998082\n",
      "Fold 1 - R2 : -185.85214628971352\n",
      "🏃 View run Fold-1 at: http://localhost:5000/#/experiments/1/runs/f919871b0b2d4d16b43011f5cc2cb35d\n",
      "🧪 View experiment at: http://localhost:5000/#/experiments/1\n",
      "Fold 2 - MSE : 163.68488151930626\n",
      "Fold 2 - R2 : -234.7138519124133\n",
      "🏃 View run Fold-2 at: http://localhost:5000/#/experiments/1/runs/7613bce5ca544ae998de2e0c4c761b46\n",
      "🧪 View experiment at: http://localhost:5000/#/experiments/1\n",
      "Average MSE: 154.73703761086497\n",
      "Average R2: -220.14736069132013\n"
     ]
    },
    {
     "name": "stderr",
     "output_type": "stream",
     "text": [
      "d:\\ML_Assignment\\A2_ Assignment\\ml_env2\\Lib\\site-packages\\mlflow\\pyfunc\\utils\\data_validation.py:166: UserWarning: \u001b[33mAdd type hints to the `predict` method to enable data validation and automatic signature inference during model logging. Check https://mlflow.org/docs/latest/model/python_model.html#type-hint-usage-in-pythonmodel for more details.\u001b[0m\n",
      "  color_warning(\n"
     ]
    },
    {
     "name": "stdout",
     "output_type": "stream",
     "text": [
      "🏃 View run polynomial-True-reg-Lasso-momentum-0-method-batch-xavier-xavier-lr-0.0001 at: http://localhost:5000/#/experiments/1/runs/43d6bfc9d28f47329c1a998bd7acacaf\n",
      "🧪 View experiment at: http://localhost:5000/#/experiments/1\n",
      "===== polynomial-True-reg-Lasso-momentum-0.6-method-sto-xavier-zero-lr-0.01 =====\n",
      "Fold 0 - MSE : 0.48217654057532056\n",
      "Fold 0 - R2 : 0.2977135799290336\n",
      "🏃 View run Fold-0 at: http://localhost:5000/#/experiments/1/runs/3db82e1becf946449f38c9548c41cfb5\n",
      "🧪 View experiment at: http://localhost:5000/#/experiments/1\n",
      "Fold 1 - MSE : 0.8133989635984723\n",
      "Fold 1 - R2 : -0.12460711222507048\n",
      "🏃 View run Fold-1 at: http://localhost:5000/#/experiments/1/runs/85b012cbd57c42dd9676c6deaad0d44f\n",
      "🧪 View experiment at: http://localhost:5000/#/experiments/1\n",
      "Fold 2 - MSE : 0.5785584883437513\n",
      "Fold 2 - R2 : 0.16684883430701158\n",
      "🏃 View run Fold-2 at: http://localhost:5000/#/experiments/1/runs/23d2dcae626f4cde83515986229a7730\n",
      "🧪 View experiment at: http://localhost:5000/#/experiments/1\n",
      "Average MSE: 0.6247113308391814\n",
      "Average R2: 0.11331843400365822\n"
     ]
    },
    {
     "name": "stderr",
     "output_type": "stream",
     "text": [
      "d:\\ML_Assignment\\A2_ Assignment\\ml_env2\\Lib\\site-packages\\mlflow\\pyfunc\\utils\\data_validation.py:166: UserWarning: \u001b[33mAdd type hints to the `predict` method to enable data validation and automatic signature inference during model logging. Check https://mlflow.org/docs/latest/model/python_model.html#type-hint-usage-in-pythonmodel for more details.\u001b[0m\n",
      "  color_warning(\n"
     ]
    },
    {
     "name": "stdout",
     "output_type": "stream",
     "text": [
      "🏃 View run polynomial-True-reg-Lasso-momentum-0.6-method-sto-xavier-zero-lr-0.01 at: http://localhost:5000/#/experiments/1/runs/bb096aa8105c4966ac53304eb987bb4a\n",
      "🧪 View experiment at: http://localhost:5000/#/experiments/1\n",
      "===== polynomial-True-reg-Lasso-momentum-0.6-method-sto-xavier-zero-lr-0.001 =====\n",
      "Fold 0 - MSE : 0.4412606265543392\n",
      "Fold 0 - R2 : 0.3573072937738444\n",
      "🏃 View run Fold-0 at: http://localhost:5000/#/experiments/1/runs/3d3f84134fb444ecb3af983c73c35098\n",
      "🧪 View experiment at: http://localhost:5000/#/experiments/1\n",
      "Fold 1 - MSE : 0.4233057718791997\n",
      "Fold 1 - R2 : 0.41473655241061913\n",
      "🏃 View run Fold-1 at: http://localhost:5000/#/experiments/1/runs/5d6284c3899448eb941583f5e7099cc0\n",
      "🧪 View experiment at: http://localhost:5000/#/experiments/1\n",
      "Fold 2 - MSE : 0.40228048908584585\n",
      "Fold 2 - R2 : 0.4206973622029344\n",
      "🏃 View run Fold-2 at: http://localhost:5000/#/experiments/1/runs/d005d2c5f15c4ea3a54356773cba44e7\n",
      "🧪 View experiment at: http://localhost:5000/#/experiments/1\n",
      "Average MSE: 0.42228229583979493\n",
      "Average R2: 0.39758040279579926\n"
     ]
    },
    {
     "name": "stderr",
     "output_type": "stream",
     "text": [
      "d:\\ML_Assignment\\A2_ Assignment\\ml_env2\\Lib\\site-packages\\mlflow\\pyfunc\\utils\\data_validation.py:166: UserWarning: \u001b[33mAdd type hints to the `predict` method to enable data validation and automatic signature inference during model logging. Check https://mlflow.org/docs/latest/model/python_model.html#type-hint-usage-in-pythonmodel for more details.\u001b[0m\n",
      "  color_warning(\n"
     ]
    },
    {
     "name": "stdout",
     "output_type": "stream",
     "text": [
      "🏃 View run polynomial-True-reg-Lasso-momentum-0.6-method-sto-xavier-zero-lr-0.001 at: http://localhost:5000/#/experiments/1/runs/24dd0d426d7b492181c3e6414060e6bd\n",
      "🧪 View experiment at: http://localhost:5000/#/experiments/1\n",
      "===== polynomial-True-reg-Lasso-momentum-0.6-method-sto-xavier-zero-lr-0.0001 =====\n",
      "Fold 0 - MSE : 0.46747084412494616\n",
      "Fold 0 - R2 : 0.31913231362035144\n",
      "🏃 View run Fold-0 at: http://localhost:5000/#/experiments/1/runs/f684b08231324f2990978be1131c51cc\n",
      "🧪 View experiment at: http://localhost:5000/#/experiments/1\n",
      "Fold 1 - MSE : 0.4267592417729568\n",
      "Fold 1 - R2 : 0.40996177769589304\n",
      "🏃 View run Fold-1 at: http://localhost:5000/#/experiments/1/runs/f0d0d93fa55a496db03e87b105a5cd87\n",
      "🧪 View experiment at: http://localhost:5000/#/experiments/1\n",
      "Fold 2 - MSE : 0.41811723620707475\n",
      "Fold 2 - R2 : 0.3978917088581727\n",
      "🏃 View run Fold-2 at: http://localhost:5000/#/experiments/1/runs/c3f81c258b384c95b680b3485571c7a9\n",
      "🧪 View experiment at: http://localhost:5000/#/experiments/1\n",
      "Average MSE: 0.43744910736832593\n",
      "Average R2: 0.3756619333914724\n"
     ]
    },
    {
     "name": "stderr",
     "output_type": "stream",
     "text": [
      "d:\\ML_Assignment\\A2_ Assignment\\ml_env2\\Lib\\site-packages\\mlflow\\pyfunc\\utils\\data_validation.py:166: UserWarning: \u001b[33mAdd type hints to the `predict` method to enable data validation and automatic signature inference during model logging. Check https://mlflow.org/docs/latest/model/python_model.html#type-hint-usage-in-pythonmodel for more details.\u001b[0m\n",
      "  color_warning(\n"
     ]
    },
    {
     "name": "stdout",
     "output_type": "stream",
     "text": [
      "🏃 View run polynomial-True-reg-Lasso-momentum-0.6-method-sto-xavier-zero-lr-0.0001 at: http://localhost:5000/#/experiments/1/runs/bf1863f70b2b4b918cde6df30db6b900\n",
      "🧪 View experiment at: http://localhost:5000/#/experiments/1\n",
      "===== polynomial-True-reg-Lasso-momentum-0.6-method-sto-xavier-xavier-lr-0.01 =====\n",
      "Fold 0 - MSE : 1.1039162615840485\n",
      "Fold 0 - R2 : -0.6078455382357659\n",
      "🏃 View run Fold-0 at: http://localhost:5000/#/experiments/1/runs/893171e877224ad0874ca40fa1898b30\n",
      "🧪 View experiment at: http://localhost:5000/#/experiments/1\n",
      "Fold 1 - MSE : 0.42874582559033464\n",
      "Fold 1 - R2 : 0.40721512274544835\n",
      "🏃 View run Fold-1 at: http://localhost:5000/#/experiments/1/runs/929e1754e98943cd8b1bd6d815ce98b3\n",
      "🧪 View experiment at: http://localhost:5000/#/experiments/1\n",
      "Fold 2 - MSE : 0.45947745509335247\n",
      "Fold 2 - R2 : 0.3383310675873711\n",
      "🏃 View run Fold-2 at: http://localhost:5000/#/experiments/1/runs/d6b501ca0685435fbfeb35f0f13769c8\n",
      "🧪 View experiment at: http://localhost:5000/#/experiments/1\n",
      "Average MSE: 0.6640465140892452\n",
      "Average R2: 0.045900217365684504\n"
     ]
    },
    {
     "name": "stderr",
     "output_type": "stream",
     "text": [
      "d:\\ML_Assignment\\A2_ Assignment\\ml_env2\\Lib\\site-packages\\mlflow\\pyfunc\\utils\\data_validation.py:166: UserWarning: \u001b[33mAdd type hints to the `predict` method to enable data validation and automatic signature inference during model logging. Check https://mlflow.org/docs/latest/model/python_model.html#type-hint-usage-in-pythonmodel for more details.\u001b[0m\n",
      "  color_warning(\n"
     ]
    },
    {
     "name": "stdout",
     "output_type": "stream",
     "text": [
      "🏃 View run polynomial-True-reg-Lasso-momentum-0.6-method-sto-xavier-xavier-lr-0.01 at: http://localhost:5000/#/experiments/1/runs/d429eb63decb4ecca6387457196c6426\n",
      "🧪 View experiment at: http://localhost:5000/#/experiments/1\n",
      "===== polynomial-True-reg-Lasso-momentum-0.6-method-sto-xavier-xavier-lr-0.001 =====\n",
      "Fold 0 - MSE : 0.5139840279400602\n",
      "Fold 0 - R2 : 0.2513862194021561\n",
      "🏃 View run Fold-0 at: http://localhost:5000/#/experiments/1/runs/137e96327ba945e9866271d4c0278940\n",
      "🧪 View experiment at: http://localhost:5000/#/experiments/1\n",
      "Fold 1 - MSE : 0.41546872086305686\n",
      "Fold 1 - R2 : 0.42557207557459464\n",
      "🏃 View run Fold-1 at: http://localhost:5000/#/experiments/1/runs/3093c9c603b14fc89dfd766020a0afd3\n",
      "🧪 View experiment at: http://localhost:5000/#/experiments/1\n",
      "Fold 2 - MSE : 0.41426261608969145\n",
      "Fold 2 - R2 : 0.40344254133026225\n",
      "🏃 View run Fold-2 at: http://localhost:5000/#/experiments/1/runs/44282fc0e98b4e829e2c84d5cd828a4c\n",
      "🧪 View experiment at: http://localhost:5000/#/experiments/1\n",
      "Average MSE: 0.44790512163093615\n",
      "Average R2: 0.3601336121023377\n"
     ]
    },
    {
     "name": "stderr",
     "output_type": "stream",
     "text": [
      "d:\\ML_Assignment\\A2_ Assignment\\ml_env2\\Lib\\site-packages\\mlflow\\pyfunc\\utils\\data_validation.py:166: UserWarning: \u001b[33mAdd type hints to the `predict` method to enable data validation and automatic signature inference during model logging. Check https://mlflow.org/docs/latest/model/python_model.html#type-hint-usage-in-pythonmodel for more details.\u001b[0m\n",
      "  color_warning(\n"
     ]
    },
    {
     "name": "stdout",
     "output_type": "stream",
     "text": [
      "🏃 View run polynomial-True-reg-Lasso-momentum-0.6-method-sto-xavier-xavier-lr-0.001 at: http://localhost:5000/#/experiments/1/runs/b3a0ce68b0fc4176879b335c9c8a28d0\n",
      "🧪 View experiment at: http://localhost:5000/#/experiments/1\n",
      "===== polynomial-True-reg-Lasso-momentum-0.6-method-sto-xavier-xavier-lr-0.0001 =====\n",
      "Fold 0 - MSE : 0.46067821239076834\n",
      "Fold 0 - R2 : 0.32902572945880004\n",
      "🏃 View run Fold-0 at: http://localhost:5000/#/experiments/1/runs/8c9cac99b4574ce9a0b53fcff2d9f990\n",
      "🧪 View experiment at: http://localhost:5000/#/experiments/1\n",
      "Fold 1 - MSE : 0.41906756867006084\n",
      "Fold 1 - R2 : 0.4205963010522532\n",
      "🏃 View run Fold-1 at: http://localhost:5000/#/experiments/1/runs/46412aeb217c44b5b42ecd1099c4f43b\n",
      "🧪 View experiment at: http://localhost:5000/#/experiments/1\n",
      "Fold 2 - MSE : 0.40530260648833377\n",
      "Fold 2 - R2 : 0.41634537240852\n",
      "🏃 View run Fold-2 at: http://localhost:5000/#/experiments/1/runs/6e7770da0efb44ebb80764b953303d13\n",
      "🧪 View experiment at: http://localhost:5000/#/experiments/1\n",
      "Average MSE: 0.42834946251638767\n",
      "Average R2: 0.3886558009731911\n"
     ]
    },
    {
     "name": "stderr",
     "output_type": "stream",
     "text": [
      "d:\\ML_Assignment\\A2_ Assignment\\ml_env2\\Lib\\site-packages\\mlflow\\pyfunc\\utils\\data_validation.py:166: UserWarning: \u001b[33mAdd type hints to the `predict` method to enable data validation and automatic signature inference during model logging. Check https://mlflow.org/docs/latest/model/python_model.html#type-hint-usage-in-pythonmodel for more details.\u001b[0m\n",
      "  color_warning(\n"
     ]
    },
    {
     "name": "stdout",
     "output_type": "stream",
     "text": [
      "🏃 View run polynomial-True-reg-Lasso-momentum-0.6-method-sto-xavier-xavier-lr-0.0001 at: http://localhost:5000/#/experiments/1/runs/ffa5749a950d4518a4a4926ad578f2ad\n",
      "🧪 View experiment at: http://localhost:5000/#/experiments/1\n",
      "===== polynomial-True-reg-Lasso-momentum-0.6-method-mini-xavier-zero-lr-0.01 =====\n",
      "Fold 0 - MSE : 0.46023789539550697\n",
      "Fold 0 - R2 : 0.329667047773311\n",
      "🏃 View run Fold-0 at: http://localhost:5000/#/experiments/1/runs/d53fa864cc3d443e87d3d757400b4d7f\n",
      "🧪 View experiment at: http://localhost:5000/#/experiments/1\n",
      "Fold 1 - MSE : 0.4235120952177539\n",
      "Fold 1 - R2 : 0.414451289330212\n",
      "🏃 View run Fold-1 at: http://localhost:5000/#/experiments/1/runs/bf332210f94046a98914da7dce7cf258\n",
      "🧪 View experiment at: http://localhost:5000/#/experiments/1\n",
      "Fold 2 - MSE : 0.4059932138365109\n",
      "Fold 2 - R2 : 0.4153508656667434\n",
      "🏃 View run Fold-2 at: http://localhost:5000/#/experiments/1/runs/7daf1d7feab642ce837ee25c2bc37b5b\n",
      "🧪 View experiment at: http://localhost:5000/#/experiments/1\n",
      "Average MSE: 0.42991440148325727\n",
      "Average R2: 0.3864897342567555\n"
     ]
    },
    {
     "name": "stderr",
     "output_type": "stream",
     "text": [
      "d:\\ML_Assignment\\A2_ Assignment\\ml_env2\\Lib\\site-packages\\mlflow\\pyfunc\\utils\\data_validation.py:166: UserWarning: \u001b[33mAdd type hints to the `predict` method to enable data validation and automatic signature inference during model logging. Check https://mlflow.org/docs/latest/model/python_model.html#type-hint-usage-in-pythonmodel for more details.\u001b[0m\n",
      "  color_warning(\n"
     ]
    },
    {
     "name": "stdout",
     "output_type": "stream",
     "text": [
      "🏃 View run polynomial-True-reg-Lasso-momentum-0.6-method-mini-xavier-zero-lr-0.01 at: http://localhost:5000/#/experiments/1/runs/55517fbb398d4abd8f6e25d91ecc2cbb\n",
      "🧪 View experiment at: http://localhost:5000/#/experiments/1\n",
      "===== polynomial-True-reg-Lasso-momentum-0.6-method-mini-xavier-zero-lr-0.001 =====\n",
      "Fold 0 - MSE : 0.8318415992572035\n",
      "Fold 0 - R2 : -0.21157088669516622\n",
      "🏃 View run Fold-0 at: http://localhost:5000/#/experiments/1/runs/201714e306484838b85ff8ca2d350bee\n",
      "🧪 View experiment at: http://localhost:5000/#/experiments/1\n",
      "Fold 1 - MSE : 0.7378751448347479\n",
      "Fold 1 - R2 : -0.020187722079389125\n",
      "🏃 View run Fold-1 at: http://localhost:5000/#/experiments/1/runs/9a65ce93195346b49f74cd207aef2227\n",
      "🧪 View experiment at: http://localhost:5000/#/experiments/1\n",
      "Fold 2 - MSE : 0.7918210472694933\n",
      "Fold 2 - R2 : -0.1402591818182013\n",
      "🏃 View run Fold-2 at: http://localhost:5000/#/experiments/1/runs/88eba62cf35846bbae613a36b36bef91\n",
      "🧪 View experiment at: http://localhost:5000/#/experiments/1\n",
      "Average MSE: 0.7871792637871482\n",
      "Average R2: -0.12400593019758555\n"
     ]
    },
    {
     "name": "stderr",
     "output_type": "stream",
     "text": [
      "d:\\ML_Assignment\\A2_ Assignment\\ml_env2\\Lib\\site-packages\\mlflow\\pyfunc\\utils\\data_validation.py:166: UserWarning: \u001b[33mAdd type hints to the `predict` method to enable data validation and automatic signature inference during model logging. Check https://mlflow.org/docs/latest/model/python_model.html#type-hint-usage-in-pythonmodel for more details.\u001b[0m\n",
      "  color_warning(\n"
     ]
    },
    {
     "name": "stdout",
     "output_type": "stream",
     "text": [
      "🏃 View run polynomial-True-reg-Lasso-momentum-0.6-method-mini-xavier-zero-lr-0.001 at: http://localhost:5000/#/experiments/1/runs/2dda18241b7447c38e13c84e0b095bf2\n",
      "🧪 View experiment at: http://localhost:5000/#/experiments/1\n",
      "===== polynomial-True-reg-Lasso-momentum-0.6-method-mini-xavier-zero-lr-0.0001 =====\n",
      "Fold 0 - MSE : 31.74371592748761\n",
      "Fold 0 - R2 : -45.234477919364025\n",
      "🏃 View run Fold-0 at: http://localhost:5000/#/experiments/1/runs/813ca273f55f41868bdb96d045fca29a\n",
      "🧪 View experiment at: http://localhost:5000/#/experiments/1\n",
      "Fold 1 - MSE : 28.624721612095566\n",
      "Fold 1 - R2 : -38.57660010778728\n",
      "🏃 View run Fold-1 at: http://localhost:5000/#/experiments/1/runs/6e08ea88ce1647dcb1f667eff7fa4c67\n",
      "🧪 View experiment at: http://localhost:5000/#/experiments/1\n",
      "Fold 2 - MSE : 30.58388952671258\n",
      "Fold 2 - R2 : -43.042225157824646\n",
      "🏃 View run Fold-2 at: http://localhost:5000/#/experiments/1/runs/28f2d894357d404bb85d18742e8c0f90\n",
      "🧪 View experiment at: http://localhost:5000/#/experiments/1\n",
      "Average MSE: 30.31744235543192\n",
      "Average R2: -42.28443439499198\n"
     ]
    },
    {
     "name": "stderr",
     "output_type": "stream",
     "text": [
      "d:\\ML_Assignment\\A2_ Assignment\\ml_env2\\Lib\\site-packages\\mlflow\\pyfunc\\utils\\data_validation.py:166: UserWarning: \u001b[33mAdd type hints to the `predict` method to enable data validation and automatic signature inference during model logging. Check https://mlflow.org/docs/latest/model/python_model.html#type-hint-usage-in-pythonmodel for more details.\u001b[0m\n",
      "  color_warning(\n"
     ]
    },
    {
     "name": "stdout",
     "output_type": "stream",
     "text": [
      "🏃 View run polynomial-True-reg-Lasso-momentum-0.6-method-mini-xavier-zero-lr-0.0001 at: http://localhost:5000/#/experiments/1/runs/39739490f09a417c88aae5af0411e4e4\n",
      "🧪 View experiment at: http://localhost:5000/#/experiments/1\n",
      "===== polynomial-True-reg-Lasso-momentum-0.6-method-mini-xavier-xavier-lr-0.01 =====\n",
      "Fold 0 - MSE : 0.45192608832839215\n",
      "Fold 0 - R2 : 0.34177313079120264\n",
      "🏃 View run Fold-0 at: http://localhost:5000/#/experiments/1/runs/e440189e775b4781ab86c276a692d411\n",
      "🧪 View experiment at: http://localhost:5000/#/experiments/1\n",
      "Fold 1 - MSE : 0.42964322033565994\n",
      "Fold 1 - R2 : 0.40597438288932475\n",
      "🏃 View run Fold-1 at: http://localhost:5000/#/experiments/1/runs/6fcb6d27a06444e99441606ecb1c35c1\n",
      "🧪 View experiment at: http://localhost:5000/#/experiments/1\n",
      "Fold 2 - MSE : 0.40396350460289154\n",
      "Fold 2 - R2 : 0.41827374148323826\n",
      "🏃 View run Fold-2 at: http://localhost:5000/#/experiments/1/runs/880e3a9ecb6d4496b59bd9dc49be2423\n",
      "🧪 View experiment at: http://localhost:5000/#/experiments/1\n",
      "Average MSE: 0.4285109377556479\n",
      "Average R2: 0.38867375172125523\n"
     ]
    },
    {
     "name": "stderr",
     "output_type": "stream",
     "text": [
      "d:\\ML_Assignment\\A2_ Assignment\\ml_env2\\Lib\\site-packages\\mlflow\\pyfunc\\utils\\data_validation.py:166: UserWarning: \u001b[33mAdd type hints to the `predict` method to enable data validation and automatic signature inference during model logging. Check https://mlflow.org/docs/latest/model/python_model.html#type-hint-usage-in-pythonmodel for more details.\u001b[0m\n",
      "  color_warning(\n"
     ]
    },
    {
     "name": "stdout",
     "output_type": "stream",
     "text": [
      "🏃 View run polynomial-True-reg-Lasso-momentum-0.6-method-mini-xavier-xavier-lr-0.01 at: http://localhost:5000/#/experiments/1/runs/db9cc0a42d204c4cbff5533d1189a975\n",
      "🧪 View experiment at: http://localhost:5000/#/experiments/1\n",
      "===== polynomial-True-reg-Lasso-momentum-0.6-method-mini-xavier-xavier-lr-0.001 =====\n",
      "Fold 0 - MSE : 0.8509129725364155\n",
      "Fold 0 - R2 : -0.23934819508539618\n",
      "🏃 View run Fold-0 at: http://localhost:5000/#/experiments/1/runs/a7434de5545b4d0b9b0c53ed8820d97b\n",
      "🧪 View experiment at: http://localhost:5000/#/experiments/1\n",
      "Fold 1 - MSE : 0.7347733341280903\n",
      "Fold 1 - R2 : -0.015899152093941105\n",
      "🏃 View run Fold-1 at: http://localhost:5000/#/experiments/1/runs/23c043fff3de4edb9c7e08e99afe37f6\n",
      "🧪 View experiment at: http://localhost:5000/#/experiments/1\n",
      "Fold 2 - MSE : 0.8073745335915449\n",
      "Fold 2 - R2 : -0.16265692642117724\n",
      "🏃 View run Fold-2 at: http://localhost:5000/#/experiments/1/runs/5a98cb00c40c4480bf86e1151328a443\n",
      "🧪 View experiment at: http://localhost:5000/#/experiments/1\n",
      "Average MSE: 0.7976869467520169\n",
      "Average R2: -0.13930142453350483\n"
     ]
    },
    {
     "name": "stderr",
     "output_type": "stream",
     "text": [
      "d:\\ML_Assignment\\A2_ Assignment\\ml_env2\\Lib\\site-packages\\mlflow\\pyfunc\\utils\\data_validation.py:166: UserWarning: \u001b[33mAdd type hints to the `predict` method to enable data validation and automatic signature inference during model logging. Check https://mlflow.org/docs/latest/model/python_model.html#type-hint-usage-in-pythonmodel for more details.\u001b[0m\n",
      "  color_warning(\n"
     ]
    },
    {
     "name": "stdout",
     "output_type": "stream",
     "text": [
      "🏃 View run polynomial-True-reg-Lasso-momentum-0.6-method-mini-xavier-xavier-lr-0.001 at: http://localhost:5000/#/experiments/1/runs/f6c3c9dc72944bec896daed49d7d4bc0\n",
      "🧪 View experiment at: http://localhost:5000/#/experiments/1\n",
      "===== polynomial-True-reg-Lasso-momentum-0.6-method-mini-xavier-xavier-lr-0.0001 =====\n",
      "Fold 0 - MSE : 31.013954326881702\n",
      "Fold 0 - R2 : -44.17158576500231\n",
      "🏃 View run Fold-0 at: http://localhost:5000/#/experiments/1/runs/a823a0a823cd4a00839c6c439cb20627\n",
      "🧪 View experiment at: http://localhost:5000/#/experiments/1\n",
      "Fold 1 - MSE : 29.90038007437993\n",
      "Fold 1 - R2 : -40.340328171944584\n",
      "🏃 View run Fold-1 at: http://localhost:5000/#/experiments/1/runs/fe93b04935254a5f8f674e499fe73457\n",
      "🧪 View experiment at: http://localhost:5000/#/experiments/1\n",
      "Fold 2 - MSE : 29.292527968811395\n",
      "Fold 2 - R2 : -41.18260437795073\n",
      "🏃 View run Fold-2 at: http://localhost:5000/#/experiments/1/runs/887880f644e048d79d2aa2d15aafc829\n",
      "🧪 View experiment at: http://localhost:5000/#/experiments/1\n",
      "Average MSE: 30.068954123357674\n",
      "Average R2: -41.898172771632545\n"
     ]
    },
    {
     "name": "stderr",
     "output_type": "stream",
     "text": [
      "d:\\ML_Assignment\\A2_ Assignment\\ml_env2\\Lib\\site-packages\\mlflow\\pyfunc\\utils\\data_validation.py:166: UserWarning: \u001b[33mAdd type hints to the `predict` method to enable data validation and automatic signature inference during model logging. Check https://mlflow.org/docs/latest/model/python_model.html#type-hint-usage-in-pythonmodel for more details.\u001b[0m\n",
      "  color_warning(\n"
     ]
    },
    {
     "name": "stdout",
     "output_type": "stream",
     "text": [
      "🏃 View run polynomial-True-reg-Lasso-momentum-0.6-method-mini-xavier-xavier-lr-0.0001 at: http://localhost:5000/#/experiments/1/runs/5789edf295c54330ad2bffa3d81a0e34\n",
      "🧪 View experiment at: http://localhost:5000/#/experiments/1\n",
      "===== polynomial-True-reg-Lasso-momentum-0.6-method-batch-xavier-zero-lr-0.01 =====\n",
      "Fold 0 - MSE : 26.111481143219265\n",
      "Fold 0 - R2 : -37.03117130696962\n",
      "🏃 View run Fold-0 at: http://localhost:5000/#/experiments/1/runs/42dd13fb8fa24ae484882d5028a86eea\n",
      "🧪 View experiment at: http://localhost:5000/#/experiments/1\n",
      "Fold 1 - MSE : 23.071970722753555\n",
      "Fold 1 - R2 : -30.89935508777673\n",
      "🏃 View run Fold-1 at: http://localhost:5000/#/experiments/1/runs/90e3338fcd1740d689785173bbf3dc42\n",
      "🧪 View experiment at: http://localhost:5000/#/experiments/1\n",
      "Fold 2 - MSE : 24.742186732039322\n",
      "Fold 2 - R2 : -34.62990109540028\n",
      "🏃 View run Fold-2 at: http://localhost:5000/#/experiments/1/runs/82e8211c53b943febc3e73579c384fb0\n",
      "🧪 View experiment at: http://localhost:5000/#/experiments/1\n",
      "Average MSE: 24.641879532670714\n",
      "Average R2: -34.18680916338221\n"
     ]
    },
    {
     "name": "stderr",
     "output_type": "stream",
     "text": [
      "d:\\ML_Assignment\\A2_ Assignment\\ml_env2\\Lib\\site-packages\\mlflow\\pyfunc\\utils\\data_validation.py:166: UserWarning: \u001b[33mAdd type hints to the `predict` method to enable data validation and automatic signature inference during model logging. Check https://mlflow.org/docs/latest/model/python_model.html#type-hint-usage-in-pythonmodel for more details.\u001b[0m\n",
      "  color_warning(\n"
     ]
    },
    {
     "name": "stdout",
     "output_type": "stream",
     "text": [
      "🏃 View run polynomial-True-reg-Lasso-momentum-0.6-method-batch-xavier-zero-lr-0.01 at: http://localhost:5000/#/experiments/1/runs/e09b5fd95e4d42af9ef7709c0b8e61bd\n",
      "🧪 View experiment at: http://localhost:5000/#/experiments/1\n",
      "===== polynomial-True-reg-Lasso-momentum-0.6-method-batch-xavier-zero-lr-0.001 =====\n",
      "Fold 0 - MSE : 79.22706956447321\n",
      "Fold 0 - R2 : -114.39361701579051\n",
      "🏃 View run Fold-0 at: http://localhost:5000/#/experiments/1/runs/70fb358080184db69a5138fcad219af9\n",
      "🧪 View experiment at: http://localhost:5000/#/experiments/1\n",
      "Fold 1 - MSE : 79.53276713616435\n",
      "Fold 1 - R2 : -108.9621705695013\n",
      "🏃 View run Fold-1 at: http://localhost:5000/#/experiments/1/runs/282137f5a463447091238c8dbaa87b10\n",
      "🧪 View experiment at: http://localhost:5000/#/experiments/1\n",
      "Fold 2 - MSE : 81.44807482970444\n",
      "Fold 2 - R2 : -116.28902065213455\n",
      "🏃 View run Fold-2 at: http://localhost:5000/#/experiments/1/runs/9e8a3337dda942bba45f66626d043c7d\n",
      "🧪 View experiment at: http://localhost:5000/#/experiments/1\n",
      "Average MSE: 80.06930384344733\n",
      "Average R2: -113.2149360791421\n"
     ]
    },
    {
     "name": "stderr",
     "output_type": "stream",
     "text": [
      "d:\\ML_Assignment\\A2_ Assignment\\ml_env2\\Lib\\site-packages\\mlflow\\pyfunc\\utils\\data_validation.py:166: UserWarning: \u001b[33mAdd type hints to the `predict` method to enable data validation and automatic signature inference during model logging. Check https://mlflow.org/docs/latest/model/python_model.html#type-hint-usage-in-pythonmodel for more details.\u001b[0m\n",
      "  color_warning(\n"
     ]
    },
    {
     "name": "stdout",
     "output_type": "stream",
     "text": [
      "🏃 View run polynomial-True-reg-Lasso-momentum-0.6-method-batch-xavier-zero-lr-0.001 at: http://localhost:5000/#/experiments/1/runs/514d6698ced043c2abba7eaa21842b97\n",
      "🧪 View experiment at: http://localhost:5000/#/experiments/1\n",
      "===== polynomial-True-reg-Lasso-momentum-0.6-method-batch-xavier-zero-lr-0.0001 =====\n",
      "Fold 0 - MSE : 150.65708076228054\n",
      "Fold 0 - R2 : -218.43087853391077\n",
      "🏃 View run Fold-0 at: http://localhost:5000/#/experiments/1/runs/a8c7e7a9a6c14b5d8201b378b7542243\n",
      "🧪 View experiment at: http://localhost:5000/#/experiments/1\n",
      "Fold 1 - MSE : 150.07824552627474\n",
      "Fold 1 - R2 : -206.49849687837238\n",
      "🏃 View run Fold-1 at: http://localhost:5000/#/experiments/1/runs/60510ccb2e4e4b609b636ce31ffc1dd3\n",
      "🧪 View experiment at: http://localhost:5000/#/experiments/1\n",
      "Fold 2 - MSE : 150.35524051142716\n",
      "Fold 2 - R2 : -215.51854812251347\n",
      "🏃 View run Fold-2 at: http://localhost:5000/#/experiments/1/runs/c5bfc72c1ad84b059bc2d50e0060d136\n",
      "🧪 View experiment at: http://localhost:5000/#/experiments/1\n",
      "Average MSE: 150.3635222666608\n",
      "Average R2: -213.48264117826554\n"
     ]
    },
    {
     "name": "stderr",
     "output_type": "stream",
     "text": [
      "d:\\ML_Assignment\\A2_ Assignment\\ml_env2\\Lib\\site-packages\\mlflow\\pyfunc\\utils\\data_validation.py:166: UserWarning: \u001b[33mAdd type hints to the `predict` method to enable data validation and automatic signature inference during model logging. Check https://mlflow.org/docs/latest/model/python_model.html#type-hint-usage-in-pythonmodel for more details.\u001b[0m\n",
      "  color_warning(\n"
     ]
    },
    {
     "name": "stdout",
     "output_type": "stream",
     "text": [
      "🏃 View run polynomial-True-reg-Lasso-momentum-0.6-method-batch-xavier-zero-lr-0.0001 at: http://localhost:5000/#/experiments/1/runs/af196be4904f47b8a4468aac077ef871\n",
      "🧪 View experiment at: http://localhost:5000/#/experiments/1\n",
      "===== polynomial-True-reg-Lasso-momentum-0.6-method-batch-xavier-xavier-lr-0.01 =====\n",
      "Fold 0 - MSE : 27.295971728533775\n",
      "Fold 0 - R2 : -38.75637272754422\n",
      "🏃 View run Fold-0 at: http://localhost:5000/#/experiments/1/runs/e29d4891d34e4945bf14503ef0cdea93\n",
      "🧪 View experiment at: http://localhost:5000/#/experiments/1\n",
      "Fold 1 - MSE : 22.21957657927675\n",
      "Fold 1 - R2 : -29.720833158105055\n",
      "🏃 View run Fold-1 at: http://localhost:5000/#/experiments/1/runs/db0bddc5077249d4a03c6c37c1969ed3\n",
      "🧪 View experiment at: http://localhost:5000/#/experiments/1\n",
      "Fold 2 - MSE : 25.707218657181073\n",
      "Fold 2 - R2 : -36.01959200748848\n",
      "🏃 View run Fold-2 at: http://localhost:5000/#/experiments/1/runs/d07f9a5b3ab24cb7ae58894a4579e9a5\n",
      "🧪 View experiment at: http://localhost:5000/#/experiments/1\n",
      "Average MSE: 25.0742556549972\n",
      "Average R2: -34.832265964379246\n"
     ]
    },
    {
     "name": "stderr",
     "output_type": "stream",
     "text": [
      "d:\\ML_Assignment\\A2_ Assignment\\ml_env2\\Lib\\site-packages\\mlflow\\pyfunc\\utils\\data_validation.py:166: UserWarning: \u001b[33mAdd type hints to the `predict` method to enable data validation and automatic signature inference during model logging. Check https://mlflow.org/docs/latest/model/python_model.html#type-hint-usage-in-pythonmodel for more details.\u001b[0m\n",
      "  color_warning(\n"
     ]
    },
    {
     "name": "stdout",
     "output_type": "stream",
     "text": [
      "🏃 View run polynomial-True-reg-Lasso-momentum-0.6-method-batch-xavier-xavier-lr-0.01 at: http://localhost:5000/#/experiments/1/runs/1c829534048246f6822bd5887972e46d\n",
      "🧪 View experiment at: http://localhost:5000/#/experiments/1\n",
      "===== polynomial-True-reg-Lasso-momentum-0.6-method-batch-xavier-xavier-lr-0.001 =====\n",
      "Fold 0 - MSE : 80.14127403034415\n",
      "Fold 0 - R2 : -115.72514878376772\n",
      "🏃 View run Fold-0 at: http://localhost:5000/#/experiments/1/runs/cccf7bd8bc1c499ab358b1c829a20340\n",
      "🧪 View experiment at: http://localhost:5000/#/experiments/1\n",
      "Fold 1 - MSE : 79.17161270192712\n",
      "Fold 1 - R2 : -108.4628376916255\n",
      "🏃 View run Fold-1 at: http://localhost:5000/#/experiments/1/runs/bbc3720b256a402ea49d0f84b83c5674\n",
      "🧪 View experiment at: http://localhost:5000/#/experiments/1\n",
      "Fold 2 - MSE : 81.87404184435044\n",
      "Fold 2 - R2 : -116.90243298977919\n",
      "🏃 View run Fold-2 at: http://localhost:5000/#/experiments/1/runs/296f1aac0c3943bd8b02944406af44fe\n",
      "🧪 View experiment at: http://localhost:5000/#/experiments/1\n",
      "Average MSE: 80.3956428588739\n",
      "Average R2: -113.6968064883908\n"
     ]
    },
    {
     "name": "stderr",
     "output_type": "stream",
     "text": [
      "d:\\ML_Assignment\\A2_ Assignment\\ml_env2\\Lib\\site-packages\\mlflow\\pyfunc\\utils\\data_validation.py:166: UserWarning: \u001b[33mAdd type hints to the `predict` method to enable data validation and automatic signature inference during model logging. Check https://mlflow.org/docs/latest/model/python_model.html#type-hint-usage-in-pythonmodel for more details.\u001b[0m\n",
      "  color_warning(\n"
     ]
    },
    {
     "name": "stdout",
     "output_type": "stream",
     "text": [
      "🏃 View run polynomial-True-reg-Lasso-momentum-0.6-method-batch-xavier-xavier-lr-0.001 at: http://localhost:5000/#/experiments/1/runs/d0167b412d9445068f2749bfd4f0c56a\n",
      "🧪 View experiment at: http://localhost:5000/#/experiments/1\n",
      "===== polynomial-True-reg-Lasso-momentum-0.6-method-batch-xavier-xavier-lr-0.0001 =====\n",
      "Fold 0 - MSE : 155.80821992437237\n",
      "Fold 0 - R2 : -225.93347307556235\n",
      "🏃 View run Fold-0 at: http://localhost:5000/#/experiments/1/runs/5a01e36b3fcc4518999055600ddb434c\n",
      "🧪 View experiment at: http://localhost:5000/#/experiments/1\n",
      "Fold 1 - MSE : 139.25599803780776\n",
      "Fold 1 - R2 : -191.53563481380021\n",
      "🏃 View run Fold-1 at: http://localhost:5000/#/experiments/1/runs/ef55bd5971a045ad84521cc5b19b14af\n",
      "🧪 View experiment at: http://localhost:5000/#/experiments/1\n",
      "Fold 2 - MSE : 144.43628633290635\n",
      "Fold 2 - R2 : -206.994978469884\n",
      "🏃 View run Fold-2 at: http://localhost:5000/#/experiments/1/runs/4183fb2c40d04928bb04e3d623173242\n",
      "🧪 View experiment at: http://localhost:5000/#/experiments/1\n",
      "Average MSE: 146.50016809836214\n",
      "Average R2: -208.1546954530822\n"
     ]
    },
    {
     "name": "stderr",
     "output_type": "stream",
     "text": [
      "d:\\ML_Assignment\\A2_ Assignment\\ml_env2\\Lib\\site-packages\\mlflow\\pyfunc\\utils\\data_validation.py:166: UserWarning: \u001b[33mAdd type hints to the `predict` method to enable data validation and automatic signature inference during model logging. Check https://mlflow.org/docs/latest/model/python_model.html#type-hint-usage-in-pythonmodel for more details.\u001b[0m\n",
      "  color_warning(\n"
     ]
    },
    {
     "name": "stdout",
     "output_type": "stream",
     "text": [
      "🏃 View run polynomial-True-reg-Lasso-momentum-0.6-method-batch-xavier-xavier-lr-0.0001 at: http://localhost:5000/#/experiments/1/runs/d6111c55c8c3496e99a10580d6d988af\n",
      "🧪 View experiment at: http://localhost:5000/#/experiments/1\n"
     ]
    }
   ],
   "source": [
    "import sys\n",
    "import mlflow\n",
    "import mlflow.pyfunc\n",
    "\n",
    "\n",
    "def str_to_class(classname):\n",
    "    #\"\"\"Convert String to Class Reference\"\"\"\n",
    "    return getattr(sys.modules[__name__], classname)\n",
    "\n",
    "# Experiment Parameters\n",
    "polynomial_degrees = [False, True]\n",
    "regs = [\"Normal\", \"Ridge\", \"Lasso\"]\n",
    "momentums = [0, 0.6]\n",
    "grads = ['sto', 'mini', 'batch']\n",
    "xavier_methods = ['zero', 'xavier']\n",
    "lrs = [0.01, 0.001, 0.0001]\n",
    "\n",
    "# Experimentation Loop\n",
    "for polynomial_degree in polynomial_degrees:\n",
    "    for reg in regs:\n",
    "        for momentum in momentums:\n",
    "            for grad in grads:\n",
    "                for xavier_method in xavier_methods:\n",
    "                    for lr in lrs:\n",
    "                        # Define MLflow Parameters\n",
    "                        mlflow_params = {\n",
    "                            \"polynomial\": polynomial_degree,\n",
    "                            \"reg\": reg, \n",
    "                            \"momentum\": momentum, \n",
    "                            \"method\": grad,\n",
    "                            \"xavier_method\": xavier_method,\n",
    "                            \"lr\": lr\n",
    "                        }\n",
    "                        params = {\n",
    "                            \"method\": grad, \n",
    "                            \"lr\": lr, \n",
    "                            \"l\": lr, \n",
    "                            \"momentum\": momentum, \n",
    "                            \"xavier_method\": xavier_method, \n",
    "                            \"mlflow_params\": mlflow_params\n",
    "                        }\n",
    "                        \n",
    "                        current_run = (\n",
    "                            f\"polynomial-{polynomial_degree}-reg-{reg}-\"\n",
    "                            f\"momentum-{momentum}-method-{grad}-xavier-{xavier_method}-lr-{lr}\"\n",
    "                        )\n",
    "\n",
    "                        # Start MLflow Logging\n",
    "                        with mlflow.start_run(run_name=current_run, nested=True):\n",
    "                            mlflow.log_params(params=mlflow_params)\n",
    "\n",
    "                            print(\"=\"*5, current_run, \"=\"*5)\n",
    "\n",
    "                            # Instantiate Model Using Class Name\n",
    "                            type_of_regression = str_to_class(reg) \n",
    "                            model = type_of_regression(**params)\n",
    "                            \n",
    "                            # Polynomial Feature Transformation\n",
    "                            if polynomial_degree:\n",
    "                                poly_X_train = PolynomialFeatures(degree=2).fit_transform(X_train.values)\n",
    "                                model.fit(poly_X_train, y_train.values)\n",
    "                            else:\n",
    "                                model.fit(X_train.values, y_train.values)\n",
    "                            \n",
    "                            # Record Metrics\n",
    "                            train_mse = model.avgMse()\n",
    "                            train_r2 = model.avgR2()\n",
    "\n",
    "                            # Print and Log Metrics\n",
    "                            print(\"Average MSE:\", train_mse)\n",
    "                            mlflow.log_metric(key=\"training_mse\", value=train_mse)\n",
    "                            print(\"Average R2:\", train_r2)\n",
    "                            mlflow.log_metric(key=\"training_r2\", value=train_r2)\n",
    "                            \n",
    "                            # Model Signature for MLflow\n",
    "                            if polynomial_degree:\n",
    "                                poly_X_test = PolynomialFeatures(degree=2).fit_transform(X_test)\n",
    "                                signature = mlflow.models.infer_signature(\n",
    "                                    poly_X_train, model.predict(poly_X_train)\n",
    "                                )\n",
    "                            else:\n",
    "                                signature = mlflow.models.infer_signature(\n",
    "                                    X_train, model.predict(X_train)\n",
    "                                    #X_test, model.predict(X_test)\n",
    "                                )\n",
    "\n",
    "                            # Log Model as PyFunc (since it's a custom implementation)\n",
    "                            class LinearRegressionWrapper(mlflow.pyfunc.PythonModel):\n",
    "                                def predict(self, context, model_input):\n",
    "                                    return model.predict(model_input)\n",
    "                            \n",
    "                            mlflow.pyfunc.log_model(\n",
    "                                artifact_path='model',\n",
    "                                python_model=LinearRegressionWrapper(),\n",
    "                                signature=signature\n",
    "                            )\n",
    "\n",
    "                            # End MLflow Run\n",
    "                            mlflow.end_run()\n",
    "\n",
    "# End of Experimentation Loop\n"
   ]
  },
  {
   "cell_type": "code",
   "execution_count": 78,
   "metadata": {},
   "outputs": [
    {
     "name": "stdout",
     "output_type": "stream",
     "text": [
      "===== polynomial-False-reg-Lasso-momemtum0-method-sto-xavier_method-zero-lr-0.0001 =====\n",
      "Fold 0 - MSE : 0.11466137356365383\n",
      "Fold 0 - R2 : 0.8329965919446066\n",
      "🏃 View run Fold-0 at: http://localhost:5000/#/experiments/1/runs/a84745effbc14829b499d93e8aaac7f2\n",
      "🧪 View experiment at: http://localhost:5000/#/experiments/1\n",
      "Fold 1 - MSE : 0.10438952310970565\n",
      "Fold 1 - R2 : 0.8556708265134814\n",
      "🏃 View run Fold-1 at: http://localhost:5000/#/experiments/1/runs/cd50995623ee410e9a59a524a92909ab\n",
      "🧪 View experiment at: http://localhost:5000/#/experiments/1\n",
      "Fold 2 - MSE : 0.09724584156455274\n",
      "Fold 2 - R2 : 0.8599614595747417\n",
      "🏃 View run Fold-2 at: http://localhost:5000/#/experiments/1/runs/45476654230c40d3a51c3f44a179943c\n",
      "🧪 View experiment at: http://localhost:5000/#/experiments/1\n",
      "Training MSE:  0.10543224607930407\n",
      "Training R2:  0.8495429593442765\n"
     ]
    }
   ],
   "source": [
    "# take the best model from the MLFlow, and used it for prediction\n",
    "polynomial_degrees = [False]\n",
    "regs = [\"Lasso\"]\n",
    "momentums = [0]\n",
    "grads = ['sto']\n",
    "xavier_methods = ['zero']\n",
    "lrs = [0.0001]\n",
    "\n",
    "for polynomial_degree in polynomial_degrees:\n",
    "    for reg in regs:\n",
    "        for momentum in momentums:\n",
    "            for grad in grads:\n",
    "                for xavier_method in xavier_methods:\n",
    "                    for lr in lrs:\n",
    "                        \n",
    "                        params = {\"method\": grad, \"lr\": lr, \"l\": lr, \"momentum\": momentum, \"xavier_method\": xavier_method, \"mlflow_params\": mlflow_params}\n",
    "                        \n",
    "                        current_run = f\"polynomial-{polynomial_degree}-reg-{reg}-momemtum{momentum}-method-{grad}-xavier_method-{xavier_method}-lr-{lr}\"\n",
    "\n",
    "                        print(\"=\"*5, current_run, \"=\"*5)\n",
    "\n",
    "                        type_of_regression = str_to_class(reg)    #Ridge, Lasso, Normal\n",
    "                        model = type_of_regression(**params)\n",
    "                        \n",
    "                        if polynomial_degree:\n",
    "                                poly_X_train = PolynomialFeatures(degree=2).fit_transform(X_train.values)\n",
    "                                model.fit(poly_X_train, y_train.values)\n",
    "                        else:\n",
    "                                model.fit(X_train.values, y_train.values)\n",
    "                        train_mse  = model.avgMse()\n",
    "                        train_r2 = model.avgR2()\n",
    "\n",
    "                        print(\"Training MSE: \", train_mse)\n",
    "                        print(\"Training R2: \", train_r2)\n",
    "# end of the loop"
   ]
  },
  {
   "cell_type": "code",
   "execution_count": 79,
   "metadata": {},
   "outputs": [
    {
     "name": "stdout",
     "output_type": "stream",
     "text": [
      "Test MSE:  0.10262852381649001\n",
      "Test R2:  0.8541352420070574\n"
     ]
    }
   ],
   "source": [
    "# Apply model on testing set (Unknown data, apart from the training set).\n",
    "yhat = model.predict(X_test)\n",
    "mse = model.mse(y_test, yhat)\n",
    "r2 = model.r2(y_test, yhat)\n",
    "\n",
    "print(\"Test MSE: \", mse)\n",
    "print(\"Test R2: \", r2)"
   ]
  },
  {
   "cell_type": "code",
   "execution_count": 81,
   "metadata": {},
   "outputs": [
    {
     "data": {
      "image/png": "[encoded data removed]",
      "text/plain": [
       "<Figure size 1000x600 with 1 Axes>"
      ]
     },
     "metadata": {},
     "output_type": "display_data"
    }
   ],
   "source": [
    "# Example feature names\n",
    "feature_names = ['brand_encoded','engine', 'max_power','transmission','year']\n",
    "\n",
    "# Call the plotting function with feature names\n",
    "model.feature_importance_plot(feature_names=feature_names)"
   ]
  },
  {
   "cell_type": "code",
   "execution_count": 108,
   "metadata": {},
   "outputs": [],
   "source": [
    "import pickle\n",
    "\n",
    "# Use the correct model object: Replace `grid` with your actual model variable (e.g., `model`, `clf`, or `best_model`)\n",
    "pickle.dump(model, open('A2_predicting_car_price.model', 'wb'))\n",
    "# This syntax works, but the file closes immediately without saving properly due to the open() statement being inline."
   ]
  },
  {
   "cell_type": "code",
   "execution_count": 109,
   "metadata": {},
   "outputs": [
    {
     "name": "stdout",
     "output_type": "stream",
     "text": [
      "Model saved at: models\\A2_predicting_car_price.model\n"
     ]
    }
   ],
   "source": [
    "import os\n",
    "import pickle\n",
    "\n",
    "# Create 'models/' directory if not exists\n",
    "os.makedirs('models', exist_ok=True)\n",
    "\n",
    "# Save the model into 'models/' directory\n",
    "filename = os.path.join('models', 'A2_predicting_car_price.model')\n",
    "with open(filename, 'wb') as file:\n",
    "    pickle.dump(model, file)\n",
    "\n",
    "print(f\"Model saved at: {filename}\")\n"
   ]
  },
  {
   "cell_type": "code",
   "execution_count": 110,
   "metadata": {},
   "outputs": [
    {
     "name": "stdout",
     "output_type": "stream",
     "text": [
      "Model loaded successfully.\n"
     ]
    }
   ],
   "source": [
    "import pickle\n",
    "\n",
    "# Path to the saved model\n",
    "filename = 'models/A2_predicting_car_price.model'\n",
    "\n",
    "# Load the model from disk\n",
    "with open(filename, 'rb') as file:\n",
    "    loaded_model = pickle.load(file)\n",
    "\n",
    "print(\"Model loaded successfully.\")"
   ]
  },
  {
   "cell_type": "code",
   "execution_count": 111,
   "metadata": {},
   "outputs": [
    {
     "data": {
      "text/plain": [
       "brand_encoded      11.000000\n",
       "engine           1797.000000\n",
       "max_power         147.500000\n",
       "transmission        1.000000\n",
       "year             2016.000000\n",
       "selling_price      13.598598\n",
       "Name: 150, dtype: float64"
      ]
     },
     "execution_count": 111,
     "metadata": {},
     "output_type": "execute_result"
    }
   ],
   "source": [
    "# time to run some test prediction\n",
    "# Let's get some features and lables data from some random dataset locations first\n",
    "df[['brand_encoded','engine', 'max_power', 'transmission','year','selling_price']].loc[150]"
   ]
  },
  {
   "cell_type": "code",
   "execution_count": 112,
   "metadata": {},
   "outputs": [
    {
     "name": "stdout",
     "output_type": "stream",
     "text": [
      "[1063136.10247493]\n"
     ]
    }
   ],
   "source": [
    "#['engine', 'max_power', 'transmission','year','selling_price']\n",
    "sample = np.array([[11, 1797.0, 147.50, 1.0, 2016]])\n",
    "sample= scaler.transform(sample)\n",
    "\n",
    "# Insert Bias (Intercept) Column\n",
    "# Linear models usually require an intercept (bias), so add a column of ones.\n",
    "# np.insert inserts a column of 1s at index 0, resulting in a 2D array:\n",
    "# Shape changes from (1, 5) to (1, 6)\n",
    "sample = np.insert(sample, 0, 1, axis=1) \n",
    "\n",
    "\n",
    "predicted_car_price = loaded_model.predict(sample)\n",
    "predicted_car_price = np.exp(predicted_car_price) # re-convert the predicted car prices into actual values from log values by using exponential function.\n",
    "print(predicted_car_price)"
   ]
  },
  {
   "cell_type": "code",
   "execution_count": 113,
   "metadata": {},
   "outputs": [
    {
     "name": "stdout",
     "output_type": "stream",
     "text": [
      "Actual value: 804999.9999999993\n"
     ]
    }
   ],
   "source": [
    "#Get the actual value of sample at row with index 30 \n",
    "actual_value = np.exp(df.loc[150, 'selling_price'])  # Since selling_price is log-transformed\n",
    "print(f\"Actual value: {actual_value}\")\n"
   ]
  },
  {
   "cell_type": "code",
   "execution_count": 114,
   "metadata": {},
   "outputs": [
    {
     "name": "stdout",
     "output_type": "stream",
     "text": [
      "Predicted value: [1063136.10247493]\n",
      "Actual value: 804999.9999999993\n",
      "Difference: [258136.10247493]\n"
     ]
    }
   ],
   "source": [
    "# find the difference between predicted_car_price Vs actual_value to assess the prediction is reasonable or not. \n",
    "print(f\"Predicted value: {predicted_car_price}\")\n",
    "print(f\"Actual value: {actual_value}\")\n",
    "\n",
    "difference = abs(predicted_car_price - actual_value)\n",
    "print(f\"Difference: {difference}\")\n"
   ]
  },
  {
   "cell_type": "code",
   "execution_count": 115,
   "metadata": {},
   "outputs": [
    {
     "data": {
      "text/plain": [
       "brand_encoded      11.000000\n",
       "engine           1341.000000\n",
       "max_power          82.900000\n",
       "transmission        1.000000\n",
       "year             2008.000000\n",
       "selling_price      11.608236\n",
       "Name: 250, dtype: float64"
      ]
     },
     "execution_count": 115,
     "metadata": {},
     "output_type": "execute_result"
    }
   ],
   "source": [
    "df[['brand_encoded','engine', 'max_power', 'transmission','year','selling_price']].loc[250]"
   ]
  },
  {
   "cell_type": "code",
   "execution_count": 123,
   "metadata": {},
   "outputs": [
    {
     "name": "stdout",
     "output_type": "stream",
     "text": [
      "[183877.61678985]\n"
     ]
    }
   ],
   "source": [
    "#brand_encoded','engine', 'max_power', 'transmission','year\n",
    "sample = np.array([[11, 1341.0, 82.90, 1.0, 2008]])\n",
    "sample= scaler.transform(sample)\n",
    "\n",
    "# Insert Bias (Intercept) Column\n",
    "# Linear models usually require an intercept (bias), so add a column of ones.\n",
    "# np.insert inserts a column of 1s at index 0, resulting in a 2D array:\n",
    "# Shape changes from (1, 5) to (1, 6)\n",
    "sample = np.insert(sample, 0, 1, axis=1) \n",
    "\n",
    "\n",
    "predicted_car_price = loaded_model.predict(sample)\n",
    "predicted_car_price = np.exp(predicted_car_price) # re-convert the predicted car prices into actual values from log values by using exponential function.\n",
    "print(predicted_car_price)"
   ]
  },
  {
   "cell_type": "code",
   "execution_count": 117,
   "metadata": {},
   "outputs": [
    {
     "name": "stdout",
     "output_type": "stream",
     "text": [
      "Actual value: 109999.99999999991\n"
     ]
    }
   ],
   "source": [
    "#Get the actual value of sample at row with index 30 \n",
    "actual_value = np.exp(df.loc[250, 'selling_price'])  # Since selling_price is log-transformed\n",
    "print(f\"Actual value: {actual_value}\")"
   ]
  },
  {
   "cell_type": "code",
   "execution_count": 118,
   "metadata": {},
   "outputs": [
    {
     "name": "stdout",
     "output_type": "stream",
     "text": [
      "Predicted value: [183877.61678985]\n",
      "Actual value: 109999.99999999991\n",
      "Difference: [73877.61678985]\n"
     ]
    }
   ],
   "source": [
    "# find the difference between predicted_car_price Vs actual_value to assess the prediction is reasonable or not. \n",
    "print(f\"Predicted value: {predicted_car_price}\")\n",
    "print(f\"Actual value: {actual_value}\")\n",
    "\n",
    "difference = abs(predicted_car_price - actual_value)\n",
    "print(f\"Difference: {difference}\")"
   ]
  },
  {
   "cell_type": "code",
   "execution_count": 119,
   "metadata": {},
   "outputs": [
    {
     "name": "stdout",
     "output_type": "stream",
     "text": [
      "d:\\ML_Assignment\\A2_ Assignment\n"
     ]
    }
   ],
   "source": [
    "import os\n",
    "print(os.getcwd())  # Show current directory\n"
   ]
  },
  {
   "cell_type": "code",
   "execution_count": 121,
   "metadata": {},
   "outputs": [
    {
     "name": "stdout",
     "output_type": "stream",
     "text": [
      "Theta found in model: [ 1.29860154e+01 -5.52254065e-03  1.58136365e-01  3.44094641e-01\n",
      " -6.49981335e-02  4.91233061e-01]\n"
     ]
    }
   ],
   "source": [
    "# Check if theta is present in the loaded model\n",
    "if hasattr(loaded_model, 'theta'):\n",
    "    print(\"Theta found in model:\", loaded_model.theta)\n",
    "else:\n",
    "    print(\"Theta not found in model.\")\n"
   ]
  }
 ],
 "metadata": {
  "kernelspec": {
   "display_name": "ml_env2",
   "language": "python",
   "name": "python3"
  },
  "language_info": {
   "codemirror_mode": {
    "name": "ipython",
    "version": 3
   },
   "file_extension": ".py",
   "mimetype": "text/x-python",
   "name": "python",
   "nbconvert_exporter": "python",
   "pygments_lexer": "ipython3",
   "version": "3.12.7"
  }
 },
 "nbformat": 4,
 "nbformat_minor": 2
}
